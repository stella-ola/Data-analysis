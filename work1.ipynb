{
 "cells": [
  {
   "cell_type": "code",
   "execution_count": 63,
   "id": "798c6436",
   "metadata": {},
   "outputs": [],
   "source": [
    "import numpy as np\n",
    "import pandas as pd\n",
    "import matplotlib.pyplot as plt\n",
    "\n",
    "%matplotlib inline\n",
    "from plotly.offline import init_notebook_mode, iplot, plot\n",
    "import plotly as py\n",
    "import plotly.graph_objs as go\n",
    "import seaborn as sns\n",
    "import matplotlib.pyplot as plt\n",
    "import plotly.express as px"
   ]
  },
  {
   "cell_type": "code",
   "execution_count": 18,
   "id": "4cbed0a1",
   "metadata": {
    "scrolled": true
   },
   "outputs": [
    {
     "data": {
      "text/html": [
       "<div>\n",
       "<style scoped>\n",
       "    .dataframe tbody tr th:only-of-type {\n",
       "        vertical-align: middle;\n",
       "    }\n",
       "\n",
       "    .dataframe tbody tr th {\n",
       "        vertical-align: top;\n",
       "    }\n",
       "\n",
       "    .dataframe thead th {\n",
       "        text-align: right;\n",
       "    }\n",
       "</style>\n",
       "<table border=\"1\" class=\"dataframe\">\n",
       "  <thead>\n",
       "    <tr style=\"text-align: right;\">\n",
       "      <th></th>\n",
       "      <th>Manufacturer</th>\n",
       "      <th>Model</th>\n",
       "      <th>Sales_in_thousands</th>\n",
       "      <th>__year_resale_value</th>\n",
       "      <th>Vehicle_type</th>\n",
       "      <th>Price_in_thousands</th>\n",
       "      <th>Engine_size</th>\n",
       "      <th>Horsepower</th>\n",
       "      <th>Wheelbase</th>\n",
       "      <th>Width</th>\n",
       "      <th>Length</th>\n",
       "      <th>Curb_weight</th>\n",
       "      <th>Fuel_capacity</th>\n",
       "      <th>Fuel_efficiency</th>\n",
       "      <th>Latest_Launch</th>\n",
       "      <th>Power_perf_factor</th>\n",
       "    </tr>\n",
       "  </thead>\n",
       "  <tbody>\n",
       "    <tr>\n",
       "      <th>0</th>\n",
       "      <td>Acura</td>\n",
       "      <td>Integra</td>\n",
       "      <td>16.919</td>\n",
       "      <td>16.360</td>\n",
       "      <td>Passenger</td>\n",
       "      <td>21.50</td>\n",
       "      <td>1.8</td>\n",
       "      <td>140.0</td>\n",
       "      <td>101.2</td>\n",
       "      <td>67.3</td>\n",
       "      <td>172.4</td>\n",
       "      <td>2.639</td>\n",
       "      <td>13.2</td>\n",
       "      <td>28.0</td>\n",
       "      <td>2/2/2012</td>\n",
       "      <td>58.280150</td>\n",
       "    </tr>\n",
       "    <tr>\n",
       "      <th>1</th>\n",
       "      <td>Acura</td>\n",
       "      <td>TL</td>\n",
       "      <td>39.384</td>\n",
       "      <td>19.875</td>\n",
       "      <td>Passenger</td>\n",
       "      <td>28.40</td>\n",
       "      <td>3.2</td>\n",
       "      <td>225.0</td>\n",
       "      <td>108.1</td>\n",
       "      <td>70.3</td>\n",
       "      <td>192.9</td>\n",
       "      <td>3.517</td>\n",
       "      <td>17.2</td>\n",
       "      <td>25.0</td>\n",
       "      <td>6/3/2011</td>\n",
       "      <td>91.370778</td>\n",
       "    </tr>\n",
       "    <tr>\n",
       "      <th>2</th>\n",
       "      <td>Acura</td>\n",
       "      <td>CL</td>\n",
       "      <td>14.114</td>\n",
       "      <td>18.225</td>\n",
       "      <td>Passenger</td>\n",
       "      <td>NaN</td>\n",
       "      <td>3.2</td>\n",
       "      <td>225.0</td>\n",
       "      <td>106.9</td>\n",
       "      <td>70.6</td>\n",
       "      <td>192.0</td>\n",
       "      <td>3.470</td>\n",
       "      <td>17.2</td>\n",
       "      <td>26.0</td>\n",
       "      <td>1/4/2012</td>\n",
       "      <td>NaN</td>\n",
       "    </tr>\n",
       "    <tr>\n",
       "      <th>3</th>\n",
       "      <td>Acura</td>\n",
       "      <td>RL</td>\n",
       "      <td>8.588</td>\n",
       "      <td>29.725</td>\n",
       "      <td>Passenger</td>\n",
       "      <td>42.00</td>\n",
       "      <td>3.5</td>\n",
       "      <td>210.0</td>\n",
       "      <td>114.6</td>\n",
       "      <td>71.4</td>\n",
       "      <td>196.6</td>\n",
       "      <td>3.850</td>\n",
       "      <td>18.0</td>\n",
       "      <td>22.0</td>\n",
       "      <td>3/10/2011</td>\n",
       "      <td>91.389779</td>\n",
       "    </tr>\n",
       "    <tr>\n",
       "      <th>4</th>\n",
       "      <td>Audi</td>\n",
       "      <td>A4</td>\n",
       "      <td>20.397</td>\n",
       "      <td>22.255</td>\n",
       "      <td>Passenger</td>\n",
       "      <td>23.99</td>\n",
       "      <td>1.8</td>\n",
       "      <td>150.0</td>\n",
       "      <td>102.6</td>\n",
       "      <td>68.2</td>\n",
       "      <td>178.0</td>\n",
       "      <td>2.998</td>\n",
       "      <td>16.4</td>\n",
       "      <td>27.0</td>\n",
       "      <td>10/8/2011</td>\n",
       "      <td>62.777639</td>\n",
       "    </tr>\n",
       "    <tr>\n",
       "      <th>...</th>\n",
       "      <td>...</td>\n",
       "      <td>...</td>\n",
       "      <td>...</td>\n",
       "      <td>...</td>\n",
       "      <td>...</td>\n",
       "      <td>...</td>\n",
       "      <td>...</td>\n",
       "      <td>...</td>\n",
       "      <td>...</td>\n",
       "      <td>...</td>\n",
       "      <td>...</td>\n",
       "      <td>...</td>\n",
       "      <td>...</td>\n",
       "      <td>...</td>\n",
       "      <td>...</td>\n",
       "      <td>...</td>\n",
       "    </tr>\n",
       "    <tr>\n",
       "      <th>152</th>\n",
       "      <td>Volvo</td>\n",
       "      <td>V40</td>\n",
       "      <td>3.545</td>\n",
       "      <td>NaN</td>\n",
       "      <td>Passenger</td>\n",
       "      <td>24.40</td>\n",
       "      <td>1.9</td>\n",
       "      <td>160.0</td>\n",
       "      <td>100.5</td>\n",
       "      <td>67.6</td>\n",
       "      <td>176.6</td>\n",
       "      <td>3.042</td>\n",
       "      <td>15.8</td>\n",
       "      <td>25.0</td>\n",
       "      <td>9/21/2011</td>\n",
       "      <td>66.498812</td>\n",
       "    </tr>\n",
       "    <tr>\n",
       "      <th>153</th>\n",
       "      <td>Volvo</td>\n",
       "      <td>S70</td>\n",
       "      <td>15.245</td>\n",
       "      <td>NaN</td>\n",
       "      <td>Passenger</td>\n",
       "      <td>27.50</td>\n",
       "      <td>2.4</td>\n",
       "      <td>168.0</td>\n",
       "      <td>104.9</td>\n",
       "      <td>69.3</td>\n",
       "      <td>185.9</td>\n",
       "      <td>3.208</td>\n",
       "      <td>17.9</td>\n",
       "      <td>25.0</td>\n",
       "      <td>11/24/2012</td>\n",
       "      <td>70.654495</td>\n",
       "    </tr>\n",
       "    <tr>\n",
       "      <th>154</th>\n",
       "      <td>Volvo</td>\n",
       "      <td>V70</td>\n",
       "      <td>17.531</td>\n",
       "      <td>NaN</td>\n",
       "      <td>Passenger</td>\n",
       "      <td>28.80</td>\n",
       "      <td>2.4</td>\n",
       "      <td>168.0</td>\n",
       "      <td>104.9</td>\n",
       "      <td>69.3</td>\n",
       "      <td>186.2</td>\n",
       "      <td>3.259</td>\n",
       "      <td>17.9</td>\n",
       "      <td>25.0</td>\n",
       "      <td>6/25/2011</td>\n",
       "      <td>71.155978</td>\n",
       "    </tr>\n",
       "    <tr>\n",
       "      <th>155</th>\n",
       "      <td>Volvo</td>\n",
       "      <td>C70</td>\n",
       "      <td>3.493</td>\n",
       "      <td>NaN</td>\n",
       "      <td>Passenger</td>\n",
       "      <td>45.50</td>\n",
       "      <td>2.3</td>\n",
       "      <td>236.0</td>\n",
       "      <td>104.9</td>\n",
       "      <td>71.5</td>\n",
       "      <td>185.7</td>\n",
       "      <td>3.601</td>\n",
       "      <td>18.5</td>\n",
       "      <td>23.0</td>\n",
       "      <td>4/26/2011</td>\n",
       "      <td>101.623357</td>\n",
       "    </tr>\n",
       "    <tr>\n",
       "      <th>156</th>\n",
       "      <td>Volvo</td>\n",
       "      <td>S80</td>\n",
       "      <td>18.969</td>\n",
       "      <td>NaN</td>\n",
       "      <td>Passenger</td>\n",
       "      <td>36.00</td>\n",
       "      <td>2.9</td>\n",
       "      <td>201.0</td>\n",
       "      <td>109.9</td>\n",
       "      <td>72.1</td>\n",
       "      <td>189.8</td>\n",
       "      <td>3.600</td>\n",
       "      <td>21.1</td>\n",
       "      <td>24.0</td>\n",
       "      <td>11/14/2011</td>\n",
       "      <td>85.735655</td>\n",
       "    </tr>\n",
       "  </tbody>\n",
       "</table>\n",
       "<p>157 rows × 16 columns</p>\n",
       "</div>"
      ],
      "text/plain": [
       "    Manufacturer    Model  Sales_in_thousands  __year_resale_value  \\\n",
       "0          Acura  Integra              16.919               16.360   \n",
       "1          Acura       TL              39.384               19.875   \n",
       "2          Acura       CL              14.114               18.225   \n",
       "3          Acura       RL               8.588               29.725   \n",
       "4           Audi       A4              20.397               22.255   \n",
       "..           ...      ...                 ...                  ...   \n",
       "152        Volvo      V40               3.545                  NaN   \n",
       "153        Volvo      S70              15.245                  NaN   \n",
       "154        Volvo      V70              17.531                  NaN   \n",
       "155        Volvo      C70               3.493                  NaN   \n",
       "156        Volvo      S80              18.969                  NaN   \n",
       "\n",
       "    Vehicle_type  Price_in_thousands  Engine_size  Horsepower  Wheelbase  \\\n",
       "0      Passenger               21.50          1.8       140.0      101.2   \n",
       "1      Passenger               28.40          3.2       225.0      108.1   \n",
       "2      Passenger                 NaN          3.2       225.0      106.9   \n",
       "3      Passenger               42.00          3.5       210.0      114.6   \n",
       "4      Passenger               23.99          1.8       150.0      102.6   \n",
       "..           ...                 ...          ...         ...        ...   \n",
       "152    Passenger               24.40          1.9       160.0      100.5   \n",
       "153    Passenger               27.50          2.4       168.0      104.9   \n",
       "154    Passenger               28.80          2.4       168.0      104.9   \n",
       "155    Passenger               45.50          2.3       236.0      104.9   \n",
       "156    Passenger               36.00          2.9       201.0      109.9   \n",
       "\n",
       "     Width  Length  Curb_weight  Fuel_capacity  Fuel_efficiency Latest_Launch  \\\n",
       "0     67.3   172.4        2.639           13.2             28.0      2/2/2012   \n",
       "1     70.3   192.9        3.517           17.2             25.0      6/3/2011   \n",
       "2     70.6   192.0        3.470           17.2             26.0      1/4/2012   \n",
       "3     71.4   196.6        3.850           18.0             22.0     3/10/2011   \n",
       "4     68.2   178.0        2.998           16.4             27.0     10/8/2011   \n",
       "..     ...     ...          ...            ...              ...           ...   \n",
       "152   67.6   176.6        3.042           15.8             25.0     9/21/2011   \n",
       "153   69.3   185.9        3.208           17.9             25.0    11/24/2012   \n",
       "154   69.3   186.2        3.259           17.9             25.0     6/25/2011   \n",
       "155   71.5   185.7        3.601           18.5             23.0     4/26/2011   \n",
       "156   72.1   189.8        3.600           21.1             24.0    11/14/2011   \n",
       "\n",
       "     Power_perf_factor  \n",
       "0            58.280150  \n",
       "1            91.370778  \n",
       "2                  NaN  \n",
       "3            91.389779  \n",
       "4            62.777639  \n",
       "..                 ...  \n",
       "152          66.498812  \n",
       "153          70.654495  \n",
       "154          71.155978  \n",
       "155         101.623357  \n",
       "156          85.735655  \n",
       "\n",
       "[157 rows x 16 columns]"
      ]
     },
     "execution_count": 18,
     "metadata": {},
     "output_type": "execute_result"
    }
   ],
   "source": [
    "df = pd.read_csv(\"Car_sales.csv\",sep = \",\")\n",
    "df\n"
   ]
  },
  {
   "cell_type": "code",
   "execution_count": 25,
   "id": "9b129a33",
   "metadata": {},
   "outputs": [
    {
     "data": {
      "text/html": [
       "<div>\n",
       "<style scoped>\n",
       "    .dataframe tbody tr th:only-of-type {\n",
       "        vertical-align: middle;\n",
       "    }\n",
       "\n",
       "    .dataframe tbody tr th {\n",
       "        vertical-align: top;\n",
       "    }\n",
       "\n",
       "    .dataframe thead th {\n",
       "        text-align: right;\n",
       "    }\n",
       "</style>\n",
       "<table border=\"1\" class=\"dataframe\">\n",
       "  <thead>\n",
       "    <tr style=\"text-align: right;\">\n",
       "      <th></th>\n",
       "      <th>Manufacturer</th>\n",
       "      <th>Model</th>\n",
       "      <th>Sales_in_thousands</th>\n",
       "      <th>__year_resale_value</th>\n",
       "      <th>Vehicle_type</th>\n",
       "      <th>Price_in_thousands</th>\n",
       "      <th>Engine_size</th>\n",
       "      <th>Horsepower</th>\n",
       "      <th>Wheelbase</th>\n",
       "      <th>Width</th>\n",
       "      <th>Length</th>\n",
       "      <th>Curb_weight</th>\n",
       "      <th>Fuel_capacity</th>\n",
       "      <th>Fuel_efficiency</th>\n",
       "      <th>Latest_Launch</th>\n",
       "      <th>Power_perf_factor</th>\n",
       "    </tr>\n",
       "  </thead>\n",
       "  <tbody>\n",
       "    <tr>\n",
       "      <th>0</th>\n",
       "      <td>Acura</td>\n",
       "      <td>Integra</td>\n",
       "      <td>16.919</td>\n",
       "      <td>16.360</td>\n",
       "      <td>Passenger</td>\n",
       "      <td>21.50</td>\n",
       "      <td>1.8</td>\n",
       "      <td>140.0</td>\n",
       "      <td>101.2</td>\n",
       "      <td>67.3</td>\n",
       "      <td>172.4</td>\n",
       "      <td>2.639</td>\n",
       "      <td>13.2</td>\n",
       "      <td>28.0</td>\n",
       "      <td>2/2/2012</td>\n",
       "      <td>58.280150</td>\n",
       "    </tr>\n",
       "    <tr>\n",
       "      <th>1</th>\n",
       "      <td>Acura</td>\n",
       "      <td>TL</td>\n",
       "      <td>39.384</td>\n",
       "      <td>19.875</td>\n",
       "      <td>Passenger</td>\n",
       "      <td>28.40</td>\n",
       "      <td>3.2</td>\n",
       "      <td>225.0</td>\n",
       "      <td>108.1</td>\n",
       "      <td>70.3</td>\n",
       "      <td>192.9</td>\n",
       "      <td>3.517</td>\n",
       "      <td>17.2</td>\n",
       "      <td>25.0</td>\n",
       "      <td>6/3/2011</td>\n",
       "      <td>91.370778</td>\n",
       "    </tr>\n",
       "    <tr>\n",
       "      <th>2</th>\n",
       "      <td>Acura</td>\n",
       "      <td>CL</td>\n",
       "      <td>14.114</td>\n",
       "      <td>18.225</td>\n",
       "      <td>Passenger</td>\n",
       "      <td>NaN</td>\n",
       "      <td>3.2</td>\n",
       "      <td>225.0</td>\n",
       "      <td>106.9</td>\n",
       "      <td>70.6</td>\n",
       "      <td>192.0</td>\n",
       "      <td>3.470</td>\n",
       "      <td>17.2</td>\n",
       "      <td>26.0</td>\n",
       "      <td>1/4/2012</td>\n",
       "      <td>NaN</td>\n",
       "    </tr>\n",
       "    <tr>\n",
       "      <th>3</th>\n",
       "      <td>Acura</td>\n",
       "      <td>RL</td>\n",
       "      <td>8.588</td>\n",
       "      <td>29.725</td>\n",
       "      <td>Passenger</td>\n",
       "      <td>42.00</td>\n",
       "      <td>3.5</td>\n",
       "      <td>210.0</td>\n",
       "      <td>114.6</td>\n",
       "      <td>71.4</td>\n",
       "      <td>196.6</td>\n",
       "      <td>3.850</td>\n",
       "      <td>18.0</td>\n",
       "      <td>22.0</td>\n",
       "      <td>3/10/2011</td>\n",
       "      <td>91.389779</td>\n",
       "    </tr>\n",
       "    <tr>\n",
       "      <th>4</th>\n",
       "      <td>Audi</td>\n",
       "      <td>A4</td>\n",
       "      <td>20.397</td>\n",
       "      <td>22.255</td>\n",
       "      <td>Passenger</td>\n",
       "      <td>23.99</td>\n",
       "      <td>1.8</td>\n",
       "      <td>150.0</td>\n",
       "      <td>102.6</td>\n",
       "      <td>68.2</td>\n",
       "      <td>178.0</td>\n",
       "      <td>2.998</td>\n",
       "      <td>16.4</td>\n",
       "      <td>27.0</td>\n",
       "      <td>10/8/2011</td>\n",
       "      <td>62.777639</td>\n",
       "    </tr>\n",
       "  </tbody>\n",
       "</table>\n",
       "</div>"
      ],
      "text/plain": [
       "  Manufacturer    Model  Sales_in_thousands  __year_resale_value Vehicle_type  \\\n",
       "0        Acura  Integra              16.919               16.360    Passenger   \n",
       "1        Acura       TL              39.384               19.875    Passenger   \n",
       "2        Acura       CL              14.114               18.225    Passenger   \n",
       "3        Acura       RL               8.588               29.725    Passenger   \n",
       "4         Audi       A4              20.397               22.255    Passenger   \n",
       "\n",
       "   Price_in_thousands  Engine_size  Horsepower  Wheelbase  Width  Length  \\\n",
       "0               21.50          1.8       140.0      101.2   67.3   172.4   \n",
       "1               28.40          3.2       225.0      108.1   70.3   192.9   \n",
       "2                 NaN          3.2       225.0      106.9   70.6   192.0   \n",
       "3               42.00          3.5       210.0      114.6   71.4   196.6   \n",
       "4               23.99          1.8       150.0      102.6   68.2   178.0   \n",
       "\n",
       "   Curb_weight  Fuel_capacity  Fuel_efficiency Latest_Launch  \\\n",
       "0        2.639           13.2             28.0      2/2/2012   \n",
       "1        3.517           17.2             25.0      6/3/2011   \n",
       "2        3.470           17.2             26.0      1/4/2012   \n",
       "3        3.850           18.0             22.0     3/10/2011   \n",
       "4        2.998           16.4             27.0     10/8/2011   \n",
       "\n",
       "   Power_perf_factor  \n",
       "0          58.280150  \n",
       "1          91.370778  \n",
       "2                NaN  \n",
       "3          91.389779  \n",
       "4          62.777639  "
      ]
     },
     "execution_count": 25,
     "metadata": {},
     "output_type": "execute_result"
    }
   ],
   "source": [
    "df.head()\n"
   ]
  },
  {
   "cell_type": "code",
   "execution_count": 26,
   "id": "ed9f770d",
   "metadata": {},
   "outputs": [
    {
     "data": {
      "text/plain": [
       "(157, 16)"
      ]
     },
     "execution_count": 26,
     "metadata": {},
     "output_type": "execute_result"
    }
   ],
   "source": [
    "df.shape"
   ]
  },
  {
   "cell_type": "code",
   "execution_count": 27,
   "id": "7a505d28",
   "metadata": {},
   "outputs": [
    {
     "data": {
      "text/plain": [
       "<bound method DataFrame.info of     Manufacturer    Model  Sales_in_thousands  __year_resale_value  \\\n",
       "0          Acura  Integra              16.919               16.360   \n",
       "1          Acura       TL              39.384               19.875   \n",
       "2          Acura       CL              14.114               18.225   \n",
       "3          Acura       RL               8.588               29.725   \n",
       "4           Audi       A4              20.397               22.255   \n",
       "..           ...      ...                 ...                  ...   \n",
       "152        Volvo      V40               3.545                  NaN   \n",
       "153        Volvo      S70              15.245                  NaN   \n",
       "154        Volvo      V70              17.531                  NaN   \n",
       "155        Volvo      C70               3.493                  NaN   \n",
       "156        Volvo      S80              18.969                  NaN   \n",
       "\n",
       "    Vehicle_type  Price_in_thousands  Engine_size  Horsepower  Wheelbase  \\\n",
       "0      Passenger               21.50          1.8       140.0      101.2   \n",
       "1      Passenger               28.40          3.2       225.0      108.1   \n",
       "2      Passenger                 NaN          3.2       225.0      106.9   \n",
       "3      Passenger               42.00          3.5       210.0      114.6   \n",
       "4      Passenger               23.99          1.8       150.0      102.6   \n",
       "..           ...                 ...          ...         ...        ...   \n",
       "152    Passenger               24.40          1.9       160.0      100.5   \n",
       "153    Passenger               27.50          2.4       168.0      104.9   \n",
       "154    Passenger               28.80          2.4       168.0      104.9   \n",
       "155    Passenger               45.50          2.3       236.0      104.9   \n",
       "156    Passenger               36.00          2.9       201.0      109.9   \n",
       "\n",
       "     Width  Length  Curb_weight  Fuel_capacity  Fuel_efficiency Latest_Launch  \\\n",
       "0     67.3   172.4        2.639           13.2             28.0      2/2/2012   \n",
       "1     70.3   192.9        3.517           17.2             25.0      6/3/2011   \n",
       "2     70.6   192.0        3.470           17.2             26.0      1/4/2012   \n",
       "3     71.4   196.6        3.850           18.0             22.0     3/10/2011   \n",
       "4     68.2   178.0        2.998           16.4             27.0     10/8/2011   \n",
       "..     ...     ...          ...            ...              ...           ...   \n",
       "152   67.6   176.6        3.042           15.8             25.0     9/21/2011   \n",
       "153   69.3   185.9        3.208           17.9             25.0    11/24/2012   \n",
       "154   69.3   186.2        3.259           17.9             25.0     6/25/2011   \n",
       "155   71.5   185.7        3.601           18.5             23.0     4/26/2011   \n",
       "156   72.1   189.8        3.600           21.1             24.0    11/14/2011   \n",
       "\n",
       "     Power_perf_factor  \n",
       "0            58.280150  \n",
       "1            91.370778  \n",
       "2                  NaN  \n",
       "3            91.389779  \n",
       "4            62.777639  \n",
       "..                 ...  \n",
       "152          66.498812  \n",
       "153          70.654495  \n",
       "154          71.155978  \n",
       "155         101.623357  \n",
       "156          85.735655  \n",
       "\n",
       "[157 rows x 16 columns]>"
      ]
     },
     "execution_count": 27,
     "metadata": {},
     "output_type": "execute_result"
    }
   ],
   "source": [
    "df.info"
   ]
  },
  {
   "cell_type": "code",
   "execution_count": 28,
   "id": "221068ce",
   "metadata": {},
   "outputs": [
    {
     "data": {
      "text/html": [
       "<div>\n",
       "<style scoped>\n",
       "    .dataframe tbody tr th:only-of-type {\n",
       "        vertical-align: middle;\n",
       "    }\n",
       "\n",
       "    .dataframe tbody tr th {\n",
       "        vertical-align: top;\n",
       "    }\n",
       "\n",
       "    .dataframe thead th {\n",
       "        text-align: right;\n",
       "    }\n",
       "</style>\n",
       "<table border=\"1\" class=\"dataframe\">\n",
       "  <thead>\n",
       "    <tr style=\"text-align: right;\">\n",
       "      <th></th>\n",
       "      <th>Sales_in_thousands</th>\n",
       "      <th>__year_resale_value</th>\n",
       "      <th>Price_in_thousands</th>\n",
       "      <th>Engine_size</th>\n",
       "      <th>Horsepower</th>\n",
       "      <th>Wheelbase</th>\n",
       "      <th>Width</th>\n",
       "      <th>Length</th>\n",
       "      <th>Curb_weight</th>\n",
       "      <th>Fuel_capacity</th>\n",
       "      <th>Fuel_efficiency</th>\n",
       "      <th>Power_perf_factor</th>\n",
       "    </tr>\n",
       "  </thead>\n",
       "  <tbody>\n",
       "    <tr>\n",
       "      <th>count</th>\n",
       "      <td>157.000000</td>\n",
       "      <td>121.000000</td>\n",
       "      <td>155.000000</td>\n",
       "      <td>156.000000</td>\n",
       "      <td>156.000000</td>\n",
       "      <td>156.000000</td>\n",
       "      <td>156.000000</td>\n",
       "      <td>156.000000</td>\n",
       "      <td>155.000000</td>\n",
       "      <td>156.000000</td>\n",
       "      <td>154.000000</td>\n",
       "      <td>155.000000</td>\n",
       "    </tr>\n",
       "    <tr>\n",
       "      <th>mean</th>\n",
       "      <td>52.998076</td>\n",
       "      <td>18.072975</td>\n",
       "      <td>27.390755</td>\n",
       "      <td>3.060897</td>\n",
       "      <td>185.948718</td>\n",
       "      <td>107.487179</td>\n",
       "      <td>71.150000</td>\n",
       "      <td>187.343590</td>\n",
       "      <td>3.378026</td>\n",
       "      <td>17.951923</td>\n",
       "      <td>23.844156</td>\n",
       "      <td>77.043591</td>\n",
       "    </tr>\n",
       "    <tr>\n",
       "      <th>std</th>\n",
       "      <td>68.029422</td>\n",
       "      <td>11.453384</td>\n",
       "      <td>14.351653</td>\n",
       "      <td>1.044653</td>\n",
       "      <td>56.700321</td>\n",
       "      <td>7.641303</td>\n",
       "      <td>3.451872</td>\n",
       "      <td>13.431754</td>\n",
       "      <td>0.630502</td>\n",
       "      <td>3.887921</td>\n",
       "      <td>4.282706</td>\n",
       "      <td>25.142664</td>\n",
       "    </tr>\n",
       "    <tr>\n",
       "      <th>min</th>\n",
       "      <td>0.110000</td>\n",
       "      <td>5.160000</td>\n",
       "      <td>9.235000</td>\n",
       "      <td>1.000000</td>\n",
       "      <td>55.000000</td>\n",
       "      <td>92.600000</td>\n",
       "      <td>62.600000</td>\n",
       "      <td>149.400000</td>\n",
       "      <td>1.895000</td>\n",
       "      <td>10.300000</td>\n",
       "      <td>15.000000</td>\n",
       "      <td>23.276272</td>\n",
       "    </tr>\n",
       "    <tr>\n",
       "      <th>25%</th>\n",
       "      <td>14.114000</td>\n",
       "      <td>11.260000</td>\n",
       "      <td>18.017500</td>\n",
       "      <td>2.300000</td>\n",
       "      <td>149.500000</td>\n",
       "      <td>103.000000</td>\n",
       "      <td>68.400000</td>\n",
       "      <td>177.575000</td>\n",
       "      <td>2.971000</td>\n",
       "      <td>15.800000</td>\n",
       "      <td>21.000000</td>\n",
       "      <td>60.407707</td>\n",
       "    </tr>\n",
       "    <tr>\n",
       "      <th>50%</th>\n",
       "      <td>29.450000</td>\n",
       "      <td>14.180000</td>\n",
       "      <td>22.799000</td>\n",
       "      <td>3.000000</td>\n",
       "      <td>177.500000</td>\n",
       "      <td>107.000000</td>\n",
       "      <td>70.550000</td>\n",
       "      <td>187.900000</td>\n",
       "      <td>3.342000</td>\n",
       "      <td>17.200000</td>\n",
       "      <td>24.000000</td>\n",
       "      <td>72.030917</td>\n",
       "    </tr>\n",
       "    <tr>\n",
       "      <th>75%</th>\n",
       "      <td>67.956000</td>\n",
       "      <td>19.875000</td>\n",
       "      <td>31.947500</td>\n",
       "      <td>3.575000</td>\n",
       "      <td>215.000000</td>\n",
       "      <td>112.200000</td>\n",
       "      <td>73.425000</td>\n",
       "      <td>196.125000</td>\n",
       "      <td>3.799500</td>\n",
       "      <td>19.575000</td>\n",
       "      <td>26.000000</td>\n",
       "      <td>89.414878</td>\n",
       "    </tr>\n",
       "    <tr>\n",
       "      <th>max</th>\n",
       "      <td>540.561000</td>\n",
       "      <td>67.550000</td>\n",
       "      <td>85.500000</td>\n",
       "      <td>8.000000</td>\n",
       "      <td>450.000000</td>\n",
       "      <td>138.700000</td>\n",
       "      <td>79.900000</td>\n",
       "      <td>224.500000</td>\n",
       "      <td>5.572000</td>\n",
       "      <td>32.000000</td>\n",
       "      <td>45.000000</td>\n",
       "      <td>188.144323</td>\n",
       "    </tr>\n",
       "  </tbody>\n",
       "</table>\n",
       "</div>"
      ],
      "text/plain": [
       "       Sales_in_thousands  __year_resale_value  Price_in_thousands  \\\n",
       "count          157.000000           121.000000          155.000000   \n",
       "mean            52.998076            18.072975           27.390755   \n",
       "std             68.029422            11.453384           14.351653   \n",
       "min              0.110000             5.160000            9.235000   \n",
       "25%             14.114000            11.260000           18.017500   \n",
       "50%             29.450000            14.180000           22.799000   \n",
       "75%             67.956000            19.875000           31.947500   \n",
       "max            540.561000            67.550000           85.500000   \n",
       "\n",
       "       Engine_size  Horsepower   Wheelbase       Width      Length  \\\n",
       "count   156.000000  156.000000  156.000000  156.000000  156.000000   \n",
       "mean      3.060897  185.948718  107.487179   71.150000  187.343590   \n",
       "std       1.044653   56.700321    7.641303    3.451872   13.431754   \n",
       "min       1.000000   55.000000   92.600000   62.600000  149.400000   \n",
       "25%       2.300000  149.500000  103.000000   68.400000  177.575000   \n",
       "50%       3.000000  177.500000  107.000000   70.550000  187.900000   \n",
       "75%       3.575000  215.000000  112.200000   73.425000  196.125000   \n",
       "max       8.000000  450.000000  138.700000   79.900000  224.500000   \n",
       "\n",
       "       Curb_weight  Fuel_capacity  Fuel_efficiency  Power_perf_factor  \n",
       "count   155.000000     156.000000       154.000000         155.000000  \n",
       "mean      3.378026      17.951923        23.844156          77.043591  \n",
       "std       0.630502       3.887921         4.282706          25.142664  \n",
       "min       1.895000      10.300000        15.000000          23.276272  \n",
       "25%       2.971000      15.800000        21.000000          60.407707  \n",
       "50%       3.342000      17.200000        24.000000          72.030917  \n",
       "75%       3.799500      19.575000        26.000000          89.414878  \n",
       "max       5.572000      32.000000        45.000000         188.144323  "
      ]
     },
     "execution_count": 28,
     "metadata": {},
     "output_type": "execute_result"
    }
   ],
   "source": [
    "df.describe()"
   ]
  },
  {
   "cell_type": "markdown",
   "id": "123128a4",
   "metadata": {},
   "source": [
    "SEPERATING THE DATE INTO DAY YEAR AND MONTH\n"
   ]
  },
  {
   "cell_type": "code",
   "execution_count": 29,
   "id": "a4804407",
   "metadata": {},
   "outputs": [
    {
     "data": {
      "text/plain": [
       "0     2012-02-02\n",
       "1     2011-06-03\n",
       "2     2012-01-04\n",
       "3     2011-03-10\n",
       "4     2011-10-08\n",
       "         ...    \n",
       "152   2011-09-21\n",
       "153   2012-11-24\n",
       "154   2011-06-25\n",
       "155   2011-04-26\n",
       "156   2011-11-14\n",
       "Name: Latest_Launch, Length: 157, dtype: datetime64[ns]"
      ]
     },
     "execution_count": 29,
     "metadata": {},
     "output_type": "execute_result"
    }
   ],
   "source": [
    "df[\"Latest_Launch\"] =pd.to_datetime(df[\"Latest_Launch\"])\n",
    "df[\"Latest_Launch\"]"
   ]
  },
  {
   "cell_type": "code",
   "execution_count": 31,
   "id": "fb76a30a",
   "metadata": {},
   "outputs": [
    {
     "data": {
      "text/plain": [
       "0      2012\n",
       "1      2011\n",
       "2      2012\n",
       "3      2011\n",
       "4      2011\n",
       "       ... \n",
       "152    2011\n",
       "153    2012\n",
       "154    2011\n",
       "155    2011\n",
       "156    2011\n",
       "Name: Latest_Launch, Length: 157, dtype: int64"
      ]
     },
     "execution_count": 31,
     "metadata": {},
     "output_type": "execute_result"
    }
   ],
   "source": [
    "df[\"Latest_Launch\"].dt.year"
   ]
  },
  {
   "cell_type": "code",
   "execution_count": 33,
   "id": "41a37224",
   "metadata": {},
   "outputs": [
    {
     "data": {
      "text/plain": [
       "0       2\n",
       "1       6\n",
       "2       1\n",
       "3       3\n",
       "4      10\n",
       "       ..\n",
       "152     9\n",
       "153    11\n",
       "154     6\n",
       "155     4\n",
       "156    11\n",
       "Name: Latest_Launch, Length: 157, dtype: int64"
      ]
     },
     "execution_count": 33,
     "metadata": {},
     "output_type": "execute_result"
    }
   ],
   "source": [
    "df[\"Latest_Launch\"].dt.month"
   ]
  },
  {
   "cell_type": "code",
   "execution_count": 35,
   "id": "d3886a8a",
   "metadata": {},
   "outputs": [
    {
     "data": {
      "text/plain": [
       "0       2\n",
       "1       3\n",
       "2       4\n",
       "3      10\n",
       "4       8\n",
       "       ..\n",
       "152    21\n",
       "153    24\n",
       "154    25\n",
       "155    26\n",
       "156    14\n",
       "Name: Latest_Launch, Length: 157, dtype: int64"
      ]
     },
     "execution_count": 35,
     "metadata": {},
     "output_type": "execute_result"
    }
   ],
   "source": [
    "df[\"Latest_Launch\"].dt.day"
   ]
  },
  {
   "cell_type": "code",
   "execution_count": 36,
   "id": "64a5bcf0",
   "metadata": {},
   "outputs": [
    {
     "data": {
      "text/html": [
       "<div>\n",
       "<style scoped>\n",
       "    .dataframe tbody tr th:only-of-type {\n",
       "        vertical-align: middle;\n",
       "    }\n",
       "\n",
       "    .dataframe tbody tr th {\n",
       "        vertical-align: top;\n",
       "    }\n",
       "\n",
       "    .dataframe thead th {\n",
       "        text-align: right;\n",
       "    }\n",
       "</style>\n",
       "<table border=\"1\" class=\"dataframe\">\n",
       "  <thead>\n",
       "    <tr style=\"text-align: right;\">\n",
       "      <th></th>\n",
       "      <th>Manufacturer</th>\n",
       "      <th>Model</th>\n",
       "      <th>Sales_in_thousands</th>\n",
       "      <th>__year_resale_value</th>\n",
       "      <th>Vehicle_type</th>\n",
       "      <th>Price_in_thousands</th>\n",
       "      <th>Engine_size</th>\n",
       "      <th>Horsepower</th>\n",
       "      <th>Wheelbase</th>\n",
       "      <th>Width</th>\n",
       "      <th>Length</th>\n",
       "      <th>Curb_weight</th>\n",
       "      <th>Fuel_capacity</th>\n",
       "      <th>Fuel_efficiency</th>\n",
       "      <th>Latest_Launch</th>\n",
       "      <th>Power_perf_factor</th>\n",
       "      <th>year</th>\n",
       "      <th>month</th>\n",
       "      <th>day</th>\n",
       "    </tr>\n",
       "  </thead>\n",
       "  <tbody>\n",
       "    <tr>\n",
       "      <th>0</th>\n",
       "      <td>Acura</td>\n",
       "      <td>Integra</td>\n",
       "      <td>16.919</td>\n",
       "      <td>16.360</td>\n",
       "      <td>Passenger</td>\n",
       "      <td>21.50</td>\n",
       "      <td>1.8</td>\n",
       "      <td>140.0</td>\n",
       "      <td>101.2</td>\n",
       "      <td>67.3</td>\n",
       "      <td>172.4</td>\n",
       "      <td>2.639</td>\n",
       "      <td>13.2</td>\n",
       "      <td>28.0</td>\n",
       "      <td>2012-02-02</td>\n",
       "      <td>58.280150</td>\n",
       "      <td>2012</td>\n",
       "      <td>February</td>\n",
       "      <td>2</td>\n",
       "    </tr>\n",
       "    <tr>\n",
       "      <th>1</th>\n",
       "      <td>Acura</td>\n",
       "      <td>TL</td>\n",
       "      <td>39.384</td>\n",
       "      <td>19.875</td>\n",
       "      <td>Passenger</td>\n",
       "      <td>28.40</td>\n",
       "      <td>3.2</td>\n",
       "      <td>225.0</td>\n",
       "      <td>108.1</td>\n",
       "      <td>70.3</td>\n",
       "      <td>192.9</td>\n",
       "      <td>3.517</td>\n",
       "      <td>17.2</td>\n",
       "      <td>25.0</td>\n",
       "      <td>2011-06-03</td>\n",
       "      <td>91.370778</td>\n",
       "      <td>2011</td>\n",
       "      <td>June</td>\n",
       "      <td>3</td>\n",
       "    </tr>\n",
       "    <tr>\n",
       "      <th>2</th>\n",
       "      <td>Acura</td>\n",
       "      <td>CL</td>\n",
       "      <td>14.114</td>\n",
       "      <td>18.225</td>\n",
       "      <td>Passenger</td>\n",
       "      <td>NaN</td>\n",
       "      <td>3.2</td>\n",
       "      <td>225.0</td>\n",
       "      <td>106.9</td>\n",
       "      <td>70.6</td>\n",
       "      <td>192.0</td>\n",
       "      <td>3.470</td>\n",
       "      <td>17.2</td>\n",
       "      <td>26.0</td>\n",
       "      <td>2012-01-04</td>\n",
       "      <td>NaN</td>\n",
       "      <td>2012</td>\n",
       "      <td>January</td>\n",
       "      <td>4</td>\n",
       "    </tr>\n",
       "    <tr>\n",
       "      <th>3</th>\n",
       "      <td>Acura</td>\n",
       "      <td>RL</td>\n",
       "      <td>8.588</td>\n",
       "      <td>29.725</td>\n",
       "      <td>Passenger</td>\n",
       "      <td>42.00</td>\n",
       "      <td>3.5</td>\n",
       "      <td>210.0</td>\n",
       "      <td>114.6</td>\n",
       "      <td>71.4</td>\n",
       "      <td>196.6</td>\n",
       "      <td>3.850</td>\n",
       "      <td>18.0</td>\n",
       "      <td>22.0</td>\n",
       "      <td>2011-03-10</td>\n",
       "      <td>91.389779</td>\n",
       "      <td>2011</td>\n",
       "      <td>March</td>\n",
       "      <td>10</td>\n",
       "    </tr>\n",
       "    <tr>\n",
       "      <th>4</th>\n",
       "      <td>Audi</td>\n",
       "      <td>A4</td>\n",
       "      <td>20.397</td>\n",
       "      <td>22.255</td>\n",
       "      <td>Passenger</td>\n",
       "      <td>23.99</td>\n",
       "      <td>1.8</td>\n",
       "      <td>150.0</td>\n",
       "      <td>102.6</td>\n",
       "      <td>68.2</td>\n",
       "      <td>178.0</td>\n",
       "      <td>2.998</td>\n",
       "      <td>16.4</td>\n",
       "      <td>27.0</td>\n",
       "      <td>2011-10-08</td>\n",
       "      <td>62.777639</td>\n",
       "      <td>2011</td>\n",
       "      <td>October</td>\n",
       "      <td>8</td>\n",
       "    </tr>\n",
       "    <tr>\n",
       "      <th>...</th>\n",
       "      <td>...</td>\n",
       "      <td>...</td>\n",
       "      <td>...</td>\n",
       "      <td>...</td>\n",
       "      <td>...</td>\n",
       "      <td>...</td>\n",
       "      <td>...</td>\n",
       "      <td>...</td>\n",
       "      <td>...</td>\n",
       "      <td>...</td>\n",
       "      <td>...</td>\n",
       "      <td>...</td>\n",
       "      <td>...</td>\n",
       "      <td>...</td>\n",
       "      <td>...</td>\n",
       "      <td>...</td>\n",
       "      <td>...</td>\n",
       "      <td>...</td>\n",
       "      <td>...</td>\n",
       "    </tr>\n",
       "    <tr>\n",
       "      <th>152</th>\n",
       "      <td>Volvo</td>\n",
       "      <td>V40</td>\n",
       "      <td>3.545</td>\n",
       "      <td>NaN</td>\n",
       "      <td>Passenger</td>\n",
       "      <td>24.40</td>\n",
       "      <td>1.9</td>\n",
       "      <td>160.0</td>\n",
       "      <td>100.5</td>\n",
       "      <td>67.6</td>\n",
       "      <td>176.6</td>\n",
       "      <td>3.042</td>\n",
       "      <td>15.8</td>\n",
       "      <td>25.0</td>\n",
       "      <td>2011-09-21</td>\n",
       "      <td>66.498812</td>\n",
       "      <td>2011</td>\n",
       "      <td>September</td>\n",
       "      <td>21</td>\n",
       "    </tr>\n",
       "    <tr>\n",
       "      <th>153</th>\n",
       "      <td>Volvo</td>\n",
       "      <td>S70</td>\n",
       "      <td>15.245</td>\n",
       "      <td>NaN</td>\n",
       "      <td>Passenger</td>\n",
       "      <td>27.50</td>\n",
       "      <td>2.4</td>\n",
       "      <td>168.0</td>\n",
       "      <td>104.9</td>\n",
       "      <td>69.3</td>\n",
       "      <td>185.9</td>\n",
       "      <td>3.208</td>\n",
       "      <td>17.9</td>\n",
       "      <td>25.0</td>\n",
       "      <td>2012-11-24</td>\n",
       "      <td>70.654495</td>\n",
       "      <td>2012</td>\n",
       "      <td>November</td>\n",
       "      <td>24</td>\n",
       "    </tr>\n",
       "    <tr>\n",
       "      <th>154</th>\n",
       "      <td>Volvo</td>\n",
       "      <td>V70</td>\n",
       "      <td>17.531</td>\n",
       "      <td>NaN</td>\n",
       "      <td>Passenger</td>\n",
       "      <td>28.80</td>\n",
       "      <td>2.4</td>\n",
       "      <td>168.0</td>\n",
       "      <td>104.9</td>\n",
       "      <td>69.3</td>\n",
       "      <td>186.2</td>\n",
       "      <td>3.259</td>\n",
       "      <td>17.9</td>\n",
       "      <td>25.0</td>\n",
       "      <td>2011-06-25</td>\n",
       "      <td>71.155978</td>\n",
       "      <td>2011</td>\n",
       "      <td>June</td>\n",
       "      <td>25</td>\n",
       "    </tr>\n",
       "    <tr>\n",
       "      <th>155</th>\n",
       "      <td>Volvo</td>\n",
       "      <td>C70</td>\n",
       "      <td>3.493</td>\n",
       "      <td>NaN</td>\n",
       "      <td>Passenger</td>\n",
       "      <td>45.50</td>\n",
       "      <td>2.3</td>\n",
       "      <td>236.0</td>\n",
       "      <td>104.9</td>\n",
       "      <td>71.5</td>\n",
       "      <td>185.7</td>\n",
       "      <td>3.601</td>\n",
       "      <td>18.5</td>\n",
       "      <td>23.0</td>\n",
       "      <td>2011-04-26</td>\n",
       "      <td>101.623357</td>\n",
       "      <td>2011</td>\n",
       "      <td>April</td>\n",
       "      <td>26</td>\n",
       "    </tr>\n",
       "    <tr>\n",
       "      <th>156</th>\n",
       "      <td>Volvo</td>\n",
       "      <td>S80</td>\n",
       "      <td>18.969</td>\n",
       "      <td>NaN</td>\n",
       "      <td>Passenger</td>\n",
       "      <td>36.00</td>\n",
       "      <td>2.9</td>\n",
       "      <td>201.0</td>\n",
       "      <td>109.9</td>\n",
       "      <td>72.1</td>\n",
       "      <td>189.8</td>\n",
       "      <td>3.600</td>\n",
       "      <td>21.1</td>\n",
       "      <td>24.0</td>\n",
       "      <td>2011-11-14</td>\n",
       "      <td>85.735655</td>\n",
       "      <td>2011</td>\n",
       "      <td>November</td>\n",
       "      <td>14</td>\n",
       "    </tr>\n",
       "  </tbody>\n",
       "</table>\n",
       "<p>157 rows × 19 columns</p>\n",
       "</div>"
      ],
      "text/plain": [
       "    Manufacturer    Model  Sales_in_thousands  __year_resale_value  \\\n",
       "0          Acura  Integra              16.919               16.360   \n",
       "1          Acura       TL              39.384               19.875   \n",
       "2          Acura       CL              14.114               18.225   \n",
       "3          Acura       RL               8.588               29.725   \n",
       "4           Audi       A4              20.397               22.255   \n",
       "..           ...      ...                 ...                  ...   \n",
       "152        Volvo      V40               3.545                  NaN   \n",
       "153        Volvo      S70              15.245                  NaN   \n",
       "154        Volvo      V70              17.531                  NaN   \n",
       "155        Volvo      C70               3.493                  NaN   \n",
       "156        Volvo      S80              18.969                  NaN   \n",
       "\n",
       "    Vehicle_type  Price_in_thousands  Engine_size  Horsepower  Wheelbase  \\\n",
       "0      Passenger               21.50          1.8       140.0      101.2   \n",
       "1      Passenger               28.40          3.2       225.0      108.1   \n",
       "2      Passenger                 NaN          3.2       225.0      106.9   \n",
       "3      Passenger               42.00          3.5       210.0      114.6   \n",
       "4      Passenger               23.99          1.8       150.0      102.6   \n",
       "..           ...                 ...          ...         ...        ...   \n",
       "152    Passenger               24.40          1.9       160.0      100.5   \n",
       "153    Passenger               27.50          2.4       168.0      104.9   \n",
       "154    Passenger               28.80          2.4       168.0      104.9   \n",
       "155    Passenger               45.50          2.3       236.0      104.9   \n",
       "156    Passenger               36.00          2.9       201.0      109.9   \n",
       "\n",
       "     Width  Length  Curb_weight  Fuel_capacity  Fuel_efficiency Latest_Launch  \\\n",
       "0     67.3   172.4        2.639           13.2             28.0    2012-02-02   \n",
       "1     70.3   192.9        3.517           17.2             25.0    2011-06-03   \n",
       "2     70.6   192.0        3.470           17.2             26.0    2012-01-04   \n",
       "3     71.4   196.6        3.850           18.0             22.0    2011-03-10   \n",
       "4     68.2   178.0        2.998           16.4             27.0    2011-10-08   \n",
       "..     ...     ...          ...            ...              ...           ...   \n",
       "152   67.6   176.6        3.042           15.8             25.0    2011-09-21   \n",
       "153   69.3   185.9        3.208           17.9             25.0    2012-11-24   \n",
       "154   69.3   186.2        3.259           17.9             25.0    2011-06-25   \n",
       "155   71.5   185.7        3.601           18.5             23.0    2011-04-26   \n",
       "156   72.1   189.8        3.600           21.1             24.0    2011-11-14   \n",
       "\n",
       "     Power_perf_factor  year      month  day  \n",
       "0            58.280150  2012   February    2  \n",
       "1            91.370778  2011       June    3  \n",
       "2                  NaN  2012    January    4  \n",
       "3            91.389779  2011      March   10  \n",
       "4            62.777639  2011    October    8  \n",
       "..                 ...   ...        ...  ...  \n",
       "152          66.498812  2011  September   21  \n",
       "153          70.654495  2012   November   24  \n",
       "154          71.155978  2011       June   25  \n",
       "155         101.623357  2011      April   26  \n",
       "156          85.735655  2011   November   14  \n",
       "\n",
       "[157 rows x 19 columns]"
      ]
     },
     "execution_count": 36,
     "metadata": {},
     "output_type": "execute_result"
    }
   ],
   "source": [
    "df[\"year\"]= df[\"Latest_Launch\"].dt.year\n",
    "df[\"month\"]= df[\"Latest_Launch\"].dt.month_name()\n",
    "df[\"day\"]= df[\"Latest_Launch\"].dt.day\n",
    "df"
   ]
  },
  {
   "cell_type": "markdown",
   "id": "e9b0f987",
   "metadata": {},
   "source": [
    "NUMERICAL ANALYSIS AND VISUALIZATION"
   ]
  },
  {
   "cell_type": "code",
   "execution_count": 38,
   "id": "cc3b5f0d",
   "metadata": {},
   "outputs": [
    {
     "data": {
      "text/plain": [
       "52.99807643312102"
      ]
     },
     "execution_count": 38,
     "metadata": {},
     "output_type": "execute_result"
    }
   ],
   "source": [
    "df['Sales_in_thousands'].mean()"
   ]
  },
  {
   "cell_type": "code",
   "execution_count": 39,
   "id": "b4f941ac",
   "metadata": {},
   "outputs": [
    {
     "data": {
      "text/plain": [
       "29.45"
      ]
     },
     "execution_count": 39,
     "metadata": {},
     "output_type": "execute_result"
    }
   ],
   "source": [
    "df['Sales_in_thousands'].median()"
   ]
  },
  {
   "cell_type": "code",
   "execution_count": 43,
   "id": "a57c103f",
   "metadata": {},
   "outputs": [
    {
     "data": {
      "text/plain": [
       "<AxesSubplot:>"
      ]
     },
     "execution_count": 43,
     "metadata": {},
     "output_type": "execute_result"
    },
    {
     "data": {
      "image/png": "[encoded data removed]",
      "text/plain": [
       "<Figure size 720x432 with 1 Axes>"
      ]
     },
     "metadata": {
      "needs_background": "light"
     },
     "output_type": "display_data"
    }
   ],
   "source": [
    "df['Sales_in_thousands'].plot(kind='box', vert=False, figsize=(10,6))\n"
   ]
  },
  {
   "cell_type": "code",
   "execution_count": 45,
   "id": "389df6dc",
   "metadata": {},
   "outputs": [
    {
     "data": {
      "text/plain": [
       "<AxesSubplot:ylabel='Density'>"
      ]
     },
     "execution_count": 45,
     "metadata": {},
     "output_type": "execute_result"
    },
    {
     "data": {
      "image/png": "[encoded data removed]",
      "text/plain": [
       "<Figure size 1008x432 with 1 Axes>"
      ]
     },
     "metadata": {
      "needs_background": "light"
     },
     "output_type": "display_data"
    }
   ],
   "source": [
    "df['Sales_in_thousands'].plot(kind='density', figsize=(14,6))"
   ]
  },
  {
   "cell_type": "code",
   "execution_count": 47,
   "id": "1e35cc99",
   "metadata": {
    "scrolled": true
   },
   "outputs": [
    {
     "data": {
      "text/plain": [
       "<matplotlib.lines.Line2D at 0x1822649fc70>"
      ]
     },
     "execution_count": 47,
     "metadata": {},
     "output_type": "execute_result"
    },
    {
     "data": {
      "image/png": "[encoded data removed]",
      "text/plain": [
       "<Figure size 1008x432 with 1 Axes>"
      ]
     },
     "metadata": {
      "needs_background": "light"
     },
     "output_type": "display_data"
    }
   ],
   "source": [
    "ax = df['Sales_in_thousands'].plot(kind='density', figsize=(14,6)) # kde\n",
    "ax.axvline(df['Sales_in_thousands'].mean(), color='red')\n",
    "ax.axvline(df['Sales_in_thousands'].median(), color='green')"
   ]
  },
  {
   "cell_type": "markdown",
   "id": "13e3ee0b",
   "metadata": {},
   "source": [
    "RELATIONSHIP BETWEEN COLUMNS"
   ]
  },
  {
   "cell_type": "code",
   "execution_count": 67,
   "id": "ec04b23b",
   "metadata": {},
   "outputs": [
    {
     "data": {
      "application/vnd.plotly.v1+json": {
       "config": {
        "plotlyServerURL": "https://plot.ly"
       },
       "data": [
        {
         "hovertemplate": "Model=Integra<br>Power_perf_factor=%{x}<br>Price_in_thousands=%{y}<extra></extra>",
         "legendgroup": "Integra",
         "marker": {
          "color": "#636efa",
          "size": 5,
          "symbol": "circle"
         },
         "mode": "markers",
         "name": "Integra",
         "orientation": "v",
         "showlegend": true,
         "type": "scatter",
         "x": [
          58.28014952
         ],
         "xaxis": "x",
         "y": [
          21.5
         ],
         "yaxis": "y"
        },
        {
         "hovertemplate": "Model=TL<br>Power_perf_factor=%{x}<br>Price_in_thousands=%{y}<extra></extra>",
         "legendgroup": "TL",
         "marker": {
          "color": "#EF553B",
          "size": 5,
          "symbol": "circle"
         },
         "mode": "markers",
         "name": "TL",
         "orientation": "v",
         "showlegend": true,
         "type": "scatter",
         "x": [
          91.37077766
         ],
         "xaxis": "x",
         "y": [
          28.4
         ],
         "yaxis": "y"
        },
        {
         "hovertemplate": "Model=CL<br>Power_perf_factor=%{x}<br>Price_in_thousands=%{y}<extra></extra>",
         "legendgroup": "CL",
         "marker": {
          "color": "#00cc96",
          "size": 5,
          "symbol": "circle"
         },
         "mode": "markers",
         "name": "CL",
         "orientation": "v",
         "showlegend": true,
         "type": "scatter",
         "x": [
          null
         ],
         "xaxis": "x",
         "y": [
          null
         ],
         "yaxis": "y"
        },
        {
         "hovertemplate": "Model=RL<br>Power_perf_factor=%{x}<br>Price_in_thousands=%{y}<extra></extra>",
         "legendgroup": "RL",
         "marker": {
          "color": "#ab63fa",
          "size": 5,
          "symbol": "circle"
         },
         "mode": "markers",
         "name": "RL",
         "orientation": "v",
         "showlegend": true,
         "type": "scatter",
         "x": [
          91.38977933
         ],
         "xaxis": "x",
         "y": [
          42
         ],
         "yaxis": "y"
        },
        {
         "hovertemplate": "Model=A4<br>Power_perf_factor=%{x}<br>Price_in_thousands=%{y}<extra></extra>",
         "legendgroup": "A4",
         "marker": {
          "color": "#FFA15A",
          "size": 5,
          "symbol": "circle"
         },
         "mode": "markers",
         "name": "A4",
         "orientation": "v",
         "showlegend": true,
         "type": "scatter",
         "x": [
          62.7776392
         ],
         "xaxis": "x",
         "y": [
          23.99
         ],
         "yaxis": "y"
        },
        {
         "hovertemplate": "Model=A6<br>Power_perf_factor=%{x}<br>Price_in_thousands=%{y}<extra></extra>",
         "legendgroup": "A6",
         "marker": {
          "color": "#19d3f3",
          "size": 5,
          "symbol": "circle"
         },
         "mode": "markers",
         "name": "A6",
         "orientation": "v",
         "showlegend": true,
         "type": "scatter",
         "x": [
          84.56510502
         ],
         "xaxis": "x",
         "y": [
          33.95
         ],
         "yaxis": "y"
        },
        {
         "hovertemplate": "Model=A8<br>Power_perf_factor=%{x}<br>Price_in_thousands=%{y}<extra></extra>",
         "legendgroup": "A8",
         "marker": {
          "color": "#FF6692",
          "size": 5,
          "symbol": "circle"
         },
         "mode": "markers",
         "name": "A8",
         "orientation": "v",
         "showlegend": true,
         "type": "scatter",
         "x": [
          134.6568582
         ],
         "xaxis": "x",
         "y": [
          62
         ],
         "yaxis": "y"
        },
        {
         "hovertemplate": "Model=323i<br>Power_perf_factor=%{x}<br>Price_in_thousands=%{y}<extra></extra>",
         "legendgroup": "323i",
         "marker": {
          "color": "#B6E880",
          "size": 5,
          "symbol": "circle"
         },
         "mode": "markers",
         "name": "323i",
         "orientation": "v",
         "showlegend": true,
         "type": "scatter",
         "x": [
          71.19120671
         ],
         "xaxis": "x",
         "y": [
          26.99
         ],
         "yaxis": "y"
        },
        {
         "hovertemplate": "Model=328i<br>Power_perf_factor=%{x}<br>Price_in_thousands=%{y}<extra></extra>",
         "legendgroup": "328i",
         "marker": {
          "color": "#FF97FF",
          "size": 5,
          "symbol": "circle"
         },
         "mode": "markers",
         "name": "328i",
         "orientation": "v",
         "showlegend": true,
         "type": "scatter",
         "x": [
          81.87706856
         ],
         "xaxis": "x",
         "y": [
          33.4
         ],
         "yaxis": "y"
        },
        {
         "hovertemplate": "Model=528i<br>Power_perf_factor=%{x}<br>Price_in_thousands=%{y}<extra></extra>",
         "legendgroup": "528i",
         "marker": {
          "color": "#FECB52",
          "size": 5,
          "symbol": "circle"
         },
         "mode": "markers",
         "name": "528i",
         "orientation": "v",
         "showlegend": true,
         "type": "scatter",
         "x": [
          83.9987238
         ],
         "xaxis": "x",
         "y": [
          38.9
         ],
         "yaxis": "y"
        },
        {
         "hovertemplate": "Model=Century<br>Power_perf_factor=%{x}<br>Price_in_thousands=%{y}<extra></extra>",
         "legendgroup": "Century",
         "marker": {
          "color": "#636efa",
          "size": 5,
          "symbol": "circle"
         },
         "mode": "markers",
         "name": "Century",
         "orientation": "v",
         "showlegend": true,
         "type": "scatter",
         "x": [
          71.18145132
         ],
         "xaxis": "x",
         "y": [
          21.975
         ],
         "yaxis": "y"
        },
        {
         "hovertemplate": "Model=Regal<br>Power_perf_factor=%{x}<br>Price_in_thousands=%{y}<extra></extra>",
         "legendgroup": "Regal",
         "marker": {
          "color": "#EF553B",
          "size": 5,
          "symbol": "circle"
         },
         "mode": "markers",
         "name": "Regal",
         "orientation": "v",
         "showlegend": true,
         "type": "scatter",
         "x": [
          95.63670253
         ],
         "xaxis": "x",
         "y": [
          25.3
         ],
         "yaxis": "y"
        },
        {
         "hovertemplate": "Model=Park Avenue<br>Power_perf_factor=%{x}<br>Price_in_thousands=%{y}<extra></extra>",
         "legendgroup": "Park Avenue",
         "marker": {
          "color": "#00cc96",
          "size": 5,
          "symbol": "circle"
         },
         "mode": "markers",
         "name": "Park Avenue",
         "orientation": "v",
         "showlegend": true,
         "type": "scatter",
         "x": [
          85.82840825
         ],
         "xaxis": "x",
         "y": [
          31.965
         ],
         "yaxis": "y"
        },
        {
         "hovertemplate": "Model=LeSabre<br>Power_perf_factor=%{x}<br>Price_in_thousands=%{y}<extra></extra>",
         "legendgroup": "LeSabre",
         "marker": {
          "color": "#ab63fa",
          "size": 5,
          "symbol": "circle"
         },
         "mode": "markers",
         "name": "LeSabre",
         "orientation": "v",
         "showlegend": true,
         "type": "scatter",
         "x": [
          84.25452581
         ],
         "xaxis": "x",
         "y": [
          27.885
         ],
         "yaxis": "y"
        },
        {
         "hovertemplate": "Model=DeVille<br>Power_perf_factor=%{x}<br>Price_in_thousands=%{y}<extra></extra>",
         "legendgroup": "DeVille",
         "marker": {
          "color": "#FFA15A",
          "size": 5,
          "symbol": "circle"
         },
         "mode": "markers",
         "name": "DeVille",
         "orientation": "v",
         "showlegend": true,
         "type": "scatter",
         "x": [
          113.8545976
         ],
         "xaxis": "x",
         "y": [
          39.895
         ],
         "yaxis": "y"
        },
        {
         "hovertemplate": "Model=Seville<br>Power_perf_factor=%{x}<br>Price_in_thousands=%{y}<extra></extra>",
         "legendgroup": "Seville",
         "marker": {
          "color": "#19d3f3",
          "size": 5,
          "symbol": "circle"
         },
         "mode": "markers",
         "name": "Seville",
         "orientation": "v",
         "showlegend": true,
         "type": "scatter",
         "x": [
          115.6213578
         ],
         "xaxis": "x",
         "y": [
          44.475
         ],
         "yaxis": "y"
        },
        {
         "hovertemplate": "Model=Eldorado<br>Power_perf_factor=%{x}<br>Price_in_thousands=%{y}<extra></extra>",
         "legendgroup": "Eldorado",
         "marker": {
          "color": "#FF6692",
          "size": 5,
          "symbol": "circle"
         },
         "mode": "markers",
         "name": "Eldorado",
         "orientation": "v",
         "showlegend": true,
         "type": "scatter",
         "x": [
          113.7658739
         ],
         "xaxis": "x",
         "y": [
          39.665
         ],
         "yaxis": "y"
        },
        {
         "hovertemplate": "Model=Catera<br>Power_perf_factor=%{x}<br>Price_in_thousands=%{y}<extra></extra>",
         "legendgroup": "Catera",
         "marker": {
          "color": "#B6E880",
          "size": 5,
          "symbol": "circle"
         },
         "mode": "markers",
         "name": "Catera",
         "orientation": "v",
         "showlegend": true,
         "type": "scatter",
         "x": [
          83.48309358
         ],
         "xaxis": "x",
         "y": [
          31.01
         ],
         "yaxis": "y"
        },
        {
         "hovertemplate": "Model=Escalade<br>Power_perf_factor=%{x}<br>Price_in_thousands=%{y}<extra></extra>",
         "legendgroup": "Escalade",
         "marker": {
          "color": "#FF97FF",
          "size": 5,
          "symbol": "circle"
         },
         "mode": "markers",
         "name": "Escalade",
         "orientation": "v",
         "showlegend": true,
         "type": "scatter",
         "x": [
          109.5091165
         ],
         "xaxis": "x",
         "y": [
          46.225
         ],
         "yaxis": "y"
        },
        {
         "hovertemplate": "Model=Cavalier<br>Power_perf_factor=%{x}<br>Price_in_thousands=%{y}<extra></extra>",
         "legendgroup": "Cavalier",
         "marker": {
          "color": "#FECB52",
          "size": 5,
          "symbol": "circle"
         },
         "mode": "markers",
         "name": "Cavalier",
         "orientation": "v",
         "showlegend": true,
         "type": "scatter",
         "x": [
          46.36334747
         ],
         "xaxis": "x",
         "y": [
          13.26
         ],
         "yaxis": "y"
        },
        {
         "hovertemplate": "Model=Malibu<br>Power_perf_factor=%{x}<br>Price_in_thousands=%{y}<extra></extra>",
         "legendgroup": "Malibu",
         "marker": {
          "color": "#636efa",
          "size": 5,
          "symbol": "circle"
         },
         "mode": "markers",
         "name": "Malibu",
         "orientation": "v",
         "showlegend": true,
         "type": "scatter",
         "x": [
          67.31446216
         ],
         "xaxis": "x",
         "y": [
          16.535
         ],
         "yaxis": "y"
        },
        {
         "hovertemplate": "Model=Lumina<br>Power_perf_factor=%{x}<br>Price_in_thousands=%{y}<extra></extra>",
         "legendgroup": "Lumina",
         "marker": {
          "color": "#EF553B",
          "size": 5,
          "symbol": "circle"
         },
         "mode": "markers",
         "name": "Lumina",
         "orientation": "v",
         "showlegend": true,
         "type": "scatter",
         "x": [
          69.9913956
         ],
         "xaxis": "x",
         "y": [
          18.89
         ],
         "yaxis": "y"
        },
        {
         "hovertemplate": "Model=Monte Carlo<br>Power_perf_factor=%{x}<br>Price_in_thousands=%{y}<extra></extra>",
         "legendgroup": "Monte Carlo",
         "marker": {
          "color": "#00cc96",
          "size": 5,
          "symbol": "circle"
         },
         "mode": "markers",
         "name": "Monte Carlo",
         "orientation": "v",
         "showlegend": true,
         "type": "scatter",
         "x": [
          72.03091719
         ],
         "xaxis": "x",
         "y": [
          19.39
         ],
         "yaxis": "y"
        },
        {
         "hovertemplate": "Model=Camaro<br>Power_perf_factor=%{x}<br>Price_in_thousands=%{y}<extra></extra>",
         "legendgroup": "Camaro",
         "marker": {
          "color": "#ab63fa",
          "size": 5,
          "symbol": "circle"
         },
         "mode": "markers",
         "name": "Camaro",
         "orientation": "v",
         "showlegend": true,
         "type": "scatter",
         "x": [
          81.11854333
         ],
         "xaxis": "x",
         "y": [
          24.34
         ],
         "yaxis": "y"
        },
        {
         "hovertemplate": "Model=Corvette<br>Power_perf_factor=%{x}<br>Price_in_thousands=%{y}<extra></extra>",
         "legendgroup": "Corvette",
         "marker": {
          "color": "#FFA15A",
          "size": 5,
          "symbol": "circle"
         },
         "mode": "markers",
         "name": "Corvette",
         "orientation": "v",
         "showlegend": true,
         "type": "scatter",
         "x": [
          141.14115
         ],
         "xaxis": "x",
         "y": [
          45.705
         ],
         "yaxis": "y"
        },
        {
         "hovertemplate": "Model=Prizm<br>Power_perf_factor=%{x}<br>Price_in_thousands=%{y}<extra></extra>",
         "legendgroup": "Prizm",
         "marker": {
          "color": "#19d3f3",
          "size": 5,
          "symbol": "circle"
         },
         "mode": "markers",
         "name": "Prizm",
         "orientation": "v",
         "showlegend": true,
         "type": "scatter",
         "x": [
          48.2976361
         ],
         "xaxis": "x",
         "y": [
          13.96
         ],
         "yaxis": "y"
        },
        {
         "hovertemplate": "Model=Metro<br>Power_perf_factor=%{x}<br>Price_in_thousands=%{y}<extra></extra>",
         "legendgroup": "Metro",
         "marker": {
          "color": "#FF6692",
          "size": 5,
          "symbol": "circle"
         },
         "mode": "markers",
         "name": "Metro",
         "orientation": "v",
         "showlegend": true,
         "type": "scatter",
         "x": [
          23.27627233
         ],
         "xaxis": "x",
         "y": [
          9.235
         ],
         "yaxis": "y"
        },
        {
         "hovertemplate": "Model=Impala<br>Power_perf_factor=%{x}<br>Price_in_thousands=%{y}<extra></extra>",
         "legendgroup": "Impala",
         "marker": {
          "color": "#B6E880",
          "size": 5,
          "symbol": "circle"
         },
         "mode": "markers",
         "name": "Impala",
         "orientation": "v",
         "showlegend": true,
         "type": "scatter",
         "x": [
          71.83803944
         ],
         "xaxis": "x",
         "y": [
          18.89
         ],
         "yaxis": "y"
        },
        {
         "hovertemplate": "Model=Sebring Coupe<br>Power_perf_factor=%{x}<br>Price_in_thousands=%{y}<extra></extra>",
         "legendgroup": "Sebring Coupe",
         "marker": {
          "color": "#FF97FF",
          "size": 5,
          "symbol": "circle"
         },
         "mode": "markers",
         "name": "Sebring Coupe",
         "orientation": "v",
         "showlegend": true,
         "type": "scatter",
         "x": [
          65.95718396
         ],
         "xaxis": "x",
         "y": [
          19.84
         ],
         "yaxis": "y"
        },
        {
         "hovertemplate": "Model=Sebring Conv.<br>Power_perf_factor=%{x}<br>Price_in_thousands=%{y}<extra></extra>",
         "legendgroup": "Sebring Conv.",
         "marker": {
          "color": "#FECB52",
          "size": 5,
          "symbol": "circle"
         },
         "mode": "markers",
         "name": "Sebring Conv.",
         "orientation": "v",
         "showlegend": true,
         "type": "scatter",
         "x": [
          69.52135505
         ],
         "xaxis": "x",
         "y": [
          24.495
         ],
         "yaxis": "y"
        },
        {
         "hovertemplate": "Model=Concorde<br>Power_perf_factor=%{x}<br>Price_in_thousands=%{y}<extra></extra>",
         "legendgroup": "Concorde",
         "marker": {
          "color": "#636efa",
          "size": 5,
          "symbol": "circle"
         },
         "mode": "markers",
         "name": "Concorde",
         "orientation": "v",
         "showlegend": true,
         "type": "scatter",
         "x": [
          80.02378204
         ],
         "xaxis": "x",
         "y": [
          22.245
         ],
         "yaxis": "y"
        },
        {
         "hovertemplate": "Model=Cirrus<br>Power_perf_factor=%{x}<br>Price_in_thousands=%{y}<extra></extra>",
         "legendgroup": "Cirrus",
         "marker": {
          "color": "#EF553B",
          "size": 5,
          "symbol": "circle"
         },
         "mode": "markers",
         "name": "Cirrus",
         "orientation": "v",
         "showlegend": true,
         "type": "scatter",
         "x": [
          53.56619987
         ],
         "xaxis": "x",
         "y": [
          16.48
         ],
         "yaxis": "y"
        },
        {
         "hovertemplate": "Model=LHS<br>Power_perf_factor=%{x}<br>Price_in_thousands=%{y}<extra></extra>",
         "legendgroup": "LHS",
         "marker": {
          "color": "#00cc96",
          "size": 5,
          "symbol": "circle"
         },
         "mode": "markers",
         "name": "LHS",
         "orientation": "v",
         "showlegend": true,
         "type": "scatter",
         "x": [
          101.3292807
         ],
         "xaxis": "x",
         "y": [
          28.34
         ],
         "yaxis": "y"
        },
        {
         "hovertemplate": "Model=Town & Country<br>Power_perf_factor=%{x}<br>Price_in_thousands=%{y}<extra></extra>",
         "legendgroup": "Town & Country",
         "marker": {
          "color": "#ab63fa",
          "size": 5,
          "symbol": "circle"
         },
         "mode": "markers",
         "name": "Town & Country",
         "orientation": "v",
         "showlegend": true,
         "type": "scatter",
         "x": [
          null
         ],
         "xaxis": "x",
         "y": [
          null
         ],
         "yaxis": "y"
        },
        {
         "hovertemplate": "Model=300M<br>Power_perf_factor=%{x}<br>Price_in_thousands=%{y}<extra></extra>",
         "legendgroup": "300M",
         "marker": {
          "color": "#FFA15A",
          "size": 5,
          "symbol": "circle"
         },
         "mode": "markers",
         "name": "300M",
         "orientation": "v",
         "showlegend": true,
         "type": "scatter",
         "x": [
          101.6552441
         ],
         "xaxis": "x",
         "y": [
          29.185
         ],
         "yaxis": "y"
        },
        {
         "hovertemplate": "Model=Neon<br>Power_perf_factor=%{x}<br>Price_in_thousands=%{y}<extra></extra>",
         "legendgroup": "Neon",
         "marker": {
          "color": "#19d3f3",
          "size": 5,
          "symbol": "circle"
         },
         "mode": "markers",
         "name": "Neon",
         "orientation": "v",
         "showlegend": true,
         "type": "scatter",
         "x": [
          52.08489875,
          52.08489875
         ],
         "xaxis": "x",
         "y": [
          12.64,
          12.64
         ],
         "yaxis": "y"
        },
        {
         "hovertemplate": "Model=Avenger<br>Power_perf_factor=%{x}<br>Price_in_thousands=%{y}<extra></extra>",
         "legendgroup": "Avenger",
         "marker": {
          "color": "#FF6692",
          "size": 5,
          "symbol": "circle"
         },
         "mode": "markers",
         "name": "Avenger",
         "orientation": "v",
         "showlegend": true,
         "type": "scatter",
         "x": [
          65.65050834
         ],
         "xaxis": "x",
         "y": [
          19.045
         ],
         "yaxis": "y"
        },
        {
         "hovertemplate": "Model=Stratus<br>Power_perf_factor=%{x}<br>Price_in_thousands=%{y}<extra></extra>",
         "legendgroup": "Stratus",
         "marker": {
          "color": "#B6E880",
          "size": 5,
          "symbol": "circle"
         },
         "mode": "markers",
         "name": "Stratus",
         "orientation": "v",
         "showlegend": true,
         "type": "scatter",
         "x": [
          67.87610784
         ],
         "xaxis": "x",
         "y": [
          20.23
         ],
         "yaxis": "y"
        },
        {
         "hovertemplate": "Model=Intrepid<br>Power_perf_factor=%{x}<br>Price_in_thousands=%{y}<extra></extra>",
         "legendgroup": "Intrepid",
         "marker": {
          "color": "#FF97FF",
          "size": 5,
          "symbol": "circle"
         },
         "mode": "markers",
         "name": "Intrepid",
         "orientation": "v",
         "showlegend": true,
         "type": "scatter",
         "x": [
          80.83147017
         ],
         "xaxis": "x",
         "y": [
          22.505
         ],
         "yaxis": "y"
        },
        {
         "hovertemplate": "Model=Viper<br>Power_perf_factor=%{x}<br>Price_in_thousands=%{y}<extra></extra>",
         "legendgroup": "Viper",
         "marker": {
          "color": "#FECB52",
          "size": 5,
          "symbol": "circle"
         },
         "mode": "markers",
         "name": "Viper",
         "orientation": "v",
         "showlegend": true,
         "type": "scatter",
         "x": [
          188.144323
         ],
         "xaxis": "x",
         "y": [
          69.725
         ],
         "yaxis": "y"
        },
        {
         "hovertemplate": "Model=Ram Pickup<br>Power_perf_factor=%{x}<br>Price_in_thousands=%{y}<extra></extra>",
         "legendgroup": "Ram Pickup",
         "marker": {
          "color": "#636efa",
          "size": 5,
          "symbol": "circle"
         },
         "mode": "markers",
         "name": "Ram Pickup",
         "orientation": "v",
         "showlegend": true,
         "type": "scatter",
         "x": [
          90.21170005
         ],
         "xaxis": "x",
         "y": [
          19.46
         ],
         "yaxis": "y"
        },
        {
         "hovertemplate": "Model=Ram Wagon<br>Power_perf_factor=%{x}<br>Price_in_thousands=%{y}<extra></extra>",
         "legendgroup": "Ram Wagon",
         "marker": {
          "color": "#EF553B",
          "size": 5,
          "symbol": "circle"
         },
         "mode": "markers",
         "name": "Ram Wagon",
         "orientation": "v",
         "showlegend": true,
         "type": "scatter",
         "x": [
          71.13529161
         ],
         "xaxis": "x",
         "y": [
          21.315
         ],
         "yaxis": "y"
        },
        {
         "hovertemplate": "Model=Ram Van<br>Power_perf_factor=%{x}<br>Price_in_thousands=%{y}<extra></extra>",
         "legendgroup": "Ram Van",
         "marker": {
          "color": "#00cc96",
          "size": 5,
          "symbol": "circle"
         },
         "mode": "markers",
         "name": "Ram Van",
         "orientation": "v",
         "showlegend": true,
         "type": "scatter",
         "x": [
          70.07832154
         ],
         "xaxis": "x",
         "y": [
          18.575
         ],
         "yaxis": "y"
        },
        {
         "hovertemplate": "Model=Dakota<br>Power_perf_factor=%{x}<br>Price_in_thousands=%{y}<extra></extra>",
         "legendgroup": "Dakota",
         "marker": {
          "color": "#ab63fa",
          "size": 5,
          "symbol": "circle"
         },
         "mode": "markers",
         "name": "Dakota",
         "orientation": "v",
         "showlegend": true,
         "type": "scatter",
         "x": [
          49.64500177
         ],
         "xaxis": "x",
         "y": [
          16.98
         ],
         "yaxis": "y"
        },
        {
         "hovertemplate": "Model=Durango<br>Power_perf_factor=%{x}<br>Price_in_thousands=%{y}<extra></extra>",
         "legendgroup": "Durango",
         "marker": {
          "color": "#FFA15A",
          "size": 5,
          "symbol": "circle"
         },
         "mode": "markers",
         "name": "Durango",
         "orientation": "v",
         "showlegend": true,
         "type": "scatter",
         "x": [
          92.85412522
         ],
         "xaxis": "x",
         "y": [
          26.31
         ],
         "yaxis": "y"
        },
        {
         "hovertemplate": "Model=Caravan<br>Power_perf_factor=%{x}<br>Price_in_thousands=%{y}<extra></extra>",
         "legendgroup": "Caravan",
         "marker": {
          "color": "#19d3f3",
          "size": 5,
          "symbol": "circle"
         },
         "mode": "markers",
         "name": "Caravan",
         "orientation": "v",
         "showlegend": true,
         "type": "scatter",
         "x": [
          61.22700031
         ],
         "xaxis": "x",
         "y": [
          19.565
         ],
         "yaxis": "y"
        },
        {
         "hovertemplate": "Model=Escort<br>Power_perf_factor=%{x}<br>Price_in_thousands=%{y}<extra></extra>",
         "legendgroup": "Escort",
         "marker": {
          "color": "#FF6692",
          "size": 5,
          "symbol": "circle"
         },
         "mode": "markers",
         "name": "Escort",
         "orientation": "v",
         "showlegend": true,
         "type": "scatter",
         "x": [
          44.08370946
         ],
         "xaxis": "x",
         "y": [
          12.07
         ],
         "yaxis": "y"
        },
        {
         "hovertemplate": "Model=Mustang<br>Power_perf_factor=%{x}<br>Price_in_thousands=%{y}<extra></extra>",
         "legendgroup": "Mustang",
         "marker": {
          "color": "#B6E880",
          "size": 5,
          "symbol": "circle"
         },
         "mode": "markers",
         "name": "Mustang",
         "orientation": "v",
         "showlegend": true,
         "type": "scatter",
         "x": [
          76.50918456
         ],
         "xaxis": "x",
         "y": [
          21.56
         ],
         "yaxis": "y"
        },
        {
         "hovertemplate": "Model=Contour<br>Power_perf_factor=%{x}<br>Price_in_thousands=%{y}<extra></extra>",
         "legendgroup": "Contour",
         "marker": {
          "color": "#FF97FF",
          "size": 5,
          "symbol": "circle"
         },
         "mode": "markers",
         "name": "Contour",
         "orientation": "v",
         "showlegend": true,
         "type": "scatter",
         "x": [
          67.35101072
         ],
         "xaxis": "x",
         "y": [
          17.035
         ],
         "yaxis": "y"
        },
        {
         "hovertemplate": "Model=Taurus<br>Power_perf_factor=%{x}<br>Price_in_thousands=%{y}<extra></extra>",
         "legendgroup": "Taurus",
         "marker": {
          "color": "#FECB52",
          "size": 5,
          "symbol": "circle"
         },
         "mode": "markers",
         "name": "Taurus",
         "orientation": "v",
         "showlegend": true,
         "type": "scatter",
         "x": [
          62.5037395
         ],
         "xaxis": "x",
         "y": [
          17.885
         ],
         "yaxis": "y"
        },
        {
         "hovertemplate": "Model=Focus<br>Power_perf_factor=%{x}<br>Price_in_thousands=%{y}<extra></extra>",
         "legendgroup": "Focus",
         "marker": {
          "color": "#636efa",
          "size": 5,
          "symbol": "circle"
         },
         "mode": "markers",
         "name": "Focus",
         "orientation": "v",
         "showlegend": true,
         "type": "scatter",
         "x": [
          43.11713201
         ],
         "xaxis": "x",
         "y": [
          12.315
         ],
         "yaxis": "y"
        },
        {
         "hovertemplate": "Model=Crown Victoria<br>Power_perf_factor=%{x}<br>Price_in_thousands=%{y}<extra></extra>",
         "legendgroup": "Crown Victoria",
         "marker": {
          "color": "#EF553B",
          "size": 5,
          "symbol": "circle"
         },
         "mode": "markers",
         "name": "Crown Victoria",
         "orientation": "v",
         "showlegend": true,
         "type": "scatter",
         "x": [
          80.49953671
         ],
         "xaxis": "x",
         "y": [
          22.195
         ],
         "yaxis": "y"
        },
        {
         "hovertemplate": "Model=Explorer<br>Power_perf_factor=%{x}<br>Price_in_thousands=%{y}<extra></extra>",
         "legendgroup": "Explorer",
         "marker": {
          "color": "#00cc96",
          "size": 5,
          "symbol": "circle"
         },
         "mode": "markers",
         "name": "Explorer",
         "orientation": "v",
         "showlegend": true,
         "type": "scatter",
         "x": [
          87.63549578
         ],
         "xaxis": "x",
         "y": [
          31.93
         ],
         "yaxis": "y"
        },
        {
         "hovertemplate": "Model=Windstar<br>Power_perf_factor=%{x}<br>Price_in_thousands=%{y}<extra></extra>",
         "legendgroup": "Windstar",
         "marker": {
          "color": "#ab63fa",
          "size": 5,
          "symbol": "circle"
         },
         "mode": "markers",
         "name": "Windstar",
         "orientation": "v",
         "showlegend": true,
         "type": "scatter",
         "x": [
          62.09504839
         ],
         "xaxis": "x",
         "y": [
          21.41
         ],
         "yaxis": "y"
        },
        {
         "hovertemplate": "Model=Expedition<br>Power_perf_factor=%{x}<br>Price_in_thousands=%{y}<extra></extra>",
         "legendgroup": "Expedition",
         "marker": {
          "color": "#FFA15A",
          "size": 5,
          "symbol": "circle"
         },
         "mode": "markers",
         "name": "Expedition",
         "orientation": "v",
         "showlegend": true,
         "type": "scatter",
         "x": [
          100.0248023
         ],
         "xaxis": "x",
         "y": [
          36.135
         ],
         "yaxis": "y"
        },
        {
         "hovertemplate": "Model=Ranger<br>Power_perf_factor=%{x}<br>Price_in_thousands=%{y}<extra></extra>",
         "legendgroup": "Ranger",
         "marker": {
          "color": "#19d3f3",
          "size": 5,
          "symbol": "circle"
         },
         "mode": "markers",
         "name": "Ranger",
         "orientation": "v",
         "showlegend": true,
         "type": "scatter",
         "x": [
          47.38953131
         ],
         "xaxis": "x",
         "y": [
          12.05
         ],
         "yaxis": "y"
        },
        {
         "hovertemplate": "Model=F-Series<br>Power_perf_factor=%{x}<br>Price_in_thousands=%{y}<extra></extra>",
         "legendgroup": "F-Series",
         "marker": {
          "color": "#FF6692",
          "size": 5,
          "symbol": "circle"
         },
         "mode": "markers",
         "name": "F-Series",
         "orientation": "v",
         "showlegend": true,
         "type": "scatter",
         "x": [
          89.40193473
         ],
         "xaxis": "x",
         "y": [
          26.935
         ],
         "yaxis": "y"
        },
        {
         "hovertemplate": "Model=Civic<br>Power_perf_factor=%{x}<br>Price_in_thousands=%{y}<extra></extra>",
         "legendgroup": "Civic",
         "marker": {
          "color": "#B6E880",
          "size": 5,
          "symbol": "circle"
         },
         "mode": "markers",
         "name": "Civic",
         "orientation": "v",
         "showlegend": true,
         "type": "scatter",
         "x": [
          42.87909734
         ],
         "xaxis": "x",
         "y": [
          12.885
         ],
         "yaxis": "y"
        },
        {
         "hovertemplate": "Model=Accord<br>Power_perf_factor=%{x}<br>Price_in_thousands=%{y}<extra></extra>",
         "legendgroup": "Accord",
         "marker": {
          "color": "#FF97FF",
          "size": 5,
          "symbol": "circle"
         },
         "mode": "markers",
         "name": "Accord",
         "orientation": "v",
         "showlegend": true,
         "type": "scatter",
         "x": [
          54.26954829
         ],
         "xaxis": "x",
         "y": [
          15.35
         ],
         "yaxis": "y"
        },
        {
         "hovertemplate": "Model=CR-V<br>Power_perf_factor=%{x}<br>Price_in_thousands=%{y}<extra></extra>",
         "legendgroup": "CR-V",
         "marker": {
          "color": "#FECB52",
          "size": 5,
          "symbol": "circle"
         },
         "mode": "markers",
         "name": "CR-V",
         "orientation": "v",
         "showlegend": true,
         "type": "scatter",
         "x": [
          60.08796662
         ],
         "xaxis": "x",
         "y": [
          20.55
         ],
         "yaxis": "y"
        },
        {
         "hovertemplate": "Model=Passport<br>Power_perf_factor=%{x}<br>Price_in_thousands=%{y}<extra></extra>",
         "legendgroup": "Passport",
         "marker": {
          "color": "#636efa",
          "size": 5,
          "symbol": "circle"
         },
         "mode": "markers",
         "name": "Passport",
         "orientation": "v",
         "showlegend": true,
         "type": "scatter",
         "x": [
          83.6025008
         ],
         "xaxis": "x",
         "y": [
          26.6
         ],
         "yaxis": "y"
        },
        {
         "hovertemplate": "Model=Odyssey<br>Power_perf_factor=%{x}<br>Price_in_thousands=%{y}<extra></extra>",
         "legendgroup": "Odyssey",
         "marker": {
          "color": "#EF553B",
          "size": 5,
          "symbol": "circle"
         },
         "mode": "markers",
         "name": "Odyssey",
         "orientation": "v",
         "showlegend": true,
         "type": "scatter",
         "x": [
          85.21769134
         ],
         "xaxis": "x",
         "y": [
          26
         ],
         "yaxis": "y"
        },
        {
         "hovertemplate": "Model=Accent<br>Power_perf_factor=%{x}<br>Price_in_thousands=%{y}<extra></extra>",
         "legendgroup": "Accent",
         "marker": {
          "color": "#00cc96",
          "size": 5,
          "symbol": "circle"
         },
         "mode": "markers",
         "name": "Accent",
         "orientation": "v",
         "showlegend": true,
         "type": "scatter",
         "x": [
          36.67228358
         ],
         "xaxis": "x",
         "y": [
          9.699
         ],
         "yaxis": "y"
        },
        {
         "hovertemplate": "Model=Elantra<br>Power_perf_factor=%{x}<br>Price_in_thousands=%{y}<extra></extra>",
         "legendgroup": "Elantra",
         "marker": {
          "color": "#ab63fa",
          "size": 5,
          "symbol": "circle"
         },
         "mode": "markers",
         "name": "Elantra",
         "orientation": "v",
         "showlegend": true,
         "type": "scatter",
         "x": [
          54.59004516
         ],
         "xaxis": "x",
         "y": [
          11.799
         ],
         "yaxis": "y"
        },
        {
         "hovertemplate": "Model=Sonata<br>Power_perf_factor=%{x}<br>Price_in_thousands=%{y}<extra></extra>",
         "legendgroup": "Sonata",
         "marker": {
          "color": "#FFA15A",
          "size": 5,
          "symbol": "circle"
         },
         "mode": "markers",
         "name": "Sonata",
         "orientation": "v",
         "showlegend": true,
         "type": "scatter",
         "x": [
          58.758249
         ],
         "xaxis": "x",
         "y": [
          14.999
         ],
         "yaxis": "y"
        },
        {
         "hovertemplate": "Model=I30<br>Power_perf_factor=%{x}<br>Price_in_thousands=%{y}<extra></extra>",
         "legendgroup": "I30",
         "marker": {
          "color": "#19d3f3",
          "size": 5,
          "symbol": "circle"
         },
         "mode": "markers",
         "name": "I30",
         "orientation": "v",
         "showlegend": true,
         "type": "scatter",
         "x": [
          92.43688923
         ],
         "xaxis": "x",
         "y": [
          29.465
         ],
         "yaxis": "y"
        },
        {
         "hovertemplate": "Model=S-Type<br>Power_perf_factor=%{x}<br>Price_in_thousands=%{y}<extra></extra>",
         "legendgroup": "S-Type",
         "marker": {
          "color": "#FF6692",
          "size": 5,
          "symbol": "circle"
         },
         "mode": "markers",
         "name": "S-Type",
         "orientation": "v",
         "showlegend": true,
         "type": "scatter",
         "x": [
          102.1789848
         ],
         "xaxis": "x",
         "y": [
          42.8
         ],
         "yaxis": "y"
        },
        {
         "hovertemplate": "Model=Wrangler<br>Power_perf_factor=%{x}<br>Price_in_thousands=%{y}<extra></extra>",
         "legendgroup": "Wrangler",
         "marker": {
          "color": "#B6E880",
          "size": 5,
          "symbol": "circle"
         },
         "mode": "markers",
         "name": "Wrangler",
         "orientation": "v",
         "showlegend": true,
         "type": "scatter",
         "x": [
          48.67289791
         ],
         "xaxis": "x",
         "y": [
          14.46
         ],
         "yaxis": "y"
        },
        {
         "hovertemplate": "Model=Cherokee<br>Power_perf_factor=%{x}<br>Price_in_thousands=%{y}<extra></extra>",
         "legendgroup": "Cherokee",
         "marker": {
          "color": "#FF97FF",
          "size": 5,
          "symbol": "circle"
         },
         "mode": "markers",
         "name": "Cherokee",
         "orientation": "v",
         "showlegend": true,
         "type": "scatter",
         "x": [
          76.58443962
         ],
         "xaxis": "x",
         "y": [
          21.62
         ],
         "yaxis": "y"
        },
        {
         "hovertemplate": "Model=Grand Cherokee<br>Power_perf_factor=%{x}<br>Price_in_thousands=%{y}<extra></extra>",
         "legendgroup": "Grand Cherokee",
         "marker": {
          "color": "#FECB52",
          "size": 5,
          "symbol": "circle"
         },
         "mode": "markers",
         "name": "Grand Cherokee",
         "orientation": "v",
         "showlegend": true,
         "type": "scatter",
         "x": [
          80.38777912
         ],
         "xaxis": "x",
         "y": [
          26.895
         ],
         "yaxis": "y"
        },
        {
         "hovertemplate": "Model=ES300<br>Power_perf_factor=%{x}<br>Price_in_thousands=%{y}<extra></extra>",
         "legendgroup": "ES300",
         "marker": {
          "color": "#636efa",
          "size": 5,
          "symbol": "circle"
         },
         "mode": "markers",
         "name": "ES300",
         "orientation": "v",
         "showlegend": true,
         "type": "scatter",
         "x": [
          87.21100104
         ],
         "xaxis": "x",
         "y": [
          31.505
         ],
         "yaxis": "y"
        },
        {
         "hovertemplate": "Model=GS300<br>Power_perf_factor=%{x}<br>Price_in_thousands=%{y}<extra></extra>",
         "legendgroup": "GS300",
         "marker": {
          "color": "#EF553B",
          "size": 5,
          "symbol": "circle"
         },
         "mode": "markers",
         "name": "GS300",
         "orientation": "v",
         "showlegend": true,
         "type": "scatter",
         "x": [
          94.9466984
         ],
         "xaxis": "x",
         "y": [
          37.805
         ],
         "yaxis": "y"
        },
        {
         "hovertemplate": "Model=GS400<br>Power_perf_factor=%{x}<br>Price_in_thousands=%{y}<extra></extra>",
         "legendgroup": "GS400",
         "marker": {
          "color": "#00cc96",
          "size": 5,
          "symbol": "circle"
         },
         "mode": "markers",
         "name": "GS400",
         "orientation": "v",
         "showlegend": true,
         "type": "scatter",
         "x": [
          125.0133574
         ],
         "xaxis": "x",
         "y": [
          46.305
         ],
         "yaxis": "y"
        },
        {
         "hovertemplate": "Model=LS400<br>Power_perf_factor=%{x}<br>Price_in_thousands=%{y}<extra></extra>",
         "legendgroup": "LS400",
         "marker": {
          "color": "#ab63fa",
          "size": 5,
          "symbol": "circle"
         },
         "mode": "markers",
         "name": "LS400",
         "orientation": "v",
         "showlegend": true,
         "type": "scatter",
         "x": [
          124.4467163
         ],
         "xaxis": "x",
         "y": [
          54.005
         ],
         "yaxis": "y"
        },
        {
         "hovertemplate": "Model=LX470<br>Power_perf_factor=%{x}<br>Price_in_thousands=%{y}<extra></extra>",
         "legendgroup": "LX470",
         "marker": {
          "color": "#FFA15A",
          "size": 5,
          "symbol": "circle"
         },
         "mode": "markers",
         "name": "LX470",
         "orientation": "v",
         "showlegend": true,
         "type": "scatter",
         "x": [
          105.760458
         ],
         "xaxis": "x",
         "y": [
          60.105
         ],
         "yaxis": "y"
        },
        {
         "hovertemplate": "Model=RX300<br>Power_perf_factor=%{x}<br>Price_in_thousands=%{y}<extra></extra>",
         "legendgroup": "RX300",
         "marker": {
          "color": "#19d3f3",
          "size": 5,
          "symbol": "circle"
         },
         "mode": "markers",
         "name": "RX300",
         "orientation": "v",
         "showlegend": true,
         "type": "scatter",
         "x": [
          91.94380156
         ],
         "xaxis": "x",
         "y": [
          34.605
         ],
         "yaxis": "y"
        },
        {
         "hovertemplate": "Model=Continental<br>Power_perf_factor=%{x}<br>Price_in_thousands=%{y}<extra></extra>",
         "legendgroup": "Continental",
         "marker": {
          "color": "#FF6692",
          "size": 5,
          "symbol": "circle"
         },
         "mode": "markers",
         "name": "Continental",
         "orientation": "v",
         "showlegend": true,
         "type": "scatter",
         "x": [
          113.5402069
         ],
         "xaxis": "x",
         "y": [
          39.08
         ],
         "yaxis": "y"
        },
        {
         "hovertemplate": "Model=Town car<br>Power_perf_factor=%{x}<br>Price_in_thousands=%{y}<extra></extra>",
         "legendgroup": "Town car",
         "marker": {
          "color": "#B6E880",
          "size": 5,
          "symbol": "circle"
         },
         "mode": "markers",
         "name": "Town car",
         "orientation": "v",
         "showlegend": true,
         "type": "scatter",
         "x": [
          93.9579169
         ],
         "xaxis": "x",
         "y": [
          43.33
         ],
         "yaxis": "y"
        },
        {
         "hovertemplate": "Model=Navigator<br>Power_perf_factor=%{x}<br>Price_in_thousands=%{y}<extra></extra>",
         "legendgroup": "Navigator",
         "marker": {
          "color": "#FF97FF",
          "size": 5,
          "symbol": "circle"
         },
         "mode": "markers",
         "name": "Navigator",
         "orientation": "v",
         "showlegend": true,
         "type": "scatter",
         "x": [
          123.9720467
         ],
         "xaxis": "x",
         "y": [
          42.66
         ],
         "yaxis": "y"
        },
        {
         "hovertemplate": "Model=Mirage<br>Power_perf_factor=%{x}<br>Price_in_thousands=%{y}<extra></extra>",
         "legendgroup": "Mirage",
         "marker": {
          "color": "#FECB52",
          "size": 5,
          "symbol": "circle"
         },
         "mode": "markers",
         "name": "Mirage",
         "orientation": "v",
         "showlegend": true,
         "type": "scatter",
         "x": [
          45.83218056
         ],
         "xaxis": "x",
         "y": [
          13.987
         ],
         "yaxis": "y"
        },
        {
         "hovertemplate": "Model=Eclipse<br>Power_perf_factor=%{x}<br>Price_in_thousands=%{y}<extra></extra>",
         "legendgroup": "Eclipse",
         "marker": {
          "color": "#636efa",
          "size": 5,
          "symbol": "circle"
         },
         "mode": "markers",
         "name": "Eclipse",
         "orientation": "v",
         "showlegend": true,
         "type": "scatter",
         "x": [
          62.44196235
         ],
         "xaxis": "x",
         "y": [
          19.047
         ],
         "yaxis": "y"
        },
        {
         "hovertemplate": "Model=Galant<br>Power_perf_factor=%{x}<br>Price_in_thousands=%{y}<extra></extra>",
         "legendgroup": "Galant",
         "marker": {
          "color": "#EF553B",
          "size": 5,
          "symbol": "circle"
         },
         "mode": "markers",
         "name": "Galant",
         "orientation": "v",
         "showlegend": true,
         "type": "scatter",
         "x": [
          58.60677292
         ],
         "xaxis": "x",
         "y": [
          17.357
         ],
         "yaxis": "y"
        },
        {
         "hovertemplate": "Model=Diamante<br>Power_perf_factor=%{x}<br>Price_in_thousands=%{y}<extra></extra>",
         "legendgroup": "Diamante",
         "marker": {
          "color": "#00cc96",
          "size": 5,
          "symbol": "circle"
         },
         "mode": "markers",
         "name": "Diamante",
         "orientation": "v",
         "showlegend": true,
         "type": "scatter",
         "x": [
          84.83077858
         ],
         "xaxis": "x",
         "y": [
          24.997
         ],
         "yaxis": "y"
        },
        {
         "hovertemplate": "Model=3000GT<br>Power_perf_factor=%{x}<br>Price_in_thousands=%{y}<extra></extra>",
         "legendgroup": "3000GT",
         "marker": {
          "color": "#ab63fa",
          "size": 5,
          "symbol": "circle"
         },
         "mode": "markers",
         "name": "3000GT",
         "orientation": "v",
         "showlegend": true,
         "type": "scatter",
         "x": [
          67.54415494
         ],
         "xaxis": "x",
         "y": [
          25.45
         ],
         "yaxis": "y"
        },
        {
         "hovertemplate": "Model=Montero<br>Power_perf_factor=%{x}<br>Price_in_thousands=%{y}<extra></extra>",
         "legendgroup": "Montero",
         "marker": {
          "color": "#FFA15A",
          "size": 5,
          "symbol": "circle"
         },
         "mode": "markers",
         "name": "Montero",
         "orientation": "v",
         "showlegend": true,
         "type": "scatter",
         "x": [
          83.92081504
         ],
         "xaxis": "x",
         "y": [
          31.807
         ],
         "yaxis": "y"
        },
        {
         "hovertemplate": "Model=Montero Sport<br>Power_perf_factor=%{x}<br>Price_in_thousands=%{y}<extra></extra>",
         "legendgroup": "Montero Sport",
         "marker": {
          "color": "#19d3f3",
          "size": 5,
          "symbol": "circle"
         },
         "mode": "markers",
         "name": "Montero Sport",
         "orientation": "v",
         "showlegend": true,
         "type": "scatter",
         "x": [
          70.66094179
         ],
         "xaxis": "x",
         "y": [
          22.527
         ],
         "yaxis": "y"
        },
        {
         "hovertemplate": "Model=Mystique<br>Power_perf_factor=%{x}<br>Price_in_thousands=%{y}<extra></extra>",
         "legendgroup": "Mystique",
         "marker": {
          "color": "#FF6692",
          "size": 5,
          "symbol": "circle"
         },
         "mode": "markers",
         "name": "Mystique",
         "orientation": "v",
         "showlegend": true,
         "type": "scatter",
         "x": [
          50.99774761
         ],
         "xaxis": "x",
         "y": [
          16.24
         ],
         "yaxis": "y"
        },
        {
         "hovertemplate": "Model=Cougar<br>Power_perf_factor=%{x}<br>Price_in_thousands=%{y}<extra></extra>",
         "legendgroup": "Cougar",
         "marker": {
          "color": "#B6E880",
          "size": 5,
          "symbol": "circle"
         },
         "mode": "markers",
         "name": "Cougar",
         "orientation": "v",
         "showlegend": true,
         "type": "scatter",
         "x": [
          51.11347426
         ],
         "xaxis": "x",
         "y": [
          16.54
         ],
         "yaxis": "y"
        },
        {
         "hovertemplate": "Model=Sable<br>Power_perf_factor=%{x}<br>Price_in_thousands=%{y}<extra></extra>",
         "legendgroup": "Sable",
         "marker": {
          "color": "#FF97FF",
          "size": 5,
          "symbol": "circle"
         },
         "mode": "markers",
         "name": "Sable",
         "orientation": "v",
         "showlegend": true,
         "type": "scatter",
         "x": [
          62.23996663
         ],
         "xaxis": "x",
         "y": [
          19.035
         ],
         "yaxis": "y"
        },
        {
         "hovertemplate": "Model=Grand Marquis<br>Power_perf_factor=%{x}<br>Price_in_thousands=%{y}<extra></extra>",
         "legendgroup": "Grand Marquis",
         "marker": {
          "color": "#FECB52",
          "size": 5,
          "symbol": "circle"
         },
         "mode": "markers",
         "name": "Grand Marquis",
         "orientation": "v",
         "showlegend": true,
         "type": "scatter",
         "x": [
          80.65769646
         ],
         "xaxis": "x",
         "y": [
          22.605
         ],
         "yaxis": "y"
        },
        {
         "hovertemplate": "Model=Mountaineer<br>Power_perf_factor=%{x}<br>Price_in_thousands=%{y}<extra></extra>",
         "legendgroup": "Mountaineer",
         "marker": {
          "color": "#636efa",
          "size": 5,
          "symbol": "circle"
         },
         "mode": "markers",
         "name": "Mountaineer",
         "orientation": "v",
         "showlegend": true,
         "type": "scatter",
         "x": [
          85.94974425
         ],
         "xaxis": "x",
         "y": [
          27.56
         ],
         "yaxis": "y"
        },
        {
         "hovertemplate": "Model=Villager<br>Power_perf_factor=%{x}<br>Price_in_thousands=%{y}<extra></extra>",
         "legendgroup": "Villager",
         "marker": {
          "color": "#EF553B",
          "size": 5,
          "symbol": "circle"
         },
         "mode": "markers",
         "name": "Villager",
         "orientation": "v",
         "showlegend": true,
         "type": "scatter",
         "x": [
          69.671461
         ],
         "xaxis": "x",
         "y": [
          22.51
         ],
         "yaxis": "y"
        },
        {
         "hovertemplate": "Model=C-Class<br>Power_perf_factor=%{x}<br>Price_in_thousands=%{y}<extra></extra>",
         "legendgroup": "C-Class",
         "marker": {
          "color": "#00cc96",
          "size": 5,
          "symbol": "circle"
         },
         "mode": "markers",
         "name": "C-Class",
         "orientation": "v",
         "showlegend": true,
         "type": "scatter",
         "x": [
          78.28073088
         ],
         "xaxis": "x",
         "y": [
          31.75
         ],
         "yaxis": "y"
        },
        {
         "hovertemplate": "Model=E-Class<br>Power_perf_factor=%{x}<br>Price_in_thousands=%{y}<extra></extra>",
         "legendgroup": "E-Class",
         "marker": {
          "color": "#ab63fa",
          "size": 5,
          "symbol": "circle"
         },
         "mode": "markers",
         "name": "E-Class",
         "orientation": "v",
         "showlegend": true,
         "type": "scatter",
         "x": [
          98.2497375
         ],
         "xaxis": "x",
         "y": [
          49.9
         ],
         "yaxis": "y"
        },
        {
         "hovertemplate": "Model=S-Class<br>Power_perf_factor=%{x}<br>Price_in_thousands=%{y}<extra></extra>",
         "legendgroup": "S-Class",
         "marker": {
          "color": "#FFA15A",
          "size": 5,
          "symbol": "circle"
         },
         "mode": "markers",
         "name": "S-Class",
         "orientation": "v",
         "showlegend": true,
         "type": "scatter",
         "x": [
          125.2738757
         ],
         "xaxis": "x",
         "y": [
          69.7
         ],
         "yaxis": "y"
        },
        {
         "hovertemplate": "Model=SL-Class<br>Power_perf_factor=%{x}<br>Price_in_thousands=%{y}<extra></extra>",
         "legendgroup": "SL-Class",
         "marker": {
          "color": "#19d3f3",
          "size": 5,
          "symbol": "circle"
         },
         "mode": "markers",
         "name": "SL-Class",
         "orientation": "v",
         "showlegend": true,
         "type": "scatter",
         "x": [
          139.9822936
         ],
         "xaxis": "x",
         "y": [
          82.6
         ],
         "yaxis": "y"
        },
        {
         "hovertemplate": "Model=SLK<br>Power_perf_factor=%{x}<br>Price_in_thousands=%{y}<extra></extra>",
         "legendgroup": "SLK",
         "marker": {
          "color": "#FF6692",
          "size": 5,
          "symbol": "circle"
         },
         "mode": "markers",
         "name": "SLK",
         "orientation": "v",
         "showlegend": true,
         "type": "scatter",
         "x": [
          82.80736193
         ],
         "xaxis": "x",
         "y": [
          38.9
         ],
         "yaxis": "y"
        },
        {
         "hovertemplate": "Model=SLK230<br>Power_perf_factor=%{x}<br>Price_in_thousands=%{y}<extra></extra>",
         "legendgroup": "SLK230",
         "marker": {
          "color": "#B6E880",
          "size": 5,
          "symbol": "circle"
         },
         "mode": "markers",
         "name": "SLK230",
         "orientation": "v",
         "showlegend": true,
         "type": "scatter",
         "x": [
          81.84896924
         ],
         "xaxis": "x",
         "y": [
          41
         ],
         "yaxis": "y"
        },
        {
         "hovertemplate": "Model=CLK Coupe<br>Power_perf_factor=%{x}<br>Price_in_thousands=%{y}<extra></extra>",
         "legendgroup": "CLK Coupe",
         "marker": {
          "color": "#FF97FF",
          "size": 5,
          "symbol": "circle"
         },
         "mode": "markers",
         "name": "CLK Coupe",
         "orientation": "v",
         "showlegend": true,
         "type": "scatter",
         "x": [
          92.92579177
         ],
         "xaxis": "x",
         "y": [
          41.6
         ],
         "yaxis": "y"
        },
        {
         "hovertemplate": "Model=CL500<br>Power_perf_factor=%{x}<br>Price_in_thousands=%{y}<extra></extra>",
         "legendgroup": "CL500",
         "marker": {
          "color": "#FECB52",
          "size": 5,
          "symbol": "circle"
         },
         "mode": "markers",
         "name": "CL500",
         "orientation": "v",
         "showlegend": true,
         "type": "scatter",
         "x": [
          141.1009845
         ],
         "xaxis": "x",
         "y": [
          85.5
         ],
         "yaxis": "y"
        },
        {
         "hovertemplate": "Model=M-Class<br>Power_perf_factor=%{x}<br>Price_in_thousands=%{y}<extra></extra>",
         "legendgroup": "M-Class",
         "marker": {
          "color": "#636efa",
          "size": 5,
          "symbol": "circle"
         },
         "mode": "markers",
         "name": "M-Class",
         "orientation": "v",
         "showlegend": true,
         "type": "scatter",
         "x": [
          90.49553213
         ],
         "xaxis": "x",
         "y": [
          35.3
         ],
         "yaxis": "y"
        },
        {
         "hovertemplate": "Model=Sentra<br>Power_perf_factor=%{x}<br>Price_in_thousands=%{y}<extra></extra>",
         "legendgroup": "Sentra",
         "marker": {
          "color": "#EF553B",
          "size": 5,
          "symbol": "circle"
         },
         "mode": "markers",
         "name": "Sentra",
         "orientation": "v",
         "showlegend": true,
         "type": "scatter",
         "x": [
          50.24197791
         ],
         "xaxis": "x",
         "y": [
          13.499
         ],
         "yaxis": "y"
        },
        {
         "hovertemplate": "Model=Altima<br>Power_perf_factor=%{x}<br>Price_in_thousands=%{y}<extra></extra>",
         "legendgroup": "Altima",
         "marker": {
          "color": "#00cc96",
          "size": 5,
          "symbol": "circle"
         },
         "mode": "markers",
         "name": "Altima",
         "orientation": "v",
         "showlegend": true,
         "type": "scatter",
         "x": [
          63.31372783
         ],
         "xaxis": "x",
         "y": [
          20.39
         ],
         "yaxis": "y"
        },
        {
         "hovertemplate": "Model=Maxima<br>Power_perf_factor=%{x}<br>Price_in_thousands=%{y}<extra></extra>",
         "legendgroup": "Maxima",
         "marker": {
          "color": "#ab63fa",
          "size": 5,
          "symbol": "circle"
         },
         "mode": "markers",
         "name": "Maxima",
         "orientation": "v",
         "showlegend": true,
         "type": "scatter",
         "x": [
          89.42782031
         ],
         "xaxis": "x",
         "y": [
          26.249
         ],
         "yaxis": "y"
        },
        {
         "hovertemplate": "Model=Quest<br>Power_perf_factor=%{x}<br>Price_in_thousands=%{y}<extra></extra>",
         "legendgroup": "Quest",
         "marker": {
          "color": "#FFA15A",
          "size": 5,
          "symbol": "circle"
         },
         "mode": "markers",
         "name": "Quest",
         "orientation": "v",
         "showlegend": true,
         "type": "scatter",
         "x": [
          71.17166413
         ],
         "xaxis": "x",
         "y": [
          26.399
         ],
         "yaxis": "y"
        },
        {
         "hovertemplate": "Model=Pathfinder<br>Power_perf_factor=%{x}<br>Price_in_thousands=%{y}<extra></extra>",
         "legendgroup": "Pathfinder",
         "marker": {
          "color": "#19d3f3",
          "size": 5,
          "symbol": "circle"
         },
         "mode": "markers",
         "name": "Pathfinder",
         "orientation": "v",
         "showlegend": true,
         "type": "scatter",
         "x": [
          72.29035508
         ],
         "xaxis": "x",
         "y": [
          29.299
         ],
         "yaxis": "y"
        },
        {
         "hovertemplate": "Model=Xterra<br>Power_perf_factor=%{x}<br>Price_in_thousands=%{y}<extra></extra>",
         "legendgroup": "Xterra",
         "marker": {
          "color": "#FF6692",
          "size": 5,
          "symbol": "circle"
         },
         "mode": "markers",
         "name": "Xterra",
         "orientation": "v",
         "showlegend": true,
         "type": "scatter",
         "x": [
          69.78294434
         ],
         "xaxis": "x",
         "y": [
          22.799
         ],
         "yaxis": "y"
        },
        {
         "hovertemplate": "Model=Frontier<br>Power_perf_factor=%{x}<br>Price_in_thousands=%{y}<extra></extra>",
         "legendgroup": "Frontier",
         "marker": {
          "color": "#B6E880",
          "size": 5,
          "symbol": "circle"
         },
         "mode": "markers",
         "name": "Frontier",
         "orientation": "v",
         "showlegend": true,
         "type": "scatter",
         "x": [
          67.88927059
         ],
         "xaxis": "x",
         "y": [
          17.89
         ],
         "yaxis": "y"
        },
        {
         "hovertemplate": "Model=Cutlass<br>Power_perf_factor=%{x}<br>Price_in_thousands=%{y}<extra></extra>",
         "legendgroup": "Cutlass",
         "marker": {
          "color": "#FF97FF",
          "size": 5,
          "symbol": "circle"
         },
         "mode": "markers",
         "name": "Cutlass",
         "orientation": "v",
         "showlegend": true,
         "type": "scatter",
         "x": [
          60.86161155
         ],
         "xaxis": "x",
         "y": [
          18.145
         ],
         "yaxis": "y"
        },
        {
         "hovertemplate": "Model=Intrigue<br>Power_perf_factor=%{x}<br>Price_in_thousands=%{y}<extra></extra>",
         "legendgroup": "Intrigue",
         "marker": {
          "color": "#FECB52",
          "size": 5,
          "symbol": "circle"
         },
         "mode": "markers",
         "name": "Intrigue",
         "orientation": "v",
         "showlegend": true,
         "type": "scatter",
         "x": [
          86.27252291
         ],
         "xaxis": "x",
         "y": [
          24.15
         ],
         "yaxis": "y"
        },
        {
         "hovertemplate": "Model=Alero<br>Power_perf_factor=%{x}<br>Price_in_thousands=%{y}<extra></extra>",
         "legendgroup": "Alero",
         "marker": {
          "color": "#636efa",
          "size": 5,
          "symbol": "circle"
         },
         "mode": "markers",
         "name": "Alero",
         "orientation": "v",
         "showlegend": true,
         "type": "scatter",
         "x": [
          60.72744693
         ],
         "xaxis": "x",
         "y": [
          18.27
         ],
         "yaxis": "y"
        },
        {
         "hovertemplate": "Model=Aurora<br>Power_perf_factor=%{x}<br>Price_in_thousands=%{y}<extra></extra>",
         "legendgroup": "Aurora",
         "marker": {
          "color": "#EF553B",
          "size": 5,
          "symbol": "circle"
         },
         "mode": "markers",
         "name": "Aurora",
         "orientation": "v",
         "showlegend": true,
         "type": "scatter",
         "x": [
          103.4416926
         ],
         "xaxis": "x",
         "y": [
          36.229
         ],
         "yaxis": "y"
        },
        {
         "hovertemplate": "Model=Bravada<br>Power_perf_factor=%{x}<br>Price_in_thousands=%{y}<extra></extra>",
         "legendgroup": "Bravada",
         "marker": {
          "color": "#00cc96",
          "size": 5,
          "symbol": "circle"
         },
         "mode": "markers",
         "name": "Bravada",
         "orientation": "v",
         "showlegend": true,
         "type": "scatter",
         "x": [
          80.51167259
         ],
         "xaxis": "x",
         "y": [
          31.598
         ],
         "yaxis": "y"
        },
        {
         "hovertemplate": "Model=Silhouette<br>Power_perf_factor=%{x}<br>Price_in_thousands=%{y}<extra></extra>",
         "legendgroup": "Silhouette",
         "marker": {
          "color": "#ab63fa",
          "size": 5,
          "symbol": "circle"
         },
         "mode": "markers",
         "name": "Silhouette",
         "orientation": "v",
         "showlegend": true,
         "type": "scatter",
         "x": [
          76.09657042
         ],
         "xaxis": "x",
         "y": [
          25.345
         ],
         "yaxis": "y"
        },
        {
         "hovertemplate": "Model=Breeze<br>Power_perf_factor=%{x}<br>Price_in_thousands=%{y}<extra></extra>",
         "legendgroup": "Breeze",
         "marker": {
          "color": "#FFA15A",
          "size": 5,
          "symbol": "circle"
         },
         "mode": "markers",
         "name": "Breeze",
         "orientation": "v",
         "showlegend": true,
         "type": "scatter",
         "x": [
          53.41189767
         ],
         "xaxis": "x",
         "y": [
          16.08
         ],
         "yaxis": "y"
        },
        {
         "hovertemplate": "Model=Voyager<br>Power_perf_factor=%{x}<br>Price_in_thousands=%{y}<extra></extra>",
         "legendgroup": "Voyager",
         "marker": {
          "color": "#19d3f3",
          "size": 5,
          "symbol": "circle"
         },
         "mode": "markers",
         "name": "Voyager",
         "orientation": "v",
         "showlegend": true,
         "type": "scatter",
         "x": [
          60.95118512
         ],
         "xaxis": "x",
         "y": [
          18.85
         ],
         "yaxis": "y"
        },
        {
         "hovertemplate": "Model=Prowler<br>Power_perf_factor=%{x}<br>Price_in_thousands=%{y}<extra></extra>",
         "legendgroup": "Prowler",
         "marker": {
          "color": "#FF6692",
          "size": 5,
          "symbol": "circle"
         },
         "mode": "markers",
         "name": "Prowler",
         "orientation": "v",
         "showlegend": true,
         "type": "scatter",
         "x": [
          106.9844563
         ],
         "xaxis": "x",
         "y": [
          43
         ],
         "yaxis": "y"
        },
        {
         "hovertemplate": "Model=Sunfire<br>Power_perf_factor=%{x}<br>Price_in_thousands=%{y}<extra></extra>",
         "legendgroup": "Sunfire",
         "marker": {
          "color": "#B6E880",
          "size": 5,
          "symbol": "circle"
         },
         "mode": "markers",
         "name": "Sunfire",
         "orientation": "v",
         "showlegend": true,
         "type": "scatter",
         "x": [
          62.0158703
         ],
         "xaxis": "x",
         "y": [
          21.61
         ],
         "yaxis": "y"
        },
        {
         "hovertemplate": "Model=Grand Am<br>Power_perf_factor=%{x}<br>Price_in_thousands=%{y}<extra></extra>",
         "legendgroup": "Grand Am",
         "marker": {
          "color": "#FF97FF",
          "size": 5,
          "symbol": "circle"
         },
         "mode": "markers",
         "name": "Grand Am",
         "orientation": "v",
         "showlegend": true,
         "type": "scatter",
         "x": [
          70.38973726
         ],
         "xaxis": "x",
         "y": [
          19.72
         ],
         "yaxis": "y"
        },
        {
         "hovertemplate": "Model=Firebird<br>Power_perf_factor=%{x}<br>Price_in_thousands=%{y}<extra></extra>",
         "legendgroup": "Firebird",
         "marker": {
          "color": "#FECB52",
          "size": 5,
          "symbol": "circle"
         },
         "mode": "markers",
         "name": "Firebird",
         "orientation": "v",
         "showlegend": true,
         "type": "scatter",
         "x": [
          81.49272616
         ],
         "xaxis": "x",
         "y": [
          25.31
         ],
         "yaxis": "y"
        },
        {
         "hovertemplate": "Model=Grand Prix<br>Power_perf_factor=%{x}<br>Price_in_thousands=%{y}<extra></extra>",
         "legendgroup": "Grand Prix",
         "marker": {
          "color": "#636efa",
          "size": 5,
          "symbol": "circle"
         },
         "mode": "markers",
         "name": "Grand Prix",
         "orientation": "v",
         "showlegend": true,
         "type": "scatter",
         "x": [
          78.31816813
         ],
         "xaxis": "x",
         "y": [
          21.665
         ],
         "yaxis": "y"
        },
        {
         "hovertemplate": "Model=Bonneville<br>Power_perf_factor=%{x}<br>Price_in_thousands=%{y}<extra></extra>",
         "legendgroup": "Bonneville",
         "marker": {
          "color": "#EF553B",
          "size": 5,
          "symbol": "circle"
         },
         "mode": "markers",
         "name": "Bonneville",
         "orientation": "v",
         "showlegend": true,
         "type": "scatter",
         "x": [
          82.6613556
         ],
         "xaxis": "x",
         "y": [
          23.755
         ],
         "yaxis": "y"
        },
        {
         "hovertemplate": "Model=Montana<br>Power_perf_factor=%{x}<br>Price_in_thousands=%{y}<extra></extra>",
         "legendgroup": "Montana",
         "marker": {
          "color": "#00cc96",
          "size": 5,
          "symbol": "circle"
         },
         "mode": "markers",
         "name": "Montana",
         "orientation": "v",
         "showlegend": true,
         "type": "scatter",
         "x": [
          76.20843952
         ],
         "xaxis": "x",
         "y": [
          25.635
         ],
         "yaxis": "y"
        },
        {
         "hovertemplate": "Model=Boxter<br>Power_perf_factor=%{x}<br>Price_in_thousands=%{y}<extra></extra>",
         "legendgroup": "Boxter",
         "marker": {
          "color": "#ab63fa",
          "size": 5,
          "symbol": "circle"
         },
         "mode": "markers",
         "name": "Boxter",
         "orientation": "v",
         "showlegend": true,
         "type": "scatter",
         "x": [
          93.4373307
         ],
         "xaxis": "x",
         "y": [
          41.43
         ],
         "yaxis": "y"
        },
        {
         "hovertemplate": "Model=Carrera Coupe<br>Power_perf_factor=%{x}<br>Price_in_thousands=%{y}<extra></extra>",
         "legendgroup": "Carrera Coupe",
         "marker": {
          "color": "#FFA15A",
          "size": 5,
          "symbol": "circle"
         },
         "mode": "markers",
         "name": "Carrera Coupe",
         "orientation": "v",
         "showlegend": true,
         "type": "scatter",
         "x": [
          134.3909754
         ],
         "xaxis": "x",
         "y": [
          71.02
         ],
         "yaxis": "y"
        },
        {
         "hovertemplate": "Model=Carrera Cabrio<br>Power_perf_factor=%{x}<br>Price_in_thousands=%{y}<extra></extra>",
         "legendgroup": "Carrera Cabrio",
         "marker": {
          "color": "#19d3f3",
          "size": 5,
          "symbol": "circle"
         },
         "mode": "markers",
         "name": "Carrera Cabrio",
         "orientation": "v",
         "showlegend": true,
         "type": "scatter",
         "x": [
          135.9147096
         ],
         "xaxis": "x",
         "y": [
          74.97
         ],
         "yaxis": "y"
        },
        {
         "hovertemplate": "Model=5-Sep<br>Power_perf_factor=%{x}<br>Price_in_thousands=%{y}<extra></extra>",
         "legendgroup": "5-Sep",
         "marker": {
          "color": "#FF6692",
          "size": 5,
          "symbol": "circle"
         },
         "mode": "markers",
         "name": "5-Sep",
         "orientation": "v",
         "showlegend": true,
         "type": "scatter",
         "x": [
          73.50377819
         ],
         "xaxis": "x",
         "y": [
          33.12
         ],
         "yaxis": "y"
        },
        {
         "hovertemplate": "Model=3-Sep<br>Power_perf_factor=%{x}<br>Price_in_thousands=%{y}<extra></extra>",
         "legendgroup": "3-Sep",
         "marker": {
          "color": "#B6E880",
          "size": 5,
          "symbol": "circle"
         },
         "mode": "markers",
         "name": "3-Sep",
         "orientation": "v",
         "showlegend": true,
         "type": "scatter",
         "x": [
          76.02304771
         ],
         "xaxis": "x",
         "y": [
          26.1
         ],
         "yaxis": "y"
        },
        {
         "hovertemplate": "Model=SL<br>Power_perf_factor=%{x}<br>Price_in_thousands=%{y}<extra></extra>",
         "legendgroup": "SL",
         "marker": {
          "color": "#FF97FF",
          "size": 5,
          "symbol": "circle"
         },
         "mode": "markers",
         "name": "SL",
         "orientation": "v",
         "showlegend": true,
         "type": "scatter",
         "x": [
          39.98642475
         ],
         "xaxis": "x",
         "y": [
          10.685
         ],
         "yaxis": "y"
        },
        {
         "hovertemplate": "Model=SC<br>Power_perf_factor=%{x}<br>Price_in_thousands=%{y}<extra></extra>",
         "legendgroup": "SC",
         "marker": {
          "color": "#FECB52",
          "size": 5,
          "symbol": "circle"
         },
         "mode": "markers",
         "name": "SC",
         "orientation": "v",
         "showlegend": true,
         "type": "scatter",
         "x": [
          40.70007242
         ],
         "xaxis": "x",
         "y": [
          12.535
         ],
         "yaxis": "y"
        },
        {
         "hovertemplate": "Model=SW<br>Power_perf_factor=%{x}<br>Price_in_thousands=%{y}<extra></extra>",
         "legendgroup": "SW",
         "marker": {
          "color": "#636efa",
          "size": 5,
          "symbol": "circle"
         },
         "mode": "markers",
         "name": "SW",
         "orientation": "v",
         "showlegend": true,
         "type": "scatter",
         "x": [
          49.86577367
         ],
         "xaxis": "x",
         "y": [
          14.29
         ],
         "yaxis": "y"
        },
        {
         "hovertemplate": "Model=LW<br>Power_perf_factor=%{x}<br>Price_in_thousands=%{y}<extra></extra>",
         "legendgroup": "LW",
         "marker": {
          "color": "#EF553B",
          "size": 5,
          "symbol": "circle"
         },
         "mode": "markers",
         "name": "LW",
         "orientation": "v",
         "showlegend": true,
         "type": "scatter",
         "x": [
          56.29524304
         ],
         "xaxis": "x",
         "y": [
          18.835
         ],
         "yaxis": "y"
        },
        {
         "hovertemplate": "Model=LS<br>Power_perf_factor=%{x}<br>Price_in_thousands=%{y}<extra></extra>",
         "legendgroup": "LS",
         "marker": {
          "color": "#00cc96",
          "size": 5,
          "symbol": "circle"
         },
         "mode": "markers",
         "name": "LS",
         "orientation": "v",
         "showlegend": true,
         "type": "scatter",
         "x": [
          54.81972825
         ],
         "xaxis": "x",
         "y": [
          15.01
         ],
         "yaxis": "y"
        },
        {
         "hovertemplate": "Model=Outback<br>Power_perf_factor=%{x}<br>Price_in_thousands=%{y}<extra></extra>",
         "legendgroup": "Outback",
         "marker": {
          "color": "#ab63fa",
          "size": 5,
          "symbol": "circle"
         },
         "mode": "markers",
         "name": "Outback",
         "orientation": "v",
         "showlegend": true,
         "type": "scatter",
         "x": [
          67.7659076
         ],
         "xaxis": "x",
         "y": [
          22.695
         ],
         "yaxis": "y"
        },
        {
         "hovertemplate": "Model=Forester<br>Power_perf_factor=%{x}<br>Price_in_thousands=%{y}<extra></extra>",
         "legendgroup": "Forester",
         "marker": {
          "color": "#FFA15A",
          "size": 5,
          "symbol": "circle"
         },
         "mode": "markers",
         "name": "Forester",
         "orientation": "v",
         "showlegend": true,
         "type": "scatter",
         "x": [
          66.76294331
         ],
         "xaxis": "x",
         "y": [
          20.095
         ],
         "yaxis": "y"
        },
        {
         "hovertemplate": "Model=Corolla<br>Power_perf_factor=%{x}<br>Price_in_thousands=%{y}<extra></extra>",
         "legendgroup": "Corolla",
         "marker": {
          "color": "#19d3f3",
          "size": 5,
          "symbol": "circle"
         },
         "mode": "markers",
         "name": "Corolla",
         "orientation": "v",
         "showlegend": true,
         "type": "scatter",
         "x": [
          47.96897242
         ],
         "xaxis": "x",
         "y": [
          13.108
         ],
         "yaxis": "y"
        },
        {
         "hovertemplate": "Model=Camry<br>Power_perf_factor=%{x}<br>Price_in_thousands=%{y}<extra></extra>",
         "legendgroup": "Camry",
         "marker": {
          "color": "#FF6692",
          "size": 5,
          "symbol": "circle"
         },
         "mode": "markers",
         "name": "Camry",
         "orientation": "v",
         "showlegend": true,
         "type": "scatter",
         "x": [
          54.37241965
         ],
         "xaxis": "x",
         "y": [
          17.518
         ],
         "yaxis": "y"
        },
        {
         "hovertemplate": "Model=Avalon<br>Power_perf_factor=%{x}<br>Price_in_thousands=%{y}<extra></extra>",
         "legendgroup": "Avalon",
         "marker": {
          "color": "#B6E880",
          "size": 5,
          "symbol": "circle"
         },
         "mode": "markers",
         "name": "Avalon",
         "orientation": "v",
         "showlegend": true,
         "type": "scatter",
         "x": [
          84.91189826
         ],
         "xaxis": "x",
         "y": [
          25.545
         ],
         "yaxis": "y"
        },
        {
         "hovertemplate": "Model=Celica<br>Power_perf_factor=%{x}<br>Price_in_thousands=%{y}<extra></extra>",
         "legendgroup": "Celica",
         "marker": {
          "color": "#FF97FF",
          "size": 5,
          "symbol": "circle"
         },
         "mode": "markers",
         "name": "Celica",
         "orientation": "v",
         "showlegend": true,
         "type": "scatter",
         "x": [
          56.49603034
         ],
         "xaxis": "x",
         "y": [
          16.875
         ],
         "yaxis": "y"
        },
        {
         "hovertemplate": "Model=Tacoma<br>Power_perf_factor=%{x}<br>Price_in_thousands=%{y}<extra></extra>",
         "legendgroup": "Tacoma",
         "marker": {
          "color": "#FECB52",
          "size": 5,
          "symbol": "circle"
         },
         "mode": "markers",
         "name": "Tacoma",
         "orientation": "v",
         "showlegend": true,
         "type": "scatter",
         "x": [
          55.29711658
         ],
         "xaxis": "x",
         "y": [
          11.528
         ],
         "yaxis": "y"
        },
        {
         "hovertemplate": "Model=Sienna<br>Power_perf_factor=%{x}<br>Price_in_thousands=%{y}<extra></extra>",
         "legendgroup": "Sienna",
         "marker": {
          "color": "#636efa",
          "size": 5,
          "symbol": "circle"
         },
         "mode": "markers",
         "name": "Sienna",
         "orientation": "v",
         "showlegend": true,
         "type": "scatter",
         "x": [
          78.02721947
         ],
         "xaxis": "x",
         "y": [
          22.368
         ],
         "yaxis": "y"
        },
        {
         "hovertemplate": "Model=RAV4<br>Power_perf_factor=%{x}<br>Price_in_thousands=%{y}<extra></extra>",
         "legendgroup": "RAV4",
         "marker": {
          "color": "#EF553B",
          "size": 5,
          "symbol": "circle"
         },
         "mode": "markers",
         "name": "RAV4",
         "orientation": "v",
         "showlegend": true,
         "type": "scatter",
         "x": [
          51.95510887
         ],
         "xaxis": "x",
         "y": [
          16.888
         ],
         "yaxis": "y"
        },
        {
         "hovertemplate": "Model=4Runner<br>Power_perf_factor=%{x}<br>Price_in_thousands=%{y}<extra></extra>",
         "legendgroup": "4Runner",
         "marker": {
          "color": "#00cc96",
          "size": 5,
          "symbol": "circle"
         },
         "mode": "markers",
         "name": "4Runner",
         "orientation": "v",
         "showlegend": true,
         "type": "scatter",
         "x": [
          62.35557713
         ],
         "xaxis": "x",
         "y": [
          22.288
         ],
         "yaxis": "y"
        },
        {
         "hovertemplate": "Model=Land Cruiser<br>Power_perf_factor=%{x}<br>Price_in_thousands=%{y}<extra></extra>",
         "legendgroup": "Land Cruiser",
         "marker": {
          "color": "#ab63fa",
          "size": 5,
          "symbol": "circle"
         },
         "mode": "markers",
         "name": "Land Cruiser",
         "orientation": "v",
         "showlegend": true,
         "type": "scatter",
         "x": [
          102.5289842
         ],
         "xaxis": "x",
         "y": [
          51.728
         ],
         "yaxis": "y"
        },
        {
         "hovertemplate": "Model=Golf<br>Power_perf_factor=%{x}<br>Price_in_thousands=%{y}<extra></extra>",
         "legendgroup": "Golf",
         "marker": {
          "color": "#FFA15A",
          "size": 5,
          "symbol": "circle"
         },
         "mode": "markers",
         "name": "Golf",
         "orientation": "v",
         "showlegend": true,
         "type": "scatter",
         "x": [
          46.94387676
         ],
         "xaxis": "x",
         "y": [
          14.9
         ],
         "yaxis": "y"
        },
        {
         "hovertemplate": "Model=Jetta<br>Power_perf_factor=%{x}<br>Price_in_thousands=%{y}<extra></extra>",
         "legendgroup": "Jetta",
         "marker": {
          "color": "#19d3f3",
          "size": 5,
          "symbol": "circle"
         },
         "mode": "markers",
         "name": "Jetta",
         "orientation": "v",
         "showlegend": true,
         "type": "scatter",
         "x": [
          47.63823666
         ],
         "xaxis": "x",
         "y": [
          16.7
         ],
         "yaxis": "y"
        },
        {
         "hovertemplate": "Model=Passat<br>Power_perf_factor=%{x}<br>Price_in_thousands=%{y}<extra></extra>",
         "legendgroup": "Passat",
         "marker": {
          "color": "#FF6692",
          "size": 5,
          "symbol": "circle"
         },
         "mode": "markers",
         "name": "Passat",
         "orientation": "v",
         "showlegend": true,
         "type": "scatter",
         "x": [
          61.70138136
         ],
         "xaxis": "x",
         "y": [
          21.2
         ],
         "yaxis": "y"
        },
        {
         "hovertemplate": "Model=Cabrio<br>Power_perf_factor=%{x}<br>Price_in_thousands=%{y}<extra></extra>",
         "legendgroup": "Cabrio",
         "marker": {
          "color": "#B6E880",
          "size": 5,
          "symbol": "circle"
         },
         "mode": "markers",
         "name": "Cabrio",
         "orientation": "v",
         "showlegend": true,
         "type": "scatter",
         "x": [
          48.90737225
         ],
         "xaxis": "x",
         "y": [
          19.99
         ],
         "yaxis": "y"
        },
        {
         "hovertemplate": "Model=GTI<br>Power_perf_factor=%{x}<br>Price_in_thousands=%{y}<extra></extra>",
         "legendgroup": "GTI",
         "marker": {
          "color": "#FF97FF",
          "size": 5,
          "symbol": "circle"
         },
         "mode": "markers",
         "name": "GTI",
         "orientation": "v",
         "showlegend": true,
         "type": "scatter",
         "x": [
          47.94684106
         ],
         "xaxis": "x",
         "y": [
          17.5
         ],
         "yaxis": "y"
        },
        {
         "hovertemplate": "Model=Beetle<br>Power_perf_factor=%{x}<br>Price_in_thousands=%{y}<extra></extra>",
         "legendgroup": "Beetle",
         "marker": {
          "color": "#FECB52",
          "size": 5,
          "symbol": "circle"
         },
         "mode": "markers",
         "name": "Beetle",
         "orientation": "v",
         "showlegend": true,
         "type": "scatter",
         "x": [
          47.32963226
         ],
         "xaxis": "x",
         "y": [
          15.9
         ],
         "yaxis": "y"
        },
        {
         "hovertemplate": "Model=S40<br>Power_perf_factor=%{x}<br>Price_in_thousands=%{y}<extra></extra>",
         "legendgroup": "S40",
         "marker": {
          "color": "#636efa",
          "size": 5,
          "symbol": "circle"
         },
         "mode": "markers",
         "name": "S40",
         "orientation": "v",
         "showlegend": true,
         "type": "scatter",
         "x": [
          66.1130568
         ],
         "xaxis": "x",
         "y": [
          23.4
         ],
         "yaxis": "y"
        },
        {
         "hovertemplate": "Model=V40<br>Power_perf_factor=%{x}<br>Price_in_thousands=%{y}<extra></extra>",
         "legendgroup": "V40",
         "marker": {
          "color": "#EF553B",
          "size": 5,
          "symbol": "circle"
         },
         "mode": "markers",
         "name": "V40",
         "orientation": "v",
         "showlegend": true,
         "type": "scatter",
         "x": [
          66.4988123
         ],
         "xaxis": "x",
         "y": [
          24.4
         ],
         "yaxis": "y"
        },
        {
         "hovertemplate": "Model=S70<br>Power_perf_factor=%{x}<br>Price_in_thousands=%{y}<extra></extra>",
         "legendgroup": "S70",
         "marker": {
          "color": "#00cc96",
          "size": 5,
          "symbol": "circle"
         },
         "mode": "markers",
         "name": "S70",
         "orientation": "v",
         "showlegend": true,
         "type": "scatter",
         "x": [
          70.65449545
         ],
         "xaxis": "x",
         "y": [
          27.5
         ],
         "yaxis": "y"
        },
        {
         "hovertemplate": "Model=V70<br>Power_perf_factor=%{x}<br>Price_in_thousands=%{y}<extra></extra>",
         "legendgroup": "V70",
         "marker": {
          "color": "#ab63fa",
          "size": 5,
          "symbol": "circle"
         },
         "mode": "markers",
         "name": "V70",
         "orientation": "v",
         "showlegend": true,
         "type": "scatter",
         "x": [
          71.1559776
         ],
         "xaxis": "x",
         "y": [
          28.8
         ],
         "yaxis": "y"
        },
        {
         "hovertemplate": "Model=C70<br>Power_perf_factor=%{x}<br>Price_in_thousands=%{y}<extra></extra>",
         "legendgroup": "C70",
         "marker": {
          "color": "#FFA15A",
          "size": 5,
          "symbol": "circle"
         },
         "mode": "markers",
         "name": "C70",
         "orientation": "v",
         "showlegend": true,
         "type": "scatter",
         "x": [
          101.6233572
         ],
         "xaxis": "x",
         "y": [
          45.5
         ],
         "yaxis": "y"
        },
        {
         "hovertemplate": "Model=S80<br>Power_perf_factor=%{x}<br>Price_in_thousands=%{y}<extra></extra>",
         "legendgroup": "S80",
         "marker": {
          "color": "#19d3f3",
          "size": 5,
          "symbol": "circle"
         },
         "mode": "markers",
         "name": "S80",
         "orientation": "v",
         "showlegend": true,
         "type": "scatter",
         "x": [
          85.73565451
         ],
         "xaxis": "x",
         "y": [
          36
         ],
         "yaxis": "y"
        }
       ],
       "layout": {
        "legend": {
         "title": {
          "text": "Model"
         },
         "tracegroupgap": 0
        },
        "template": {
         "data": {
          "bar": [
           {
            "error_x": {
             "color": "#2a3f5f"
            },
            "error_y": {
             "color": "#2a3f5f"
            },
            "marker": {
             "line": {
              "color": "#E5ECF6",
              "width": 0.5
             },
             "pattern": {
              "fillmode": "overlay",
              "size": 10,
              "solidity": 0.2
             }
            },
            "type": "bar"
           }
          ],
          "barpolar": [
           {
            "marker": {
             "line": {
              "color": "#E5ECF6",
              "width": 0.5
             },
             "pattern": {
              "fillmode": "overlay",
              "size": 10,
              "solidity": 0.2
             }
            },
            "type": "barpolar"
           }
          ],
          "carpet": [
           {
            "aaxis": {
             "endlinecolor": "#2a3f5f",
             "gridcolor": "white",
             "linecolor": "white",
             "minorgridcolor": "white",
             "startlinecolor": "#2a3f5f"
            },
            "baxis": {
             "endlinecolor": "#2a3f5f",
             "gridcolor": "white",
             "linecolor": "white",
             "minorgridcolor": "white",
             "startlinecolor": "#2a3f5f"
            },
            "type": "carpet"
           }
          ],
          "choropleth": [
           {
            "colorbar": {
             "outlinewidth": 0,
             "ticks": ""
            },
            "type": "choropleth"
           }
          ],
          "contour": [
           {
            "colorbar": {
             "outlinewidth": 0,
             "ticks": ""
            },
            "colorscale": [
             [
              0,
              "#0d0887"
             ],
             [
              0.1111111111111111,
              "#46039f"
             ],
             [
              0.2222222222222222,
              "#7201a8"
             ],
             [
              0.3333333333333333,
              "#9c179e"
             ],
             [
              0.4444444444444444,
              "#bd3786"
             ],
             [
              0.5555555555555556,
              "#d8576b"
             ],
             [
              0.6666666666666666,
              "#ed7953"
             ],
             [
              0.7777777777777778,
              "#fb9f3a"
             ],
             [
              0.8888888888888888,
              "#fdca26"
             ],
             [
              1,
              "#f0f921"
             ]
            ],
            "type": "contour"
           }
          ],
          "contourcarpet": [
           {
            "colorbar": {
             "outlinewidth": 0,
             "ticks": ""
            },
            "type": "contourcarpet"
           }
          ],
          "heatmap": [
           {
            "colorbar": {
             "outlinewidth": 0,
             "ticks": ""
            },
            "colorscale": [
             [
              0,
              "#0d0887"
             ],
             [
              0.1111111111111111,
              "#46039f"
             ],
             [
              0.2222222222222222,
              "#7201a8"
             ],
             [
              0.3333333333333333,
              "#9c179e"
             ],
             [
              0.4444444444444444,
              "#bd3786"
             ],
             [
              0.5555555555555556,
              "#d8576b"
             ],
             [
              0.6666666666666666,
              "#ed7953"
             ],
             [
              0.7777777777777778,
              "#fb9f3a"
             ],
             [
              0.8888888888888888,
              "#fdca26"
             ],
             [
              1,
              "#f0f921"
             ]
            ],
            "type": "heatmap"
           }
          ],
          "heatmapgl": [
           {
            "colorbar": {
             "outlinewidth": 0,
             "ticks": ""
            },
            "colorscale": [
             [
              0,
              "#0d0887"
             ],
             [
              0.1111111111111111,
              "#46039f"
             ],
             [
              0.2222222222222222,
              "#7201a8"
             ],
             [
              0.3333333333333333,
              "#9c179e"
             ],
             [
              0.4444444444444444,
              "#bd3786"
             ],
             [
              0.5555555555555556,
              "#d8576b"
             ],
             [
              0.6666666666666666,
              "#ed7953"
             ],
             [
              0.7777777777777778,
              "#fb9f3a"
             ],
             [
              0.8888888888888888,
              "#fdca26"
             ],
             [
              1,
              "#f0f921"
             ]
            ],
            "type": "heatmapgl"
           }
          ],
          "histogram": [
           {
            "marker": {
             "pattern": {
              "fillmode": "overlay",
              "size": 10,
              "solidity": 0.2
             }
            },
            "type": "histogram"
           }
          ],
          "histogram2d": [
           {
            "colorbar": {
             "outlinewidth": 0,
             "ticks": ""
            },
            "colorscale": [
             [
              0,
              "#0d0887"
             ],
             [
              0.1111111111111111,
              "#46039f"
             ],
             [
              0.2222222222222222,
              "#7201a8"
             ],
             [
              0.3333333333333333,
              "#9c179e"
             ],
             [
              0.4444444444444444,
              "#bd3786"
             ],
             [
              0.5555555555555556,
              "#d8576b"
             ],
             [
              0.6666666666666666,
              "#ed7953"
             ],
             [
              0.7777777777777778,
              "#fb9f3a"
             ],
             [
              0.8888888888888888,
              "#fdca26"
             ],
             [
              1,
              "#f0f921"
             ]
            ],
            "type": "histogram2d"
           }
          ],
          "histogram2dcontour": [
           {
            "colorbar": {
             "outlinewidth": 0,
             "ticks": ""
            },
            "colorscale": [
             [
              0,
              "#0d0887"
             ],
             [
              0.1111111111111111,
              "#46039f"
             ],
             [
              0.2222222222222222,
              "#7201a8"
             ],
             [
              0.3333333333333333,
              "#9c179e"
             ],
             [
              0.4444444444444444,
              "#bd3786"
             ],
             [
              0.5555555555555556,
              "#d8576b"
             ],
             [
              0.6666666666666666,
              "#ed7953"
             ],
             [
              0.7777777777777778,
              "#fb9f3a"
             ],
             [
              0.8888888888888888,
              "#fdca26"
             ],
             [
              1,
              "#f0f921"
             ]
            ],
            "type": "histogram2dcontour"
           }
          ],
          "mesh3d": [
           {
            "colorbar": {
             "outlinewidth": 0,
             "ticks": ""
            },
            "type": "mesh3d"
           }
          ],
          "parcoords": [
           {
            "line": {
             "colorbar": {
              "outlinewidth": 0,
              "ticks": ""
             }
            },
            "type": "parcoords"
           }
          ],
          "pie": [
           {
            "automargin": true,
            "type": "pie"
           }
          ],
          "scatter": [
           {
            "marker": {
             "colorbar": {
              "outlinewidth": 0,
              "ticks": ""
             }
            },
            "type": "scatter"
           }
          ],
          "scatter3d": [
           {
            "line": {
             "colorbar": {
              "outlinewidth": 0,
              "ticks": ""
             }
            },
            "marker": {
             "colorbar": {
              "outlinewidth": 0,
              "ticks": ""
             }
            },
            "type": "scatter3d"
           }
          ],
          "scattercarpet": [
           {
            "marker": {
             "colorbar": {
              "outlinewidth": 0,
              "ticks": ""
             }
            },
            "type": "scattercarpet"
           }
          ],
          "scattergeo": [
           {
            "marker": {
             "colorbar": {
              "outlinewidth": 0,
              "ticks": ""
             }
            },
            "type": "scattergeo"
           }
          ],
          "scattergl": [
           {
            "marker": {
             "colorbar": {
              "outlinewidth": 0,
              "ticks": ""
             }
            },
            "type": "scattergl"
           }
          ],
          "scattermapbox": [
           {
            "marker": {
             "colorbar": {
              "outlinewidth": 0,
              "ticks": ""
             }
            },
            "type": "scattermapbox"
           }
          ],
          "scatterpolar": [
           {
            "marker": {
             "colorbar": {
              "outlinewidth": 0,
              "ticks": ""
             }
            },
            "type": "scatterpolar"
           }
          ],
          "scatterpolargl": [
           {
            "marker": {
             "colorbar": {
              "outlinewidth": 0,
              "ticks": ""
             }
            },
            "type": "scatterpolargl"
           }
          ],
          "scatterternary": [
           {
            "marker": {
             "colorbar": {
              "outlinewidth": 0,
              "ticks": ""
             }
            },
            "type": "scatterternary"
           }
          ],
          "surface": [
           {
            "colorbar": {
             "outlinewidth": 0,
             "ticks": ""
            },
            "colorscale": [
             [
              0,
              "#0d0887"
             ],
             [
              0.1111111111111111,
              "#46039f"
             ],
             [
              0.2222222222222222,
              "#7201a8"
             ],
             [
              0.3333333333333333,
              "#9c179e"
             ],
             [
              0.4444444444444444,
              "#bd3786"
             ],
             [
              0.5555555555555556,
              "#d8576b"
             ],
             [
              0.6666666666666666,
              "#ed7953"
             ],
             [
              0.7777777777777778,
              "#fb9f3a"
             ],
             [
              0.8888888888888888,
              "#fdca26"
             ],
             [
              1,
              "#f0f921"
             ]
            ],
            "type": "surface"
           }
          ],
          "table": [
           {
            "cells": {
             "fill": {
              "color": "#EBF0F8"
             },
             "line": {
              "color": "white"
             }
            },
            "header": {
             "fill": {
              "color": "#C8D4E3"
             },
             "line": {
              "color": "white"
             }
            },
            "type": "table"
           }
          ]
         },
         "layout": {
          "annotationdefaults": {
           "arrowcolor": "#2a3f5f",
           "arrowhead": 0,
           "arrowwidth": 1
          },
          "autotypenumbers": "strict",
          "coloraxis": {
           "colorbar": {
            "outlinewidth": 0,
            "ticks": ""
           }
          },
          "colorscale": {
           "diverging": [
            [
             0,
             "#8e0152"
            ],
            [
             0.1,
             "#c51b7d"
            ],
            [
             0.2,
             "#de77ae"
            ],
            [
             0.3,
             "#f1b6da"
            ],
            [
             0.4,
             "#fde0ef"
            ],
            [
             0.5,
             "#f7f7f7"
            ],
            [
             0.6,
             "#e6f5d0"
            ],
            [
             0.7,
             "#b8e186"
            ],
            [
             0.8,
             "#7fbc41"
            ],
            [
             0.9,
             "#4d9221"
            ],
            [
             1,
             "#276419"
            ]
           ],
           "sequential": [
            [
             0,
             "#0d0887"
            ],
            [
             0.1111111111111111,
             "#46039f"
            ],
            [
             0.2222222222222222,
             "#7201a8"
            ],
            [
             0.3333333333333333,
             "#9c179e"
            ],
            [
             0.4444444444444444,
             "#bd3786"
            ],
            [
             0.5555555555555556,
             "#d8576b"
            ],
            [
             0.6666666666666666,
             "#ed7953"
            ],
            [
             0.7777777777777778,
             "#fb9f3a"
            ],
            [
             0.8888888888888888,
             "#fdca26"
            ],
            [
             1,
             "#f0f921"
            ]
           ],
           "sequentialminus": [
            [
             0,
             "#0d0887"
            ],
            [
             0.1111111111111111,
             "#46039f"
            ],
            [
             0.2222222222222222,
             "#7201a8"
            ],
            [
             0.3333333333333333,
             "#9c179e"
            ],
            [
             0.4444444444444444,
             "#bd3786"
            ],
            [
             0.5555555555555556,
             "#d8576b"
            ],
            [
             0.6666666666666666,
             "#ed7953"
            ],
            [
             0.7777777777777778,
             "#fb9f3a"
            ],
            [
             0.8888888888888888,
             "#fdca26"
            ],
            [
             1,
             "#f0f921"
            ]
           ]
          },
          "colorway": [
           "#636efa",
           "#EF553B",
           "#00cc96",
           "#ab63fa",
           "#FFA15A",
           "#19d3f3",
           "#FF6692",
           "#B6E880",
           "#FF97FF",
           "#FECB52"
          ],
          "font": {
           "color": "#2a3f5f"
          },
          "geo": {
           "bgcolor": "white",
           "lakecolor": "white",
           "landcolor": "#E5ECF6",
           "showlakes": true,
           "showland": true,
           "subunitcolor": "white"
          },
          "hoverlabel": {
           "align": "left"
          },
          "hovermode": "closest",
          "mapbox": {
           "style": "light"
          },
          "paper_bgcolor": "white",
          "plot_bgcolor": "#E5ECF6",
          "polar": {
           "angularaxis": {
            "gridcolor": "white",
            "linecolor": "white",
            "ticks": ""
           },
           "bgcolor": "#E5ECF6",
           "radialaxis": {
            "gridcolor": "white",
            "linecolor": "white",
            "ticks": ""
           }
          },
          "scene": {
           "xaxis": {
            "backgroundcolor": "#E5ECF6",
            "gridcolor": "white",
            "gridwidth": 2,
            "linecolor": "white",
            "showbackground": true,
            "ticks": "",
            "zerolinecolor": "white"
           },
           "yaxis": {
            "backgroundcolor": "#E5ECF6",
            "gridcolor": "white",
            "gridwidth": 2,
            "linecolor": "white",
            "showbackground": true,
            "ticks": "",
            "zerolinecolor": "white"
           },
           "zaxis": {
            "backgroundcolor": "#E5ECF6",
            "gridcolor": "white",
            "gridwidth": 2,
            "linecolor": "white",
            "showbackground": true,
            "ticks": "",
            "zerolinecolor": "white"
           }
          },
          "shapedefaults": {
           "line": {
            "color": "#2a3f5f"
           }
          },
          "ternary": {
           "aaxis": {
            "gridcolor": "white",
            "linecolor": "white",
            "ticks": ""
           },
           "baxis": {
            "gridcolor": "white",
            "linecolor": "white",
            "ticks": ""
           },
           "bgcolor": "#E5ECF6",
           "caxis": {
            "gridcolor": "white",
            "linecolor": "white",
            "ticks": ""
           }
          },
          "title": {
           "x": 0.05
          },
          "xaxis": {
           "automargin": true,
           "gridcolor": "white",
           "linecolor": "white",
           "ticks": "",
           "title": {
            "standoff": 15
           },
           "zerolinecolor": "white",
           "zerolinewidth": 2
          },
          "yaxis": {
           "automargin": true,
           "gridcolor": "white",
           "linecolor": "white",
           "ticks": "",
           "title": {
            "standoff": 15
           },
           "zerolinecolor": "white",
           "zerolinewidth": 2
          }
         }
        },
        "title": {
         "font": {
          "color": "rgba(0, 153, 0,0.5)"
         },
         "text": "Power_Performance - Price",
         "x": 0.5,
         "xanchor": "center",
         "y": 0.9,
         "yanchor": "top"
        },
        "xaxis": {
         "anchor": "y",
         "domain": [
          0,
          1
         ],
         "title": {
          "text": "Power_perf_factor"
         }
        },
        "yaxis": {
         "anchor": "x",
         "domain": [
          0,
          1
         ],
         "title": {
          "text": "Price_in_thousands"
         }
        }
       }
      },
      "text/html": [
       "<div>                            <div id=\"8f0fbf84-2ab3-485e-a961-13fc504428f7\" class=\"plotly-graph-div\" style=\"height:525px; width:100%;\"></div>            <script type=\"text/javascript\">                require([\"plotly\"], function(Plotly) {                    window.PLOTLYENV=window.PLOTLYENV || {};                                    if (document.getElementById(\"8f0fbf84-2ab3-485e-a961-13fc504428f7\")) {                    Plotly.newPlot(                        \"8f0fbf84-2ab3-485e-a961-13fc504428f7\",                        [{\"hovertemplate\":\"Model=Integra<br>Power_perf_factor=%{x}<br>Price_in_thousands=%{y}<extra></extra>\",\"legendgroup\":\"Integra\",\"marker\":{\"color\":\"#636efa\",\"symbol\":\"circle\",\"size\":5},\"mode\":\"markers\",\"name\":\"Integra\",\"orientation\":\"v\",\"showlegend\":true,\"x\":[58.28014952],\"xaxis\":\"x\",\"y\":[21.5],\"yaxis\":\"y\",\"type\":\"scatter\"},{\"hovertemplate\":\"Model=TL<br>Power_perf_factor=%{x}<br>Price_in_thousands=%{y}<extra></extra>\",\"legendgroup\":\"TL\",\"marker\":{\"color\":\"#EF553B\",\"symbol\":\"circle\",\"size\":5},\"mode\":\"markers\",\"name\":\"TL\",\"orientation\":\"v\",\"showlegend\":true,\"x\":[91.37077766],\"xaxis\":\"x\",\"y\":[28.4],\"yaxis\":\"y\",\"type\":\"scatter\"},{\"hovertemplate\":\"Model=CL<br>Power_perf_factor=%{x}<br>Price_in_thousands=%{y}<extra></extra>\",\"legendgroup\":\"CL\",\"marker\":{\"color\":\"#00cc96\",\"symbol\":\"circle\",\"size\":5},\"mode\":\"markers\",\"name\":\"CL\",\"orientation\":\"v\",\"showlegend\":true,\"x\":[null],\"xaxis\":\"x\",\"y\":[null],\"yaxis\":\"y\",\"type\":\"scatter\"},{\"hovertemplate\":\"Model=RL<br>Power_perf_factor=%{x}<br>Price_in_thousands=%{y}<extra></extra>\",\"legendgroup\":\"RL\",\"marker\":{\"color\":\"#ab63fa\",\"symbol\":\"circle\",\"size\":5},\"mode\":\"markers\",\"name\":\"RL\",\"orientation\":\"v\",\"showlegend\":true,\"x\":[91.38977933],\"xaxis\":\"x\",\"y\":[42.0],\"yaxis\":\"y\",\"type\":\"scatter\"},{\"hovertemplate\":\"Model=A4<br>Power_perf_factor=%{x}<br>Price_in_thousands=%{y}<extra></extra>\",\"legendgroup\":\"A4\",\"marker\":{\"color\":\"#FFA15A\",\"symbol\":\"circle\",\"size\":5},\"mode\":\"markers\",\"name\":\"A4\",\"orientation\":\"v\",\"showlegend\":true,\"x\":[62.7776392],\"xaxis\":\"x\",\"y\":[23.99],\"yaxis\":\"y\",\"type\":\"scatter\"},{\"hovertemplate\":\"Model=A6<br>Power_perf_factor=%{x}<br>Price_in_thousands=%{y}<extra></extra>\",\"legendgroup\":\"A6\",\"marker\":{\"color\":\"#19d3f3\",\"symbol\":\"circle\",\"size\":5},\"mode\":\"markers\",\"name\":\"A6\",\"orientation\":\"v\",\"showlegend\":true,\"x\":[84.56510502],\"xaxis\":\"x\",\"y\":[33.95],\"yaxis\":\"y\",\"type\":\"scatter\"},{\"hovertemplate\":\"Model=A8<br>Power_perf_factor=%{x}<br>Price_in_thousands=%{y}<extra></extra>\",\"legendgroup\":\"A8\",\"marker\":{\"color\":\"#FF6692\",\"symbol\":\"circle\",\"size\":5},\"mode\":\"markers\",\"name\":\"A8\",\"orientation\":\"v\",\"showlegend\":true,\"x\":[134.6568582],\"xaxis\":\"x\",\"y\":[62.0],\"yaxis\":\"y\",\"type\":\"scatter\"},{\"hovertemplate\":\"Model=323i<br>Power_perf_factor=%{x}<br>Price_in_thousands=%{y}<extra></extra>\",\"legendgroup\":\"323i\",\"marker\":{\"color\":\"#B6E880\",\"symbol\":\"circle\",\"size\":5},\"mode\":\"markers\",\"name\":\"323i\",\"orientation\":\"v\",\"showlegend\":true,\"x\":[71.19120671],\"xaxis\":\"x\",\"y\":[26.99],\"yaxis\":\"y\",\"type\":\"scatter\"},{\"hovertemplate\":\"Model=328i<br>Power_perf_factor=%{x}<br>Price_in_thousands=%{y}<extra></extra>\",\"legendgroup\":\"328i\",\"marker\":{\"color\":\"#FF97FF\",\"symbol\":\"circle\",\"size\":5},\"mode\":\"markers\",\"name\":\"328i\",\"orientation\":\"v\",\"showlegend\":true,\"x\":[81.87706856],\"xaxis\":\"x\",\"y\":[33.4],\"yaxis\":\"y\",\"type\":\"scatter\"},{\"hovertemplate\":\"Model=528i<br>Power_perf_factor=%{x}<br>Price_in_thousands=%{y}<extra></extra>\",\"legendgroup\":\"528i\",\"marker\":{\"color\":\"#FECB52\",\"symbol\":\"circle\",\"size\":5},\"mode\":\"markers\",\"name\":\"528i\",\"orientation\":\"v\",\"showlegend\":true,\"x\":[83.9987238],\"xaxis\":\"x\",\"y\":[38.9],\"yaxis\":\"y\",\"type\":\"scatter\"},{\"hovertemplate\":\"Model=Century<br>Power_perf_factor=%{x}<br>Price_in_thousands=%{y}<extra></extra>\",\"legendgroup\":\"Century\",\"marker\":{\"color\":\"#636efa\",\"symbol\":\"circle\",\"size\":5},\"mode\":\"markers\",\"name\":\"Century\",\"orientation\":\"v\",\"showlegend\":true,\"x\":[71.18145132],\"xaxis\":\"x\",\"y\":[21.975],\"yaxis\":\"y\",\"type\":\"scatter\"},{\"hovertemplate\":\"Model=Regal<br>Power_perf_factor=%{x}<br>Price_in_thousands=%{y}<extra></extra>\",\"legendgroup\":\"Regal\",\"marker\":{\"color\":\"#EF553B\",\"symbol\":\"circle\",\"size\":5},\"mode\":\"markers\",\"name\":\"Regal\",\"orientation\":\"v\",\"showlegend\":true,\"x\":[95.63670253],\"xaxis\":\"x\",\"y\":[25.3],\"yaxis\":\"y\",\"type\":\"scatter\"},{\"hovertemplate\":\"Model=Park Avenue<br>Power_perf_factor=%{x}<br>Price_in_thousands=%{y}<extra></extra>\",\"legendgroup\":\"Park Avenue\",\"marker\":{\"color\":\"#00cc96\",\"symbol\":\"circle\",\"size\":5},\"mode\":\"markers\",\"name\":\"Park Avenue\",\"orientation\":\"v\",\"showlegend\":true,\"x\":[85.82840825],\"xaxis\":\"x\",\"y\":[31.965],\"yaxis\":\"y\",\"type\":\"scatter\"},{\"hovertemplate\":\"Model=LeSabre<br>Power_perf_factor=%{x}<br>Price_in_thousands=%{y}<extra></extra>\",\"legendgroup\":\"LeSabre\",\"marker\":{\"color\":\"#ab63fa\",\"symbol\":\"circle\",\"size\":5},\"mode\":\"markers\",\"name\":\"LeSabre\",\"orientation\":\"v\",\"showlegend\":true,\"x\":[84.25452581],\"xaxis\":\"x\",\"y\":[27.885],\"yaxis\":\"y\",\"type\":\"scatter\"},{\"hovertemplate\":\"Model=DeVille<br>Power_perf_factor=%{x}<br>Price_in_thousands=%{y}<extra></extra>\",\"legendgroup\":\"DeVille\",\"marker\":{\"color\":\"#FFA15A\",\"symbol\":\"circle\",\"size\":5},\"mode\":\"markers\",\"name\":\"DeVille\",\"orientation\":\"v\",\"showlegend\":true,\"x\":[113.8545976],\"xaxis\":\"x\",\"y\":[39.895],\"yaxis\":\"y\",\"type\":\"scatter\"},{\"hovertemplate\":\"Model=Seville<br>Power_perf_factor=%{x}<br>Price_in_thousands=%{y}<extra></extra>\",\"legendgroup\":\"Seville\",\"marker\":{\"color\":\"#19d3f3\",\"symbol\":\"circle\",\"size\":5},\"mode\":\"markers\",\"name\":\"Seville\",\"orientation\":\"v\",\"showlegend\":true,\"x\":[115.6213578],\"xaxis\":\"x\",\"y\":[44.475],\"yaxis\":\"y\",\"type\":\"scatter\"},{\"hovertemplate\":\"Model=Eldorado<br>Power_perf_factor=%{x}<br>Price_in_thousands=%{y}<extra></extra>\",\"legendgroup\":\"Eldorado\",\"marker\":{\"color\":\"#FF6692\",\"symbol\":\"circle\",\"size\":5},\"mode\":\"markers\",\"name\":\"Eldorado\",\"orientation\":\"v\",\"showlegend\":true,\"x\":[113.7658739],\"xaxis\":\"x\",\"y\":[39.665],\"yaxis\":\"y\",\"type\":\"scatter\"},{\"hovertemplate\":\"Model=Catera<br>Power_perf_factor=%{x}<br>Price_in_thousands=%{y}<extra></extra>\",\"legendgroup\":\"Catera\",\"marker\":{\"color\":\"#B6E880\",\"symbol\":\"circle\",\"size\":5},\"mode\":\"markers\",\"name\":\"Catera\",\"orientation\":\"v\",\"showlegend\":true,\"x\":[83.48309358],\"xaxis\":\"x\",\"y\":[31.01],\"yaxis\":\"y\",\"type\":\"scatter\"},{\"hovertemplate\":\"Model=Escalade<br>Power_perf_factor=%{x}<br>Price_in_thousands=%{y}<extra></extra>\",\"legendgroup\":\"Escalade\",\"marker\":{\"color\":\"#FF97FF\",\"symbol\":\"circle\",\"size\":5},\"mode\":\"markers\",\"name\":\"Escalade\",\"orientation\":\"v\",\"showlegend\":true,\"x\":[109.5091165],\"xaxis\":\"x\",\"y\":[46.225],\"yaxis\":\"y\",\"type\":\"scatter\"},{\"hovertemplate\":\"Model=Cavalier<br>Power_perf_factor=%{x}<br>Price_in_thousands=%{y}<extra></extra>\",\"legendgroup\":\"Cavalier\",\"marker\":{\"color\":\"#FECB52\",\"symbol\":\"circle\",\"size\":5},\"mode\":\"markers\",\"name\":\"Cavalier\",\"orientation\":\"v\",\"showlegend\":true,\"x\":[46.36334747],\"xaxis\":\"x\",\"y\":[13.26],\"yaxis\":\"y\",\"type\":\"scatter\"},{\"hovertemplate\":\"Model=Malibu<br>Power_perf_factor=%{x}<br>Price_in_thousands=%{y}<extra></extra>\",\"legendgroup\":\"Malibu\",\"marker\":{\"color\":\"#636efa\",\"symbol\":\"circle\",\"size\":5},\"mode\":\"markers\",\"name\":\"Malibu\",\"orientation\":\"v\",\"showlegend\":true,\"x\":[67.31446216],\"xaxis\":\"x\",\"y\":[16.535],\"yaxis\":\"y\",\"type\":\"scatter\"},{\"hovertemplate\":\"Model=Lumina<br>Power_perf_factor=%{x}<br>Price_in_thousands=%{y}<extra></extra>\",\"legendgroup\":\"Lumina\",\"marker\":{\"color\":\"#EF553B\",\"symbol\":\"circle\",\"size\":5},\"mode\":\"markers\",\"name\":\"Lumina\",\"orientation\":\"v\",\"showlegend\":true,\"x\":[69.9913956],\"xaxis\":\"x\",\"y\":[18.89],\"yaxis\":\"y\",\"type\":\"scatter\"},{\"hovertemplate\":\"Model=Monte Carlo<br>Power_perf_factor=%{x}<br>Price_in_thousands=%{y}<extra></extra>\",\"legendgroup\":\"Monte Carlo\",\"marker\":{\"color\":\"#00cc96\",\"symbol\":\"circle\",\"size\":5},\"mode\":\"markers\",\"name\":\"Monte Carlo\",\"orientation\":\"v\",\"showlegend\":true,\"x\":[72.03091719],\"xaxis\":\"x\",\"y\":[19.39],\"yaxis\":\"y\",\"type\":\"scatter\"},{\"hovertemplate\":\"Model=Camaro<br>Power_perf_factor=%{x}<br>Price_in_thousands=%{y}<extra></extra>\",\"legendgroup\":\"Camaro\",\"marker\":{\"color\":\"#ab63fa\",\"symbol\":\"circle\",\"size\":5},\"mode\":\"markers\",\"name\":\"Camaro\",\"orientation\":\"v\",\"showlegend\":true,\"x\":[81.11854333],\"xaxis\":\"x\",\"y\":[24.34],\"yaxis\":\"y\",\"type\":\"scatter\"},{\"hovertemplate\":\"Model=Corvette<br>Power_perf_factor=%{x}<br>Price_in_thousands=%{y}<extra></extra>\",\"legendgroup\":\"Corvette\",\"marker\":{\"color\":\"#FFA15A\",\"symbol\":\"circle\",\"size\":5},\"mode\":\"markers\",\"name\":\"Corvette\",\"orientation\":\"v\",\"showlegend\":true,\"x\":[141.14115],\"xaxis\":\"x\",\"y\":[45.705],\"yaxis\":\"y\",\"type\":\"scatter\"},{\"hovertemplate\":\"Model=Prizm<br>Power_perf_factor=%{x}<br>Price_in_thousands=%{y}<extra></extra>\",\"legendgroup\":\"Prizm\",\"marker\":{\"color\":\"#19d3f3\",\"symbol\":\"circle\",\"size\":5},\"mode\":\"markers\",\"name\":\"Prizm\",\"orientation\":\"v\",\"showlegend\":true,\"x\":[48.2976361],\"xaxis\":\"x\",\"y\":[13.96],\"yaxis\":\"y\",\"type\":\"scatter\"},{\"hovertemplate\":\"Model=Metro<br>Power_perf_factor=%{x}<br>Price_in_thousands=%{y}<extra></extra>\",\"legendgroup\":\"Metro\",\"marker\":{\"color\":\"#FF6692\",\"symbol\":\"circle\",\"size\":5},\"mode\":\"markers\",\"name\":\"Metro\",\"orientation\":\"v\",\"showlegend\":true,\"x\":[23.27627233],\"xaxis\":\"x\",\"y\":[9.235],\"yaxis\":\"y\",\"type\":\"scatter\"},{\"hovertemplate\":\"Model=Impala<br>Power_perf_factor=%{x}<br>Price_in_thousands=%{y}<extra></extra>\",\"legendgroup\":\"Impala\",\"marker\":{\"color\":\"#B6E880\",\"symbol\":\"circle\",\"size\":5},\"mode\":\"markers\",\"name\":\"Impala\",\"orientation\":\"v\",\"showlegend\":true,\"x\":[71.83803944],\"xaxis\":\"x\",\"y\":[18.89],\"yaxis\":\"y\",\"type\":\"scatter\"},{\"hovertemplate\":\"Model=Sebring Coupe<br>Power_perf_factor=%{x}<br>Price_in_thousands=%{y}<extra></extra>\",\"legendgroup\":\"Sebring Coupe\",\"marker\":{\"color\":\"#FF97FF\",\"symbol\":\"circle\",\"size\":5},\"mode\":\"markers\",\"name\":\"Sebring Coupe\",\"orientation\":\"v\",\"showlegend\":true,\"x\":[65.95718396],\"xaxis\":\"x\",\"y\":[19.84],\"yaxis\":\"y\",\"type\":\"scatter\"},{\"hovertemplate\":\"Model=Sebring Conv.<br>Power_perf_factor=%{x}<br>Price_in_thousands=%{y}<extra></extra>\",\"legendgroup\":\"Sebring Conv.\",\"marker\":{\"color\":\"#FECB52\",\"symbol\":\"circle\",\"size\":5},\"mode\":\"markers\",\"name\":\"Sebring Conv.\",\"orientation\":\"v\",\"showlegend\":true,\"x\":[69.52135505],\"xaxis\":\"x\",\"y\":[24.495],\"yaxis\":\"y\",\"type\":\"scatter\"},{\"hovertemplate\":\"Model=Concorde<br>Power_perf_factor=%{x}<br>Price_in_thousands=%{y}<extra></extra>\",\"legendgroup\":\"Concorde\",\"marker\":{\"color\":\"#636efa\",\"symbol\":\"circle\",\"size\":5},\"mode\":\"markers\",\"name\":\"Concorde\",\"orientation\":\"v\",\"showlegend\":true,\"x\":[80.02378204],\"xaxis\":\"x\",\"y\":[22.245],\"yaxis\":\"y\",\"type\":\"scatter\"},{\"hovertemplate\":\"Model=Cirrus<br>Power_perf_factor=%{x}<br>Price_in_thousands=%{y}<extra></extra>\",\"legendgroup\":\"Cirrus\",\"marker\":{\"color\":\"#EF553B\",\"symbol\":\"circle\",\"size\":5},\"mode\":\"markers\",\"name\":\"Cirrus\",\"orientation\":\"v\",\"showlegend\":true,\"x\":[53.56619987],\"xaxis\":\"x\",\"y\":[16.48],\"yaxis\":\"y\",\"type\":\"scatter\"},{\"hovertemplate\":\"Model=LHS<br>Power_perf_factor=%{x}<br>Price_in_thousands=%{y}<extra></extra>\",\"legendgroup\":\"LHS\",\"marker\":{\"color\":\"#00cc96\",\"symbol\":\"circle\",\"size\":5},\"mode\":\"markers\",\"name\":\"LHS\",\"orientation\":\"v\",\"showlegend\":true,\"x\":[101.3292807],\"xaxis\":\"x\",\"y\":[28.34],\"yaxis\":\"y\",\"type\":\"scatter\"},{\"hovertemplate\":\"Model=Town & Country<br>Power_perf_factor=%{x}<br>Price_in_thousands=%{y}<extra></extra>\",\"legendgroup\":\"Town & Country\",\"marker\":{\"color\":\"#ab63fa\",\"symbol\":\"circle\",\"size\":5},\"mode\":\"markers\",\"name\":\"Town & Country\",\"orientation\":\"v\",\"showlegend\":true,\"x\":[null],\"xaxis\":\"x\",\"y\":[null],\"yaxis\":\"y\",\"type\":\"scatter\"},{\"hovertemplate\":\"Model=300M<br>Power_perf_factor=%{x}<br>Price_in_thousands=%{y}<extra></extra>\",\"legendgroup\":\"300M\",\"marker\":{\"color\":\"#FFA15A\",\"symbol\":\"circle\",\"size\":5},\"mode\":\"markers\",\"name\":\"300M\",\"orientation\":\"v\",\"showlegend\":true,\"x\":[101.6552441],\"xaxis\":\"x\",\"y\":[29.185],\"yaxis\":\"y\",\"type\":\"scatter\"},{\"hovertemplate\":\"Model=Neon<br>Power_perf_factor=%{x}<br>Price_in_thousands=%{y}<extra></extra>\",\"legendgroup\":\"Neon\",\"marker\":{\"color\":\"#19d3f3\",\"symbol\":\"circle\",\"size\":5},\"mode\":\"markers\",\"name\":\"Neon\",\"orientation\":\"v\",\"showlegend\":true,\"x\":[52.08489875,52.08489875],\"xaxis\":\"x\",\"y\":[12.64,12.64],\"yaxis\":\"y\",\"type\":\"scatter\"},{\"hovertemplate\":\"Model=Avenger<br>Power_perf_factor=%{x}<br>Price_in_thousands=%{y}<extra></extra>\",\"legendgroup\":\"Avenger\",\"marker\":{\"color\":\"#FF6692\",\"symbol\":\"circle\",\"size\":5},\"mode\":\"markers\",\"name\":\"Avenger\",\"orientation\":\"v\",\"showlegend\":true,\"x\":[65.65050834],\"xaxis\":\"x\",\"y\":[19.045],\"yaxis\":\"y\",\"type\":\"scatter\"},{\"hovertemplate\":\"Model=Stratus<br>Power_perf_factor=%{x}<br>Price_in_thousands=%{y}<extra></extra>\",\"legendgroup\":\"Stratus\",\"marker\":{\"color\":\"#B6E880\",\"symbol\":\"circle\",\"size\":5},\"mode\":\"markers\",\"name\":\"Stratus\",\"orientation\":\"v\",\"showlegend\":true,\"x\":[67.87610784],\"xaxis\":\"x\",\"y\":[20.23],\"yaxis\":\"y\",\"type\":\"scatter\"},{\"hovertemplate\":\"Model=Intrepid<br>Power_perf_factor=%{x}<br>Price_in_thousands=%{y}<extra></extra>\",\"legendgroup\":\"Intrepid\",\"marker\":{\"color\":\"#FF97FF\",\"symbol\":\"circle\",\"size\":5},\"mode\":\"markers\",\"name\":\"Intrepid\",\"orientation\":\"v\",\"showlegend\":true,\"x\":[80.83147017],\"xaxis\":\"x\",\"y\":[22.505],\"yaxis\":\"y\",\"type\":\"scatter\"},{\"hovertemplate\":\"Model=Viper<br>Power_perf_factor=%{x}<br>Price_in_thousands=%{y}<extra></extra>\",\"legendgroup\":\"Viper\",\"marker\":{\"color\":\"#FECB52\",\"symbol\":\"circle\",\"size\":5},\"mode\":\"markers\",\"name\":\"Viper\",\"orientation\":\"v\",\"showlegend\":true,\"x\":[188.144323],\"xaxis\":\"x\",\"y\":[69.725],\"yaxis\":\"y\",\"type\":\"scatter\"},{\"hovertemplate\":\"Model=Ram Pickup<br>Power_perf_factor=%{x}<br>Price_in_thousands=%{y}<extra></extra>\",\"legendgroup\":\"Ram Pickup\",\"marker\":{\"color\":\"#636efa\",\"symbol\":\"circle\",\"size\":5},\"mode\":\"markers\",\"name\":\"Ram Pickup\",\"orientation\":\"v\",\"showlegend\":true,\"x\":[90.21170005],\"xaxis\":\"x\",\"y\":[19.46],\"yaxis\":\"y\",\"type\":\"scatter\"},{\"hovertemplate\":\"Model=Ram Wagon<br>Power_perf_factor=%{x}<br>Price_in_thousands=%{y}<extra></extra>\",\"legendgroup\":\"Ram Wagon\",\"marker\":{\"color\":\"#EF553B\",\"symbol\":\"circle\",\"size\":5},\"mode\":\"markers\",\"name\":\"Ram Wagon\",\"orientation\":\"v\",\"showlegend\":true,\"x\":[71.13529161],\"xaxis\":\"x\",\"y\":[21.315],\"yaxis\":\"y\",\"type\":\"scatter\"},{\"hovertemplate\":\"Model=Ram Van<br>Power_perf_factor=%{x}<br>Price_in_thousands=%{y}<extra></extra>\",\"legendgroup\":\"Ram Van\",\"marker\":{\"color\":\"#00cc96\",\"symbol\":\"circle\",\"size\":5},\"mode\":\"markers\",\"name\":\"Ram Van\",\"orientation\":\"v\",\"showlegend\":true,\"x\":[70.07832154],\"xaxis\":\"x\",\"y\":[18.575],\"yaxis\":\"y\",\"type\":\"scatter\"},{\"hovertemplate\":\"Model=Dakota<br>Power_perf_factor=%{x}<br>Price_in_thousands=%{y}<extra></extra>\",\"legendgroup\":\"Dakota\",\"marker\":{\"color\":\"#ab63fa\",\"symbol\":\"circle\",\"size\":5},\"mode\":\"markers\",\"name\":\"Dakota\",\"orientation\":\"v\",\"showlegend\":true,\"x\":[49.64500177],\"xaxis\":\"x\",\"y\":[16.98],\"yaxis\":\"y\",\"type\":\"scatter\"},{\"hovertemplate\":\"Model=Durango<br>Power_perf_factor=%{x}<br>Price_in_thousands=%{y}<extra></extra>\",\"legendgroup\":\"Durango\",\"marker\":{\"color\":\"#FFA15A\",\"symbol\":\"circle\",\"size\":5},\"mode\":\"markers\",\"name\":\"Durango\",\"orientation\":\"v\",\"showlegend\":true,\"x\":[92.85412522],\"xaxis\":\"x\",\"y\":[26.31],\"yaxis\":\"y\",\"type\":\"scatter\"},{\"hovertemplate\":\"Model=Caravan<br>Power_perf_factor=%{x}<br>Price_in_thousands=%{y}<extra></extra>\",\"legendgroup\":\"Caravan\",\"marker\":{\"color\":\"#19d3f3\",\"symbol\":\"circle\",\"size\":5},\"mode\":\"markers\",\"name\":\"Caravan\",\"orientation\":\"v\",\"showlegend\":true,\"x\":[61.22700031],\"xaxis\":\"x\",\"y\":[19.565],\"yaxis\":\"y\",\"type\":\"scatter\"},{\"hovertemplate\":\"Model=Escort<br>Power_perf_factor=%{x}<br>Price_in_thousands=%{y}<extra></extra>\",\"legendgroup\":\"Escort\",\"marker\":{\"color\":\"#FF6692\",\"symbol\":\"circle\",\"size\":5},\"mode\":\"markers\",\"name\":\"Escort\",\"orientation\":\"v\",\"showlegend\":true,\"x\":[44.08370946],\"xaxis\":\"x\",\"y\":[12.07],\"yaxis\":\"y\",\"type\":\"scatter\"},{\"hovertemplate\":\"Model=Mustang<br>Power_perf_factor=%{x}<br>Price_in_thousands=%{y}<extra></extra>\",\"legendgroup\":\"Mustang\",\"marker\":{\"color\":\"#B6E880\",\"symbol\":\"circle\",\"size\":5},\"mode\":\"markers\",\"name\":\"Mustang\",\"orientation\":\"v\",\"showlegend\":true,\"x\":[76.50918456],\"xaxis\":\"x\",\"y\":[21.56],\"yaxis\":\"y\",\"type\":\"scatter\"},{\"hovertemplate\":\"Model=Contour<br>Power_perf_factor=%{x}<br>Price_in_thousands=%{y}<extra></extra>\",\"legendgroup\":\"Contour\",\"marker\":{\"color\":\"#FF97FF\",\"symbol\":\"circle\",\"size\":5},\"mode\":\"markers\",\"name\":\"Contour\",\"orientation\":\"v\",\"showlegend\":true,\"x\":[67.35101072],\"xaxis\":\"x\",\"y\":[17.035],\"yaxis\":\"y\",\"type\":\"scatter\"},{\"hovertemplate\":\"Model=Taurus<br>Power_perf_factor=%{x}<br>Price_in_thousands=%{y}<extra></extra>\",\"legendgroup\":\"Taurus\",\"marker\":{\"color\":\"#FECB52\",\"symbol\":\"circle\",\"size\":5},\"mode\":\"markers\",\"name\":\"Taurus\",\"orientation\":\"v\",\"showlegend\":true,\"x\":[62.5037395],\"xaxis\":\"x\",\"y\":[17.885],\"yaxis\":\"y\",\"type\":\"scatter\"},{\"hovertemplate\":\"Model=Focus<br>Power_perf_factor=%{x}<br>Price_in_thousands=%{y}<extra></extra>\",\"legendgroup\":\"Focus\",\"marker\":{\"color\":\"#636efa\",\"symbol\":\"circle\",\"size\":5},\"mode\":\"markers\",\"name\":\"Focus\",\"orientation\":\"v\",\"showlegend\":true,\"x\":[43.11713201],\"xaxis\":\"x\",\"y\":[12.315],\"yaxis\":\"y\",\"type\":\"scatter\"},{\"hovertemplate\":\"Model=Crown Victoria<br>Power_perf_factor=%{x}<br>Price_in_thousands=%{y}<extra></extra>\",\"legendgroup\":\"Crown Victoria\",\"marker\":{\"color\":\"#EF553B\",\"symbol\":\"circle\",\"size\":5},\"mode\":\"markers\",\"name\":\"Crown Victoria\",\"orientation\":\"v\",\"showlegend\":true,\"x\":[80.49953671],\"xaxis\":\"x\",\"y\":[22.195],\"yaxis\":\"y\",\"type\":\"scatter\"},{\"hovertemplate\":\"Model=Explorer<br>Power_perf_factor=%{x}<br>Price_in_thousands=%{y}<extra></extra>\",\"legendgroup\":\"Explorer\",\"marker\":{\"color\":\"#00cc96\",\"symbol\":\"circle\",\"size\":5},\"mode\":\"markers\",\"name\":\"Explorer\",\"orientation\":\"v\",\"showlegend\":true,\"x\":[87.63549578],\"xaxis\":\"x\",\"y\":[31.93],\"yaxis\":\"y\",\"type\":\"scatter\"},{\"hovertemplate\":\"Model=Windstar<br>Power_perf_factor=%{x}<br>Price_in_thousands=%{y}<extra></extra>\",\"legendgroup\":\"Windstar\",\"marker\":{\"color\":\"#ab63fa\",\"symbol\":\"circle\",\"size\":5},\"mode\":\"markers\",\"name\":\"Windstar\",\"orientation\":\"v\",\"showlegend\":true,\"x\":[62.09504839],\"xaxis\":\"x\",\"y\":[21.41],\"yaxis\":\"y\",\"type\":\"scatter\"},{\"hovertemplate\":\"Model=Expedition<br>Power_perf_factor=%{x}<br>Price_in_thousands=%{y}<extra></extra>\",\"legendgroup\":\"Expedition\",\"marker\":{\"color\":\"#FFA15A\",\"symbol\":\"circle\",\"size\":5},\"mode\":\"markers\",\"name\":\"Expedition\",\"orientation\":\"v\",\"showlegend\":true,\"x\":[100.0248023],\"xaxis\":\"x\",\"y\":[36.135],\"yaxis\":\"y\",\"type\":\"scatter\"},{\"hovertemplate\":\"Model=Ranger<br>Power_perf_factor=%{x}<br>Price_in_thousands=%{y}<extra></extra>\",\"legendgroup\":\"Ranger\",\"marker\":{\"color\":\"#19d3f3\",\"symbol\":\"circle\",\"size\":5},\"mode\":\"markers\",\"name\":\"Ranger\",\"orientation\":\"v\",\"showlegend\":true,\"x\":[47.38953131],\"xaxis\":\"x\",\"y\":[12.05],\"yaxis\":\"y\",\"type\":\"scatter\"},{\"hovertemplate\":\"Model=F-Series<br>Power_perf_factor=%{x}<br>Price_in_thousands=%{y}<extra></extra>\",\"legendgroup\":\"F-Series\",\"marker\":{\"color\":\"#FF6692\",\"symbol\":\"circle\",\"size\":5},\"mode\":\"markers\",\"name\":\"F-Series\",\"orientation\":\"v\",\"showlegend\":true,\"x\":[89.40193473],\"xaxis\":\"x\",\"y\":[26.935],\"yaxis\":\"y\",\"type\":\"scatter\"},{\"hovertemplate\":\"Model=Civic<br>Power_perf_factor=%{x}<br>Price_in_thousands=%{y}<extra></extra>\",\"legendgroup\":\"Civic\",\"marker\":{\"color\":\"#B6E880\",\"symbol\":\"circle\",\"size\":5},\"mode\":\"markers\",\"name\":\"Civic\",\"orientation\":\"v\",\"showlegend\":true,\"x\":[42.87909734],\"xaxis\":\"x\",\"y\":[12.885],\"yaxis\":\"y\",\"type\":\"scatter\"},{\"hovertemplate\":\"Model=Accord<br>Power_perf_factor=%{x}<br>Price_in_thousands=%{y}<extra></extra>\",\"legendgroup\":\"Accord\",\"marker\":{\"color\":\"#FF97FF\",\"symbol\":\"circle\",\"size\":5},\"mode\":\"markers\",\"name\":\"Accord\",\"orientation\":\"v\",\"showlegend\":true,\"x\":[54.26954829],\"xaxis\":\"x\",\"y\":[15.35],\"yaxis\":\"y\",\"type\":\"scatter\"},{\"hovertemplate\":\"Model=CR-V<br>Power_perf_factor=%{x}<br>Price_in_thousands=%{y}<extra></extra>\",\"legendgroup\":\"CR-V\",\"marker\":{\"color\":\"#FECB52\",\"symbol\":\"circle\",\"size\":5},\"mode\":\"markers\",\"name\":\"CR-V\",\"orientation\":\"v\",\"showlegend\":true,\"x\":[60.08796662],\"xaxis\":\"x\",\"y\":[20.55],\"yaxis\":\"y\",\"type\":\"scatter\"},{\"hovertemplate\":\"Model=Passport<br>Power_perf_factor=%{x}<br>Price_in_thousands=%{y}<extra></extra>\",\"legendgroup\":\"Passport\",\"marker\":{\"color\":\"#636efa\",\"symbol\":\"circle\",\"size\":5},\"mode\":\"markers\",\"name\":\"Passport\",\"orientation\":\"v\",\"showlegend\":true,\"x\":[83.6025008],\"xaxis\":\"x\",\"y\":[26.6],\"yaxis\":\"y\",\"type\":\"scatter\"},{\"hovertemplate\":\"Model=Odyssey<br>Power_perf_factor=%{x}<br>Price_in_thousands=%{y}<extra></extra>\",\"legendgroup\":\"Odyssey\",\"marker\":{\"color\":\"#EF553B\",\"symbol\":\"circle\",\"size\":5},\"mode\":\"markers\",\"name\":\"Odyssey\",\"orientation\":\"v\",\"showlegend\":true,\"x\":[85.21769134],\"xaxis\":\"x\",\"y\":[26.0],\"yaxis\":\"y\",\"type\":\"scatter\"},{\"hovertemplate\":\"Model=Accent<br>Power_perf_factor=%{x}<br>Price_in_thousands=%{y}<extra></extra>\",\"legendgroup\":\"Accent\",\"marker\":{\"color\":\"#00cc96\",\"symbol\":\"circle\",\"size\":5},\"mode\":\"markers\",\"name\":\"Accent\",\"orientation\":\"v\",\"showlegend\":true,\"x\":[36.67228358],\"xaxis\":\"x\",\"y\":[9.699],\"yaxis\":\"y\",\"type\":\"scatter\"},{\"hovertemplate\":\"Model=Elantra<br>Power_perf_factor=%{x}<br>Price_in_thousands=%{y}<extra></extra>\",\"legendgroup\":\"Elantra\",\"marker\":{\"color\":\"#ab63fa\",\"symbol\":\"circle\",\"size\":5},\"mode\":\"markers\",\"name\":\"Elantra\",\"orientation\":\"v\",\"showlegend\":true,\"x\":[54.59004516],\"xaxis\":\"x\",\"y\":[11.799],\"yaxis\":\"y\",\"type\":\"scatter\"},{\"hovertemplate\":\"Model=Sonata<br>Power_perf_factor=%{x}<br>Price_in_thousands=%{y}<extra></extra>\",\"legendgroup\":\"Sonata\",\"marker\":{\"color\":\"#FFA15A\",\"symbol\":\"circle\",\"size\":5},\"mode\":\"markers\",\"name\":\"Sonata\",\"orientation\":\"v\",\"showlegend\":true,\"x\":[58.758249],\"xaxis\":\"x\",\"y\":[14.999],\"yaxis\":\"y\",\"type\":\"scatter\"},{\"hovertemplate\":\"Model=I30<br>Power_perf_factor=%{x}<br>Price_in_thousands=%{y}<extra></extra>\",\"legendgroup\":\"I30\",\"marker\":{\"color\":\"#19d3f3\",\"symbol\":\"circle\",\"size\":5},\"mode\":\"markers\",\"name\":\"I30\",\"orientation\":\"v\",\"showlegend\":true,\"x\":[92.43688923],\"xaxis\":\"x\",\"y\":[29.465],\"yaxis\":\"y\",\"type\":\"scatter\"},{\"hovertemplate\":\"Model=S-Type<br>Power_perf_factor=%{x}<br>Price_in_thousands=%{y}<extra></extra>\",\"legendgroup\":\"S-Type\",\"marker\":{\"color\":\"#FF6692\",\"symbol\":\"circle\",\"size\":5},\"mode\":\"markers\",\"name\":\"S-Type\",\"orientation\":\"v\",\"showlegend\":true,\"x\":[102.1789848],\"xaxis\":\"x\",\"y\":[42.8],\"yaxis\":\"y\",\"type\":\"scatter\"},{\"hovertemplate\":\"Model=Wrangler<br>Power_perf_factor=%{x}<br>Price_in_thousands=%{y}<extra></extra>\",\"legendgroup\":\"Wrangler\",\"marker\":{\"color\":\"#B6E880\",\"symbol\":\"circle\",\"size\":5},\"mode\":\"markers\",\"name\":\"Wrangler\",\"orientation\":\"v\",\"showlegend\":true,\"x\":[48.67289791],\"xaxis\":\"x\",\"y\":[14.46],\"yaxis\":\"y\",\"type\":\"scatter\"},{\"hovertemplate\":\"Model=Cherokee<br>Power_perf_factor=%{x}<br>Price_in_thousands=%{y}<extra></extra>\",\"legendgroup\":\"Cherokee\",\"marker\":{\"color\":\"#FF97FF\",\"symbol\":\"circle\",\"size\":5},\"mode\":\"markers\",\"name\":\"Cherokee\",\"orientation\":\"v\",\"showlegend\":true,\"x\":[76.58443962],\"xaxis\":\"x\",\"y\":[21.62],\"yaxis\":\"y\",\"type\":\"scatter\"},{\"hovertemplate\":\"Model=Grand Cherokee<br>Power_perf_factor=%{x}<br>Price_in_thousands=%{y}<extra></extra>\",\"legendgroup\":\"Grand Cherokee\",\"marker\":{\"color\":\"#FECB52\",\"symbol\":\"circle\",\"size\":5},\"mode\":\"markers\",\"name\":\"Grand Cherokee\",\"orientation\":\"v\",\"showlegend\":true,\"x\":[80.38777912],\"xaxis\":\"x\",\"y\":[26.895],\"yaxis\":\"y\",\"type\":\"scatter\"},{\"hovertemplate\":\"Model=ES300<br>Power_perf_factor=%{x}<br>Price_in_thousands=%{y}<extra></extra>\",\"legendgroup\":\"ES300\",\"marker\":{\"color\":\"#636efa\",\"symbol\":\"circle\",\"size\":5},\"mode\":\"markers\",\"name\":\"ES300\",\"orientation\":\"v\",\"showlegend\":true,\"x\":[87.21100104],\"xaxis\":\"x\",\"y\":[31.505],\"yaxis\":\"y\",\"type\":\"scatter\"},{\"hovertemplate\":\"Model=GS300<br>Power_perf_factor=%{x}<br>Price_in_thousands=%{y}<extra></extra>\",\"legendgroup\":\"GS300\",\"marker\":{\"color\":\"#EF553B\",\"symbol\":\"circle\",\"size\":5},\"mode\":\"markers\",\"name\":\"GS300\",\"orientation\":\"v\",\"showlegend\":true,\"x\":[94.9466984],\"xaxis\":\"x\",\"y\":[37.805],\"yaxis\":\"y\",\"type\":\"scatter\"},{\"hovertemplate\":\"Model=GS400<br>Power_perf_factor=%{x}<br>Price_in_thousands=%{y}<extra></extra>\",\"legendgroup\":\"GS400\",\"marker\":{\"color\":\"#00cc96\",\"symbol\":\"circle\",\"size\":5},\"mode\":\"markers\",\"name\":\"GS400\",\"orientation\":\"v\",\"showlegend\":true,\"x\":[125.0133574],\"xaxis\":\"x\",\"y\":[46.305],\"yaxis\":\"y\",\"type\":\"scatter\"},{\"hovertemplate\":\"Model=LS400<br>Power_perf_factor=%{x}<br>Price_in_thousands=%{y}<extra></extra>\",\"legendgroup\":\"LS400\",\"marker\":{\"color\":\"#ab63fa\",\"symbol\":\"circle\",\"size\":5},\"mode\":\"markers\",\"name\":\"LS400\",\"orientation\":\"v\",\"showlegend\":true,\"x\":[124.4467163],\"xaxis\":\"x\",\"y\":[54.005],\"yaxis\":\"y\",\"type\":\"scatter\"},{\"hovertemplate\":\"Model=LX470<br>Power_perf_factor=%{x}<br>Price_in_thousands=%{y}<extra></extra>\",\"legendgroup\":\"LX470\",\"marker\":{\"color\":\"#FFA15A\",\"symbol\":\"circle\",\"size\":5},\"mode\":\"markers\",\"name\":\"LX470\",\"orientation\":\"v\",\"showlegend\":true,\"x\":[105.760458],\"xaxis\":\"x\",\"y\":[60.105],\"yaxis\":\"y\",\"type\":\"scatter\"},{\"hovertemplate\":\"Model=RX300<br>Power_perf_factor=%{x}<br>Price_in_thousands=%{y}<extra></extra>\",\"legendgroup\":\"RX300\",\"marker\":{\"color\":\"#19d3f3\",\"symbol\":\"circle\",\"size\":5},\"mode\":\"markers\",\"name\":\"RX300\",\"orientation\":\"v\",\"showlegend\":true,\"x\":[91.94380156],\"xaxis\":\"x\",\"y\":[34.605],\"yaxis\":\"y\",\"type\":\"scatter\"},{\"hovertemplate\":\"Model=Continental<br>Power_perf_factor=%{x}<br>Price_in_thousands=%{y}<extra></extra>\",\"legendgroup\":\"Continental\",\"marker\":{\"color\":\"#FF6692\",\"symbol\":\"circle\",\"size\":5},\"mode\":\"markers\",\"name\":\"Continental\",\"orientation\":\"v\",\"showlegend\":true,\"x\":[113.5402069],\"xaxis\":\"x\",\"y\":[39.08],\"yaxis\":\"y\",\"type\":\"scatter\"},{\"hovertemplate\":\"Model=Town car<br>Power_perf_factor=%{x}<br>Price_in_thousands=%{y}<extra></extra>\",\"legendgroup\":\"Town car\",\"marker\":{\"color\":\"#B6E880\",\"symbol\":\"circle\",\"size\":5},\"mode\":\"markers\",\"name\":\"Town car\",\"orientation\":\"v\",\"showlegend\":true,\"x\":[93.9579169],\"xaxis\":\"x\",\"y\":[43.33],\"yaxis\":\"y\",\"type\":\"scatter\"},{\"hovertemplate\":\"Model=Navigator<br>Power_perf_factor=%{x}<br>Price_in_thousands=%{y}<extra></extra>\",\"legendgroup\":\"Navigator\",\"marker\":{\"color\":\"#FF97FF\",\"symbol\":\"circle\",\"size\":5},\"mode\":\"markers\",\"name\":\"Navigator\",\"orientation\":\"v\",\"showlegend\":true,\"x\":[123.9720467],\"xaxis\":\"x\",\"y\":[42.66],\"yaxis\":\"y\",\"type\":\"scatter\"},{\"hovertemplate\":\"Model=Mirage<br>Power_perf_factor=%{x}<br>Price_in_thousands=%{y}<extra></extra>\",\"legendgroup\":\"Mirage\",\"marker\":{\"color\":\"#FECB52\",\"symbol\":\"circle\",\"size\":5},\"mode\":\"markers\",\"name\":\"Mirage\",\"orientation\":\"v\",\"showlegend\":true,\"x\":[45.83218056],\"xaxis\":\"x\",\"y\":[13.987],\"yaxis\":\"y\",\"type\":\"scatter\"},{\"hovertemplate\":\"Model=Eclipse<br>Power_perf_factor=%{x}<br>Price_in_thousands=%{y}<extra></extra>\",\"legendgroup\":\"Eclipse\",\"marker\":{\"color\":\"#636efa\",\"symbol\":\"circle\",\"size\":5},\"mode\":\"markers\",\"name\":\"Eclipse\",\"orientation\":\"v\",\"showlegend\":true,\"x\":[62.44196235],\"xaxis\":\"x\",\"y\":[19.047],\"yaxis\":\"y\",\"type\":\"scatter\"},{\"hovertemplate\":\"Model=Galant<br>Power_perf_factor=%{x}<br>Price_in_thousands=%{y}<extra></extra>\",\"legendgroup\":\"Galant\",\"marker\":{\"color\":\"#EF553B\",\"symbol\":\"circle\",\"size\":5},\"mode\":\"markers\",\"name\":\"Galant\",\"orientation\":\"v\",\"showlegend\":true,\"x\":[58.60677292],\"xaxis\":\"x\",\"y\":[17.357],\"yaxis\":\"y\",\"type\":\"scatter\"},{\"hovertemplate\":\"Model=Diamante<br>Power_perf_factor=%{x}<br>Price_in_thousands=%{y}<extra></extra>\",\"legendgroup\":\"Diamante\",\"marker\":{\"color\":\"#00cc96\",\"symbol\":\"circle\",\"size\":5},\"mode\":\"markers\",\"name\":\"Diamante\",\"orientation\":\"v\",\"showlegend\":true,\"x\":[84.83077858],\"xaxis\":\"x\",\"y\":[24.997],\"yaxis\":\"y\",\"type\":\"scatter\"},{\"hovertemplate\":\"Model=3000GT<br>Power_perf_factor=%{x}<br>Price_in_thousands=%{y}<extra></extra>\",\"legendgroup\":\"3000GT\",\"marker\":{\"color\":\"#ab63fa\",\"symbol\":\"circle\",\"size\":5},\"mode\":\"markers\",\"name\":\"3000GT\",\"orientation\":\"v\",\"showlegend\":true,\"x\":[67.54415494],\"xaxis\":\"x\",\"y\":[25.45],\"yaxis\":\"y\",\"type\":\"scatter\"},{\"hovertemplate\":\"Model=Montero<br>Power_perf_factor=%{x}<br>Price_in_thousands=%{y}<extra></extra>\",\"legendgroup\":\"Montero\",\"marker\":{\"color\":\"#FFA15A\",\"symbol\":\"circle\",\"size\":5},\"mode\":\"markers\",\"name\":\"Montero\",\"orientation\":\"v\",\"showlegend\":true,\"x\":[83.92081504],\"xaxis\":\"x\",\"y\":[31.807],\"yaxis\":\"y\",\"type\":\"scatter\"},{\"hovertemplate\":\"Model=Montero Sport<br>Power_perf_factor=%{x}<br>Price_in_thousands=%{y}<extra></extra>\",\"legendgroup\":\"Montero Sport\",\"marker\":{\"color\":\"#19d3f3\",\"symbol\":\"circle\",\"size\":5},\"mode\":\"markers\",\"name\":\"Montero Sport\",\"orientation\":\"v\",\"showlegend\":true,\"x\":[70.66094179],\"xaxis\":\"x\",\"y\":[22.527],\"yaxis\":\"y\",\"type\":\"scatter\"},{\"hovertemplate\":\"Model=Mystique<br>Power_perf_factor=%{x}<br>Price_in_thousands=%{y}<extra></extra>\",\"legendgroup\":\"Mystique\",\"marker\":{\"color\":\"#FF6692\",\"symbol\":\"circle\",\"size\":5},\"mode\":\"markers\",\"name\":\"Mystique\",\"orientation\":\"v\",\"showlegend\":true,\"x\":[50.99774761],\"xaxis\":\"x\",\"y\":[16.24],\"yaxis\":\"y\",\"type\":\"scatter\"},{\"hovertemplate\":\"Model=Cougar<br>Power_perf_factor=%{x}<br>Price_in_thousands=%{y}<extra></extra>\",\"legendgroup\":\"Cougar\",\"marker\":{\"color\":\"#B6E880\",\"symbol\":\"circle\",\"size\":5},\"mode\":\"markers\",\"name\":\"Cougar\",\"orientation\":\"v\",\"showlegend\":true,\"x\":[51.11347426],\"xaxis\":\"x\",\"y\":[16.54],\"yaxis\":\"y\",\"type\":\"scatter\"},{\"hovertemplate\":\"Model=Sable<br>Power_perf_factor=%{x}<br>Price_in_thousands=%{y}<extra></extra>\",\"legendgroup\":\"Sable\",\"marker\":{\"color\":\"#FF97FF\",\"symbol\":\"circle\",\"size\":5},\"mode\":\"markers\",\"name\":\"Sable\",\"orientation\":\"v\",\"showlegend\":true,\"x\":[62.23996663],\"xaxis\":\"x\",\"y\":[19.035],\"yaxis\":\"y\",\"type\":\"scatter\"},{\"hovertemplate\":\"Model=Grand Marquis<br>Power_perf_factor=%{x}<br>Price_in_thousands=%{y}<extra></extra>\",\"legendgroup\":\"Grand Marquis\",\"marker\":{\"color\":\"#FECB52\",\"symbol\":\"circle\",\"size\":5},\"mode\":\"markers\",\"name\":\"Grand Marquis\",\"orientation\":\"v\",\"showlegend\":true,\"x\":[80.65769646],\"xaxis\":\"x\",\"y\":[22.605],\"yaxis\":\"y\",\"type\":\"scatter\"},{\"hovertemplate\":\"Model=Mountaineer<br>Power_perf_factor=%{x}<br>Price_in_thousands=%{y}<extra></extra>\",\"legendgroup\":\"Mountaineer\",\"marker\":{\"color\":\"#636efa\",\"symbol\":\"circle\",\"size\":5},\"mode\":\"markers\",\"name\":\"Mountaineer\",\"orientation\":\"v\",\"showlegend\":true,\"x\":[85.94974425],\"xaxis\":\"x\",\"y\":[27.56],\"yaxis\":\"y\",\"type\":\"scatter\"},{\"hovertemplate\":\"Model=Villager<br>Power_perf_factor=%{x}<br>Price_in_thousands=%{y}<extra></extra>\",\"legendgroup\":\"Villager\",\"marker\":{\"color\":\"#EF553B\",\"symbol\":\"circle\",\"size\":5},\"mode\":\"markers\",\"name\":\"Villager\",\"orientation\":\"v\",\"showlegend\":true,\"x\":[69.671461],\"xaxis\":\"x\",\"y\":[22.51],\"yaxis\":\"y\",\"type\":\"scatter\"},{\"hovertemplate\":\"Model=C-Class<br>Power_perf_factor=%{x}<br>Price_in_thousands=%{y}<extra></extra>\",\"legendgroup\":\"C-Class\",\"marker\":{\"color\":\"#00cc96\",\"symbol\":\"circle\",\"size\":5},\"mode\":\"markers\",\"name\":\"C-Class\",\"orientation\":\"v\",\"showlegend\":true,\"x\":[78.28073088],\"xaxis\":\"x\",\"y\":[31.75],\"yaxis\":\"y\",\"type\":\"scatter\"},{\"hovertemplate\":\"Model=E-Class<br>Power_perf_factor=%{x}<br>Price_in_thousands=%{y}<extra></extra>\",\"legendgroup\":\"E-Class\",\"marker\":{\"color\":\"#ab63fa\",\"symbol\":\"circle\",\"size\":5},\"mode\":\"markers\",\"name\":\"E-Class\",\"orientation\":\"v\",\"showlegend\":true,\"x\":[98.2497375],\"xaxis\":\"x\",\"y\":[49.9],\"yaxis\":\"y\",\"type\":\"scatter\"},{\"hovertemplate\":\"Model=S-Class<br>Power_perf_factor=%{x}<br>Price_in_thousands=%{y}<extra></extra>\",\"legendgroup\":\"S-Class\",\"marker\":{\"color\":\"#FFA15A\",\"symbol\":\"circle\",\"size\":5},\"mode\":\"markers\",\"name\":\"S-Class\",\"orientation\":\"v\",\"showlegend\":true,\"x\":[125.2738757],\"xaxis\":\"x\",\"y\":[69.7],\"yaxis\":\"y\",\"type\":\"scatter\"},{\"hovertemplate\":\"Model=SL-Class<br>Power_perf_factor=%{x}<br>Price_in_thousands=%{y}<extra></extra>\",\"legendgroup\":\"SL-Class\",\"marker\":{\"color\":\"#19d3f3\",\"symbol\":\"circle\",\"size\":5},\"mode\":\"markers\",\"name\":\"SL-Class\",\"orientation\":\"v\",\"showlegend\":true,\"x\":[139.9822936],\"xaxis\":\"x\",\"y\":[82.6],\"yaxis\":\"y\",\"type\":\"scatter\"},{\"hovertemplate\":\"Model=SLK<br>Power_perf_factor=%{x}<br>Price_in_thousands=%{y}<extra></extra>\",\"legendgroup\":\"SLK\",\"marker\":{\"color\":\"#FF6692\",\"symbol\":\"circle\",\"size\":5},\"mode\":\"markers\",\"name\":\"SLK\",\"orientation\":\"v\",\"showlegend\":true,\"x\":[82.80736193],\"xaxis\":\"x\",\"y\":[38.9],\"yaxis\":\"y\",\"type\":\"scatter\"},{\"hovertemplate\":\"Model=SLK230<br>Power_perf_factor=%{x}<br>Price_in_thousands=%{y}<extra></extra>\",\"legendgroup\":\"SLK230\",\"marker\":{\"color\":\"#B6E880\",\"symbol\":\"circle\",\"size\":5},\"mode\":\"markers\",\"name\":\"SLK230\",\"orientation\":\"v\",\"showlegend\":true,\"x\":[81.84896924],\"xaxis\":\"x\",\"y\":[41.0],\"yaxis\":\"y\",\"type\":\"scatter\"},{\"hovertemplate\":\"Model=CLK Coupe<br>Power_perf_factor=%{x}<br>Price_in_thousands=%{y}<extra></extra>\",\"legendgroup\":\"CLK Coupe\",\"marker\":{\"color\":\"#FF97FF\",\"symbol\":\"circle\",\"size\":5},\"mode\":\"markers\",\"name\":\"CLK Coupe\",\"orientation\":\"v\",\"showlegend\":true,\"x\":[92.92579177],\"xaxis\":\"x\",\"y\":[41.6],\"yaxis\":\"y\",\"type\":\"scatter\"},{\"hovertemplate\":\"Model=CL500<br>Power_perf_factor=%{x}<br>Price_in_thousands=%{y}<extra></extra>\",\"legendgroup\":\"CL500\",\"marker\":{\"color\":\"#FECB52\",\"symbol\":\"circle\",\"size\":5},\"mode\":\"markers\",\"name\":\"CL500\",\"orientation\":\"v\",\"showlegend\":true,\"x\":[141.1009845],\"xaxis\":\"x\",\"y\":[85.5],\"yaxis\":\"y\",\"type\":\"scatter\"},{\"hovertemplate\":\"Model=M-Class<br>Power_perf_factor=%{x}<br>Price_in_thousands=%{y}<extra></extra>\",\"legendgroup\":\"M-Class\",\"marker\":{\"color\":\"#636efa\",\"symbol\":\"circle\",\"size\":5},\"mode\":\"markers\",\"name\":\"M-Class\",\"orientation\":\"v\",\"showlegend\":true,\"x\":[90.49553213],\"xaxis\":\"x\",\"y\":[35.3],\"yaxis\":\"y\",\"type\":\"scatter\"},{\"hovertemplate\":\"Model=Sentra<br>Power_perf_factor=%{x}<br>Price_in_thousands=%{y}<extra></extra>\",\"legendgroup\":\"Sentra\",\"marker\":{\"color\":\"#EF553B\",\"symbol\":\"circle\",\"size\":5},\"mode\":\"markers\",\"name\":\"Sentra\",\"orientation\":\"v\",\"showlegend\":true,\"x\":[50.24197791],\"xaxis\":\"x\",\"y\":[13.499],\"yaxis\":\"y\",\"type\":\"scatter\"},{\"hovertemplate\":\"Model=Altima<br>Power_perf_factor=%{x}<br>Price_in_thousands=%{y}<extra></extra>\",\"legendgroup\":\"Altima\",\"marker\":{\"color\":\"#00cc96\",\"symbol\":\"circle\",\"size\":5},\"mode\":\"markers\",\"name\":\"Altima\",\"orientation\":\"v\",\"showlegend\":true,\"x\":[63.31372783],\"xaxis\":\"x\",\"y\":[20.39],\"yaxis\":\"y\",\"type\":\"scatter\"},{\"hovertemplate\":\"Model=Maxima<br>Power_perf_factor=%{x}<br>Price_in_thousands=%{y}<extra></extra>\",\"legendgroup\":\"Maxima\",\"marker\":{\"color\":\"#ab63fa\",\"symbol\":\"circle\",\"size\":5},\"mode\":\"markers\",\"name\":\"Maxima\",\"orientation\":\"v\",\"showlegend\":true,\"x\":[89.42782031],\"xaxis\":\"x\",\"y\":[26.249],\"yaxis\":\"y\",\"type\":\"scatter\"},{\"hovertemplate\":\"Model=Quest<br>Power_perf_factor=%{x}<br>Price_in_thousands=%{y}<extra></extra>\",\"legendgroup\":\"Quest\",\"marker\":{\"color\":\"#FFA15A\",\"symbol\":\"circle\",\"size\":5},\"mode\":\"markers\",\"name\":\"Quest\",\"orientation\":\"v\",\"showlegend\":true,\"x\":[71.17166413],\"xaxis\":\"x\",\"y\":[26.399],\"yaxis\":\"y\",\"type\":\"scatter\"},{\"hovertemplate\":\"Model=Pathfinder<br>Power_perf_factor=%{x}<br>Price_in_thousands=%{y}<extra></extra>\",\"legendgroup\":\"Pathfinder\",\"marker\":{\"color\":\"#19d3f3\",\"symbol\":\"circle\",\"size\":5},\"mode\":\"markers\",\"name\":\"Pathfinder\",\"orientation\":\"v\",\"showlegend\":true,\"x\":[72.29035508],\"xaxis\":\"x\",\"y\":[29.299],\"yaxis\":\"y\",\"type\":\"scatter\"},{\"hovertemplate\":\"Model=Xterra<br>Power_perf_factor=%{x}<br>Price_in_thousands=%{y}<extra></extra>\",\"legendgroup\":\"Xterra\",\"marker\":{\"color\":\"#FF6692\",\"symbol\":\"circle\",\"size\":5},\"mode\":\"markers\",\"name\":\"Xterra\",\"orientation\":\"v\",\"showlegend\":true,\"x\":[69.78294434],\"xaxis\":\"x\",\"y\":[22.799],\"yaxis\":\"y\",\"type\":\"scatter\"},{\"hovertemplate\":\"Model=Frontier<br>Power_perf_factor=%{x}<br>Price_in_thousands=%{y}<extra></extra>\",\"legendgroup\":\"Frontier\",\"marker\":{\"color\":\"#B6E880\",\"symbol\":\"circle\",\"size\":5},\"mode\":\"markers\",\"name\":\"Frontier\",\"orientation\":\"v\",\"showlegend\":true,\"x\":[67.88927059],\"xaxis\":\"x\",\"y\":[17.89],\"yaxis\":\"y\",\"type\":\"scatter\"},{\"hovertemplate\":\"Model=Cutlass<br>Power_perf_factor=%{x}<br>Price_in_thousands=%{y}<extra></extra>\",\"legendgroup\":\"Cutlass\",\"marker\":{\"color\":\"#FF97FF\",\"symbol\":\"circle\",\"size\":5},\"mode\":\"markers\",\"name\":\"Cutlass\",\"orientation\":\"v\",\"showlegend\":true,\"x\":[60.86161155],\"xaxis\":\"x\",\"y\":[18.145],\"yaxis\":\"y\",\"type\":\"scatter\"},{\"hovertemplate\":\"Model=Intrigue<br>Power_perf_factor=%{x}<br>Price_in_thousands=%{y}<extra></extra>\",\"legendgroup\":\"Intrigue\",\"marker\":{\"color\":\"#FECB52\",\"symbol\":\"circle\",\"size\":5},\"mode\":\"markers\",\"name\":\"Intrigue\",\"orientation\":\"v\",\"showlegend\":true,\"x\":[86.27252291],\"xaxis\":\"x\",\"y\":[24.15],\"yaxis\":\"y\",\"type\":\"scatter\"},{\"hovertemplate\":\"Model=Alero<br>Power_perf_factor=%{x}<br>Price_in_thousands=%{y}<extra></extra>\",\"legendgroup\":\"Alero\",\"marker\":{\"color\":\"#636efa\",\"symbol\":\"circle\",\"size\":5},\"mode\":\"markers\",\"name\":\"Alero\",\"orientation\":\"v\",\"showlegend\":true,\"x\":[60.72744693],\"xaxis\":\"x\",\"y\":[18.27],\"yaxis\":\"y\",\"type\":\"scatter\"},{\"hovertemplate\":\"Model=Aurora<br>Power_perf_factor=%{x}<br>Price_in_thousands=%{y}<extra></extra>\",\"legendgroup\":\"Aurora\",\"marker\":{\"color\":\"#EF553B\",\"symbol\":\"circle\",\"size\":5},\"mode\":\"markers\",\"name\":\"Aurora\",\"orientation\":\"v\",\"showlegend\":true,\"x\":[103.4416926],\"xaxis\":\"x\",\"y\":[36.229],\"yaxis\":\"y\",\"type\":\"scatter\"},{\"hovertemplate\":\"Model=Bravada<br>Power_perf_factor=%{x}<br>Price_in_thousands=%{y}<extra></extra>\",\"legendgroup\":\"Bravada\",\"marker\":{\"color\":\"#00cc96\",\"symbol\":\"circle\",\"size\":5},\"mode\":\"markers\",\"name\":\"Bravada\",\"orientation\":\"v\",\"showlegend\":true,\"x\":[80.51167259],\"xaxis\":\"x\",\"y\":[31.598],\"yaxis\":\"y\",\"type\":\"scatter\"},{\"hovertemplate\":\"Model=Silhouette<br>Power_perf_factor=%{x}<br>Price_in_thousands=%{y}<extra></extra>\",\"legendgroup\":\"Silhouette\",\"marker\":{\"color\":\"#ab63fa\",\"symbol\":\"circle\",\"size\":5},\"mode\":\"markers\",\"name\":\"Silhouette\",\"orientation\":\"v\",\"showlegend\":true,\"x\":[76.09657042],\"xaxis\":\"x\",\"y\":[25.345],\"yaxis\":\"y\",\"type\":\"scatter\"},{\"hovertemplate\":\"Model=Breeze<br>Power_perf_factor=%{x}<br>Price_in_thousands=%{y}<extra></extra>\",\"legendgroup\":\"Breeze\",\"marker\":{\"color\":\"#FFA15A\",\"symbol\":\"circle\",\"size\":5},\"mode\":\"markers\",\"name\":\"Breeze\",\"orientation\":\"v\",\"showlegend\":true,\"x\":[53.41189767],\"xaxis\":\"x\",\"y\":[16.08],\"yaxis\":\"y\",\"type\":\"scatter\"},{\"hovertemplate\":\"Model=Voyager<br>Power_perf_factor=%{x}<br>Price_in_thousands=%{y}<extra></extra>\",\"legendgroup\":\"Voyager\",\"marker\":{\"color\":\"#19d3f3\",\"symbol\":\"circle\",\"size\":5},\"mode\":\"markers\",\"name\":\"Voyager\",\"orientation\":\"v\",\"showlegend\":true,\"x\":[60.95118512],\"xaxis\":\"x\",\"y\":[18.85],\"yaxis\":\"y\",\"type\":\"scatter\"},{\"hovertemplate\":\"Model=Prowler<br>Power_perf_factor=%{x}<br>Price_in_thousands=%{y}<extra></extra>\",\"legendgroup\":\"Prowler\",\"marker\":{\"color\":\"#FF6692\",\"symbol\":\"circle\",\"size\":5},\"mode\":\"markers\",\"name\":\"Prowler\",\"orientation\":\"v\",\"showlegend\":true,\"x\":[106.9844563],\"xaxis\":\"x\",\"y\":[43.0],\"yaxis\":\"y\",\"type\":\"scatter\"},{\"hovertemplate\":\"Model=Sunfire<br>Power_perf_factor=%{x}<br>Price_in_thousands=%{y}<extra></extra>\",\"legendgroup\":\"Sunfire\",\"marker\":{\"color\":\"#B6E880\",\"symbol\":\"circle\",\"size\":5},\"mode\":\"markers\",\"name\":\"Sunfire\",\"orientation\":\"v\",\"showlegend\":true,\"x\":[62.0158703],\"xaxis\":\"x\",\"y\":[21.61],\"yaxis\":\"y\",\"type\":\"scatter\"},{\"hovertemplate\":\"Model=Grand Am<br>Power_perf_factor=%{x}<br>Price_in_thousands=%{y}<extra></extra>\",\"legendgroup\":\"Grand Am\",\"marker\":{\"color\":\"#FF97FF\",\"symbol\":\"circle\",\"size\":5},\"mode\":\"markers\",\"name\":\"Grand Am\",\"orientation\":\"v\",\"showlegend\":true,\"x\":[70.38973726],\"xaxis\":\"x\",\"y\":[19.72],\"yaxis\":\"y\",\"type\":\"scatter\"},{\"hovertemplate\":\"Model=Firebird<br>Power_perf_factor=%{x}<br>Price_in_thousands=%{y}<extra></extra>\",\"legendgroup\":\"Firebird\",\"marker\":{\"color\":\"#FECB52\",\"symbol\":\"circle\",\"size\":5},\"mode\":\"markers\",\"name\":\"Firebird\",\"orientation\":\"v\",\"showlegend\":true,\"x\":[81.49272616],\"xaxis\":\"x\",\"y\":[25.31],\"yaxis\":\"y\",\"type\":\"scatter\"},{\"hovertemplate\":\"Model=Grand Prix<br>Power_perf_factor=%{x}<br>Price_in_thousands=%{y}<extra></extra>\",\"legendgroup\":\"Grand Prix\",\"marker\":{\"color\":\"#636efa\",\"symbol\":\"circle\",\"size\":5},\"mode\":\"markers\",\"name\":\"Grand Prix\",\"orientation\":\"v\",\"showlegend\":true,\"x\":[78.31816813],\"xaxis\":\"x\",\"y\":[21.665],\"yaxis\":\"y\",\"type\":\"scatter\"},{\"hovertemplate\":\"Model=Bonneville<br>Power_perf_factor=%{x}<br>Price_in_thousands=%{y}<extra></extra>\",\"legendgroup\":\"Bonneville\",\"marker\":{\"color\":\"#EF553B\",\"symbol\":\"circle\",\"size\":5},\"mode\":\"markers\",\"name\":\"Bonneville\",\"orientation\":\"v\",\"showlegend\":true,\"x\":[82.6613556],\"xaxis\":\"x\",\"y\":[23.755],\"yaxis\":\"y\",\"type\":\"scatter\"},{\"hovertemplate\":\"Model=Montana<br>Power_perf_factor=%{x}<br>Price_in_thousands=%{y}<extra></extra>\",\"legendgroup\":\"Montana\",\"marker\":{\"color\":\"#00cc96\",\"symbol\":\"circle\",\"size\":5},\"mode\":\"markers\",\"name\":\"Montana\",\"orientation\":\"v\",\"showlegend\":true,\"x\":[76.20843952],\"xaxis\":\"x\",\"y\":[25.635],\"yaxis\":\"y\",\"type\":\"scatter\"},{\"hovertemplate\":\"Model=Boxter<br>Power_perf_factor=%{x}<br>Price_in_thousands=%{y}<extra></extra>\",\"legendgroup\":\"Boxter\",\"marker\":{\"color\":\"#ab63fa\",\"symbol\":\"circle\",\"size\":5},\"mode\":\"markers\",\"name\":\"Boxter\",\"orientation\":\"v\",\"showlegend\":true,\"x\":[93.4373307],\"xaxis\":\"x\",\"y\":[41.43],\"yaxis\":\"y\",\"type\":\"scatter\"},{\"hovertemplate\":\"Model=Carrera Coupe<br>Power_perf_factor=%{x}<br>Price_in_thousands=%{y}<extra></extra>\",\"legendgroup\":\"Carrera Coupe\",\"marker\":{\"color\":\"#FFA15A\",\"symbol\":\"circle\",\"size\":5},\"mode\":\"markers\",\"name\":\"Carrera Coupe\",\"orientation\":\"v\",\"showlegend\":true,\"x\":[134.3909754],\"xaxis\":\"x\",\"y\":[71.02],\"yaxis\":\"y\",\"type\":\"scatter\"},{\"hovertemplate\":\"Model=Carrera Cabrio<br>Power_perf_factor=%{x}<br>Price_in_thousands=%{y}<extra></extra>\",\"legendgroup\":\"Carrera Cabrio\",\"marker\":{\"color\":\"#19d3f3\",\"symbol\":\"circle\",\"size\":5},\"mode\":\"markers\",\"name\":\"Carrera Cabrio\",\"orientation\":\"v\",\"showlegend\":true,\"x\":[135.9147096],\"xaxis\":\"x\",\"y\":[74.97],\"yaxis\":\"y\",\"type\":\"scatter\"},{\"hovertemplate\":\"Model=5-Sep<br>Power_perf_factor=%{x}<br>Price_in_thousands=%{y}<extra></extra>\",\"legendgroup\":\"5-Sep\",\"marker\":{\"color\":\"#FF6692\",\"symbol\":\"circle\",\"size\":5},\"mode\":\"markers\",\"name\":\"5-Sep\",\"orientation\":\"v\",\"showlegend\":true,\"x\":[73.50377819],\"xaxis\":\"x\",\"y\":[33.12],\"yaxis\":\"y\",\"type\":\"scatter\"},{\"hovertemplate\":\"Model=3-Sep<br>Power_perf_factor=%{x}<br>Price_in_thousands=%{y}<extra></extra>\",\"legendgroup\":\"3-Sep\",\"marker\":{\"color\":\"#B6E880\",\"symbol\":\"circle\",\"size\":5},\"mode\":\"markers\",\"name\":\"3-Sep\",\"orientation\":\"v\",\"showlegend\":true,\"x\":[76.02304771],\"xaxis\":\"x\",\"y\":[26.1],\"yaxis\":\"y\",\"type\":\"scatter\"},{\"hovertemplate\":\"Model=SL<br>Power_perf_factor=%{x}<br>Price_in_thousands=%{y}<extra></extra>\",\"legendgroup\":\"SL\",\"marker\":{\"color\":\"#FF97FF\",\"symbol\":\"circle\",\"size\":5},\"mode\":\"markers\",\"name\":\"SL\",\"orientation\":\"v\",\"showlegend\":true,\"x\":[39.98642475],\"xaxis\":\"x\",\"y\":[10.685],\"yaxis\":\"y\",\"type\":\"scatter\"},{\"hovertemplate\":\"Model=SC<br>Power_perf_factor=%{x}<br>Price_in_thousands=%{y}<extra></extra>\",\"legendgroup\":\"SC\",\"marker\":{\"color\":\"#FECB52\",\"symbol\":\"circle\",\"size\":5},\"mode\":\"markers\",\"name\":\"SC\",\"orientation\":\"v\",\"showlegend\":true,\"x\":[40.70007242],\"xaxis\":\"x\",\"y\":[12.535],\"yaxis\":\"y\",\"type\":\"scatter\"},{\"hovertemplate\":\"Model=SW<br>Power_perf_factor=%{x}<br>Price_in_thousands=%{y}<extra></extra>\",\"legendgroup\":\"SW\",\"marker\":{\"color\":\"#636efa\",\"symbol\":\"circle\",\"size\":5},\"mode\":\"markers\",\"name\":\"SW\",\"orientation\":\"v\",\"showlegend\":true,\"x\":[49.86577367],\"xaxis\":\"x\",\"y\":[14.29],\"yaxis\":\"y\",\"type\":\"scatter\"},{\"hovertemplate\":\"Model=LW<br>Power_perf_factor=%{x}<br>Price_in_thousands=%{y}<extra></extra>\",\"legendgroup\":\"LW\",\"marker\":{\"color\":\"#EF553B\",\"symbol\":\"circle\",\"size\":5},\"mode\":\"markers\",\"name\":\"LW\",\"orientation\":\"v\",\"showlegend\":true,\"x\":[56.29524304],\"xaxis\":\"x\",\"y\":[18.835],\"yaxis\":\"y\",\"type\":\"scatter\"},{\"hovertemplate\":\"Model=LS<br>Power_perf_factor=%{x}<br>Price_in_thousands=%{y}<extra></extra>\",\"legendgroup\":\"LS\",\"marker\":{\"color\":\"#00cc96\",\"symbol\":\"circle\",\"size\":5},\"mode\":\"markers\",\"name\":\"LS\",\"orientation\":\"v\",\"showlegend\":true,\"x\":[54.81972825],\"xaxis\":\"x\",\"y\":[15.01],\"yaxis\":\"y\",\"type\":\"scatter\"},{\"hovertemplate\":\"Model=Outback<br>Power_perf_factor=%{x}<br>Price_in_thousands=%{y}<extra></extra>\",\"legendgroup\":\"Outback\",\"marker\":{\"color\":\"#ab63fa\",\"symbol\":\"circle\",\"size\":5},\"mode\":\"markers\",\"name\":\"Outback\",\"orientation\":\"v\",\"showlegend\":true,\"x\":[67.7659076],\"xaxis\":\"x\",\"y\":[22.695],\"yaxis\":\"y\",\"type\":\"scatter\"},{\"hovertemplate\":\"Model=Forester<br>Power_perf_factor=%{x}<br>Price_in_thousands=%{y}<extra></extra>\",\"legendgroup\":\"Forester\",\"marker\":{\"color\":\"#FFA15A\",\"symbol\":\"circle\",\"size\":5},\"mode\":\"markers\",\"name\":\"Forester\",\"orientation\":\"v\",\"showlegend\":true,\"x\":[66.76294331],\"xaxis\":\"x\",\"y\":[20.095],\"yaxis\":\"y\",\"type\":\"scatter\"},{\"hovertemplate\":\"Model=Corolla<br>Power_perf_factor=%{x}<br>Price_in_thousands=%{y}<extra></extra>\",\"legendgroup\":\"Corolla\",\"marker\":{\"color\":\"#19d3f3\",\"symbol\":\"circle\",\"size\":5},\"mode\":\"markers\",\"name\":\"Corolla\",\"orientation\":\"v\",\"showlegend\":true,\"x\":[47.96897242],\"xaxis\":\"x\",\"y\":[13.108],\"yaxis\":\"y\",\"type\":\"scatter\"},{\"hovertemplate\":\"Model=Camry<br>Power_perf_factor=%{x}<br>Price_in_thousands=%{y}<extra></extra>\",\"legendgroup\":\"Camry\",\"marker\":{\"color\":\"#FF6692\",\"symbol\":\"circle\",\"size\":5},\"mode\":\"markers\",\"name\":\"Camry\",\"orientation\":\"v\",\"showlegend\":true,\"x\":[54.37241965],\"xaxis\":\"x\",\"y\":[17.518],\"yaxis\":\"y\",\"type\":\"scatter\"},{\"hovertemplate\":\"Model=Avalon<br>Power_perf_factor=%{x}<br>Price_in_thousands=%{y}<extra></extra>\",\"legendgroup\":\"Avalon\",\"marker\":{\"color\":\"#B6E880\",\"symbol\":\"circle\",\"size\":5},\"mode\":\"markers\",\"name\":\"Avalon\",\"orientation\":\"v\",\"showlegend\":true,\"x\":[84.91189826],\"xaxis\":\"x\",\"y\":[25.545],\"yaxis\":\"y\",\"type\":\"scatter\"},{\"hovertemplate\":\"Model=Celica<br>Power_perf_factor=%{x}<br>Price_in_thousands=%{y}<extra></extra>\",\"legendgroup\":\"Celica\",\"marker\":{\"color\":\"#FF97FF\",\"symbol\":\"circle\",\"size\":5},\"mode\":\"markers\",\"name\":\"Celica\",\"orientation\":\"v\",\"showlegend\":true,\"x\":[56.49603034],\"xaxis\":\"x\",\"y\":[16.875],\"yaxis\":\"y\",\"type\":\"scatter\"},{\"hovertemplate\":\"Model=Tacoma<br>Power_perf_factor=%{x}<br>Price_in_thousands=%{y}<extra></extra>\",\"legendgroup\":\"Tacoma\",\"marker\":{\"color\":\"#FECB52\",\"symbol\":\"circle\",\"size\":5},\"mode\":\"markers\",\"name\":\"Tacoma\",\"orientation\":\"v\",\"showlegend\":true,\"x\":[55.29711658],\"xaxis\":\"x\",\"y\":[11.528],\"yaxis\":\"y\",\"type\":\"scatter\"},{\"hovertemplate\":\"Model=Sienna<br>Power_perf_factor=%{x}<br>Price_in_thousands=%{y}<extra></extra>\",\"legendgroup\":\"Sienna\",\"marker\":{\"color\":\"#636efa\",\"symbol\":\"circle\",\"size\":5},\"mode\":\"markers\",\"name\":\"Sienna\",\"orientation\":\"v\",\"showlegend\":true,\"x\":[78.02721947],\"xaxis\":\"x\",\"y\":[22.368],\"yaxis\":\"y\",\"type\":\"scatter\"},{\"hovertemplate\":\"Model=RAV4<br>Power_perf_factor=%{x}<br>Price_in_thousands=%{y}<extra></extra>\",\"legendgroup\":\"RAV4\",\"marker\":{\"color\":\"#EF553B\",\"symbol\":\"circle\",\"size\":5},\"mode\":\"markers\",\"name\":\"RAV4\",\"orientation\":\"v\",\"showlegend\":true,\"x\":[51.95510887],\"xaxis\":\"x\",\"y\":[16.888],\"yaxis\":\"y\",\"type\":\"scatter\"},{\"hovertemplate\":\"Model=4Runner<br>Power_perf_factor=%{x}<br>Price_in_thousands=%{y}<extra></extra>\",\"legendgroup\":\"4Runner\",\"marker\":{\"color\":\"#00cc96\",\"symbol\":\"circle\",\"size\":5},\"mode\":\"markers\",\"name\":\"4Runner\",\"orientation\":\"v\",\"showlegend\":true,\"x\":[62.35557713],\"xaxis\":\"x\",\"y\":[22.288],\"yaxis\":\"y\",\"type\":\"scatter\"},{\"hovertemplate\":\"Model=Land Cruiser<br>Power_perf_factor=%{x}<br>Price_in_thousands=%{y}<extra></extra>\",\"legendgroup\":\"Land Cruiser\",\"marker\":{\"color\":\"#ab63fa\",\"symbol\":\"circle\",\"size\":5},\"mode\":\"markers\",\"name\":\"Land Cruiser\",\"orientation\":\"v\",\"showlegend\":true,\"x\":[102.5289842],\"xaxis\":\"x\",\"y\":[51.728],\"yaxis\":\"y\",\"type\":\"scatter\"},{\"hovertemplate\":\"Model=Golf<br>Power_perf_factor=%{x}<br>Price_in_thousands=%{y}<extra></extra>\",\"legendgroup\":\"Golf\",\"marker\":{\"color\":\"#FFA15A\",\"symbol\":\"circle\",\"size\":5},\"mode\":\"markers\",\"name\":\"Golf\",\"orientation\":\"v\",\"showlegend\":true,\"x\":[46.94387676],\"xaxis\":\"x\",\"y\":[14.9],\"yaxis\":\"y\",\"type\":\"scatter\"},{\"hovertemplate\":\"Model=Jetta<br>Power_perf_factor=%{x}<br>Price_in_thousands=%{y}<extra></extra>\",\"legendgroup\":\"Jetta\",\"marker\":{\"color\":\"#19d3f3\",\"symbol\":\"circle\",\"size\":5},\"mode\":\"markers\",\"name\":\"Jetta\",\"orientation\":\"v\",\"showlegend\":true,\"x\":[47.63823666],\"xaxis\":\"x\",\"y\":[16.7],\"yaxis\":\"y\",\"type\":\"scatter\"},{\"hovertemplate\":\"Model=Passat<br>Power_perf_factor=%{x}<br>Price_in_thousands=%{y}<extra></extra>\",\"legendgroup\":\"Passat\",\"marker\":{\"color\":\"#FF6692\",\"symbol\":\"circle\",\"size\":5},\"mode\":\"markers\",\"name\":\"Passat\",\"orientation\":\"v\",\"showlegend\":true,\"x\":[61.70138136],\"xaxis\":\"x\",\"y\":[21.2],\"yaxis\":\"y\",\"type\":\"scatter\"},{\"hovertemplate\":\"Model=Cabrio<br>Power_perf_factor=%{x}<br>Price_in_thousands=%{y}<extra></extra>\",\"legendgroup\":\"Cabrio\",\"marker\":{\"color\":\"#B6E880\",\"symbol\":\"circle\",\"size\":5},\"mode\":\"markers\",\"name\":\"Cabrio\",\"orientation\":\"v\",\"showlegend\":true,\"x\":[48.90737225],\"xaxis\":\"x\",\"y\":[19.99],\"yaxis\":\"y\",\"type\":\"scatter\"},{\"hovertemplate\":\"Model=GTI<br>Power_perf_factor=%{x}<br>Price_in_thousands=%{y}<extra></extra>\",\"legendgroup\":\"GTI\",\"marker\":{\"color\":\"#FF97FF\",\"symbol\":\"circle\",\"size\":5},\"mode\":\"markers\",\"name\":\"GTI\",\"orientation\":\"v\",\"showlegend\":true,\"x\":[47.94684106],\"xaxis\":\"x\",\"y\":[17.5],\"yaxis\":\"y\",\"type\":\"scatter\"},{\"hovertemplate\":\"Model=Beetle<br>Power_perf_factor=%{x}<br>Price_in_thousands=%{y}<extra></extra>\",\"legendgroup\":\"Beetle\",\"marker\":{\"color\":\"#FECB52\",\"symbol\":\"circle\",\"size\":5},\"mode\":\"markers\",\"name\":\"Beetle\",\"orientation\":\"v\",\"showlegend\":true,\"x\":[47.32963226],\"xaxis\":\"x\",\"y\":[15.9],\"yaxis\":\"y\",\"type\":\"scatter\"},{\"hovertemplate\":\"Model=S40<br>Power_perf_factor=%{x}<br>Price_in_thousands=%{y}<extra></extra>\",\"legendgroup\":\"S40\",\"marker\":{\"color\":\"#636efa\",\"symbol\":\"circle\",\"size\":5},\"mode\":\"markers\",\"name\":\"S40\",\"orientation\":\"v\",\"showlegend\":true,\"x\":[66.1130568],\"xaxis\":\"x\",\"y\":[23.4],\"yaxis\":\"y\",\"type\":\"scatter\"},{\"hovertemplate\":\"Model=V40<br>Power_perf_factor=%{x}<br>Price_in_thousands=%{y}<extra></extra>\",\"legendgroup\":\"V40\",\"marker\":{\"color\":\"#EF553B\",\"symbol\":\"circle\",\"size\":5},\"mode\":\"markers\",\"name\":\"V40\",\"orientation\":\"v\",\"showlegend\":true,\"x\":[66.4988123],\"xaxis\":\"x\",\"y\":[24.4],\"yaxis\":\"y\",\"type\":\"scatter\"},{\"hovertemplate\":\"Model=S70<br>Power_perf_factor=%{x}<br>Price_in_thousands=%{y}<extra></extra>\",\"legendgroup\":\"S70\",\"marker\":{\"color\":\"#00cc96\",\"symbol\":\"circle\",\"size\":5},\"mode\":\"markers\",\"name\":\"S70\",\"orientation\":\"v\",\"showlegend\":true,\"x\":[70.65449545],\"xaxis\":\"x\",\"y\":[27.5],\"yaxis\":\"y\",\"type\":\"scatter\"},{\"hovertemplate\":\"Model=V70<br>Power_perf_factor=%{x}<br>Price_in_thousands=%{y}<extra></extra>\",\"legendgroup\":\"V70\",\"marker\":{\"color\":\"#ab63fa\",\"symbol\":\"circle\",\"size\":5},\"mode\":\"markers\",\"name\":\"V70\",\"orientation\":\"v\",\"showlegend\":true,\"x\":[71.1559776],\"xaxis\":\"x\",\"y\":[28.8],\"yaxis\":\"y\",\"type\":\"scatter\"},{\"hovertemplate\":\"Model=C70<br>Power_perf_factor=%{x}<br>Price_in_thousands=%{y}<extra></extra>\",\"legendgroup\":\"C70\",\"marker\":{\"color\":\"#FFA15A\",\"symbol\":\"circle\",\"size\":5},\"mode\":\"markers\",\"name\":\"C70\",\"orientation\":\"v\",\"showlegend\":true,\"x\":[101.6233572],\"xaxis\":\"x\",\"y\":[45.5],\"yaxis\":\"y\",\"type\":\"scatter\"},{\"hovertemplate\":\"Model=S80<br>Power_perf_factor=%{x}<br>Price_in_thousands=%{y}<extra></extra>\",\"legendgroup\":\"S80\",\"marker\":{\"color\":\"#19d3f3\",\"symbol\":\"circle\",\"size\":5},\"mode\":\"markers\",\"name\":\"S80\",\"orientation\":\"v\",\"showlegend\":true,\"x\":[85.73565451],\"xaxis\":\"x\",\"y\":[36.0],\"yaxis\":\"y\",\"type\":\"scatter\"}],                        {\"template\":{\"data\":{\"bar\":[{\"error_x\":{\"color\":\"#2a3f5f\"},\"error_y\":{\"color\":\"#2a3f5f\"},\"marker\":{\"line\":{\"color\":\"#E5ECF6\",\"width\":0.5},\"pattern\":{\"fillmode\":\"overlay\",\"size\":10,\"solidity\":0.2}},\"type\":\"bar\"}],\"barpolar\":[{\"marker\":{\"line\":{\"color\":\"#E5ECF6\",\"width\":0.5},\"pattern\":{\"fillmode\":\"overlay\",\"size\":10,\"solidity\":0.2}},\"type\":\"barpolar\"}],\"carpet\":[{\"aaxis\":{\"endlinecolor\":\"#2a3f5f\",\"gridcolor\":\"white\",\"linecolor\":\"white\",\"minorgridcolor\":\"white\",\"startlinecolor\":\"#2a3f5f\"},\"baxis\":{\"endlinecolor\":\"#2a3f5f\",\"gridcolor\":\"white\",\"linecolor\":\"white\",\"minorgridcolor\":\"white\",\"startlinecolor\":\"#2a3f5f\"},\"type\":\"carpet\"}],\"choropleth\":[{\"colorbar\":{\"outlinewidth\":0,\"ticks\":\"\"},\"type\":\"choropleth\"}],\"contour\":[{\"colorbar\":{\"outlinewidth\":0,\"ticks\":\"\"},\"colorscale\":[[0.0,\"#0d0887\"],[0.1111111111111111,\"#46039f\"],[0.2222222222222222,\"#7201a8\"],[0.3333333333333333,\"#9c179e\"],[0.4444444444444444,\"#bd3786\"],[0.5555555555555556,\"#d8576b\"],[0.6666666666666666,\"#ed7953\"],[0.7777777777777778,\"#fb9f3a\"],[0.8888888888888888,\"#fdca26\"],[1.0,\"#f0f921\"]],\"type\":\"contour\"}],\"contourcarpet\":[{\"colorbar\":{\"outlinewidth\":0,\"ticks\":\"\"},\"type\":\"contourcarpet\"}],\"heatmap\":[{\"colorbar\":{\"outlinewidth\":0,\"ticks\":\"\"},\"colorscale\":[[0.0,\"#0d0887\"],[0.1111111111111111,\"#46039f\"],[0.2222222222222222,\"#7201a8\"],[0.3333333333333333,\"#9c179e\"],[0.4444444444444444,\"#bd3786\"],[0.5555555555555556,\"#d8576b\"],[0.6666666666666666,\"#ed7953\"],[0.7777777777777778,\"#fb9f3a\"],[0.8888888888888888,\"#fdca26\"],[1.0,\"#f0f921\"]],\"type\":\"heatmap\"}],\"heatmapgl\":[{\"colorbar\":{\"outlinewidth\":0,\"ticks\":\"\"},\"colorscale\":[[0.0,\"#0d0887\"],[0.1111111111111111,\"#46039f\"],[0.2222222222222222,\"#7201a8\"],[0.3333333333333333,\"#9c179e\"],[0.4444444444444444,\"#bd3786\"],[0.5555555555555556,\"#d8576b\"],[0.6666666666666666,\"#ed7953\"],[0.7777777777777778,\"#fb9f3a\"],[0.8888888888888888,\"#fdca26\"],[1.0,\"#f0f921\"]],\"type\":\"heatmapgl\"}],\"histogram\":[{\"marker\":{\"pattern\":{\"fillmode\":\"overlay\",\"size\":10,\"solidity\":0.2}},\"type\":\"histogram\"}],\"histogram2d\":[{\"colorbar\":{\"outlinewidth\":0,\"ticks\":\"\"},\"colorscale\":[[0.0,\"#0d0887\"],[0.1111111111111111,\"#46039f\"],[0.2222222222222222,\"#7201a8\"],[0.3333333333333333,\"#9c179e\"],[0.4444444444444444,\"#bd3786\"],[0.5555555555555556,\"#d8576b\"],[0.6666666666666666,\"#ed7953\"],[0.7777777777777778,\"#fb9f3a\"],[0.8888888888888888,\"#fdca26\"],[1.0,\"#f0f921\"]],\"type\":\"histogram2d\"}],\"histogram2dcontour\":[{\"colorbar\":{\"outlinewidth\":0,\"ticks\":\"\"},\"colorscale\":[[0.0,\"#0d0887\"],[0.1111111111111111,\"#46039f\"],[0.2222222222222222,\"#7201a8\"],[0.3333333333333333,\"#9c179e\"],[0.4444444444444444,\"#bd3786\"],[0.5555555555555556,\"#d8576b\"],[0.6666666666666666,\"#ed7953\"],[0.7777777777777778,\"#fb9f3a\"],[0.8888888888888888,\"#fdca26\"],[1.0,\"#f0f921\"]],\"type\":\"histogram2dcontour\"}],\"mesh3d\":[{\"colorbar\":{\"outlinewidth\":0,\"ticks\":\"\"},\"type\":\"mesh3d\"}],\"parcoords\":[{\"line\":{\"colorbar\":{\"outlinewidth\":0,\"ticks\":\"\"}},\"type\":\"parcoords\"}],\"pie\":[{\"automargin\":true,\"type\":\"pie\"}],\"scatter\":[{\"marker\":{\"colorbar\":{\"outlinewidth\":0,\"ticks\":\"\"}},\"type\":\"scatter\"}],\"scatter3d\":[{\"line\":{\"colorbar\":{\"outlinewidth\":0,\"ticks\":\"\"}},\"marker\":{\"colorbar\":{\"outlinewidth\":0,\"ticks\":\"\"}},\"type\":\"scatter3d\"}],\"scattercarpet\":[{\"marker\":{\"colorbar\":{\"outlinewidth\":0,\"ticks\":\"\"}},\"type\":\"scattercarpet\"}],\"scattergeo\":[{\"marker\":{\"colorbar\":{\"outlinewidth\":0,\"ticks\":\"\"}},\"type\":\"scattergeo\"}],\"scattergl\":[{\"marker\":{\"colorbar\":{\"outlinewidth\":0,\"ticks\":\"\"}},\"type\":\"scattergl\"}],\"scattermapbox\":[{\"marker\":{\"colorbar\":{\"outlinewidth\":0,\"ticks\":\"\"}},\"type\":\"scattermapbox\"}],\"scatterpolar\":[{\"marker\":{\"colorbar\":{\"outlinewidth\":0,\"ticks\":\"\"}},\"type\":\"scatterpolar\"}],\"scatterpolargl\":[{\"marker\":{\"colorbar\":{\"outlinewidth\":0,\"ticks\":\"\"}},\"type\":\"scatterpolargl\"}],\"scatterternary\":[{\"marker\":{\"colorbar\":{\"outlinewidth\":0,\"ticks\":\"\"}},\"type\":\"scatterternary\"}],\"surface\":[{\"colorbar\":{\"outlinewidth\":0,\"ticks\":\"\"},\"colorscale\":[[0.0,\"#0d0887\"],[0.1111111111111111,\"#46039f\"],[0.2222222222222222,\"#7201a8\"],[0.3333333333333333,\"#9c179e\"],[0.4444444444444444,\"#bd3786\"],[0.5555555555555556,\"#d8576b\"],[0.6666666666666666,\"#ed7953\"],[0.7777777777777778,\"#fb9f3a\"],[0.8888888888888888,\"#fdca26\"],[1.0,\"#f0f921\"]],\"type\":\"surface\"}],\"table\":[{\"cells\":{\"fill\":{\"color\":\"#EBF0F8\"},\"line\":{\"color\":\"white\"}},\"header\":{\"fill\":{\"color\":\"#C8D4E3\"},\"line\":{\"color\":\"white\"}},\"type\":\"table\"}]},\"layout\":{\"annotationdefaults\":{\"arrowcolor\":\"#2a3f5f\",\"arrowhead\":0,\"arrowwidth\":1},\"autotypenumbers\":\"strict\",\"coloraxis\":{\"colorbar\":{\"outlinewidth\":0,\"ticks\":\"\"}},\"colorscale\":{\"diverging\":[[0,\"#8e0152\"],[0.1,\"#c51b7d\"],[0.2,\"#de77ae\"],[0.3,\"#f1b6da\"],[0.4,\"#fde0ef\"],[0.5,\"#f7f7f7\"],[0.6,\"#e6f5d0\"],[0.7,\"#b8e186\"],[0.8,\"#7fbc41\"],[0.9,\"#4d9221\"],[1,\"#276419\"]],\"sequential\":[[0.0,\"#0d0887\"],[0.1111111111111111,\"#46039f\"],[0.2222222222222222,\"#7201a8\"],[0.3333333333333333,\"#9c179e\"],[0.4444444444444444,\"#bd3786\"],[0.5555555555555556,\"#d8576b\"],[0.6666666666666666,\"#ed7953\"],[0.7777777777777778,\"#fb9f3a\"],[0.8888888888888888,\"#fdca26\"],[1.0,\"#f0f921\"]],\"sequentialminus\":[[0.0,\"#0d0887\"],[0.1111111111111111,\"#46039f\"],[0.2222222222222222,\"#7201a8\"],[0.3333333333333333,\"#9c179e\"],[0.4444444444444444,\"#bd3786\"],[0.5555555555555556,\"#d8576b\"],[0.6666666666666666,\"#ed7953\"],[0.7777777777777778,\"#fb9f3a\"],[0.8888888888888888,\"#fdca26\"],[1.0,\"#f0f921\"]]},\"colorway\":[\"#636efa\",\"#EF553B\",\"#00cc96\",\"#ab63fa\",\"#FFA15A\",\"#19d3f3\",\"#FF6692\",\"#B6E880\",\"#FF97FF\",\"#FECB52\"],\"font\":{\"color\":\"#2a3f5f\"},\"geo\":{\"bgcolor\":\"white\",\"lakecolor\":\"white\",\"landcolor\":\"#E5ECF6\",\"showlakes\":true,\"showland\":true,\"subunitcolor\":\"white\"},\"hoverlabel\":{\"align\":\"left\"},\"hovermode\":\"closest\",\"mapbox\":{\"style\":\"light\"},\"paper_bgcolor\":\"white\",\"plot_bgcolor\":\"#E5ECF6\",\"polar\":{\"angularaxis\":{\"gridcolor\":\"white\",\"linecolor\":\"white\",\"ticks\":\"\"},\"bgcolor\":\"#E5ECF6\",\"radialaxis\":{\"gridcolor\":\"white\",\"linecolor\":\"white\",\"ticks\":\"\"}},\"scene\":{\"xaxis\":{\"backgroundcolor\":\"#E5ECF6\",\"gridcolor\":\"white\",\"gridwidth\":2,\"linecolor\":\"white\",\"showbackground\":true,\"ticks\":\"\",\"zerolinecolor\":\"white\"},\"yaxis\":{\"backgroundcolor\":\"#E5ECF6\",\"gridcolor\":\"white\",\"gridwidth\":2,\"linecolor\":\"white\",\"showbackground\":true,\"ticks\":\"\",\"zerolinecolor\":\"white\"},\"zaxis\":{\"backgroundcolor\":\"#E5ECF6\",\"gridcolor\":\"white\",\"gridwidth\":2,\"linecolor\":\"white\",\"showbackground\":true,\"ticks\":\"\",\"zerolinecolor\":\"white\"}},\"shapedefaults\":{\"line\":{\"color\":\"#2a3f5f\"}},\"ternary\":{\"aaxis\":{\"gridcolor\":\"white\",\"linecolor\":\"white\",\"ticks\":\"\"},\"baxis\":{\"gridcolor\":\"white\",\"linecolor\":\"white\",\"ticks\":\"\"},\"bgcolor\":\"#E5ECF6\",\"caxis\":{\"gridcolor\":\"white\",\"linecolor\":\"white\",\"ticks\":\"\"}},\"title\":{\"x\":0.05},\"xaxis\":{\"automargin\":true,\"gridcolor\":\"white\",\"linecolor\":\"white\",\"ticks\":\"\",\"title\":{\"standoff\":15},\"zerolinecolor\":\"white\",\"zerolinewidth\":2},\"yaxis\":{\"automargin\":true,\"gridcolor\":\"white\",\"linecolor\":\"white\",\"ticks\":\"\",\"title\":{\"standoff\":15},\"zerolinecolor\":\"white\",\"zerolinewidth\":2}}},\"xaxis\":{\"anchor\":\"y\",\"domain\":[0.0,1.0],\"title\":{\"text\":\"Power_perf_factor\"}},\"yaxis\":{\"anchor\":\"x\",\"domain\":[0.0,1.0],\"title\":{\"text\":\"Price_in_thousands\"}},\"legend\":{\"title\":{\"text\":\"Model\"},\"tracegroupgap\":0},\"title\":{\"text\":\"Power_Performance - Price\",\"font\":{\"color\":\"rgba(0, 153, 0,0.5)\"},\"y\":0.9,\"x\":0.5,\"xanchor\":\"center\",\"yanchor\":\"top\"}},                        {\"responsive\": true}                    ).then(function(){\n",
       "                            \n",
       "var gd = document.getElementById('8f0fbf84-2ab3-485e-a961-13fc504428f7');\n",
       "var x = new MutationObserver(function (mutations, observer) {{\n",
       "        var display = window.getComputedStyle(gd).display;\n",
       "        if (!display || display === 'none') {{\n",
       "            console.log([gd, 'removed!']);\n",
       "            Plotly.purge(gd);\n",
       "            observer.disconnect();\n",
       "        }}\n",
       "}});\n",
       "\n",
       "// Listen for the removal of the full notebook cells\n",
       "var notebookContainer = gd.closest('#notebook-container');\n",
       "if (notebookContainer) {{\n",
       "    x.observe(notebookContainer, {childList: true});\n",
       "}}\n",
       "\n",
       "// Listen for the clearing of the current output cell\n",
       "var outputEl = gd.closest('.output');\n",
       "if (outputEl) {{\n",
       "    x.observe(outputEl, {childList: true});\n",
       "}}\n",
       "\n",
       "                        })                };                });            </script>        </div>"
      ]
     },
     "metadata": {},
     "output_type": "display_data"
    }
   ],
   "source": [
    "fig = px.scatter(df,\n",
    "                 x='Power_perf_factor',\n",
    "                 y='Price_in_thousands',\n",
    "                 color='Model',\n",
    "                \n",
    "                 hover_data=['Price_in_thousands'],\n",
    "                 title='Power_Performance - Price')\n",
    "fig.update_traces(marker_size=5)\n",
    "fig.update_layout(\n",
    "    title={\n",
    "        'y':0.9,\n",
    "        'x':0.5,\n",
    "        'xanchor': 'center',\n",
    "        'yanchor': 'top',\n",
    "        'font_color':'rgba(0, 153, 0,0.5)'})\n",
    "fig.show()\n"
   ]
  },
  {
   "cell_type": "code",
   "execution_count": 73,
   "id": "efa478e1",
   "metadata": {},
   "outputs": [
    {
     "data": {
      "application/vnd.plotly.v1+json": {
       "config": {
        "plotlyServerURL": "https://plot.ly"
       },
       "data": [
        {
         "hovertemplate": "Manufacturer=Acura<br>__year_resale_value=%{x}<br>Fuel_capacity=%{y}<extra></extra>",
         "legendgroup": "Acura",
         "marker": {
          "color": "#636efa",
          "size": 5,
          "symbol": "circle"
         },
         "mode": "markers",
         "name": "Acura",
         "orientation": "v",
         "showlegend": true,
         "type": "scatter",
         "x": [
          16.36,
          19.875,
          18.225,
          29.725
         ],
         "xaxis": "x",
         "y": [
          13.2,
          17.2,
          17.2,
          18
         ],
         "yaxis": "y"
        },
        {
         "hovertemplate": "Manufacturer=Audi<br>__year_resale_value=%{x}<br>Fuel_capacity=%{y}<extra></extra>",
         "legendgroup": "Audi",
         "marker": {
          "color": "#EF553B",
          "size": 5,
          "symbol": "circle"
         },
         "mode": "markers",
         "name": "Audi",
         "orientation": "v",
         "showlegend": true,
         "type": "scatter",
         "x": [
          22.255,
          23.555,
          39
         ],
         "xaxis": "x",
         "y": [
          16.4,
          18.5,
          23.7
         ],
         "yaxis": "y"
        },
        {
         "hovertemplate": "Manufacturer=BMW<br>__year_resale_value=%{x}<br>Fuel_capacity=%{y}<extra></extra>",
         "legendgroup": "BMW",
         "marker": {
          "color": "#00cc96",
          "size": 5,
          "symbol": "circle"
         },
         "mode": "markers",
         "name": "BMW",
         "orientation": "v",
         "showlegend": true,
         "type": "scatter",
         "x": [
          null,
          28.675,
          36.125
         ],
         "xaxis": "x",
         "y": [
          16.6,
          16.6,
          18.5
         ],
         "yaxis": "y"
        },
        {
         "hovertemplate": "Manufacturer=Buick<br>__year_resale_value=%{x}<br>Fuel_capacity=%{y}<extra></extra>",
         "legendgroup": "Buick",
         "marker": {
          "color": "#ab63fa",
          "size": 5,
          "symbol": "circle"
         },
         "mode": "markers",
         "name": "Buick",
         "orientation": "v",
         "showlegend": true,
         "type": "scatter",
         "x": [
          12.475,
          13.74,
          20.19,
          13.36
         ],
         "xaxis": "x",
         "y": [
          17.5,
          17.5,
          18.5,
          17.5
         ],
         "yaxis": "y"
        },
        {
         "hovertemplate": "Manufacturer=Cadillac<br>__year_resale_value=%{x}<br>Fuel_capacity=%{y}<extra></extra>",
         "legendgroup": "Cadillac",
         "marker": {
          "color": "#FFA15A",
          "size": 5,
          "symbol": "circle"
         },
         "mode": "markers",
         "name": "Cadillac",
         "orientation": "v",
         "showlegend": true,
         "type": "scatter",
         "x": [
          22.525,
          27.1,
          25.725,
          18.225,
          null
         ],
         "xaxis": "x",
         "y": [
          18.5,
          18.5,
          19,
          18,
          30
         ],
         "yaxis": "y"
        },
        {
         "hovertemplate": "Manufacturer=Chevrolet<br>__year_resale_value=%{x}<br>Fuel_capacity=%{y}<extra></extra>",
         "legendgroup": "Chevrolet",
         "marker": {
          "color": "#19d3f3",
          "size": 5,
          "symbol": "circle"
         },
         "mode": "markers",
         "name": "Chevrolet",
         "orientation": "v",
         "showlegend": true,
         "type": "scatter",
         "x": [
          9.25,
          11.225,
          10.31,
          11.525,
          13.025,
          36.225,
          9.125,
          5.16,
          null
         ],
         "xaxis": "x",
         "y": [
          14.3,
          15,
          16.6,
          17,
          16.8,
          19.1,
          13.2,
          10.3,
          17
         ],
         "yaxis": "y"
        },
        {
         "hovertemplate": "Manufacturer=Chrysler<br>__year_resale_value=%{x}<br>Fuel_capacity=%{y}<extra></extra>",
         "legendgroup": "Chrysler",
         "marker": {
          "color": "#FF6692",
          "size": 5,
          "symbol": "circle"
         },
         "mode": "markers",
         "name": "Chrysler",
         "orientation": "v",
         "showlegend": true,
         "type": "scatter",
         "x": [
          12.36,
          14.18,
          13.725,
          12.64,
          17.325,
          19.54,
          null
         ],
         "xaxis": "x",
         "y": [
          15.9,
          16,
          17,
          16,
          17,
          null,
          17
         ],
         "yaxis": "y"
        },
        {
         "hovertemplate": "Manufacturer=Dodge<br>__year_resale_value=%{x}<br>Fuel_capacity=%{y}<extra></extra>",
         "legendgroup": "Dodge",
         "marker": {
          "color": "#B6E880",
          "size": 5,
          "symbol": "circle"
         },
         "mode": "markers",
         "name": "Dodge",
         "orientation": "v",
         "showlegend": true,
         "type": "scatter",
         "x": [
          7.75,
          12.545,
          10.185,
          12.275,
          58.47,
          15.06,
          15.51,
          13.425,
          11.26,
          null,
          12.025
         ],
         "xaxis": "x",
         "y": [
          12.5,
          15.9,
          16,
          17,
          19,
          26,
          32,
          32,
          22,
          25,
          20
         ],
         "yaxis": "y"
        },
        {
         "hovertemplate": "Manufacturer=Ford<br>__year_resale_value=%{x}<br>Fuel_capacity=%{y}<extra></extra>",
         "legendgroup": "Ford",
         "marker": {
          "color": "#FF97FF",
          "size": 5,
          "symbol": "circle"
         },
         "mode": "markers",
         "name": "Ford",
         "orientation": "v",
         "showlegend": true,
         "type": "scatter",
         "x": [
          7.425,
          12.76,
          8.835,
          10.055,
          null,
          14.21,
          16.64,
          13.175,
          23.575,
          7.85,
          15.075
         ],
         "xaxis": "x",
         "y": [
          12.7,
          15.7,
          15,
          16,
          13.2,
          19,
          21,
          26,
          26,
          20,
          25.1
         ],
         "yaxis": "y"
        },
        {
         "hovertemplate": "Manufacturer=Honda<br>__year_resale_value=%{x}<br>Fuel_capacity=%{y}<extra></extra>",
         "legendgroup": "Honda",
         "marker": {
          "color": "#FECB52",
          "size": 5,
          "symbol": "circle"
         },
         "mode": "markers",
         "name": "Honda",
         "orientation": "v",
         "showlegend": true,
         "type": "scatter",
         "x": [
          9.85,
          13.21,
          17.71,
          17.525,
          19.49
         ],
         "xaxis": "x",
         "y": [
          11.9,
          17.1,
          15.3,
          21.1,
          20
         ],
         "yaxis": "y"
        },
        {
         "hovertemplate": "Manufacturer=Hyundai<br>__year_resale_value=%{x}<br>Fuel_capacity=%{y}<extra></extra>",
         "legendgroup": "Hyundai",
         "marker": {
          "color": "#636efa",
          "size": 5,
          "symbol": "circle"
         },
         "mode": "markers",
         "name": "Hyundai",
         "orientation": "v",
         "showlegend": true,
         "type": "scatter",
         "x": [
          5.86,
          7.825,
          8.91
         ],
         "xaxis": "x",
         "y": [
          11.9,
          14.5,
          17.2
         ],
         "yaxis": "y"
        },
        {
         "hovertemplate": "Manufacturer=Infiniti<br>__year_resale_value=%{x}<br>Fuel_capacity=%{y}<extra></extra>",
         "legendgroup": "Infiniti",
         "marker": {
          "color": "#EF553B",
          "size": 5,
          "symbol": "circle"
         },
         "mode": "markers",
         "name": "Infiniti",
         "orientation": "v",
         "showlegend": true,
         "type": "scatter",
         "x": [
          19.69
         ],
         "xaxis": "x",
         "y": [
          18.5
         ],
         "yaxis": "y"
        },
        {
         "hovertemplate": "Manufacturer=Jaguar<br>__year_resale_value=%{x}<br>Fuel_capacity=%{y}<extra></extra>",
         "legendgroup": "Jaguar",
         "marker": {
          "color": "#00cc96",
          "size": 5,
          "symbol": "circle"
         },
         "mode": "markers",
         "name": "Jaguar",
         "orientation": "v",
         "showlegend": true,
         "type": "scatter",
         "x": [
          null
         ],
         "xaxis": "x",
         "y": [
          18.4
         ],
         "yaxis": "y"
        },
        {
         "hovertemplate": "Manufacturer=Jeep<br>__year_resale_value=%{x}<br>Fuel_capacity=%{y}<extra></extra>",
         "legendgroup": "Jeep",
         "marker": {
          "color": "#ab63fa",
          "size": 5,
          "symbol": "circle"
         },
         "mode": "markers",
         "name": "Jeep",
         "orientation": "v",
         "showlegend": true,
         "type": "scatter",
         "x": [
          13.475,
          13.775,
          18.81
         ],
         "xaxis": "x",
         "y": [
          19,
          20,
          20.5
         ],
         "yaxis": "y"
        },
        {
         "hovertemplate": "Manufacturer=Lexus<br>__year_resale_value=%{x}<br>Fuel_capacity=%{y}<extra></extra>",
         "legendgroup": "Lexus",
         "marker": {
          "color": "#FFA15A",
          "size": 5,
          "symbol": "circle"
         },
         "mode": "markers",
         "name": "Lexus",
         "orientation": "v",
         "showlegend": true,
         "type": "scatter",
         "x": [
          26.975,
          32.075,
          null,
          40.375,
          null,
          null
         ],
         "xaxis": "x",
         "y": [
          18.5,
          19.8,
          19.8,
          22.5,
          25.4,
          17.2
         ],
         "yaxis": "y"
        },
        {
         "hovertemplate": "Manufacturer=Lincoln<br>__year_resale_value=%{x}<br>Fuel_capacity=%{y}<extra></extra>",
         "legendgroup": "Lincoln",
         "marker": {
          "color": "#19d3f3",
          "size": 5,
          "symbol": "circle"
         },
         "mode": "markers",
         "name": "Lincoln",
         "orientation": "v",
         "showlegend": true,
         "type": "scatter",
         "x": [
          20.525,
          21.725,
          null
         ],
         "xaxis": "x",
         "y": [
          20,
          19,
          30
         ],
         "yaxis": "y"
        },
        {
         "hovertemplate": "Manufacturer=Mitsubishi<br>__year_resale_value=%{x}<br>Fuel_capacity=%{y}<extra></extra>",
         "legendgroup": "Mitsubishi",
         "marker": {
          "color": "#FF6692",
          "size": 5,
          "symbol": "circle"
         },
         "mode": "markers",
         "name": "Mitsubishi",
         "orientation": "v",
         "showlegend": true,
         "type": "scatter",
         "x": [
          8.325,
          10.395,
          10.595,
          16.575,
          20.94,
          19.125,
          13.88
         ],
         "xaxis": "x",
         "y": [
          13.2,
          15.9,
          16.3,
          19,
          19.8,
          24.3,
          19.5
         ],
         "yaxis": "y"
        },
        {
         "hovertemplate": "Manufacturer=Mercury<br>__year_resale_value=%{x}<br>Fuel_capacity=%{y}<extra></extra>",
         "legendgroup": "Mercury",
         "marker": {
          "color": "#B6E880",
          "size": 5,
          "symbol": "circle"
         },
         "mode": "markers",
         "name": "Mercury",
         "orientation": "v",
         "showlegend": true,
         "type": "scatter",
         "x": [
          8.8,
          13.89,
          11.03,
          14.875,
          20.43,
          14.795
         ],
         "xaxis": "x",
         "y": [
          15,
          16,
          16,
          19,
          21,
          20
         ],
         "yaxis": "y"
        },
        {
         "hovertemplate": "Manufacturer=Mercedes-B<br>__year_resale_value=%{x}<br>Fuel_capacity=%{y}<extra></extra>",
         "legendgroup": "Mercedes-B",
         "marker": {
          "color": "#FF97FF",
          "size": 5,
          "symbol": "circle"
         },
         "mode": "markers",
         "name": "Mercedes-B",
         "orientation": "v",
         "showlegend": true,
         "type": "scatter",
         "x": [
          26.05,
          41.45,
          50.375,
          58.6,
          null,
          null,
          null,
          null,
          null
         ],
         "xaxis": "x",
         "y": [
          16.4,
          21.1,
          23.2,
          21.1,
          15.9,
          14,
          16.4,
          23.2,
          19
         ],
         "yaxis": "y"
        },
        {
         "hovertemplate": "Manufacturer=Nissan<br>__year_resale_value=%{x}<br>Fuel_capacity=%{y}<extra></extra>",
         "legendgroup": "Nissan",
         "marker": {
          "color": "#FECB52",
          "size": 5,
          "symbol": "circle"
         },
         "mode": "markers",
         "name": "Nissan",
         "orientation": "v",
         "showlegend": true,
         "type": "scatter",
         "x": [
          8.45,
          11.295,
          15.125,
          15.38,
          17.81,
          null,
          null
         ],
         "xaxis": "x",
         "y": [
          13.2,
          15.9,
          18.5,
          20,
          21,
          19.4,
          19.4
         ],
         "yaxis": "y"
        },
        {
         "hovertemplate": "Manufacturer=Oldsmobile<br>__year_resale_value=%{x}<br>Fuel_capacity=%{y}<extra></extra>",
         "legendgroup": "Oldsmobile",
         "marker": {
          "color": "#636efa",
          "size": 5,
          "symbol": "circle"
         },
         "mode": "markers",
         "name": "Oldsmobile",
         "orientation": "v",
         "showlegend": true,
         "type": "scatter",
         "x": [
          11.24,
          null,
          null,
          19.89,
          19.925,
          15.24
         ],
         "xaxis": "x",
         "y": [
          15.2,
          18,
          15,
          18.5,
          17.5,
          25
         ],
         "yaxis": "y"
        },
        {
         "hovertemplate": "Manufacturer=Plymouth<br>__year_resale_value=%{x}<br>Fuel_capacity=%{y}<extra></extra>",
         "legendgroup": "Plymouth",
         "marker": {
          "color": "#EF553B",
          "size": 5,
          "symbol": "circle"
         },
         "mode": "markers",
         "name": "Plymouth",
         "orientation": "v",
         "showlegend": true,
         "type": "scatter",
         "x": [
          7.75,
          9.8,
          12.025,
          null
         ],
         "xaxis": "x",
         "y": [
          12.5,
          16,
          20,
          12
         ],
         "yaxis": "y"
        },
        {
         "hovertemplate": "Manufacturer=Pontiac<br>__year_resale_value=%{x}<br>Fuel_capacity=%{y}<extra></extra>",
         "legendgroup": "Pontiac",
         "marker": {
          "color": "#00cc96",
          "size": 5,
          "symbol": "circle"
         },
         "mode": "markers",
         "name": "Pontiac",
         "orientation": "v",
         "showlegend": true,
         "type": "scatter",
         "x": [
          13.79,
          10.29,
          17.805,
          14.01,
          13.225,
          null
         ],
         "xaxis": "x",
         "y": [
          15,
          15.2,
          16.8,
          18,
          17.5,
          25
         ],
         "yaxis": "y"
        },
        {
         "hovertemplate": "Manufacturer=Porsche<br>__year_resale_value=%{x}<br>Fuel_capacity=%{y}<extra></extra>",
         "legendgroup": "Porsche",
         "marker": {
          "color": "#ab63fa",
          "size": 5,
          "symbol": "circle"
         },
         "mode": "markers",
         "name": "Porsche",
         "orientation": "v",
         "showlegend": true,
         "type": "scatter",
         "x": [
          41.25,
          60.625,
          67.55
         ],
         "xaxis": "x",
         "y": [
          17,
          17,
          17
         ],
         "yaxis": "y"
        },
        {
         "hovertemplate": "Manufacturer=Saab<br>__year_resale_value=%{x}<br>Fuel_capacity=%{y}<extra></extra>",
         "legendgroup": "Saab",
         "marker": {
          "color": "#FFA15A",
          "size": 5,
          "symbol": "circle"
         },
         "mode": "markers",
         "name": "Saab",
         "orientation": "v",
         "showlegend": true,
         "type": "scatter",
         "x": [
          null,
          null
         ],
         "xaxis": "x",
         "y": [
          18.5,
          16.9
         ],
         "yaxis": "y"
        },
        {
         "hovertemplate": "Manufacturer=Saturn<br>__year_resale_value=%{x}<br>Fuel_capacity=%{y}<extra></extra>",
         "legendgroup": "Saturn",
         "marker": {
          "color": "#19d3f3",
          "size": 5,
          "symbol": "circle"
         },
         "mode": "markers",
         "name": "Saturn",
         "orientation": "v",
         "showlegend": true,
         "type": "scatter",
         "x": [
          9.2,
          10.59,
          10.79,
          null,
          null
         ],
         "xaxis": "x",
         "y": [
          12.1,
          12.1,
          12.1,
          13.1,
          13.1
         ],
         "yaxis": "y"
        },
        {
         "hovertemplate": "Manufacturer=Subaru<br>__year_resale_value=%{x}<br>Fuel_capacity=%{y}<extra></extra>",
         "legendgroup": "Subaru",
         "marker": {
          "color": "#FF6692",
          "size": 5,
          "symbol": "circle"
         },
         "mode": "markers",
         "name": "Subaru",
         "orientation": "v",
         "showlegend": true,
         "type": "scatter",
         "x": [
          null,
          null
         ],
         "xaxis": "x",
         "y": [
          16.9,
          15.9
         ],
         "yaxis": "y"
        },
        {
         "hovertemplate": "Manufacturer=Toyota<br>__year_resale_value=%{x}<br>Fuel_capacity=%{y}<extra></extra>",
         "legendgroup": "Toyota",
         "marker": {
          "color": "#B6E880",
          "size": 5,
          "symbol": "circle"
         },
         "mode": "markers",
         "name": "Toyota",
         "orientation": "v",
         "showlegend": true,
         "type": "scatter",
         "x": [
          10.025,
          13.245,
          18.14,
          15.445,
          9.575,
          null,
          13.325,
          19.425,
          34.08
         ],
         "xaxis": "x",
         "y": [
          13.2,
          18.5,
          18.5,
          14.5,
          15.1,
          20.9,
          15.3,
          18.5,
          25.4
         ],
         "yaxis": "y"
        },
        {
         "hovertemplate": "Manufacturer=Volkswagen<br>__year_resale_value=%{x}<br>Fuel_capacity=%{y}<extra></extra>",
         "legendgroup": "Volkswagen",
         "marker": {
          "color": "#FF97FF",
          "size": 5,
          "symbol": "circle"
         },
         "mode": "markers",
         "name": "Volkswagen",
         "orientation": "v",
         "showlegend": true,
         "type": "scatter",
         "x": [
          11.425,
          13.24,
          16.725,
          16.575,
          13.76,
          null
         ],
         "xaxis": "x",
         "y": [
          14.5,
          14.5,
          16.4,
          13.7,
          14.6,
          14.5
         ],
         "yaxis": "y"
        },
        {
         "hovertemplate": "Manufacturer=Volvo<br>__year_resale_value=%{x}<br>Fuel_capacity=%{y}<extra></extra>",
         "legendgroup": "Volvo",
         "marker": {
          "color": "#FECB52",
          "size": 5,
          "symbol": "circle"
         },
         "mode": "markers",
         "name": "Volvo",
         "orientation": "v",
         "showlegend": true,
         "type": "scatter",
         "x": [
          null,
          null,
          null,
          null,
          null,
          null
         ],
         "xaxis": "x",
         "y": [
          15.8,
          15.8,
          17.9,
          17.9,
          18.5,
          21.1
         ],
         "yaxis": "y"
        }
       ],
       "layout": {
        "legend": {
         "title": {
          "text": "Manufacturer"
         },
         "tracegroupgap": 0
        },
        "template": {
         "data": {
          "bar": [
           {
            "error_x": {
             "color": "#2a3f5f"
            },
            "error_y": {
             "color": "#2a3f5f"
            },
            "marker": {
             "line": {
              "color": "#E5ECF6",
              "width": 0.5
             },
             "pattern": {
              "fillmode": "overlay",
              "size": 10,
              "solidity": 0.2
             }
            },
            "type": "bar"
           }
          ],
          "barpolar": [
           {
            "marker": {
             "line": {
              "color": "#E5ECF6",
              "width": 0.5
             },
             "pattern": {
              "fillmode": "overlay",
              "size": 10,
              "solidity": 0.2
             }
            },
            "type": "barpolar"
           }
          ],
          "carpet": [
           {
            "aaxis": {
             "endlinecolor": "#2a3f5f",
             "gridcolor": "white",
             "linecolor": "white",
             "minorgridcolor": "white",
             "startlinecolor": "#2a3f5f"
            },
            "baxis": {
             "endlinecolor": "#2a3f5f",
             "gridcolor": "white",
             "linecolor": "white",
             "minorgridcolor": "white",
             "startlinecolor": "#2a3f5f"
            },
            "type": "carpet"
           }
          ],
          "choropleth": [
           {
            "colorbar": {
             "outlinewidth": 0,
             "ticks": ""
            },
            "type": "choropleth"
           }
          ],
          "contour": [
           {
            "colorbar": {
             "outlinewidth": 0,
             "ticks": ""
            },
            "colorscale": [
             [
              0,
              "#0d0887"
             ],
             [
              0.1111111111111111,
              "#46039f"
             ],
             [
              0.2222222222222222,
              "#7201a8"
             ],
             [
              0.3333333333333333,
              "#9c179e"
             ],
             [
              0.4444444444444444,
              "#bd3786"
             ],
             [
              0.5555555555555556,
              "#d8576b"
             ],
             [
              0.6666666666666666,
              "#ed7953"
             ],
             [
              0.7777777777777778,
              "#fb9f3a"
             ],
             [
              0.8888888888888888,
              "#fdca26"
             ],
             [
              1,
              "#f0f921"
             ]
            ],
            "type": "contour"
           }
          ],
          "contourcarpet": [
           {
            "colorbar": {
             "outlinewidth": 0,
             "ticks": ""
            },
            "type": "contourcarpet"
           }
          ],
          "heatmap": [
           {
            "colorbar": {
             "outlinewidth": 0,
             "ticks": ""
            },
            "colorscale": [
             [
              0,
              "#0d0887"
             ],
             [
              0.1111111111111111,
              "#46039f"
             ],
             [
              0.2222222222222222,
              "#7201a8"
             ],
             [
              0.3333333333333333,
              "#9c179e"
             ],
             [
              0.4444444444444444,
              "#bd3786"
             ],
             [
              0.5555555555555556,
              "#d8576b"
             ],
             [
              0.6666666666666666,
              "#ed7953"
             ],
             [
              0.7777777777777778,
              "#fb9f3a"
             ],
             [
              0.8888888888888888,
              "#fdca26"
             ],
             [
              1,
              "#f0f921"
             ]
            ],
            "type": "heatmap"
           }
          ],
          "heatmapgl": [
           {
            "colorbar": {
             "outlinewidth": 0,
             "ticks": ""
            },
            "colorscale": [
             [
              0,
              "#0d0887"
             ],
             [
              0.1111111111111111,
              "#46039f"
             ],
             [
              0.2222222222222222,
              "#7201a8"
             ],
             [
              0.3333333333333333,
              "#9c179e"
             ],
             [
              0.4444444444444444,
              "#bd3786"
             ],
             [
              0.5555555555555556,
              "#d8576b"
             ],
             [
              0.6666666666666666,
              "#ed7953"
             ],
             [
              0.7777777777777778,
              "#fb9f3a"
             ],
             [
              0.8888888888888888,
              "#fdca26"
             ],
             [
              1,
              "#f0f921"
             ]
            ],
            "type": "heatmapgl"
           }
          ],
          "histogram": [
           {
            "marker": {
             "pattern": {
              "fillmode": "overlay",
              "size": 10,
              "solidity": 0.2
             }
            },
            "type": "histogram"
           }
          ],
          "histogram2d": [
           {
            "colorbar": {
             "outlinewidth": 0,
             "ticks": ""
            },
            "colorscale": [
             [
              0,
              "#0d0887"
             ],
             [
              0.1111111111111111,
              "#46039f"
             ],
             [
              0.2222222222222222,
              "#7201a8"
             ],
             [
              0.3333333333333333,
              "#9c179e"
             ],
             [
              0.4444444444444444,
              "#bd3786"
             ],
             [
              0.5555555555555556,
              "#d8576b"
             ],
             [
              0.6666666666666666,
              "#ed7953"
             ],
             [
              0.7777777777777778,
              "#fb9f3a"
             ],
             [
              0.8888888888888888,
              "#fdca26"
             ],
             [
              1,
              "#f0f921"
             ]
            ],
            "type": "histogram2d"
           }
          ],
          "histogram2dcontour": [
           {
            "colorbar": {
             "outlinewidth": 0,
             "ticks": ""
            },
            "colorscale": [
             [
              0,
              "#0d0887"
             ],
             [
              0.1111111111111111,
              "#46039f"
             ],
             [
              0.2222222222222222,
              "#7201a8"
             ],
             [
              0.3333333333333333,
              "#9c179e"
             ],
             [
              0.4444444444444444,
              "#bd3786"
             ],
             [
              0.5555555555555556,
              "#d8576b"
             ],
             [
              0.6666666666666666,
              "#ed7953"
             ],
             [
              0.7777777777777778,
              "#fb9f3a"
             ],
             [
              0.8888888888888888,
              "#fdca26"
             ],
             [
              1,
              "#f0f921"
             ]
            ],
            "type": "histogram2dcontour"
           }
          ],
          "mesh3d": [
           {
            "colorbar": {
             "outlinewidth": 0,
             "ticks": ""
            },
            "type": "mesh3d"
           }
          ],
          "parcoords": [
           {
            "line": {
             "colorbar": {
              "outlinewidth": 0,
              "ticks": ""
             }
            },
            "type": "parcoords"
           }
          ],
          "pie": [
           {
            "automargin": true,
            "type": "pie"
           }
          ],
          "scatter": [
           {
            "marker": {
             "colorbar": {
              "outlinewidth": 0,
              "ticks": ""
             }
            },
            "type": "scatter"
           }
          ],
          "scatter3d": [
           {
            "line": {
             "colorbar": {
              "outlinewidth": 0,
              "ticks": ""
             }
            },
            "marker": {
             "colorbar": {
              "outlinewidth": 0,
              "ticks": ""
             }
            },
            "type": "scatter3d"
           }
          ],
          "scattercarpet": [
           {
            "marker": {
             "colorbar": {
              "outlinewidth": 0,
              "ticks": ""
             }
            },
            "type": "scattercarpet"
           }
          ],
          "scattergeo": [
           {
            "marker": {
             "colorbar": {
              "outlinewidth": 0,
              "ticks": ""
             }
            },
            "type": "scattergeo"
           }
          ],
          "scattergl": [
           {
            "marker": {
             "colorbar": {
              "outlinewidth": 0,
              "ticks": ""
             }
            },
            "type": "scattergl"
           }
          ],
          "scattermapbox": [
           {
            "marker": {
             "colorbar": {
              "outlinewidth": 0,
              "ticks": ""
             }
            },
            "type": "scattermapbox"
           }
          ],
          "scatterpolar": [
           {
            "marker": {
             "colorbar": {
              "outlinewidth": 0,
              "ticks": ""
             }
            },
            "type": "scatterpolar"
           }
          ],
          "scatterpolargl": [
           {
            "marker": {
             "colorbar": {
              "outlinewidth": 0,
              "ticks": ""
             }
            },
            "type": "scatterpolargl"
           }
          ],
          "scatterternary": [
           {
            "marker": {
             "colorbar": {
              "outlinewidth": 0,
              "ticks": ""
             }
            },
            "type": "scatterternary"
           }
          ],
          "surface": [
           {
            "colorbar": {
             "outlinewidth": 0,
             "ticks": ""
            },
            "colorscale": [
             [
              0,
              "#0d0887"
             ],
             [
              0.1111111111111111,
              "#46039f"
             ],
             [
              0.2222222222222222,
              "#7201a8"
             ],
             [
              0.3333333333333333,
              "#9c179e"
             ],
             [
              0.4444444444444444,
              "#bd3786"
             ],
             [
              0.5555555555555556,
              "#d8576b"
             ],
             [
              0.6666666666666666,
              "#ed7953"
             ],
             [
              0.7777777777777778,
              "#fb9f3a"
             ],
             [
              0.8888888888888888,
              "#fdca26"
             ],
             [
              1,
              "#f0f921"
             ]
            ],
            "type": "surface"
           }
          ],
          "table": [
           {
            "cells": {
             "fill": {
              "color": "#EBF0F8"
             },
             "line": {
              "color": "white"
             }
            },
            "header": {
             "fill": {
              "color": "#C8D4E3"
             },
             "line": {
              "color": "white"
             }
            },
            "type": "table"
           }
          ]
         },
         "layout": {
          "annotationdefaults": {
           "arrowcolor": "#2a3f5f",
           "arrowhead": 0,
           "arrowwidth": 1
          },
          "autotypenumbers": "strict",
          "coloraxis": {
           "colorbar": {
            "outlinewidth": 0,
            "ticks": ""
           }
          },
          "colorscale": {
           "diverging": [
            [
             0,
             "#8e0152"
            ],
            [
             0.1,
             "#c51b7d"
            ],
            [
             0.2,
             "#de77ae"
            ],
            [
             0.3,
             "#f1b6da"
            ],
            [
             0.4,
             "#fde0ef"
            ],
            [
             0.5,
             "#f7f7f7"
            ],
            [
             0.6,
             "#e6f5d0"
            ],
            [
             0.7,
             "#b8e186"
            ],
            [
             0.8,
             "#7fbc41"
            ],
            [
             0.9,
             "#4d9221"
            ],
            [
             1,
             "#276419"
            ]
           ],
           "sequential": [
            [
             0,
             "#0d0887"
            ],
            [
             0.1111111111111111,
             "#46039f"
            ],
            [
             0.2222222222222222,
             "#7201a8"
            ],
            [
             0.3333333333333333,
             "#9c179e"
            ],
            [
             0.4444444444444444,
             "#bd3786"
            ],
            [
             0.5555555555555556,
             "#d8576b"
            ],
            [
             0.6666666666666666,
             "#ed7953"
            ],
            [
             0.7777777777777778,
             "#fb9f3a"
            ],
            [
             0.8888888888888888,
             "#fdca26"
            ],
            [
             1,
             "#f0f921"
            ]
           ],
           "sequentialminus": [
            [
             0,
             "#0d0887"
            ],
            [
             0.1111111111111111,
             "#46039f"
            ],
            [
             0.2222222222222222,
             "#7201a8"
            ],
            [
             0.3333333333333333,
             "#9c179e"
            ],
            [
             0.4444444444444444,
             "#bd3786"
            ],
            [
             0.5555555555555556,
             "#d8576b"
            ],
            [
             0.6666666666666666,
             "#ed7953"
            ],
            [
             0.7777777777777778,
             "#fb9f3a"
            ],
            [
             0.8888888888888888,
             "#fdca26"
            ],
            [
             1,
             "#f0f921"
            ]
           ]
          },
          "colorway": [
           "#636efa",
           "#EF553B",
           "#00cc96",
           "#ab63fa",
           "#FFA15A",
           "#19d3f3",
           "#FF6692",
           "#B6E880",
           "#FF97FF",
           "#FECB52"
          ],
          "font": {
           "color": "#2a3f5f"
          },
          "geo": {
           "bgcolor": "white",
           "lakecolor": "white",
           "landcolor": "#E5ECF6",
           "showlakes": true,
           "showland": true,
           "subunitcolor": "white"
          },
          "hoverlabel": {
           "align": "left"
          },
          "hovermode": "closest",
          "mapbox": {
           "style": "light"
          },
          "paper_bgcolor": "white",
          "plot_bgcolor": "#E5ECF6",
          "polar": {
           "angularaxis": {
            "gridcolor": "white",
            "linecolor": "white",
            "ticks": ""
           },
           "bgcolor": "#E5ECF6",
           "radialaxis": {
            "gridcolor": "white",
            "linecolor": "white",
            "ticks": ""
           }
          },
          "scene": {
           "xaxis": {
            "backgroundcolor": "#E5ECF6",
            "gridcolor": "white",
            "gridwidth": 2,
            "linecolor": "white",
            "showbackground": true,
            "ticks": "",
            "zerolinecolor": "white"
           },
           "yaxis": {
            "backgroundcolor": "#E5ECF6",
            "gridcolor": "white",
            "gridwidth": 2,
            "linecolor": "white",
            "showbackground": true,
            "ticks": "",
            "zerolinecolor": "white"
           },
           "zaxis": {
            "backgroundcolor": "#E5ECF6",
            "gridcolor": "white",
            "gridwidth": 2,
            "linecolor": "white",
            "showbackground": true,
            "ticks": "",
            "zerolinecolor": "white"
           }
          },
          "shapedefaults": {
           "line": {
            "color": "#2a3f5f"
           }
          },
          "ternary": {
           "aaxis": {
            "gridcolor": "white",
            "linecolor": "white",
            "ticks": ""
           },
           "baxis": {
            "gridcolor": "white",
            "linecolor": "white",
            "ticks": ""
           },
           "bgcolor": "#E5ECF6",
           "caxis": {
            "gridcolor": "white",
            "linecolor": "white",
            "ticks": ""
           }
          },
          "title": {
           "x": 0.05
          },
          "xaxis": {
           "automargin": true,
           "gridcolor": "white",
           "linecolor": "white",
           "ticks": "",
           "title": {
            "standoff": 15
           },
           "zerolinecolor": "white",
           "zerolinewidth": 2
          },
          "yaxis": {
           "automargin": true,
           "gridcolor": "white",
           "linecolor": "white",
           "ticks": "",
           "title": {
            "standoff": 15
           },
           "zerolinecolor": "white",
           "zerolinewidth": 2
          }
         }
        },
        "title": {
         "font": {
          "color": "rgba(0, 153, 0,0.5)"
         },
         "text": "Manufacturer-Fuel-Capacity",
         "x": 0.5,
         "xanchor": "center",
         "y": 0.9,
         "yanchor": "top"
        },
        "xaxis": {
         "anchor": "y",
         "domain": [
          0,
          1
         ],
         "title": {
          "text": "__year_resale_value"
         }
        },
        "yaxis": {
         "anchor": "x",
         "domain": [
          0,
          1
         ],
         "title": {
          "text": "Fuel_capacity"
         }
        }
       }
      },
      "text/html": [
       "<div>                            <div id=\"1b2e263b-ad0a-4bb7-90bd-e9a560173231\" class=\"plotly-graph-div\" style=\"height:525px; width:100%;\"></div>            <script type=\"text/javascript\">                require([\"plotly\"], function(Plotly) {                    window.PLOTLYENV=window.PLOTLYENV || {};                                    if (document.getElementById(\"1b2e263b-ad0a-4bb7-90bd-e9a560173231\")) {                    Plotly.newPlot(                        \"1b2e263b-ad0a-4bb7-90bd-e9a560173231\",                        [{\"hovertemplate\":\"Manufacturer=Acura<br>__year_resale_value=%{x}<br>Fuel_capacity=%{y}<extra></extra>\",\"legendgroup\":\"Acura\",\"marker\":{\"color\":\"#636efa\",\"symbol\":\"circle\",\"size\":5},\"mode\":\"markers\",\"name\":\"Acura\",\"orientation\":\"v\",\"showlegend\":true,\"x\":[16.36,19.875,18.225,29.725],\"xaxis\":\"x\",\"y\":[13.2,17.2,17.2,18.0],\"yaxis\":\"y\",\"type\":\"scatter\"},{\"hovertemplate\":\"Manufacturer=Audi<br>__year_resale_value=%{x}<br>Fuel_capacity=%{y}<extra></extra>\",\"legendgroup\":\"Audi\",\"marker\":{\"color\":\"#EF553B\",\"symbol\":\"circle\",\"size\":5},\"mode\":\"markers\",\"name\":\"Audi\",\"orientation\":\"v\",\"showlegend\":true,\"x\":[22.255,23.555,39.0],\"xaxis\":\"x\",\"y\":[16.4,18.5,23.7],\"yaxis\":\"y\",\"type\":\"scatter\"},{\"hovertemplate\":\"Manufacturer=BMW<br>__year_resale_value=%{x}<br>Fuel_capacity=%{y}<extra></extra>\",\"legendgroup\":\"BMW\",\"marker\":{\"color\":\"#00cc96\",\"symbol\":\"circle\",\"size\":5},\"mode\":\"markers\",\"name\":\"BMW\",\"orientation\":\"v\",\"showlegend\":true,\"x\":[null,28.675,36.125],\"xaxis\":\"x\",\"y\":[16.6,16.6,18.5],\"yaxis\":\"y\",\"type\":\"scatter\"},{\"hovertemplate\":\"Manufacturer=Buick<br>__year_resale_value=%{x}<br>Fuel_capacity=%{y}<extra></extra>\",\"legendgroup\":\"Buick\",\"marker\":{\"color\":\"#ab63fa\",\"symbol\":\"circle\",\"size\":5},\"mode\":\"markers\",\"name\":\"Buick\",\"orientation\":\"v\",\"showlegend\":true,\"x\":[12.475,13.74,20.19,13.36],\"xaxis\":\"x\",\"y\":[17.5,17.5,18.5,17.5],\"yaxis\":\"y\",\"type\":\"scatter\"},{\"hovertemplate\":\"Manufacturer=Cadillac<br>__year_resale_value=%{x}<br>Fuel_capacity=%{y}<extra></extra>\",\"legendgroup\":\"Cadillac\",\"marker\":{\"color\":\"#FFA15A\",\"symbol\":\"circle\",\"size\":5},\"mode\":\"markers\",\"name\":\"Cadillac\",\"orientation\":\"v\",\"showlegend\":true,\"x\":[22.525,27.1,25.725,18.225,null],\"xaxis\":\"x\",\"y\":[18.5,18.5,19.0,18.0,30.0],\"yaxis\":\"y\",\"type\":\"scatter\"},{\"hovertemplate\":\"Manufacturer=Chevrolet<br>__year_resale_value=%{x}<br>Fuel_capacity=%{y}<extra></extra>\",\"legendgroup\":\"Chevrolet\",\"marker\":{\"color\":\"#19d3f3\",\"symbol\":\"circle\",\"size\":5},\"mode\":\"markers\",\"name\":\"Chevrolet\",\"orientation\":\"v\",\"showlegend\":true,\"x\":[9.25,11.225,10.31,11.525,13.025,36.225,9.125,5.16,null],\"xaxis\":\"x\",\"y\":[14.3,15.0,16.6,17.0,16.8,19.1,13.2,10.3,17.0],\"yaxis\":\"y\",\"type\":\"scatter\"},{\"hovertemplate\":\"Manufacturer=Chrysler<br>__year_resale_value=%{x}<br>Fuel_capacity=%{y}<extra></extra>\",\"legendgroup\":\"Chrysler\",\"marker\":{\"color\":\"#FF6692\",\"symbol\":\"circle\",\"size\":5},\"mode\":\"markers\",\"name\":\"Chrysler\",\"orientation\":\"v\",\"showlegend\":true,\"x\":[12.36,14.18,13.725,12.64,17.325,19.54,null],\"xaxis\":\"x\",\"y\":[15.9,16.0,17.0,16.0,17.0,null,17.0],\"yaxis\":\"y\",\"type\":\"scatter\"},{\"hovertemplate\":\"Manufacturer=Dodge<br>__year_resale_value=%{x}<br>Fuel_capacity=%{y}<extra></extra>\",\"legendgroup\":\"Dodge\",\"marker\":{\"color\":\"#B6E880\",\"symbol\":\"circle\",\"size\":5},\"mode\":\"markers\",\"name\":\"Dodge\",\"orientation\":\"v\",\"showlegend\":true,\"x\":[7.75,12.545,10.185,12.275,58.47,15.06,15.51,13.425,11.26,null,12.025],\"xaxis\":\"x\",\"y\":[12.5,15.9,16.0,17.0,19.0,26.0,32.0,32.0,22.0,25.0,20.0],\"yaxis\":\"y\",\"type\":\"scatter\"},{\"hovertemplate\":\"Manufacturer=Ford<br>__year_resale_value=%{x}<br>Fuel_capacity=%{y}<extra></extra>\",\"legendgroup\":\"Ford\",\"marker\":{\"color\":\"#FF97FF\",\"symbol\":\"circle\",\"size\":5},\"mode\":\"markers\",\"name\":\"Ford\",\"orientation\":\"v\",\"showlegend\":true,\"x\":[7.425,12.76,8.835,10.055,null,14.21,16.64,13.175,23.575,7.85,15.075],\"xaxis\":\"x\",\"y\":[12.7,15.7,15.0,16.0,13.2,19.0,21.0,26.0,26.0,20.0,25.1],\"yaxis\":\"y\",\"type\":\"scatter\"},{\"hovertemplate\":\"Manufacturer=Honda<br>__year_resale_value=%{x}<br>Fuel_capacity=%{y}<extra></extra>\",\"legendgroup\":\"Honda\",\"marker\":{\"color\":\"#FECB52\",\"symbol\":\"circle\",\"size\":5},\"mode\":\"markers\",\"name\":\"Honda\",\"orientation\":\"v\",\"showlegend\":true,\"x\":[9.85,13.21,17.71,17.525,19.49],\"xaxis\":\"x\",\"y\":[11.9,17.1,15.3,21.1,20.0],\"yaxis\":\"y\",\"type\":\"scatter\"},{\"hovertemplate\":\"Manufacturer=Hyundai<br>__year_resale_value=%{x}<br>Fuel_capacity=%{y}<extra></extra>\",\"legendgroup\":\"Hyundai\",\"marker\":{\"color\":\"#636efa\",\"symbol\":\"circle\",\"size\":5},\"mode\":\"markers\",\"name\":\"Hyundai\",\"orientation\":\"v\",\"showlegend\":true,\"x\":[5.86,7.825,8.91],\"xaxis\":\"x\",\"y\":[11.9,14.5,17.2],\"yaxis\":\"y\",\"type\":\"scatter\"},{\"hovertemplate\":\"Manufacturer=Infiniti<br>__year_resale_value=%{x}<br>Fuel_capacity=%{y}<extra></extra>\",\"legendgroup\":\"Infiniti\",\"marker\":{\"color\":\"#EF553B\",\"symbol\":\"circle\",\"size\":5},\"mode\":\"markers\",\"name\":\"Infiniti\",\"orientation\":\"v\",\"showlegend\":true,\"x\":[19.69],\"xaxis\":\"x\",\"y\":[18.5],\"yaxis\":\"y\",\"type\":\"scatter\"},{\"hovertemplate\":\"Manufacturer=Jaguar<br>__year_resale_value=%{x}<br>Fuel_capacity=%{y}<extra></extra>\",\"legendgroup\":\"Jaguar\",\"marker\":{\"color\":\"#00cc96\",\"symbol\":\"circle\",\"size\":5},\"mode\":\"markers\",\"name\":\"Jaguar\",\"orientation\":\"v\",\"showlegend\":true,\"x\":[null],\"xaxis\":\"x\",\"y\":[18.4],\"yaxis\":\"y\",\"type\":\"scatter\"},{\"hovertemplate\":\"Manufacturer=Jeep<br>__year_resale_value=%{x}<br>Fuel_capacity=%{y}<extra></extra>\",\"legendgroup\":\"Jeep\",\"marker\":{\"color\":\"#ab63fa\",\"symbol\":\"circle\",\"size\":5},\"mode\":\"markers\",\"name\":\"Jeep\",\"orientation\":\"v\",\"showlegend\":true,\"x\":[13.475,13.775,18.81],\"xaxis\":\"x\",\"y\":[19.0,20.0,20.5],\"yaxis\":\"y\",\"type\":\"scatter\"},{\"hovertemplate\":\"Manufacturer=Lexus<br>__year_resale_value=%{x}<br>Fuel_capacity=%{y}<extra></extra>\",\"legendgroup\":\"Lexus\",\"marker\":{\"color\":\"#FFA15A\",\"symbol\":\"circle\",\"size\":5},\"mode\":\"markers\",\"name\":\"Lexus\",\"orientation\":\"v\",\"showlegend\":true,\"x\":[26.975,32.075,null,40.375,null,null],\"xaxis\":\"x\",\"y\":[18.5,19.8,19.8,22.5,25.4,17.2],\"yaxis\":\"y\",\"type\":\"scatter\"},{\"hovertemplate\":\"Manufacturer=Lincoln<br>__year_resale_value=%{x}<br>Fuel_capacity=%{y}<extra></extra>\",\"legendgroup\":\"Lincoln\",\"marker\":{\"color\":\"#19d3f3\",\"symbol\":\"circle\",\"size\":5},\"mode\":\"markers\",\"name\":\"Lincoln\",\"orientation\":\"v\",\"showlegend\":true,\"x\":[20.525,21.725,null],\"xaxis\":\"x\",\"y\":[20.0,19.0,30.0],\"yaxis\":\"y\",\"type\":\"scatter\"},{\"hovertemplate\":\"Manufacturer=Mitsubishi<br>__year_resale_value=%{x}<br>Fuel_capacity=%{y}<extra></extra>\",\"legendgroup\":\"Mitsubishi\",\"marker\":{\"color\":\"#FF6692\",\"symbol\":\"circle\",\"size\":5},\"mode\":\"markers\",\"name\":\"Mitsubishi\",\"orientation\":\"v\",\"showlegend\":true,\"x\":[8.325,10.395,10.595,16.575,20.94,19.125,13.88],\"xaxis\":\"x\",\"y\":[13.2,15.9,16.3,19.0,19.8,24.3,19.5],\"yaxis\":\"y\",\"type\":\"scatter\"},{\"hovertemplate\":\"Manufacturer=Mercury<br>__year_resale_value=%{x}<br>Fuel_capacity=%{y}<extra></extra>\",\"legendgroup\":\"Mercury\",\"marker\":{\"color\":\"#B6E880\",\"symbol\":\"circle\",\"size\":5},\"mode\":\"markers\",\"name\":\"Mercury\",\"orientation\":\"v\",\"showlegend\":true,\"x\":[8.8,13.89,11.03,14.875,20.43,14.795],\"xaxis\":\"x\",\"y\":[15.0,16.0,16.0,19.0,21.0,20.0],\"yaxis\":\"y\",\"type\":\"scatter\"},{\"hovertemplate\":\"Manufacturer=Mercedes-B<br>__year_resale_value=%{x}<br>Fuel_capacity=%{y}<extra></extra>\",\"legendgroup\":\"Mercedes-B\",\"marker\":{\"color\":\"#FF97FF\",\"symbol\":\"circle\",\"size\":5},\"mode\":\"markers\",\"name\":\"Mercedes-B\",\"orientation\":\"v\",\"showlegend\":true,\"x\":[26.05,41.45,50.375,58.6,null,null,null,null,null],\"xaxis\":\"x\",\"y\":[16.4,21.1,23.2,21.1,15.9,14.0,16.4,23.2,19.0],\"yaxis\":\"y\",\"type\":\"scatter\"},{\"hovertemplate\":\"Manufacturer=Nissan<br>__year_resale_value=%{x}<br>Fuel_capacity=%{y}<extra></extra>\",\"legendgroup\":\"Nissan\",\"marker\":{\"color\":\"#FECB52\",\"symbol\":\"circle\",\"size\":5},\"mode\":\"markers\",\"name\":\"Nissan\",\"orientation\":\"v\",\"showlegend\":true,\"x\":[8.45,11.295,15.125,15.38,17.81,null,null],\"xaxis\":\"x\",\"y\":[13.2,15.9,18.5,20.0,21.0,19.4,19.4],\"yaxis\":\"y\",\"type\":\"scatter\"},{\"hovertemplate\":\"Manufacturer=Oldsmobile<br>__year_resale_value=%{x}<br>Fuel_capacity=%{y}<extra></extra>\",\"legendgroup\":\"Oldsmobile\",\"marker\":{\"color\":\"#636efa\",\"symbol\":\"circle\",\"size\":5},\"mode\":\"markers\",\"name\":\"Oldsmobile\",\"orientation\":\"v\",\"showlegend\":true,\"x\":[11.24,null,null,19.89,19.925,15.24],\"xaxis\":\"x\",\"y\":[15.2,18.0,15.0,18.5,17.5,25.0],\"yaxis\":\"y\",\"type\":\"scatter\"},{\"hovertemplate\":\"Manufacturer=Plymouth<br>__year_resale_value=%{x}<br>Fuel_capacity=%{y}<extra></extra>\",\"legendgroup\":\"Plymouth\",\"marker\":{\"color\":\"#EF553B\",\"symbol\":\"circle\",\"size\":5},\"mode\":\"markers\",\"name\":\"Plymouth\",\"orientation\":\"v\",\"showlegend\":true,\"x\":[7.75,9.8,12.025,null],\"xaxis\":\"x\",\"y\":[12.5,16.0,20.0,12.0],\"yaxis\":\"y\",\"type\":\"scatter\"},{\"hovertemplate\":\"Manufacturer=Pontiac<br>__year_resale_value=%{x}<br>Fuel_capacity=%{y}<extra></extra>\",\"legendgroup\":\"Pontiac\",\"marker\":{\"color\":\"#00cc96\",\"symbol\":\"circle\",\"size\":5},\"mode\":\"markers\",\"name\":\"Pontiac\",\"orientation\":\"v\",\"showlegend\":true,\"x\":[13.79,10.29,17.805,14.01,13.225,null],\"xaxis\":\"x\",\"y\":[15.0,15.2,16.8,18.0,17.5,25.0],\"yaxis\":\"y\",\"type\":\"scatter\"},{\"hovertemplate\":\"Manufacturer=Porsche<br>__year_resale_value=%{x}<br>Fuel_capacity=%{y}<extra></extra>\",\"legendgroup\":\"Porsche\",\"marker\":{\"color\":\"#ab63fa\",\"symbol\":\"circle\",\"size\":5},\"mode\":\"markers\",\"name\":\"Porsche\",\"orientation\":\"v\",\"showlegend\":true,\"x\":[41.25,60.625,67.55],\"xaxis\":\"x\",\"y\":[17.0,17.0,17.0],\"yaxis\":\"y\",\"type\":\"scatter\"},{\"hovertemplate\":\"Manufacturer=Saab<br>__year_resale_value=%{x}<br>Fuel_capacity=%{y}<extra></extra>\",\"legendgroup\":\"Saab\",\"marker\":{\"color\":\"#FFA15A\",\"symbol\":\"circle\",\"size\":5},\"mode\":\"markers\",\"name\":\"Saab\",\"orientation\":\"v\",\"showlegend\":true,\"x\":[null,null],\"xaxis\":\"x\",\"y\":[18.5,16.9],\"yaxis\":\"y\",\"type\":\"scatter\"},{\"hovertemplate\":\"Manufacturer=Saturn<br>__year_resale_value=%{x}<br>Fuel_capacity=%{y}<extra></extra>\",\"legendgroup\":\"Saturn\",\"marker\":{\"color\":\"#19d3f3\",\"symbol\":\"circle\",\"size\":5},\"mode\":\"markers\",\"name\":\"Saturn\",\"orientation\":\"v\",\"showlegend\":true,\"x\":[9.2,10.59,10.79,null,null],\"xaxis\":\"x\",\"y\":[12.1,12.1,12.1,13.1,13.1],\"yaxis\":\"y\",\"type\":\"scatter\"},{\"hovertemplate\":\"Manufacturer=Subaru<br>__year_resale_value=%{x}<br>Fuel_capacity=%{y}<extra></extra>\",\"legendgroup\":\"Subaru\",\"marker\":{\"color\":\"#FF6692\",\"symbol\":\"circle\",\"size\":5},\"mode\":\"markers\",\"name\":\"Subaru\",\"orientation\":\"v\",\"showlegend\":true,\"x\":[null,null],\"xaxis\":\"x\",\"y\":[16.9,15.9],\"yaxis\":\"y\",\"type\":\"scatter\"},{\"hovertemplate\":\"Manufacturer=Toyota<br>__year_resale_value=%{x}<br>Fuel_capacity=%{y}<extra></extra>\",\"legendgroup\":\"Toyota\",\"marker\":{\"color\":\"#B6E880\",\"symbol\":\"circle\",\"size\":5},\"mode\":\"markers\",\"name\":\"Toyota\",\"orientation\":\"v\",\"showlegend\":true,\"x\":[10.025,13.245,18.14,15.445,9.575,null,13.325,19.425,34.08],\"xaxis\":\"x\",\"y\":[13.2,18.5,18.5,14.5,15.1,20.9,15.3,18.5,25.4],\"yaxis\":\"y\",\"type\":\"scatter\"},{\"hovertemplate\":\"Manufacturer=Volkswagen<br>__year_resale_value=%{x}<br>Fuel_capacity=%{y}<extra></extra>\",\"legendgroup\":\"Volkswagen\",\"marker\":{\"color\":\"#FF97FF\",\"symbol\":\"circle\",\"size\":5},\"mode\":\"markers\",\"name\":\"Volkswagen\",\"orientation\":\"v\",\"showlegend\":true,\"x\":[11.425,13.24,16.725,16.575,13.76,null],\"xaxis\":\"x\",\"y\":[14.5,14.5,16.4,13.7,14.6,14.5],\"yaxis\":\"y\",\"type\":\"scatter\"},{\"hovertemplate\":\"Manufacturer=Volvo<br>__year_resale_value=%{x}<br>Fuel_capacity=%{y}<extra></extra>\",\"legendgroup\":\"Volvo\",\"marker\":{\"color\":\"#FECB52\",\"symbol\":\"circle\",\"size\":5},\"mode\":\"markers\",\"name\":\"Volvo\",\"orientation\":\"v\",\"showlegend\":true,\"x\":[null,null,null,null,null,null],\"xaxis\":\"x\",\"y\":[15.8,15.8,17.9,17.9,18.5,21.1],\"yaxis\":\"y\",\"type\":\"scatter\"}],                        {\"template\":{\"data\":{\"bar\":[{\"error_x\":{\"color\":\"#2a3f5f\"},\"error_y\":{\"color\":\"#2a3f5f\"},\"marker\":{\"line\":{\"color\":\"#E5ECF6\",\"width\":0.5},\"pattern\":{\"fillmode\":\"overlay\",\"size\":10,\"solidity\":0.2}},\"type\":\"bar\"}],\"barpolar\":[{\"marker\":{\"line\":{\"color\":\"#E5ECF6\",\"width\":0.5},\"pattern\":{\"fillmode\":\"overlay\",\"size\":10,\"solidity\":0.2}},\"type\":\"barpolar\"}],\"carpet\":[{\"aaxis\":{\"endlinecolor\":\"#2a3f5f\",\"gridcolor\":\"white\",\"linecolor\":\"white\",\"minorgridcolor\":\"white\",\"startlinecolor\":\"#2a3f5f\"},\"baxis\":{\"endlinecolor\":\"#2a3f5f\",\"gridcolor\":\"white\",\"linecolor\":\"white\",\"minorgridcolor\":\"white\",\"startlinecolor\":\"#2a3f5f\"},\"type\":\"carpet\"}],\"choropleth\":[{\"colorbar\":{\"outlinewidth\":0,\"ticks\":\"\"},\"type\":\"choropleth\"}],\"contour\":[{\"colorbar\":{\"outlinewidth\":0,\"ticks\":\"\"},\"colorscale\":[[0.0,\"#0d0887\"],[0.1111111111111111,\"#46039f\"],[0.2222222222222222,\"#7201a8\"],[0.3333333333333333,\"#9c179e\"],[0.4444444444444444,\"#bd3786\"],[0.5555555555555556,\"#d8576b\"],[0.6666666666666666,\"#ed7953\"],[0.7777777777777778,\"#fb9f3a\"],[0.8888888888888888,\"#fdca26\"],[1.0,\"#f0f921\"]],\"type\":\"contour\"}],\"contourcarpet\":[{\"colorbar\":{\"outlinewidth\":0,\"ticks\":\"\"},\"type\":\"contourcarpet\"}],\"heatmap\":[{\"colorbar\":{\"outlinewidth\":0,\"ticks\":\"\"},\"colorscale\":[[0.0,\"#0d0887\"],[0.1111111111111111,\"#46039f\"],[0.2222222222222222,\"#7201a8\"],[0.3333333333333333,\"#9c179e\"],[0.4444444444444444,\"#bd3786\"],[0.5555555555555556,\"#d8576b\"],[0.6666666666666666,\"#ed7953\"],[0.7777777777777778,\"#fb9f3a\"],[0.8888888888888888,\"#fdca26\"],[1.0,\"#f0f921\"]],\"type\":\"heatmap\"}],\"heatmapgl\":[{\"colorbar\":{\"outlinewidth\":0,\"ticks\":\"\"},\"colorscale\":[[0.0,\"#0d0887\"],[0.1111111111111111,\"#46039f\"],[0.2222222222222222,\"#7201a8\"],[0.3333333333333333,\"#9c179e\"],[0.4444444444444444,\"#bd3786\"],[0.5555555555555556,\"#d8576b\"],[0.6666666666666666,\"#ed7953\"],[0.7777777777777778,\"#fb9f3a\"],[0.8888888888888888,\"#fdca26\"],[1.0,\"#f0f921\"]],\"type\":\"heatmapgl\"}],\"histogram\":[{\"marker\":{\"pattern\":{\"fillmode\":\"overlay\",\"size\":10,\"solidity\":0.2}},\"type\":\"histogram\"}],\"histogram2d\":[{\"colorbar\":{\"outlinewidth\":0,\"ticks\":\"\"},\"colorscale\":[[0.0,\"#0d0887\"],[0.1111111111111111,\"#46039f\"],[0.2222222222222222,\"#7201a8\"],[0.3333333333333333,\"#9c179e\"],[0.4444444444444444,\"#bd3786\"],[0.5555555555555556,\"#d8576b\"],[0.6666666666666666,\"#ed7953\"],[0.7777777777777778,\"#fb9f3a\"],[0.8888888888888888,\"#fdca26\"],[1.0,\"#f0f921\"]],\"type\":\"histogram2d\"}],\"histogram2dcontour\":[{\"colorbar\":{\"outlinewidth\":0,\"ticks\":\"\"},\"colorscale\":[[0.0,\"#0d0887\"],[0.1111111111111111,\"#46039f\"],[0.2222222222222222,\"#7201a8\"],[0.3333333333333333,\"#9c179e\"],[0.4444444444444444,\"#bd3786\"],[0.5555555555555556,\"#d8576b\"],[0.6666666666666666,\"#ed7953\"],[0.7777777777777778,\"#fb9f3a\"],[0.8888888888888888,\"#fdca26\"],[1.0,\"#f0f921\"]],\"type\":\"histogram2dcontour\"}],\"mesh3d\":[{\"colorbar\":{\"outlinewidth\":0,\"ticks\":\"\"},\"type\":\"mesh3d\"}],\"parcoords\":[{\"line\":{\"colorbar\":{\"outlinewidth\":0,\"ticks\":\"\"}},\"type\":\"parcoords\"}],\"pie\":[{\"automargin\":true,\"type\":\"pie\"}],\"scatter\":[{\"marker\":{\"colorbar\":{\"outlinewidth\":0,\"ticks\":\"\"}},\"type\":\"scatter\"}],\"scatter3d\":[{\"line\":{\"colorbar\":{\"outlinewidth\":0,\"ticks\":\"\"}},\"marker\":{\"colorbar\":{\"outlinewidth\":0,\"ticks\":\"\"}},\"type\":\"scatter3d\"}],\"scattercarpet\":[{\"marker\":{\"colorbar\":{\"outlinewidth\":0,\"ticks\":\"\"}},\"type\":\"scattercarpet\"}],\"scattergeo\":[{\"marker\":{\"colorbar\":{\"outlinewidth\":0,\"ticks\":\"\"}},\"type\":\"scattergeo\"}],\"scattergl\":[{\"marker\":{\"colorbar\":{\"outlinewidth\":0,\"ticks\":\"\"}},\"type\":\"scattergl\"}],\"scattermapbox\":[{\"marker\":{\"colorbar\":{\"outlinewidth\":0,\"ticks\":\"\"}},\"type\":\"scattermapbox\"}],\"scatterpolar\":[{\"marker\":{\"colorbar\":{\"outlinewidth\":0,\"ticks\":\"\"}},\"type\":\"scatterpolar\"}],\"scatterpolargl\":[{\"marker\":{\"colorbar\":{\"outlinewidth\":0,\"ticks\":\"\"}},\"type\":\"scatterpolargl\"}],\"scatterternary\":[{\"marker\":{\"colorbar\":{\"outlinewidth\":0,\"ticks\":\"\"}},\"type\":\"scatterternary\"}],\"surface\":[{\"colorbar\":{\"outlinewidth\":0,\"ticks\":\"\"},\"colorscale\":[[0.0,\"#0d0887\"],[0.1111111111111111,\"#46039f\"],[0.2222222222222222,\"#7201a8\"],[0.3333333333333333,\"#9c179e\"],[0.4444444444444444,\"#bd3786\"],[0.5555555555555556,\"#d8576b\"],[0.6666666666666666,\"#ed7953\"],[0.7777777777777778,\"#fb9f3a\"],[0.8888888888888888,\"#fdca26\"],[1.0,\"#f0f921\"]],\"type\":\"surface\"}],\"table\":[{\"cells\":{\"fill\":{\"color\":\"#EBF0F8\"},\"line\":{\"color\":\"white\"}},\"header\":{\"fill\":{\"color\":\"#C8D4E3\"},\"line\":{\"color\":\"white\"}},\"type\":\"table\"}]},\"layout\":{\"annotationdefaults\":{\"arrowcolor\":\"#2a3f5f\",\"arrowhead\":0,\"arrowwidth\":1},\"autotypenumbers\":\"strict\",\"coloraxis\":{\"colorbar\":{\"outlinewidth\":0,\"ticks\":\"\"}},\"colorscale\":{\"diverging\":[[0,\"#8e0152\"],[0.1,\"#c51b7d\"],[0.2,\"#de77ae\"],[0.3,\"#f1b6da\"],[0.4,\"#fde0ef\"],[0.5,\"#f7f7f7\"],[0.6,\"#e6f5d0\"],[0.7,\"#b8e186\"],[0.8,\"#7fbc41\"],[0.9,\"#4d9221\"],[1,\"#276419\"]],\"sequential\":[[0.0,\"#0d0887\"],[0.1111111111111111,\"#46039f\"],[0.2222222222222222,\"#7201a8\"],[0.3333333333333333,\"#9c179e\"],[0.4444444444444444,\"#bd3786\"],[0.5555555555555556,\"#d8576b\"],[0.6666666666666666,\"#ed7953\"],[0.7777777777777778,\"#fb9f3a\"],[0.8888888888888888,\"#fdca26\"],[1.0,\"#f0f921\"]],\"sequentialminus\":[[0.0,\"#0d0887\"],[0.1111111111111111,\"#46039f\"],[0.2222222222222222,\"#7201a8\"],[0.3333333333333333,\"#9c179e\"],[0.4444444444444444,\"#bd3786\"],[0.5555555555555556,\"#d8576b\"],[0.6666666666666666,\"#ed7953\"],[0.7777777777777778,\"#fb9f3a\"],[0.8888888888888888,\"#fdca26\"],[1.0,\"#f0f921\"]]},\"colorway\":[\"#636efa\",\"#EF553B\",\"#00cc96\",\"#ab63fa\",\"#FFA15A\",\"#19d3f3\",\"#FF6692\",\"#B6E880\",\"#FF97FF\",\"#FECB52\"],\"font\":{\"color\":\"#2a3f5f\"},\"geo\":{\"bgcolor\":\"white\",\"lakecolor\":\"white\",\"landcolor\":\"#E5ECF6\",\"showlakes\":true,\"showland\":true,\"subunitcolor\":\"white\"},\"hoverlabel\":{\"align\":\"left\"},\"hovermode\":\"closest\",\"mapbox\":{\"style\":\"light\"},\"paper_bgcolor\":\"white\",\"plot_bgcolor\":\"#E5ECF6\",\"polar\":{\"angularaxis\":{\"gridcolor\":\"white\",\"linecolor\":\"white\",\"ticks\":\"\"},\"bgcolor\":\"#E5ECF6\",\"radialaxis\":{\"gridcolor\":\"white\",\"linecolor\":\"white\",\"ticks\":\"\"}},\"scene\":{\"xaxis\":{\"backgroundcolor\":\"#E5ECF6\",\"gridcolor\":\"white\",\"gridwidth\":2,\"linecolor\":\"white\",\"showbackground\":true,\"ticks\":\"\",\"zerolinecolor\":\"white\"},\"yaxis\":{\"backgroundcolor\":\"#E5ECF6\",\"gridcolor\":\"white\",\"gridwidth\":2,\"linecolor\":\"white\",\"showbackground\":true,\"ticks\":\"\",\"zerolinecolor\":\"white\"},\"zaxis\":{\"backgroundcolor\":\"#E5ECF6\",\"gridcolor\":\"white\",\"gridwidth\":2,\"linecolor\":\"white\",\"showbackground\":true,\"ticks\":\"\",\"zerolinecolor\":\"white\"}},\"shapedefaults\":{\"line\":{\"color\":\"#2a3f5f\"}},\"ternary\":{\"aaxis\":{\"gridcolor\":\"white\",\"linecolor\":\"white\",\"ticks\":\"\"},\"baxis\":{\"gridcolor\":\"white\",\"linecolor\":\"white\",\"ticks\":\"\"},\"bgcolor\":\"#E5ECF6\",\"caxis\":{\"gridcolor\":\"white\",\"linecolor\":\"white\",\"ticks\":\"\"}},\"title\":{\"x\":0.05},\"xaxis\":{\"automargin\":true,\"gridcolor\":\"white\",\"linecolor\":\"white\",\"ticks\":\"\",\"title\":{\"standoff\":15},\"zerolinecolor\":\"white\",\"zerolinewidth\":2},\"yaxis\":{\"automargin\":true,\"gridcolor\":\"white\",\"linecolor\":\"white\",\"ticks\":\"\",\"title\":{\"standoff\":15},\"zerolinecolor\":\"white\",\"zerolinewidth\":2}}},\"xaxis\":{\"anchor\":\"y\",\"domain\":[0.0,1.0],\"title\":{\"text\":\"__year_resale_value\"}},\"yaxis\":{\"anchor\":\"x\",\"domain\":[0.0,1.0],\"title\":{\"text\":\"Fuel_capacity\"}},\"legend\":{\"title\":{\"text\":\"Manufacturer\"},\"tracegroupgap\":0},\"title\":{\"text\":\"Manufacturer-Fuel-Capacity\",\"font\":{\"color\":\"rgba(0, 153, 0,0.5)\"},\"y\":0.9,\"x\":0.5,\"xanchor\":\"center\",\"yanchor\":\"top\"}},                        {\"responsive\": true}                    ).then(function(){\n",
       "                            \n",
       "var gd = document.getElementById('1b2e263b-ad0a-4bb7-90bd-e9a560173231');\n",
       "var x = new MutationObserver(function (mutations, observer) {{\n",
       "        var display = window.getComputedStyle(gd).display;\n",
       "        if (!display || display === 'none') {{\n",
       "            console.log([gd, 'removed!']);\n",
       "            Plotly.purge(gd);\n",
       "            observer.disconnect();\n",
       "        }}\n",
       "}});\n",
       "\n",
       "// Listen for the removal of the full notebook cells\n",
       "var notebookContainer = gd.closest('#notebook-container');\n",
       "if (notebookContainer) {{\n",
       "    x.observe(notebookContainer, {childList: true});\n",
       "}}\n",
       "\n",
       "// Listen for the clearing of the current output cell\n",
       "var outputEl = gd.closest('.output');\n",
       "if (outputEl) {{\n",
       "    x.observe(outputEl, {childList: true});\n",
       "}}\n",
       "\n",
       "                        })                };                });            </script>        </div>"
      ]
     },
     "metadata": {},
     "output_type": "display_data"
    }
   ],
   "source": [
    "fig = px.scatter(df,\n",
    "                 x='__year_resale_value',\n",
    "                 y='Fuel_capacity',\n",
    "                 color='Manufacturer',\n",
    "                \n",
    "                 hover_data=['Fuel_capacity'],\n",
    "                 title='Manufacturer-Fuel-Capacity')\n",
    "fig.update_traces(marker_size=5)\n",
    "fig.update_layout(\n",
    "    title={\n",
    "        'y':0.9,\n",
    "        'x':0.5,\n",
    "        'xanchor': 'center',\n",
    "        'yanchor': 'top',\n",
    "        'font_color':'rgba(0, 153, 0,0.5)'})\n",
    "fig.show()"
   ]
  },
  {
   "cell_type": "code",
   "execution_count": 71,
   "id": "a4901358",
   "metadata": {},
   "outputs": [
    {
     "data": {
      "text/plain": [
       "Passenger    116\n",
       "Car           41\n",
       "Name: Vehicle_type, dtype: int64"
      ]
     },
     "execution_count": 71,
     "metadata": {},
     "output_type": "execute_result"
    }
   ],
   "source": [
    "df['Vehicle_type'].value_counts()"
   ]
  },
  {
   "cell_type": "code",
   "execution_count": 52,
   "id": "037462cd",
   "metadata": {},
   "outputs": [
    {
     "data": {
      "text/plain": [
       "<AxesSubplot:ylabel='Vehicle_type'>"
      ]
     },
     "execution_count": 52,
     "metadata": {},
     "output_type": "execute_result"
    },
    {
     "data": {
      "image/png": "[encoded data removed]",
      "text/plain": [
       "<Figure size 432x432 with 1 Axes>"
      ]
     },
     "metadata": {},
     "output_type": "display_data"
    }
   ],
   "source": [
    "df['Vehicle_type'].value_counts().plot(kind='pie', figsize=(6,6))\n"
   ]
  },
  {
   "cell_type": "code",
   "execution_count": 77,
   "id": "9d9f2d6b",
   "metadata": {},
   "outputs": [
    {
     "data": {
      "application/vnd.plotly.v1+json": {
       "config": {
        "linkText": "Export to plot.ly",
        "plotlyServerURL": "https://plot.ly",
        "showLink": false
       },
       "data": [
        {
         "marker": {
          "color": [
           58.28014952,
           91.37077766,
           null,
           91.38977933,
           62.7776392,
           84.56510502,
           134.6568582,
           71.19120671,
           81.87706856,
           83.9987238,
           71.18145132,
           95.63670253,
           85.82840825,
           84.25452581,
           113.8545976,
           115.6213578,
           113.7658739,
           83.48309358,
           109.5091165,
           46.36334747,
           67.31446216,
           69.9913956,
           72.03091719,
           81.11854333,
           141.14115,
           48.2976361,
           23.27627233,
           71.83803944,
           65.95718396,
           69.52135505,
           80.02378204,
           53.56619987,
           101.3292807,
           null,
           101.6552441,
           52.08489875,
           65.65050834,
           67.87610784,
           80.83147017,
           188.144323,
           90.21170005,
           71.13529161,
           70.07832154,
           49.64500177,
           92.85412522,
           61.22700031,
           44.08370946,
           76.50918456,
           67.35101072,
           62.5037395,
           43.11713201,
           80.49953671,
           87.63549578,
           62.09504839,
           100.0248023,
           47.38953131,
           89.40193473,
           42.87909734,
           54.26954829,
           60.08796662,
           83.6025008,
           85.21769134,
           36.67228358,
           54.59004516,
           58.758249,
           92.43688923,
           102.1789848,
           48.67289791,
           76.58443962,
           80.38777912,
           87.21100104,
           94.9466984,
           125.0133574,
           124.4467163,
           105.760458,
           91.94380156,
           113.5402069,
           93.9579169,
           123.9720467,
           45.83218056,
           62.44196235,
           58.60677292,
           84.83077858,
           67.54415494,
           83.92081504,
           70.66094179,
           50.99774761,
           51.11347426,
           62.23996663,
           80.65769646,
           85.94974425,
           69.671461,
           78.28073088,
           98.2497375,
           125.2738757,
           139.9822936,
           82.80736193,
           81.84896924,
           92.92579177,
           141.1009845,
           90.49553213,
           50.24197791,
           63.31372783,
           89.42782031,
           71.17166413,
           72.29035508,
           69.78294434,
           67.88927059,
           60.86161155,
           86.27252291,
           60.72744693,
           103.4416926,
           80.51167259,
           76.09657042,
           52.08489875,
           53.41189767,
           60.95118512,
           106.9844563,
           62.0158703,
           70.38973726,
           81.49272616,
           78.31816813,
           82.6613556,
           76.20843952,
           93.4373307,
           134.3909754,
           135.9147096,
           73.50377819,
           76.02304771,
           39.98642475,
           40.70007242,
           49.86577367,
           56.29524304,
           54.81972825,
           67.7659076,
           66.76294331,
           47.96897242,
           54.37241965,
           84.91189826,
           56.49603034,
           55.29711658,
           78.02721947,
           51.95510887,
           62.35557713,
           102.5289842,
           46.94387676,
           47.63823666,
           61.70138136,
           48.90737225,
           47.94684106,
           47.32963226,
           66.1130568,
           66.4988123,
           70.65449545,
           71.1559776,
           101.6233572,
           85.73565451
          ],
          "size": [
           1.6919,
           3.9384,
           1.4114,
           0.8587999999999999,
           2.0397,
           1.8780000000000001,
           0.13799999999999998,
           1.9747,
           0.9231,
           1.7527000000000001,
           9.1561,
           3.935,
           2.7851,
           8.325700000000001,
           6.3729,
           1.5943,
           0.6536,
           1.1185,
           1.4785,
           14.5519,
           13.5126,
           2.4629000000000003,
           4.2593000000000005,
           2.6402,
           1.7947,
           3.2298999999999998,
           2.1855,
           10.7995,
           0.7854,
           3.2775,
           3.1148,
           3.2306,
           1.3462,
           5.348,
           3.0696000000000003,
           7.603400000000001,
           0.4734,
           7.118600000000001,
           8.802800000000001,
           0.0916,
           22.7061,
           1.6766999999999999,
           3.1038,
           11.1313,
           10.132299999999999,
           18.1749,
           7.0227,
           11.3369,
           3.5067999999999997,
           24.5815,
           17.567,
           6.3403,
           27.6747,
           15.578700000000001,
           12.5338,
           22.065,
           54.0561,
           19.9685,
           23.0902,
           7.3203000000000005,
           1.2855,
           7.6029,
           4.118399999999999,
           6.669199999999999,
           2.945,
           2.3713,
           1.5467,
           5.5557,
           8.0556,
           15.703999999999999,
           2.4072,
           1.2698,
           0.33340000000000003,
           0.6375,
           0.9126,
           5.1238,
           1.3798,
           4.8911,
           2.2925,
           2.6231999999999998,
           4.254099999999999,
           5.5616,
           0.5711,
           0.011,
           1.1337,
           3.9348,
           1.4351,
           2.6529,
           6.7956,
           8.1174,
           2.7609000000000004,
           2.038,
           1.8392,
           2.7602,
           1.6774,
           0.3311,
           0.7998000000000001,
           0.1526,
           1.1592,
           0.0954,
           2.8975999999999997,
           4.2643,
           8.8094,
           7.9853,
           2.7308,
           4.2574,
           5.4158,
           6.5005,
           0.11120000000000001,
           3.8554000000000004,
           8.0255,
           1.4689999999999999,
           2.0017,
           2.4361,
           3.2734,
           0.524,
           2.4155,
           0.1872,
           5.1645,
           13.1097,
           1.9911,
           9.2364,
           3.5945,
           3.9572000000000003,
           0.8981999999999999,
           0.128,
           0.18660000000000002,
           0.9191,
           1.2115,
           8.062000000000001,
           2.4546,
           0.5223,
           0.8472,
           4.9989,
           4.7107,
           3.3028,
           14.253499999999999,
           24.7994,
           6.3849,
           3.3268999999999997,
           8.4087,
           6.5119,
           2.5106,
           6.8411,
           0.9835,
           0.9761,
           8.3721,
           5.1102,
           0.9569000000000001,
           0.5596,
           4.9463,
           1.6957,
           0.3545,
           1.5245,
           1.7530999999999999,
           0.3493,
           1.8969
          ],
          "sizemin": 4
         },
         "mode": "markers",
         "text": [
          "Integra",
          "TL",
          "CL",
          "RL",
          "A4",
          "A6",
          "A8",
          "323i",
          "328i",
          "528i",
          "Century",
          "Regal",
          "Park Avenue",
          "LeSabre",
          "DeVille",
          "Seville",
          "Eldorado",
          "Catera",
          "Escalade",
          "Cavalier",
          "Malibu",
          "Lumina",
          "Monte Carlo",
          "Camaro",
          "Corvette",
          "Prizm",
          "Metro",
          "Impala",
          "Sebring Coupe",
          "Sebring Conv.",
          "Concorde",
          "Cirrus",
          "LHS",
          "Town & Country",
          "300M",
          "Neon",
          "Avenger",
          "Stratus",
          "Intrepid",
          "Viper",
          "Ram Pickup",
          "Ram Wagon",
          "Ram Van",
          "Dakota",
          "Durango",
          "Caravan",
          "Escort",
          "Mustang",
          "Contour",
          "Taurus",
          "Focus",
          "Crown Victoria",
          "Explorer",
          "Windstar",
          "Expedition",
          "Ranger",
          "F-Series",
          "Civic",
          "Accord",
          "CR-V",
          "Passport",
          "Odyssey",
          "Accent",
          "Elantra",
          "Sonata",
          "I30",
          "S-Type",
          "Wrangler",
          "Cherokee",
          "Grand Cherokee",
          "ES300",
          "GS300",
          "GS400",
          "LS400",
          "LX470",
          "RX300",
          "Continental",
          "Town car",
          "Navigator",
          "Mirage",
          "Eclipse",
          "Galant",
          "Diamante",
          "3000GT",
          "Montero",
          "Montero Sport",
          "Mystique",
          "Cougar",
          "Sable",
          "Grand Marquis",
          "Mountaineer",
          "Villager",
          "C-Class",
          "E-Class",
          "S-Class",
          "SL-Class",
          "SLK",
          "SLK230",
          "CLK Coupe",
          "CL500",
          "M-Class",
          "Sentra",
          "Altima",
          "Maxima",
          "Quest",
          "Pathfinder",
          "Xterra",
          "Frontier",
          "Cutlass",
          "Intrigue",
          "Alero",
          "Aurora",
          "Bravada",
          "Silhouette",
          "Neon",
          "Breeze",
          "Voyager",
          "Prowler",
          "Sunfire",
          "Grand Am",
          "Firebird",
          "Grand Prix",
          "Bonneville",
          "Montana",
          "Boxter",
          "Carrera Coupe",
          "Carrera Cabrio",
          "5-Sep",
          "3-Sep",
          "SL",
          "SC",
          "SW",
          "LW",
          "LS",
          "Outback",
          "Forester",
          "Corolla",
          "Camry",
          "Avalon",
          "Celica",
          "Tacoma",
          "Sienna",
          "RAV4",
          "4Runner",
          "Land Cruiser",
          "Golf",
          "Jetta",
          "Passat",
          "Cabrio",
          "GTI",
          "Beetle",
          "S40",
          "V40",
          "S70",
          "V70",
          "C70",
          "S80"
         ],
         "type": "scatter",
         "x": [
          16.36,
          19.875,
          18.225,
          29.725,
          22.255,
          23.555,
          39,
          null,
          28.675,
          36.125,
          12.475,
          13.74,
          20.19,
          13.36,
          22.525,
          27.1,
          25.725,
          18.225,
          null,
          9.25,
          11.225,
          10.31,
          11.525,
          13.025,
          36.225,
          9.125,
          5.16,
          null,
          12.36,
          14.18,
          13.725,
          12.64,
          17.325,
          19.54,
          null,
          7.75,
          12.545,
          10.185,
          12.275,
          58.47,
          15.06,
          15.51,
          13.425,
          11.26,
          null,
          12.025,
          7.425,
          12.76,
          8.835,
          10.055,
          null,
          14.21,
          16.64,
          13.175,
          23.575,
          7.85,
          15.075,
          9.85,
          13.21,
          17.71,
          17.525,
          19.49,
          5.86,
          7.825,
          8.91,
          19.69,
          null,
          13.475,
          13.775,
          18.81,
          26.975,
          32.075,
          null,
          40.375,
          null,
          null,
          20.525,
          21.725,
          null,
          8.325,
          10.395,
          10.595,
          16.575,
          20.94,
          19.125,
          13.88,
          8.8,
          13.89,
          11.03,
          14.875,
          20.43,
          14.795,
          26.05,
          41.45,
          50.375,
          58.6,
          null,
          null,
          null,
          null,
          null,
          8.45,
          11.295,
          15.125,
          15.38,
          17.81,
          null,
          null,
          11.24,
          null,
          null,
          19.89,
          19.925,
          15.24,
          7.75,
          9.8,
          12.025,
          null,
          13.79,
          10.29,
          17.805,
          14.01,
          13.225,
          null,
          41.25,
          60.625,
          67.55,
          null,
          null,
          9.2,
          10.59,
          10.79,
          null,
          null,
          null,
          null,
          10.025,
          13.245,
          18.14,
          15.445,
          9.575,
          null,
          13.325,
          19.425,
          34.08,
          11.425,
          13.24,
          16.725,
          16.575,
          13.76,
          null,
          null,
          null,
          null,
          null,
          null,
          null
         ],
         "y": [
          21.5,
          28.4,
          null,
          42,
          23.99,
          33.95,
          62,
          26.99,
          33.4,
          38.9,
          21.975,
          25.3,
          31.965,
          27.885,
          39.895,
          44.475,
          39.665,
          31.01,
          46.225,
          13.26,
          16.535,
          18.89,
          19.39,
          24.34,
          45.705,
          13.96,
          9.235,
          18.89,
          19.84,
          24.495,
          22.245,
          16.48,
          28.34,
          null,
          29.185,
          12.64,
          19.045,
          20.23,
          22.505,
          69.725,
          19.46,
          21.315,
          18.575,
          16.98,
          26.31,
          19.565,
          12.07,
          21.56,
          17.035,
          17.885,
          12.315,
          22.195,
          31.93,
          21.41,
          36.135,
          12.05,
          26.935,
          12.885,
          15.35,
          20.55,
          26.6,
          26,
          9.699,
          11.799,
          14.999,
          29.465,
          42.8,
          14.46,
          21.62,
          26.895,
          31.505,
          37.805,
          46.305,
          54.005,
          60.105,
          34.605,
          39.08,
          43.33,
          42.66,
          13.987,
          19.047,
          17.357,
          24.997,
          25.45,
          31.807,
          22.527,
          16.24,
          16.54,
          19.035,
          22.605,
          27.56,
          22.51,
          31.75,
          49.9,
          69.7,
          82.6,
          38.9,
          41,
          41.6,
          85.5,
          35.3,
          13.499,
          20.39,
          26.249,
          26.399,
          29.299,
          22.799,
          17.89,
          18.145,
          24.15,
          18.27,
          36.229,
          31.598,
          25.345,
          12.64,
          16.08,
          18.85,
          43,
          21.61,
          19.72,
          25.31,
          21.665,
          23.755,
          25.635,
          41.43,
          71.02,
          74.97,
          33.12,
          26.1,
          10.685,
          12.535,
          14.29,
          18.835,
          15.01,
          22.695,
          20.095,
          13.108,
          17.518,
          25.545,
          16.875,
          11.528,
          22.368,
          16.888,
          22.288,
          51.728,
          14.9,
          16.7,
          21.2,
          19.99,
          17.5,
          15.9,
          23.4,
          24.4,
          27.5,
          28.8,
          45.5,
          36
         ]
        }
       ],
       "layout": {
        "template": {
         "data": {
          "bar": [
           {
            "error_x": {
             "color": "#2a3f5f"
            },
            "error_y": {
             "color": "#2a3f5f"
            },
            "marker": {
             "line": {
              "color": "#E5ECF6",
              "width": 0.5
             },
             "pattern": {
              "fillmode": "overlay",
              "size": 10,
              "solidity": 0.2
             }
            },
            "type": "bar"
           }
          ],
          "barpolar": [
           {
            "marker": {
             "line": {
              "color": "#E5ECF6",
              "width": 0.5
             },
             "pattern": {
              "fillmode": "overlay",
              "size": 10,
              "solidity": 0.2
             }
            },
            "type": "barpolar"
           }
          ],
          "carpet": [
           {
            "aaxis": {
             "endlinecolor": "#2a3f5f",
             "gridcolor": "white",
             "linecolor": "white",
             "minorgridcolor": "white",
             "startlinecolor": "#2a3f5f"
            },
            "baxis": {
             "endlinecolor": "#2a3f5f",
             "gridcolor": "white",
             "linecolor": "white",
             "minorgridcolor": "white",
             "startlinecolor": "#2a3f5f"
            },
            "type": "carpet"
           }
          ],
          "choropleth": [
           {
            "colorbar": {
             "outlinewidth": 0,
             "ticks": ""
            },
            "type": "choropleth"
           }
          ],
          "contour": [
           {
            "colorbar": {
             "outlinewidth": 0,
             "ticks": ""
            },
            "colorscale": [
             [
              0,
              "#0d0887"
             ],
             [
              0.1111111111111111,
              "#46039f"
             ],
             [
              0.2222222222222222,
              "#7201a8"
             ],
             [
              0.3333333333333333,
              "#9c179e"
             ],
             [
              0.4444444444444444,
              "#bd3786"
             ],
             [
              0.5555555555555556,
              "#d8576b"
             ],
             [
              0.6666666666666666,
              "#ed7953"
             ],
             [
              0.7777777777777778,
              "#fb9f3a"
             ],
             [
              0.8888888888888888,
              "#fdca26"
             ],
             [
              1,
              "#f0f921"
             ]
            ],
            "type": "contour"
           }
          ],
          "contourcarpet": [
           {
            "colorbar": {
             "outlinewidth": 0,
             "ticks": ""
            },
            "type": "contourcarpet"
           }
          ],
          "heatmap": [
           {
            "colorbar": {
             "outlinewidth": 0,
             "ticks": ""
            },
            "colorscale": [
             [
              0,
              "#0d0887"
             ],
             [
              0.1111111111111111,
              "#46039f"
             ],
             [
              0.2222222222222222,
              "#7201a8"
             ],
             [
              0.3333333333333333,
              "#9c179e"
             ],
             [
              0.4444444444444444,
              "#bd3786"
             ],
             [
              0.5555555555555556,
              "#d8576b"
             ],
             [
              0.6666666666666666,
              "#ed7953"
             ],
             [
              0.7777777777777778,
              "#fb9f3a"
             ],
             [
              0.8888888888888888,
              "#fdca26"
             ],
             [
              1,
              "#f0f921"
             ]
            ],
            "type": "heatmap"
           }
          ],
          "heatmapgl": [
           {
            "colorbar": {
             "outlinewidth": 0,
             "ticks": ""
            },
            "colorscale": [
             [
              0,
              "#0d0887"
             ],
             [
              0.1111111111111111,
              "#46039f"
             ],
             [
              0.2222222222222222,
              "#7201a8"
             ],
             [
              0.3333333333333333,
              "#9c179e"
             ],
             [
              0.4444444444444444,
              "#bd3786"
             ],
             [
              0.5555555555555556,
              "#d8576b"
             ],
             [
              0.6666666666666666,
              "#ed7953"
             ],
             [
              0.7777777777777778,
              "#fb9f3a"
             ],
             [
              0.8888888888888888,
              "#fdca26"
             ],
             [
              1,
              "#f0f921"
             ]
            ],
            "type": "heatmapgl"
           }
          ],
          "histogram": [
           {
            "marker": {
             "pattern": {
              "fillmode": "overlay",
              "size": 10,
              "solidity": 0.2
             }
            },
            "type": "histogram"
           }
          ],
          "histogram2d": [
           {
            "colorbar": {
             "outlinewidth": 0,
             "ticks": ""
            },
            "colorscale": [
             [
              0,
              "#0d0887"
             ],
             [
              0.1111111111111111,
              "#46039f"
             ],
             [
              0.2222222222222222,
              "#7201a8"
             ],
             [
              0.3333333333333333,
              "#9c179e"
             ],
             [
              0.4444444444444444,
              "#bd3786"
             ],
             [
              0.5555555555555556,
              "#d8576b"
             ],
             [
              0.6666666666666666,
              "#ed7953"
             ],
             [
              0.7777777777777778,
              "#fb9f3a"
             ],
             [
              0.8888888888888888,
              "#fdca26"
             ],
             [
              1,
              "#f0f921"
             ]
            ],
            "type": "histogram2d"
           }
          ],
          "histogram2dcontour": [
           {
            "colorbar": {
             "outlinewidth": 0,
             "ticks": ""
            },
            "colorscale": [
             [
              0,
              "#0d0887"
             ],
             [
              0.1111111111111111,
              "#46039f"
             ],
             [
              0.2222222222222222,
              "#7201a8"
             ],
             [
              0.3333333333333333,
              "#9c179e"
             ],
             [
              0.4444444444444444,
              "#bd3786"
             ],
             [
              0.5555555555555556,
              "#d8576b"
             ],
             [
              0.6666666666666666,
              "#ed7953"
             ],
             [
              0.7777777777777778,
              "#fb9f3a"
             ],
             [
              0.8888888888888888,
              "#fdca26"
             ],
             [
              1,
              "#f0f921"
             ]
            ],
            "type": "histogram2dcontour"
           }
          ],
          "mesh3d": [
           {
            "colorbar": {
             "outlinewidth": 0,
             "ticks": ""
            },
            "type": "mesh3d"
           }
          ],
          "parcoords": [
           {
            "line": {
             "colorbar": {
              "outlinewidth": 0,
              "ticks": ""
             }
            },
            "type": "parcoords"
           }
          ],
          "pie": [
           {
            "automargin": true,
            "type": "pie"
           }
          ],
          "scatter": [
           {
            "marker": {
             "colorbar": {
              "outlinewidth": 0,
              "ticks": ""
             }
            },
            "type": "scatter"
           }
          ],
          "scatter3d": [
           {
            "line": {
             "colorbar": {
              "outlinewidth": 0,
              "ticks": ""
             }
            },
            "marker": {
             "colorbar": {
              "outlinewidth": 0,
              "ticks": ""
             }
            },
            "type": "scatter3d"
           }
          ],
          "scattercarpet": [
           {
            "marker": {
             "colorbar": {
              "outlinewidth": 0,
              "ticks": ""
             }
            },
            "type": "scattercarpet"
           }
          ],
          "scattergeo": [
           {
            "marker": {
             "colorbar": {
              "outlinewidth": 0,
              "ticks": ""
             }
            },
            "type": "scattergeo"
           }
          ],
          "scattergl": [
           {
            "marker": {
             "colorbar": {
              "outlinewidth": 0,
              "ticks": ""
             }
            },
            "type": "scattergl"
           }
          ],
          "scattermapbox": [
           {
            "marker": {
             "colorbar": {
              "outlinewidth": 0,
              "ticks": ""
             }
            },
            "type": "scattermapbox"
           }
          ],
          "scatterpolar": [
           {
            "marker": {
             "colorbar": {
              "outlinewidth": 0,
              "ticks": ""
             }
            },
            "type": "scatterpolar"
           }
          ],
          "scatterpolargl": [
           {
            "marker": {
             "colorbar": {
              "outlinewidth": 0,
              "ticks": ""
             }
            },
            "type": "scatterpolargl"
           }
          ],
          "scatterternary": [
           {
            "marker": {
             "colorbar": {
              "outlinewidth": 0,
              "ticks": ""
             }
            },
            "type": "scatterternary"
           }
          ],
          "surface": [
           {
            "colorbar": {
             "outlinewidth": 0,
             "ticks": ""
            },
            "colorscale": [
             [
              0,
              "#0d0887"
             ],
             [
              0.1111111111111111,
              "#46039f"
             ],
             [
              0.2222222222222222,
              "#7201a8"
             ],
             [
              0.3333333333333333,
              "#9c179e"
             ],
             [
              0.4444444444444444,
              "#bd3786"
             ],
             [
              0.5555555555555556,
              "#d8576b"
             ],
             [
              0.6666666666666666,
              "#ed7953"
             ],
             [
              0.7777777777777778,
              "#fb9f3a"
             ],
             [
              0.8888888888888888,
              "#fdca26"
             ],
             [
              1,
              "#f0f921"
             ]
            ],
            "type": "surface"
           }
          ],
          "table": [
           {
            "cells": {
             "fill": {
              "color": "#EBF0F8"
             },
             "line": {
              "color": "white"
             }
            },
            "header": {
             "fill": {
              "color": "#C8D4E3"
             },
             "line": {
              "color": "white"
             }
            },
            "type": "table"
           }
          ]
         },
         "layout": {
          "annotationdefaults": {
           "arrowcolor": "#2a3f5f",
           "arrowhead": 0,
           "arrowwidth": 1
          },
          "autotypenumbers": "strict",
          "coloraxis": {
           "colorbar": {
            "outlinewidth": 0,
            "ticks": ""
           }
          },
          "colorscale": {
           "diverging": [
            [
             0,
             "#8e0152"
            ],
            [
             0.1,
             "#c51b7d"
            ],
            [
             0.2,
             "#de77ae"
            ],
            [
             0.3,
             "#f1b6da"
            ],
            [
             0.4,
             "#fde0ef"
            ],
            [
             0.5,
             "#f7f7f7"
            ],
            [
             0.6,
             "#e6f5d0"
            ],
            [
             0.7,
             "#b8e186"
            ],
            [
             0.8,
             "#7fbc41"
            ],
            [
             0.9,
             "#4d9221"
            ],
            [
             1,
             "#276419"
            ]
           ],
           "sequential": [
            [
             0,
             "#0d0887"
            ],
            [
             0.1111111111111111,
             "#46039f"
            ],
            [
             0.2222222222222222,
             "#7201a8"
            ],
            [
             0.3333333333333333,
             "#9c179e"
            ],
            [
             0.4444444444444444,
             "#bd3786"
            ],
            [
             0.5555555555555556,
             "#d8576b"
            ],
            [
             0.6666666666666666,
             "#ed7953"
            ],
            [
             0.7777777777777778,
             "#fb9f3a"
            ],
            [
             0.8888888888888888,
             "#fdca26"
            ],
            [
             1,
             "#f0f921"
            ]
           ],
           "sequentialminus": [
            [
             0,
             "#0d0887"
            ],
            [
             0.1111111111111111,
             "#46039f"
            ],
            [
             0.2222222222222222,
             "#7201a8"
            ],
            [
             0.3333333333333333,
             "#9c179e"
            ],
            [
             0.4444444444444444,
             "#bd3786"
            ],
            [
             0.5555555555555556,
             "#d8576b"
            ],
            [
             0.6666666666666666,
             "#ed7953"
            ],
            [
             0.7777777777777778,
             "#fb9f3a"
            ],
            [
             0.8888888888888888,
             "#fdca26"
            ],
            [
             1,
             "#f0f921"
            ]
           ]
          },
          "colorway": [
           "#636efa",
           "#EF553B",
           "#00cc96",
           "#ab63fa",
           "#FFA15A",
           "#19d3f3",
           "#FF6692",
           "#B6E880",
           "#FF97FF",
           "#FECB52"
          ],
          "font": {
           "color": "#2a3f5f"
          },
          "geo": {
           "bgcolor": "white",
           "lakecolor": "white",
           "landcolor": "#E5ECF6",
           "showlakes": true,
           "showland": true,
           "subunitcolor": "white"
          },
          "hoverlabel": {
           "align": "left"
          },
          "hovermode": "closest",
          "mapbox": {
           "style": "light"
          },
          "paper_bgcolor": "white",
          "plot_bgcolor": "#E5ECF6",
          "polar": {
           "angularaxis": {
            "gridcolor": "white",
            "linecolor": "white",
            "ticks": ""
           },
           "bgcolor": "#E5ECF6",
           "radialaxis": {
            "gridcolor": "white",
            "linecolor": "white",
            "ticks": ""
           }
          },
          "scene": {
           "xaxis": {
            "backgroundcolor": "#E5ECF6",
            "gridcolor": "white",
            "gridwidth": 2,
            "linecolor": "white",
            "showbackground": true,
            "ticks": "",
            "zerolinecolor": "white"
           },
           "yaxis": {
            "backgroundcolor": "#E5ECF6",
            "gridcolor": "white",
            "gridwidth": 2,
            "linecolor": "white",
            "showbackground": true,
            "ticks": "",
            "zerolinecolor": "white"
           },
           "zaxis": {
            "backgroundcolor": "#E5ECF6",
            "gridcolor": "white",
            "gridwidth": 2,
            "linecolor": "white",
            "showbackground": true,
            "ticks": "",
            "zerolinecolor": "white"
           }
          },
          "shapedefaults": {
           "line": {
            "color": "#2a3f5f"
           }
          },
          "ternary": {
           "aaxis": {
            "gridcolor": "white",
            "linecolor": "white",
            "ticks": ""
           },
           "baxis": {
            "gridcolor": "white",
            "linecolor": "white",
            "ticks": ""
           },
           "bgcolor": "#E5ECF6",
           "caxis": {
            "gridcolor": "white",
            "linecolor": "white",
            "ticks": ""
           }
          },
          "title": {
           "x": 0.05
          },
          "xaxis": {
           "automargin": true,
           "gridcolor": "white",
           "linecolor": "white",
           "ticks": "",
           "title": {
            "standoff": 15
           },
           "zerolinecolor": "white",
           "zerolinewidth": 2
          },
          "yaxis": {
           "automargin": true,
           "gridcolor": "white",
           "linecolor": "white",
           "ticks": "",
           "title": {
            "standoff": 15
           },
           "zerolinecolor": "white",
           "zerolinewidth": 2
          }
         }
        },
        "title": {
         "text": "Year resale value vs Price_in_thousands"
        },
        "xaxis": {
         "ticklen": 5,
         "title": {
          "text": "year_resale_value"
         },
         "zeroline": false
        },
        "yaxis": {
         "ticklen": 5,
         "title": {
          "text": "Price_in_thousands"
         },
         "zeroline": false
        }
       }
      },
      "text/html": [
       "<div>                            <div id=\"04544a49-8bea-407f-a8a0-45b297edfd32\" class=\"plotly-graph-div\" style=\"height:525px; width:100%;\"></div>            <script type=\"text/javascript\">                require([\"plotly\"], function(Plotly) {                    window.PLOTLYENV=window.PLOTLYENV || {};                                    if (document.getElementById(\"04544a49-8bea-407f-a8a0-45b297edfd32\")) {                    Plotly.newPlot(                        \"04544a49-8bea-407f-a8a0-45b297edfd32\",                        [{\"marker\":{\"color\":[58.28014952,91.37077766,null,91.38977933,62.7776392,84.56510502,134.6568582,71.19120671,81.87706856,83.9987238,71.18145132,95.63670253,85.82840825,84.25452581,113.8545976,115.6213578,113.7658739,83.48309358,109.5091165,46.36334747,67.31446216,69.9913956,72.03091719,81.11854333,141.14115,48.2976361,23.27627233,71.83803944,65.95718396,69.52135505,80.02378204,53.56619987,101.3292807,null,101.6552441,52.08489875,65.65050834,67.87610784,80.83147017,188.144323,90.21170005,71.13529161,70.07832154,49.64500177,92.85412522,61.22700031,44.08370946,76.50918456,67.35101072,62.5037395,43.11713201,80.49953671,87.63549578,62.09504839,100.0248023,47.38953131,89.40193473,42.87909734,54.26954829,60.08796662,83.6025008,85.21769134,36.67228358,54.59004516,58.758249,92.43688923,102.1789848,48.67289791,76.58443962,80.38777912,87.21100104,94.9466984,125.0133574,124.4467163,105.760458,91.94380156,113.5402069,93.9579169,123.9720467,45.83218056,62.44196235,58.60677292,84.83077858,67.54415494,83.92081504,70.66094179,50.99774761,51.11347426,62.23996663,80.65769646,85.94974425,69.671461,78.28073088,98.2497375,125.2738757,139.9822936,82.80736193,81.84896924,92.92579177,141.1009845,90.49553213,50.24197791,63.31372783,89.42782031,71.17166413,72.29035508,69.78294434,67.88927059,60.86161155,86.27252291,60.72744693,103.4416926,80.51167259,76.09657042,52.08489875,53.41189767,60.95118512,106.9844563,62.0158703,70.38973726,81.49272616,78.31816813,82.6613556,76.20843952,93.4373307,134.3909754,135.9147096,73.50377819,76.02304771,39.98642475,40.70007242,49.86577367,56.29524304,54.81972825,67.7659076,66.76294331,47.96897242,54.37241965,84.91189826,56.49603034,55.29711658,78.02721947,51.95510887,62.35557713,102.5289842,46.94387676,47.63823666,61.70138136,48.90737225,47.94684106,47.32963226,66.1130568,66.4988123,70.65449545,71.1559776,101.6233572,85.73565451],\"size\":[1.6919,3.9384,1.4114,0.8587999999999999,2.0397,1.8780000000000001,0.13799999999999998,1.9747,0.9231,1.7527000000000001,9.1561,3.935,2.7851,8.325700000000001,6.3729,1.5943,0.6536,1.1185,1.4785,14.5519,13.5126,2.4629000000000003,4.2593000000000005,2.6402,1.7947,3.2298999999999998,2.1855,10.7995,0.7854,3.2775,3.1148,3.2306,1.3462,5.348,3.0696000000000003,7.603400000000001,0.4734,7.118600000000001,8.802800000000001,0.0916,22.7061,1.6766999999999999,3.1038,11.1313,10.132299999999999,18.1749,7.0227,11.3369,3.5067999999999997,24.5815,17.567,6.3403,27.6747,15.578700000000001,12.5338,22.065,54.0561,19.9685,23.0902,7.3203000000000005,1.2855,7.6029,4.118399999999999,6.669199999999999,2.945,2.3713,1.5467,5.5557,8.0556,15.703999999999999,2.4072,1.2698,0.33340000000000003,0.6375,0.9126,5.1238,1.3798,4.8911,2.2925,2.6231999999999998,4.254099999999999,5.5616,0.5711,0.011,1.1337,3.9348,1.4351,2.6529,6.7956,8.1174,2.7609000000000004,2.038,1.8392,2.7602,1.6774,0.3311,0.7998000000000001,0.1526,1.1592,0.0954,2.8975999999999997,4.2643,8.8094,7.9853,2.7308,4.2574,5.4158,6.5005,0.11120000000000001,3.8554000000000004,8.0255,1.4689999999999999,2.0017,2.4361,3.2734,0.524,2.4155,0.1872,5.1645,13.1097,1.9911,9.2364,3.5945,3.9572000000000003,0.8981999999999999,0.128,0.18660000000000002,0.9191,1.2115,8.062000000000001,2.4546,0.5223,0.8472,4.9989,4.7107,3.3028,14.253499999999999,24.7994,6.3849,3.3268999999999997,8.4087,6.5119,2.5106,6.8411,0.9835,0.9761,8.3721,5.1102,0.9569000000000001,0.5596,4.9463,1.6957,0.3545,1.5245,1.7530999999999999,0.3493,1.8969],\"sizemin\":4},\"mode\":\"markers\",\"text\":[\"Integra\",\"TL\",\"CL\",\"RL\",\"A4\",\"A6\",\"A8\",\"323i\",\"328i\",\"528i\",\"Century\",\"Regal\",\"Park Avenue\",\"LeSabre\",\"DeVille\",\"Seville\",\"Eldorado\",\"Catera\",\"Escalade\",\"Cavalier\",\"Malibu\",\"Lumina\",\"Monte Carlo\",\"Camaro\",\"Corvette\",\"Prizm\",\"Metro\",\"Impala\",\"Sebring Coupe\",\"Sebring Conv.\",\"Concorde\",\"Cirrus\",\"LHS\",\"Town & Country\",\"300M\",\"Neon\",\"Avenger\",\"Stratus\",\"Intrepid\",\"Viper\",\"Ram Pickup\",\"Ram Wagon\",\"Ram Van\",\"Dakota\",\"Durango\",\"Caravan\",\"Escort\",\"Mustang\",\"Contour\",\"Taurus\",\"Focus\",\"Crown Victoria\",\"Explorer\",\"Windstar\",\"Expedition\",\"Ranger\",\"F-Series\",\"Civic\",\"Accord\",\"CR-V\",\"Passport\",\"Odyssey\",\"Accent\",\"Elantra\",\"Sonata\",\"I30\",\"S-Type\",\"Wrangler\",\"Cherokee\",\"Grand Cherokee\",\"ES300\",\"GS300\",\"GS400\",\"LS400\",\"LX470\",\"RX300\",\"Continental\",\"Town car\",\"Navigator\",\"Mirage\",\"Eclipse\",\"Galant\",\"Diamante\",\"3000GT\",\"Montero\",\"Montero Sport\",\"Mystique\",\"Cougar\",\"Sable\",\"Grand Marquis\",\"Mountaineer\",\"Villager\",\"C-Class\",\"E-Class\",\"S-Class\",\"SL-Class\",\"SLK\",\"SLK230\",\"CLK Coupe\",\"CL500\",\"M-Class\",\"Sentra\",\"Altima\",\"Maxima\",\"Quest\",\"Pathfinder\",\"Xterra\",\"Frontier\",\"Cutlass\",\"Intrigue\",\"Alero\",\"Aurora\",\"Bravada\",\"Silhouette\",\"Neon\",\"Breeze\",\"Voyager\",\"Prowler\",\"Sunfire\",\"Grand Am\",\"Firebird\",\"Grand Prix\",\"Bonneville\",\"Montana\",\"Boxter\",\"Carrera Coupe\",\"Carrera Cabrio\",\"5-Sep\",\"3-Sep\",\"SL\",\"SC\",\"SW\",\"LW\",\"LS\",\"Outback\",\"Forester\",\"Corolla\",\"Camry\",\"Avalon\",\"Celica\",\"Tacoma\",\"Sienna\",\"RAV4\",\"4Runner\",\"Land Cruiser\",\"Golf\",\"Jetta\",\"Passat\",\"Cabrio\",\"GTI\",\"Beetle\",\"S40\",\"V40\",\"S70\",\"V70\",\"C70\",\"S80\"],\"x\":[16.36,19.875,18.225,29.725,22.255,23.555,39.0,null,28.675,36.125,12.475,13.74,20.19,13.36,22.525,27.1,25.725,18.225,null,9.25,11.225,10.31,11.525,13.025,36.225,9.125,5.16,null,12.36,14.18,13.725,12.64,17.325,19.54,null,7.75,12.545,10.185,12.275,58.47,15.06,15.51,13.425,11.26,null,12.025,7.425,12.76,8.835,10.055,null,14.21,16.64,13.175,23.575,7.85,15.075,9.85,13.21,17.71,17.525,19.49,5.86,7.825,8.91,19.69,null,13.475,13.775,18.81,26.975,32.075,null,40.375,null,null,20.525,21.725,null,8.325,10.395,10.595,16.575,20.94,19.125,13.88,8.8,13.89,11.03,14.875,20.43,14.795,26.05,41.45,50.375,58.6,null,null,null,null,null,8.45,11.295,15.125,15.38,17.81,null,null,11.24,null,null,19.89,19.925,15.24,7.75,9.8,12.025,null,13.79,10.29,17.805,14.01,13.225,null,41.25,60.625,67.55,null,null,9.2,10.59,10.79,null,null,null,null,10.025,13.245,18.14,15.445,9.575,null,13.325,19.425,34.08,11.425,13.24,16.725,16.575,13.76,null,null,null,null,null,null,null],\"y\":[21.5,28.4,null,42.0,23.99,33.95,62.0,26.99,33.4,38.9,21.975,25.3,31.965,27.885,39.895,44.475,39.665,31.01,46.225,13.26,16.535,18.89,19.39,24.34,45.705,13.96,9.235,18.89,19.84,24.495,22.245,16.48,28.34,null,29.185,12.64,19.045,20.23,22.505,69.725,19.46,21.315,18.575,16.98,26.31,19.565,12.07,21.56,17.035,17.885,12.315,22.195,31.93,21.41,36.135,12.05,26.935,12.885,15.35,20.55,26.6,26.0,9.699,11.799,14.999,29.465,42.8,14.46,21.62,26.895,31.505,37.805,46.305,54.005,60.105,34.605,39.08,43.33,42.66,13.987,19.047,17.357,24.997,25.45,31.807,22.527,16.24,16.54,19.035,22.605,27.56,22.51,31.75,49.9,69.7,82.6,38.9,41.0,41.6,85.5,35.3,13.499,20.39,26.249,26.399,29.299,22.799,17.89,18.145,24.15,18.27,36.229,31.598,25.345,12.64,16.08,18.85,43.0,21.61,19.72,25.31,21.665,23.755,25.635,41.43,71.02,74.97,33.12,26.1,10.685,12.535,14.29,18.835,15.01,22.695,20.095,13.108,17.518,25.545,16.875,11.528,22.368,16.888,22.288,51.728,14.9,16.7,21.2,19.99,17.5,15.9,23.4,24.4,27.5,28.8,45.5,36.0],\"type\":\"scatter\"}],                        {\"template\":{\"data\":{\"barpolar\":[{\"marker\":{\"line\":{\"color\":\"#E5ECF6\",\"width\":0.5},\"pattern\":{\"fillmode\":\"overlay\",\"size\":10,\"solidity\":0.2}},\"type\":\"barpolar\"}],\"bar\":[{\"error_x\":{\"color\":\"#2a3f5f\"},\"error_y\":{\"color\":\"#2a3f5f\"},\"marker\":{\"line\":{\"color\":\"#E5ECF6\",\"width\":0.5},\"pattern\":{\"fillmode\":\"overlay\",\"size\":10,\"solidity\":0.2}},\"type\":\"bar\"}],\"carpet\":[{\"aaxis\":{\"endlinecolor\":\"#2a3f5f\",\"gridcolor\":\"white\",\"linecolor\":\"white\",\"minorgridcolor\":\"white\",\"startlinecolor\":\"#2a3f5f\"},\"baxis\":{\"endlinecolor\":\"#2a3f5f\",\"gridcolor\":\"white\",\"linecolor\":\"white\",\"minorgridcolor\":\"white\",\"startlinecolor\":\"#2a3f5f\"},\"type\":\"carpet\"}],\"choropleth\":[{\"colorbar\":{\"outlinewidth\":0,\"ticks\":\"\"},\"type\":\"choropleth\"}],\"contourcarpet\":[{\"colorbar\":{\"outlinewidth\":0,\"ticks\":\"\"},\"type\":\"contourcarpet\"}],\"contour\":[{\"colorbar\":{\"outlinewidth\":0,\"ticks\":\"\"},\"colorscale\":[[0.0,\"#0d0887\"],[0.1111111111111111,\"#46039f\"],[0.2222222222222222,\"#7201a8\"],[0.3333333333333333,\"#9c179e\"],[0.4444444444444444,\"#bd3786\"],[0.5555555555555556,\"#d8576b\"],[0.6666666666666666,\"#ed7953\"],[0.7777777777777778,\"#fb9f3a\"],[0.8888888888888888,\"#fdca26\"],[1.0,\"#f0f921\"]],\"type\":\"contour\"}],\"heatmapgl\":[{\"colorbar\":{\"outlinewidth\":0,\"ticks\":\"\"},\"colorscale\":[[0.0,\"#0d0887\"],[0.1111111111111111,\"#46039f\"],[0.2222222222222222,\"#7201a8\"],[0.3333333333333333,\"#9c179e\"],[0.4444444444444444,\"#bd3786\"],[0.5555555555555556,\"#d8576b\"],[0.6666666666666666,\"#ed7953\"],[0.7777777777777778,\"#fb9f3a\"],[0.8888888888888888,\"#fdca26\"],[1.0,\"#f0f921\"]],\"type\":\"heatmapgl\"}],\"heatmap\":[{\"colorbar\":{\"outlinewidth\":0,\"ticks\":\"\"},\"colorscale\":[[0.0,\"#0d0887\"],[0.1111111111111111,\"#46039f\"],[0.2222222222222222,\"#7201a8\"],[0.3333333333333333,\"#9c179e\"],[0.4444444444444444,\"#bd3786\"],[0.5555555555555556,\"#d8576b\"],[0.6666666666666666,\"#ed7953\"],[0.7777777777777778,\"#fb9f3a\"],[0.8888888888888888,\"#fdca26\"],[1.0,\"#f0f921\"]],\"type\":\"heatmap\"}],\"histogram2dcontour\":[{\"colorbar\":{\"outlinewidth\":0,\"ticks\":\"\"},\"colorscale\":[[0.0,\"#0d0887\"],[0.1111111111111111,\"#46039f\"],[0.2222222222222222,\"#7201a8\"],[0.3333333333333333,\"#9c179e\"],[0.4444444444444444,\"#bd3786\"],[0.5555555555555556,\"#d8576b\"],[0.6666666666666666,\"#ed7953\"],[0.7777777777777778,\"#fb9f3a\"],[0.8888888888888888,\"#fdca26\"],[1.0,\"#f0f921\"]],\"type\":\"histogram2dcontour\"}],\"histogram2d\":[{\"colorbar\":{\"outlinewidth\":0,\"ticks\":\"\"},\"colorscale\":[[0.0,\"#0d0887\"],[0.1111111111111111,\"#46039f\"],[0.2222222222222222,\"#7201a8\"],[0.3333333333333333,\"#9c179e\"],[0.4444444444444444,\"#bd3786\"],[0.5555555555555556,\"#d8576b\"],[0.6666666666666666,\"#ed7953\"],[0.7777777777777778,\"#fb9f3a\"],[0.8888888888888888,\"#fdca26\"],[1.0,\"#f0f921\"]],\"type\":\"histogram2d\"}],\"histogram\":[{\"marker\":{\"pattern\":{\"fillmode\":\"overlay\",\"size\":10,\"solidity\":0.2}},\"type\":\"histogram\"}],\"mesh3d\":[{\"colorbar\":{\"outlinewidth\":0,\"ticks\":\"\"},\"type\":\"mesh3d\"}],\"parcoords\":[{\"line\":{\"colorbar\":{\"outlinewidth\":0,\"ticks\":\"\"}},\"type\":\"parcoords\"}],\"pie\":[{\"automargin\":true,\"type\":\"pie\"}],\"scatter3d\":[{\"line\":{\"colorbar\":{\"outlinewidth\":0,\"ticks\":\"\"}},\"marker\":{\"colorbar\":{\"outlinewidth\":0,\"ticks\":\"\"}},\"type\":\"scatter3d\"}],\"scattercarpet\":[{\"marker\":{\"colorbar\":{\"outlinewidth\":0,\"ticks\":\"\"}},\"type\":\"scattercarpet\"}],\"scattergeo\":[{\"marker\":{\"colorbar\":{\"outlinewidth\":0,\"ticks\":\"\"}},\"type\":\"scattergeo\"}],\"scattergl\":[{\"marker\":{\"colorbar\":{\"outlinewidth\":0,\"ticks\":\"\"}},\"type\":\"scattergl\"}],\"scattermapbox\":[{\"marker\":{\"colorbar\":{\"outlinewidth\":0,\"ticks\":\"\"}},\"type\":\"scattermapbox\"}],\"scatterpolargl\":[{\"marker\":{\"colorbar\":{\"outlinewidth\":0,\"ticks\":\"\"}},\"type\":\"scatterpolargl\"}],\"scatterpolar\":[{\"marker\":{\"colorbar\":{\"outlinewidth\":0,\"ticks\":\"\"}},\"type\":\"scatterpolar\"}],\"scatter\":[{\"marker\":{\"colorbar\":{\"outlinewidth\":0,\"ticks\":\"\"}},\"type\":\"scatter\"}],\"scatterternary\":[{\"marker\":{\"colorbar\":{\"outlinewidth\":0,\"ticks\":\"\"}},\"type\":\"scatterternary\"}],\"surface\":[{\"colorbar\":{\"outlinewidth\":0,\"ticks\":\"\"},\"colorscale\":[[0.0,\"#0d0887\"],[0.1111111111111111,\"#46039f\"],[0.2222222222222222,\"#7201a8\"],[0.3333333333333333,\"#9c179e\"],[0.4444444444444444,\"#bd3786\"],[0.5555555555555556,\"#d8576b\"],[0.6666666666666666,\"#ed7953\"],[0.7777777777777778,\"#fb9f3a\"],[0.8888888888888888,\"#fdca26\"],[1.0,\"#f0f921\"]],\"type\":\"surface\"}],\"table\":[{\"cells\":{\"fill\":{\"color\":\"#EBF0F8\"},\"line\":{\"color\":\"white\"}},\"header\":{\"fill\":{\"color\":\"#C8D4E3\"},\"line\":{\"color\":\"white\"}},\"type\":\"table\"}]},\"layout\":{\"annotationdefaults\":{\"arrowcolor\":\"#2a3f5f\",\"arrowhead\":0,\"arrowwidth\":1},\"autotypenumbers\":\"strict\",\"coloraxis\":{\"colorbar\":{\"outlinewidth\":0,\"ticks\":\"\"}},\"colorscale\":{\"diverging\":[[0,\"#8e0152\"],[0.1,\"#c51b7d\"],[0.2,\"#de77ae\"],[0.3,\"#f1b6da\"],[0.4,\"#fde0ef\"],[0.5,\"#f7f7f7\"],[0.6,\"#e6f5d0\"],[0.7,\"#b8e186\"],[0.8,\"#7fbc41\"],[0.9,\"#4d9221\"],[1,\"#276419\"]],\"sequential\":[[0.0,\"#0d0887\"],[0.1111111111111111,\"#46039f\"],[0.2222222222222222,\"#7201a8\"],[0.3333333333333333,\"#9c179e\"],[0.4444444444444444,\"#bd3786\"],[0.5555555555555556,\"#d8576b\"],[0.6666666666666666,\"#ed7953\"],[0.7777777777777778,\"#fb9f3a\"],[0.8888888888888888,\"#fdca26\"],[1.0,\"#f0f921\"]],\"sequentialminus\":[[0.0,\"#0d0887\"],[0.1111111111111111,\"#46039f\"],[0.2222222222222222,\"#7201a8\"],[0.3333333333333333,\"#9c179e\"],[0.4444444444444444,\"#bd3786\"],[0.5555555555555556,\"#d8576b\"],[0.6666666666666666,\"#ed7953\"],[0.7777777777777778,\"#fb9f3a\"],[0.8888888888888888,\"#fdca26\"],[1.0,\"#f0f921\"]]},\"colorway\":[\"#636efa\",\"#EF553B\",\"#00cc96\",\"#ab63fa\",\"#FFA15A\",\"#19d3f3\",\"#FF6692\",\"#B6E880\",\"#FF97FF\",\"#FECB52\"],\"font\":{\"color\":\"#2a3f5f\"},\"geo\":{\"bgcolor\":\"white\",\"lakecolor\":\"white\",\"landcolor\":\"#E5ECF6\",\"showlakes\":true,\"showland\":true,\"subunitcolor\":\"white\"},\"hoverlabel\":{\"align\":\"left\"},\"hovermode\":\"closest\",\"mapbox\":{\"style\":\"light\"},\"paper_bgcolor\":\"white\",\"plot_bgcolor\":\"#E5ECF6\",\"polar\":{\"angularaxis\":{\"gridcolor\":\"white\",\"linecolor\":\"white\",\"ticks\":\"\"},\"bgcolor\":\"#E5ECF6\",\"radialaxis\":{\"gridcolor\":\"white\",\"linecolor\":\"white\",\"ticks\":\"\"}},\"scene\":{\"xaxis\":{\"backgroundcolor\":\"#E5ECF6\",\"gridcolor\":\"white\",\"gridwidth\":2,\"linecolor\":\"white\",\"showbackground\":true,\"ticks\":\"\",\"zerolinecolor\":\"white\"},\"yaxis\":{\"backgroundcolor\":\"#E5ECF6\",\"gridcolor\":\"white\",\"gridwidth\":2,\"linecolor\":\"white\",\"showbackground\":true,\"ticks\":\"\",\"zerolinecolor\":\"white\"},\"zaxis\":{\"backgroundcolor\":\"#E5ECF6\",\"gridcolor\":\"white\",\"gridwidth\":2,\"linecolor\":\"white\",\"showbackground\":true,\"ticks\":\"\",\"zerolinecolor\":\"white\"}},\"shapedefaults\":{\"line\":{\"color\":\"#2a3f5f\"}},\"ternary\":{\"aaxis\":{\"gridcolor\":\"white\",\"linecolor\":\"white\",\"ticks\":\"\"},\"baxis\":{\"gridcolor\":\"white\",\"linecolor\":\"white\",\"ticks\":\"\"},\"bgcolor\":\"#E5ECF6\",\"caxis\":{\"gridcolor\":\"white\",\"linecolor\":\"white\",\"ticks\":\"\"}},\"title\":{\"x\":0.05},\"xaxis\":{\"automargin\":true,\"gridcolor\":\"white\",\"linecolor\":\"white\",\"ticks\":\"\",\"title\":{\"standoff\":15},\"zerolinecolor\":\"white\",\"zerolinewidth\":2},\"yaxis\":{\"automargin\":true,\"gridcolor\":\"white\",\"linecolor\":\"white\",\"ticks\":\"\",\"title\":{\"standoff\":15},\"zerolinecolor\":\"white\",\"zerolinewidth\":2}}},\"title\":{\"text\":\"Year resale value vs Price_in_thousands\"},\"xaxis\":{\"ticklen\":5,\"title\":{\"text\":\"year_resale_value\"},\"zeroline\":false},\"yaxis\":{\"ticklen\":5,\"title\":{\"text\":\"Price_in_thousands\"},\"zeroline\":false}},                        {\"responsive\": true}                    ).then(function(){\n",
       "                            \n",
       "var gd = document.getElementById('04544a49-8bea-407f-a8a0-45b297edfd32');\n",
       "var x = new MutationObserver(function (mutations, observer) {{\n",
       "        var display = window.getComputedStyle(gd).display;\n",
       "        if (!display || display === 'none') {{\n",
       "            console.log([gd, 'removed!']);\n",
       "            Plotly.purge(gd);\n",
       "            observer.disconnect();\n",
       "        }}\n",
       "}});\n",
       "\n",
       "// Listen for the removal of the full notebook cells\n",
       "var notebookContainer = gd.closest('#notebook-container');\n",
       "if (notebookContainer) {{\n",
       "    x.observe(notebookContainer, {childList: true});\n",
       "}}\n",
       "\n",
       "// Listen for the clearing of the current output cell\n",
       "var outputEl = gd.closest('.output');\n",
       "if (outputEl) {{\n",
       "    x.observe(outputEl, {childList: true});\n",
       "}}\n",
       "\n",
       "                        })                };                });            </script>        </div>"
      ]
     },
     "metadata": {},
     "output_type": "display_data"
    }
   ],
   "source": [
    "trace=go.Scatter(\n",
    "    x=df.__year_resale_value,\n",
    "    y=df.Price_in_thousands,\n",
    "    mode='markers',\n",
    "    marker =dict(color=df.Power_perf_factor,size=(df.Sales_in_thousands/10),sizemin=4),\n",
    "    text=(df.Model))\n",
    "\n",
    "data = [trace]\n",
    "layout = dict(title = 'Year resale value vs Price_in_thousands',\n",
    "              xaxis= dict(title= 'year_resale_value',ticklen= 5,zeroline= False),\n",
    "              yaxis= dict(title= 'Price_in_thousands',ticklen= 5,zeroline= False)\n",
    "             )\n",
    "fig = dict(data = data, layout = layout)\n",
    "iplot(fig)\n"
   ]
  },
  {
   "cell_type": "code",
   "execution_count": 79,
   "id": "2587f385",
   "metadata": {},
   "outputs": [
    {
     "data": {
      "application/vnd.plotly.v1+json": {
       "config": {
        "plotlyServerURL": "https://plot.ly"
       },
       "data": [
        {
         "hovertemplate": "Horsepower=%{x}<br>Price_in_thousands=%{y}<extra></extra>",
         "legendgroup": "",
         "marker": {
          "color": "#636efa",
          "size": 5,
          "symbol": "circle"
         },
         "mode": "markers",
         "name": "",
         "orientation": "v",
         "showlegend": false,
         "type": "scatter",
         "x": [
          140,
          225,
          225,
          210,
          150,
          200,
          310,
          170,
          193,
          193,
          175,
          240,
          205,
          205,
          275,
          275,
          275,
          200,
          255,
          115,
          170,
          175,
          180,
          200,
          345,
          120,
          55,
          180,
          163,
          168,
          200,
          132,
          253,
          null,
          253,
          132,
          163,
          168,
          202,
          450,
          230,
          175,
          175,
          120,
          230,
          150,
          110,
          190,
          170,
          155,
          107,
          200,
          210,
          150,
          240,
          119,
          220,
          106,
          135,
          146,
          205,
          210,
          92,
          140,
          148,
          227,
          240,
          120,
          190,
          195,
          210,
          225,
          300,
          290,
          230,
          220,
          275,
          215,
          300,
          113,
          154,
          145,
          210,
          161,
          200,
          173,
          125,
          125,
          153,
          200,
          210,
          170,
          185,
          221,
          275,
          302,
          190,
          185,
          215,
          302,
          215,
          126,
          155,
          222,
          170,
          170,
          170,
          170,
          150,
          215,
          150,
          250,
          190,
          185,
          132,
          132,
          150,
          253,
          150,
          175,
          200,
          195,
          205,
          185,
          217,
          300,
          300,
          170,
          185,
          100,
          100,
          124,
          137,
          137,
          165,
          165,
          120,
          133,
          210,
          140,
          142,
          194,
          127,
          150,
          230,
          115,
          115,
          150,
          115,
          115,
          115,
          160,
          160,
          168,
          168,
          236,
          201
         ],
         "xaxis": "x",
         "y": [
          21.5,
          28.4,
          null,
          42,
          23.99,
          33.95,
          62,
          26.99,
          33.4,
          38.9,
          21.975,
          25.3,
          31.965,
          27.885,
          39.895,
          44.475,
          39.665,
          31.01,
          46.225,
          13.26,
          16.535,
          18.89,
          19.39,
          24.34,
          45.705,
          13.96,
          9.235,
          18.89,
          19.84,
          24.495,
          22.245,
          16.48,
          28.34,
          null,
          29.185,
          12.64,
          19.045,
          20.23,
          22.505,
          69.725,
          19.46,
          21.315,
          18.575,
          16.98,
          26.31,
          19.565,
          12.07,
          21.56,
          17.035,
          17.885,
          12.315,
          22.195,
          31.93,
          21.41,
          36.135,
          12.05,
          26.935,
          12.885,
          15.35,
          20.55,
          26.6,
          26,
          9.699,
          11.799,
          14.999,
          29.465,
          42.8,
          14.46,
          21.62,
          26.895,
          31.505,
          37.805,
          46.305,
          54.005,
          60.105,
          34.605,
          39.08,
          43.33,
          42.66,
          13.987,
          19.047,
          17.357,
          24.997,
          25.45,
          31.807,
          22.527,
          16.24,
          16.54,
          19.035,
          22.605,
          27.56,
          22.51,
          31.75,
          49.9,
          69.7,
          82.6,
          38.9,
          41,
          41.6,
          85.5,
          35.3,
          13.499,
          20.39,
          26.249,
          26.399,
          29.299,
          22.799,
          17.89,
          18.145,
          24.15,
          18.27,
          36.229,
          31.598,
          25.345,
          12.64,
          16.08,
          18.85,
          43,
          21.61,
          19.72,
          25.31,
          21.665,
          23.755,
          25.635,
          41.43,
          71.02,
          74.97,
          33.12,
          26.1,
          10.685,
          12.535,
          14.29,
          18.835,
          15.01,
          22.695,
          20.095,
          13.108,
          17.518,
          25.545,
          16.875,
          11.528,
          22.368,
          16.888,
          22.288,
          51.728,
          14.9,
          16.7,
          21.2,
          19.99,
          17.5,
          15.9,
          23.4,
          24.4,
          27.5,
          28.8,
          45.5,
          36
         ],
         "yaxis": "y"
        }
       ],
       "layout": {
        "legend": {
         "tracegroupgap": 0
        },
        "template": {
         "data": {
          "bar": [
           {
            "error_x": {
             "color": "#2a3f5f"
            },
            "error_y": {
             "color": "#2a3f5f"
            },
            "marker": {
             "line": {
              "color": "#E5ECF6",
              "width": 0.5
             },
             "pattern": {
              "fillmode": "overlay",
              "size": 10,
              "solidity": 0.2
             }
            },
            "type": "bar"
           }
          ],
          "barpolar": [
           {
            "marker": {
             "line": {
              "color": "#E5ECF6",
              "width": 0.5
             },
             "pattern": {
              "fillmode": "overlay",
              "size": 10,
              "solidity": 0.2
             }
            },
            "type": "barpolar"
           }
          ],
          "carpet": [
           {
            "aaxis": {
             "endlinecolor": "#2a3f5f",
             "gridcolor": "white",
             "linecolor": "white",
             "minorgridcolor": "white",
             "startlinecolor": "#2a3f5f"
            },
            "baxis": {
             "endlinecolor": "#2a3f5f",
             "gridcolor": "white",
             "linecolor": "white",
             "minorgridcolor": "white",
             "startlinecolor": "#2a3f5f"
            },
            "type": "carpet"
           }
          ],
          "choropleth": [
           {
            "colorbar": {
             "outlinewidth": 0,
             "ticks": ""
            },
            "type": "choropleth"
           }
          ],
          "contour": [
           {
            "colorbar": {
             "outlinewidth": 0,
             "ticks": ""
            },
            "colorscale": [
             [
              0,
              "#0d0887"
             ],
             [
              0.1111111111111111,
              "#46039f"
             ],
             [
              0.2222222222222222,
              "#7201a8"
             ],
             [
              0.3333333333333333,
              "#9c179e"
             ],
             [
              0.4444444444444444,
              "#bd3786"
             ],
             [
              0.5555555555555556,
              "#d8576b"
             ],
             [
              0.6666666666666666,
              "#ed7953"
             ],
             [
              0.7777777777777778,
              "#fb9f3a"
             ],
             [
              0.8888888888888888,
              "#fdca26"
             ],
             [
              1,
              "#f0f921"
             ]
            ],
            "type": "contour"
           }
          ],
          "contourcarpet": [
           {
            "colorbar": {
             "outlinewidth": 0,
             "ticks": ""
            },
            "type": "contourcarpet"
           }
          ],
          "heatmap": [
           {
            "colorbar": {
             "outlinewidth": 0,
             "ticks": ""
            },
            "colorscale": [
             [
              0,
              "#0d0887"
             ],
             [
              0.1111111111111111,
              "#46039f"
             ],
             [
              0.2222222222222222,
              "#7201a8"
             ],
             [
              0.3333333333333333,
              "#9c179e"
             ],
             [
              0.4444444444444444,
              "#bd3786"
             ],
             [
              0.5555555555555556,
              "#d8576b"
             ],
             [
              0.6666666666666666,
              "#ed7953"
             ],
             [
              0.7777777777777778,
              "#fb9f3a"
             ],
             [
              0.8888888888888888,
              "#fdca26"
             ],
             [
              1,
              "#f0f921"
             ]
            ],
            "type": "heatmap"
           }
          ],
          "heatmapgl": [
           {
            "colorbar": {
             "outlinewidth": 0,
             "ticks": ""
            },
            "colorscale": [
             [
              0,
              "#0d0887"
             ],
             [
              0.1111111111111111,
              "#46039f"
             ],
             [
              0.2222222222222222,
              "#7201a8"
             ],
             [
              0.3333333333333333,
              "#9c179e"
             ],
             [
              0.4444444444444444,
              "#bd3786"
             ],
             [
              0.5555555555555556,
              "#d8576b"
             ],
             [
              0.6666666666666666,
              "#ed7953"
             ],
             [
              0.7777777777777778,
              "#fb9f3a"
             ],
             [
              0.8888888888888888,
              "#fdca26"
             ],
             [
              1,
              "#f0f921"
             ]
            ],
            "type": "heatmapgl"
           }
          ],
          "histogram": [
           {
            "marker": {
             "pattern": {
              "fillmode": "overlay",
              "size": 10,
              "solidity": 0.2
             }
            },
            "type": "histogram"
           }
          ],
          "histogram2d": [
           {
            "colorbar": {
             "outlinewidth": 0,
             "ticks": ""
            },
            "colorscale": [
             [
              0,
              "#0d0887"
             ],
             [
              0.1111111111111111,
              "#46039f"
             ],
             [
              0.2222222222222222,
              "#7201a8"
             ],
             [
              0.3333333333333333,
              "#9c179e"
             ],
             [
              0.4444444444444444,
              "#bd3786"
             ],
             [
              0.5555555555555556,
              "#d8576b"
             ],
             [
              0.6666666666666666,
              "#ed7953"
             ],
             [
              0.7777777777777778,
              "#fb9f3a"
             ],
             [
              0.8888888888888888,
              "#fdca26"
             ],
             [
              1,
              "#f0f921"
             ]
            ],
            "type": "histogram2d"
           }
          ],
          "histogram2dcontour": [
           {
            "colorbar": {
             "outlinewidth": 0,
             "ticks": ""
            },
            "colorscale": [
             [
              0,
              "#0d0887"
             ],
             [
              0.1111111111111111,
              "#46039f"
             ],
             [
              0.2222222222222222,
              "#7201a8"
             ],
             [
              0.3333333333333333,
              "#9c179e"
             ],
             [
              0.4444444444444444,
              "#bd3786"
             ],
             [
              0.5555555555555556,
              "#d8576b"
             ],
             [
              0.6666666666666666,
              "#ed7953"
             ],
             [
              0.7777777777777778,
              "#fb9f3a"
             ],
             [
              0.8888888888888888,
              "#fdca26"
             ],
             [
              1,
              "#f0f921"
             ]
            ],
            "type": "histogram2dcontour"
           }
          ],
          "mesh3d": [
           {
            "colorbar": {
             "outlinewidth": 0,
             "ticks": ""
            },
            "type": "mesh3d"
           }
          ],
          "parcoords": [
           {
            "line": {
             "colorbar": {
              "outlinewidth": 0,
              "ticks": ""
             }
            },
            "type": "parcoords"
           }
          ],
          "pie": [
           {
            "automargin": true,
            "type": "pie"
           }
          ],
          "scatter": [
           {
            "marker": {
             "colorbar": {
              "outlinewidth": 0,
              "ticks": ""
             }
            },
            "type": "scatter"
           }
          ],
          "scatter3d": [
           {
            "line": {
             "colorbar": {
              "outlinewidth": 0,
              "ticks": ""
             }
            },
            "marker": {
             "colorbar": {
              "outlinewidth": 0,
              "ticks": ""
             }
            },
            "type": "scatter3d"
           }
          ],
          "scattercarpet": [
           {
            "marker": {
             "colorbar": {
              "outlinewidth": 0,
              "ticks": ""
             }
            },
            "type": "scattercarpet"
           }
          ],
          "scattergeo": [
           {
            "marker": {
             "colorbar": {
              "outlinewidth": 0,
              "ticks": ""
             }
            },
            "type": "scattergeo"
           }
          ],
          "scattergl": [
           {
            "marker": {
             "colorbar": {
              "outlinewidth": 0,
              "ticks": ""
             }
            },
            "type": "scattergl"
           }
          ],
          "scattermapbox": [
           {
            "marker": {
             "colorbar": {
              "outlinewidth": 0,
              "ticks": ""
             }
            },
            "type": "scattermapbox"
           }
          ],
          "scatterpolar": [
           {
            "marker": {
             "colorbar": {
              "outlinewidth": 0,
              "ticks": ""
             }
            },
            "type": "scatterpolar"
           }
          ],
          "scatterpolargl": [
           {
            "marker": {
             "colorbar": {
              "outlinewidth": 0,
              "ticks": ""
             }
            },
            "type": "scatterpolargl"
           }
          ],
          "scatterternary": [
           {
            "marker": {
             "colorbar": {
              "outlinewidth": 0,
              "ticks": ""
             }
            },
            "type": "scatterternary"
           }
          ],
          "surface": [
           {
            "colorbar": {
             "outlinewidth": 0,
             "ticks": ""
            },
            "colorscale": [
             [
              0,
              "#0d0887"
             ],
             [
              0.1111111111111111,
              "#46039f"
             ],
             [
              0.2222222222222222,
              "#7201a8"
             ],
             [
              0.3333333333333333,
              "#9c179e"
             ],
             [
              0.4444444444444444,
              "#bd3786"
             ],
             [
              0.5555555555555556,
              "#d8576b"
             ],
             [
              0.6666666666666666,
              "#ed7953"
             ],
             [
              0.7777777777777778,
              "#fb9f3a"
             ],
             [
              0.8888888888888888,
              "#fdca26"
             ],
             [
              1,
              "#f0f921"
             ]
            ],
            "type": "surface"
           }
          ],
          "table": [
           {
            "cells": {
             "fill": {
              "color": "#EBF0F8"
             },
             "line": {
              "color": "white"
             }
            },
            "header": {
             "fill": {
              "color": "#C8D4E3"
             },
             "line": {
              "color": "white"
             }
            },
            "type": "table"
           }
          ]
         },
         "layout": {
          "annotationdefaults": {
           "arrowcolor": "#2a3f5f",
           "arrowhead": 0,
           "arrowwidth": 1
          },
          "autotypenumbers": "strict",
          "coloraxis": {
           "colorbar": {
            "outlinewidth": 0,
            "ticks": ""
           }
          },
          "colorscale": {
           "diverging": [
            [
             0,
             "#8e0152"
            ],
            [
             0.1,
             "#c51b7d"
            ],
            [
             0.2,
             "#de77ae"
            ],
            [
             0.3,
             "#f1b6da"
            ],
            [
             0.4,
             "#fde0ef"
            ],
            [
             0.5,
             "#f7f7f7"
            ],
            [
             0.6,
             "#e6f5d0"
            ],
            [
             0.7,
             "#b8e186"
            ],
            [
             0.8,
             "#7fbc41"
            ],
            [
             0.9,
             "#4d9221"
            ],
            [
             1,
             "#276419"
            ]
           ],
           "sequential": [
            [
             0,
             "#0d0887"
            ],
            [
             0.1111111111111111,
             "#46039f"
            ],
            [
             0.2222222222222222,
             "#7201a8"
            ],
            [
             0.3333333333333333,
             "#9c179e"
            ],
            [
             0.4444444444444444,
             "#bd3786"
            ],
            [
             0.5555555555555556,
             "#d8576b"
            ],
            [
             0.6666666666666666,
             "#ed7953"
            ],
            [
             0.7777777777777778,
             "#fb9f3a"
            ],
            [
             0.8888888888888888,
             "#fdca26"
            ],
            [
             1,
             "#f0f921"
            ]
           ],
           "sequentialminus": [
            [
             0,
             "#0d0887"
            ],
            [
             0.1111111111111111,
             "#46039f"
            ],
            [
             0.2222222222222222,
             "#7201a8"
            ],
            [
             0.3333333333333333,
             "#9c179e"
            ],
            [
             0.4444444444444444,
             "#bd3786"
            ],
            [
             0.5555555555555556,
             "#d8576b"
            ],
            [
             0.6666666666666666,
             "#ed7953"
            ],
            [
             0.7777777777777778,
             "#fb9f3a"
            ],
            [
             0.8888888888888888,
             "#fdca26"
            ],
            [
             1,
             "#f0f921"
            ]
           ]
          },
          "colorway": [
           "#636efa",
           "#EF553B",
           "#00cc96",
           "#ab63fa",
           "#FFA15A",
           "#19d3f3",
           "#FF6692",
           "#B6E880",
           "#FF97FF",
           "#FECB52"
          ],
          "font": {
           "color": "#2a3f5f"
          },
          "geo": {
           "bgcolor": "white",
           "lakecolor": "white",
           "landcolor": "#E5ECF6",
           "showlakes": true,
           "showland": true,
           "subunitcolor": "white"
          },
          "hoverlabel": {
           "align": "left"
          },
          "hovermode": "closest",
          "mapbox": {
           "style": "light"
          },
          "paper_bgcolor": "white",
          "plot_bgcolor": "#E5ECF6",
          "polar": {
           "angularaxis": {
            "gridcolor": "white",
            "linecolor": "white",
            "ticks": ""
           },
           "bgcolor": "#E5ECF6",
           "radialaxis": {
            "gridcolor": "white",
            "linecolor": "white",
            "ticks": ""
           }
          },
          "scene": {
           "xaxis": {
            "backgroundcolor": "#E5ECF6",
            "gridcolor": "white",
            "gridwidth": 2,
            "linecolor": "white",
            "showbackground": true,
            "ticks": "",
            "zerolinecolor": "white"
           },
           "yaxis": {
            "backgroundcolor": "#E5ECF6",
            "gridcolor": "white",
            "gridwidth": 2,
            "linecolor": "white",
            "showbackground": true,
            "ticks": "",
            "zerolinecolor": "white"
           },
           "zaxis": {
            "backgroundcolor": "#E5ECF6",
            "gridcolor": "white",
            "gridwidth": 2,
            "linecolor": "white",
            "showbackground": true,
            "ticks": "",
            "zerolinecolor": "white"
           }
          },
          "shapedefaults": {
           "line": {
            "color": "#2a3f5f"
           }
          },
          "ternary": {
           "aaxis": {
            "gridcolor": "white",
            "linecolor": "white",
            "ticks": ""
           },
           "baxis": {
            "gridcolor": "white",
            "linecolor": "white",
            "ticks": ""
           },
           "bgcolor": "#E5ECF6",
           "caxis": {
            "gridcolor": "white",
            "linecolor": "white",
            "ticks": ""
           }
          },
          "title": {
           "x": 0.05
          },
          "xaxis": {
           "automargin": true,
           "gridcolor": "white",
           "linecolor": "white",
           "ticks": "",
           "title": {
            "standoff": 15
           },
           "zerolinecolor": "white",
           "zerolinewidth": 2
          },
          "yaxis": {
           "automargin": true,
           "gridcolor": "white",
           "linecolor": "white",
           "ticks": "",
           "title": {
            "standoff": 15
           },
           "zerolinecolor": "white",
           "zerolinewidth": 2
          }
         }
        },
        "title": {
         "text": "HorsePower vs. Price in Thousands"
        },
        "xaxis": {
         "anchor": "y",
         "domain": [
          0,
          1
         ],
         "title": {
          "text": "Horsepower"
         }
        },
        "yaxis": {
         "anchor": "x",
         "domain": [
          0,
          1
         ],
         "title": {
          "text": "Price_in_thousands"
         }
        }
       }
      },
      "text/html": [
       "<div>                            <div id=\"04cca429-43ac-43e5-8b90-4f7e5a3f1d34\" class=\"plotly-graph-div\" style=\"height:525px; width:100%;\"></div>            <script type=\"text/javascript\">                require([\"plotly\"], function(Plotly) {                    window.PLOTLYENV=window.PLOTLYENV || {};                                    if (document.getElementById(\"04cca429-43ac-43e5-8b90-4f7e5a3f1d34\")) {                    Plotly.newPlot(                        \"04cca429-43ac-43e5-8b90-4f7e5a3f1d34\",                        [{\"hovertemplate\":\"Horsepower=%{x}<br>Price_in_thousands=%{y}<extra></extra>\",\"legendgroup\":\"\",\"marker\":{\"color\":\"#636efa\",\"symbol\":\"circle\",\"size\":5},\"mode\":\"markers\",\"name\":\"\",\"orientation\":\"v\",\"showlegend\":false,\"x\":[140.0,225.0,225.0,210.0,150.0,200.0,310.0,170.0,193.0,193.0,175.0,240.0,205.0,205.0,275.0,275.0,275.0,200.0,255.0,115.0,170.0,175.0,180.0,200.0,345.0,120.0,55.0,180.0,163.0,168.0,200.0,132.0,253.0,null,253.0,132.0,163.0,168.0,202.0,450.0,230.0,175.0,175.0,120.0,230.0,150.0,110.0,190.0,170.0,155.0,107.0,200.0,210.0,150.0,240.0,119.0,220.0,106.0,135.0,146.0,205.0,210.0,92.0,140.0,148.0,227.0,240.0,120.0,190.0,195.0,210.0,225.0,300.0,290.0,230.0,220.0,275.0,215.0,300.0,113.0,154.0,145.0,210.0,161.0,200.0,173.0,125.0,125.0,153.0,200.0,210.0,170.0,185.0,221.0,275.0,302.0,190.0,185.0,215.0,302.0,215.0,126.0,155.0,222.0,170.0,170.0,170.0,170.0,150.0,215.0,150.0,250.0,190.0,185.0,132.0,132.0,150.0,253.0,150.0,175.0,200.0,195.0,205.0,185.0,217.0,300.0,300.0,170.0,185.0,100.0,100.0,124.0,137.0,137.0,165.0,165.0,120.0,133.0,210.0,140.0,142.0,194.0,127.0,150.0,230.0,115.0,115.0,150.0,115.0,115.0,115.0,160.0,160.0,168.0,168.0,236.0,201.0],\"xaxis\":\"x\",\"y\":[21.5,28.4,null,42.0,23.99,33.95,62.0,26.99,33.4,38.9,21.975,25.3,31.965,27.885,39.895,44.475,39.665,31.01,46.225,13.26,16.535,18.89,19.39,24.34,45.705,13.96,9.235,18.89,19.84,24.495,22.245,16.48,28.34,null,29.185,12.64,19.045,20.23,22.505,69.725,19.46,21.315,18.575,16.98,26.31,19.565,12.07,21.56,17.035,17.885,12.315,22.195,31.93,21.41,36.135,12.05,26.935,12.885,15.35,20.55,26.6,26.0,9.699,11.799,14.999,29.465,42.8,14.46,21.62,26.895,31.505,37.805,46.305,54.005,60.105,34.605,39.08,43.33,42.66,13.987,19.047,17.357,24.997,25.45,31.807,22.527,16.24,16.54,19.035,22.605,27.56,22.51,31.75,49.9,69.7,82.6,38.9,41.0,41.6,85.5,35.3,13.499,20.39,26.249,26.399,29.299,22.799,17.89,18.145,24.15,18.27,36.229,31.598,25.345,12.64,16.08,18.85,43.0,21.61,19.72,25.31,21.665,23.755,25.635,41.43,71.02,74.97,33.12,26.1,10.685,12.535,14.29,18.835,15.01,22.695,20.095,13.108,17.518,25.545,16.875,11.528,22.368,16.888,22.288,51.728,14.9,16.7,21.2,19.99,17.5,15.9,23.4,24.4,27.5,28.8,45.5,36.0],\"yaxis\":\"y\",\"type\":\"scatter\"}],                        {\"template\":{\"data\":{\"bar\":[{\"error_x\":{\"color\":\"#2a3f5f\"},\"error_y\":{\"color\":\"#2a3f5f\"},\"marker\":{\"line\":{\"color\":\"#E5ECF6\",\"width\":0.5},\"pattern\":{\"fillmode\":\"overlay\",\"size\":10,\"solidity\":0.2}},\"type\":\"bar\"}],\"barpolar\":[{\"marker\":{\"line\":{\"color\":\"#E5ECF6\",\"width\":0.5},\"pattern\":{\"fillmode\":\"overlay\",\"size\":10,\"solidity\":0.2}},\"type\":\"barpolar\"}],\"carpet\":[{\"aaxis\":{\"endlinecolor\":\"#2a3f5f\",\"gridcolor\":\"white\",\"linecolor\":\"white\",\"minorgridcolor\":\"white\",\"startlinecolor\":\"#2a3f5f\"},\"baxis\":{\"endlinecolor\":\"#2a3f5f\",\"gridcolor\":\"white\",\"linecolor\":\"white\",\"minorgridcolor\":\"white\",\"startlinecolor\":\"#2a3f5f\"},\"type\":\"carpet\"}],\"choropleth\":[{\"colorbar\":{\"outlinewidth\":0,\"ticks\":\"\"},\"type\":\"choropleth\"}],\"contour\":[{\"colorbar\":{\"outlinewidth\":0,\"ticks\":\"\"},\"colorscale\":[[0.0,\"#0d0887\"],[0.1111111111111111,\"#46039f\"],[0.2222222222222222,\"#7201a8\"],[0.3333333333333333,\"#9c179e\"],[0.4444444444444444,\"#bd3786\"],[0.5555555555555556,\"#d8576b\"],[0.6666666666666666,\"#ed7953\"],[0.7777777777777778,\"#fb9f3a\"],[0.8888888888888888,\"#fdca26\"],[1.0,\"#f0f921\"]],\"type\":\"contour\"}],\"contourcarpet\":[{\"colorbar\":{\"outlinewidth\":0,\"ticks\":\"\"},\"type\":\"contourcarpet\"}],\"heatmap\":[{\"colorbar\":{\"outlinewidth\":0,\"ticks\":\"\"},\"colorscale\":[[0.0,\"#0d0887\"],[0.1111111111111111,\"#46039f\"],[0.2222222222222222,\"#7201a8\"],[0.3333333333333333,\"#9c179e\"],[0.4444444444444444,\"#bd3786\"],[0.5555555555555556,\"#d8576b\"],[0.6666666666666666,\"#ed7953\"],[0.7777777777777778,\"#fb9f3a\"],[0.8888888888888888,\"#fdca26\"],[1.0,\"#f0f921\"]],\"type\":\"heatmap\"}],\"heatmapgl\":[{\"colorbar\":{\"outlinewidth\":0,\"ticks\":\"\"},\"colorscale\":[[0.0,\"#0d0887\"],[0.1111111111111111,\"#46039f\"],[0.2222222222222222,\"#7201a8\"],[0.3333333333333333,\"#9c179e\"],[0.4444444444444444,\"#bd3786\"],[0.5555555555555556,\"#d8576b\"],[0.6666666666666666,\"#ed7953\"],[0.7777777777777778,\"#fb9f3a\"],[0.8888888888888888,\"#fdca26\"],[1.0,\"#f0f921\"]],\"type\":\"heatmapgl\"}],\"histogram\":[{\"marker\":{\"pattern\":{\"fillmode\":\"overlay\",\"size\":10,\"solidity\":0.2}},\"type\":\"histogram\"}],\"histogram2d\":[{\"colorbar\":{\"outlinewidth\":0,\"ticks\":\"\"},\"colorscale\":[[0.0,\"#0d0887\"],[0.1111111111111111,\"#46039f\"],[0.2222222222222222,\"#7201a8\"],[0.3333333333333333,\"#9c179e\"],[0.4444444444444444,\"#bd3786\"],[0.5555555555555556,\"#d8576b\"],[0.6666666666666666,\"#ed7953\"],[0.7777777777777778,\"#fb9f3a\"],[0.8888888888888888,\"#fdca26\"],[1.0,\"#f0f921\"]],\"type\":\"histogram2d\"}],\"histogram2dcontour\":[{\"colorbar\":{\"outlinewidth\":0,\"ticks\":\"\"},\"colorscale\":[[0.0,\"#0d0887\"],[0.1111111111111111,\"#46039f\"],[0.2222222222222222,\"#7201a8\"],[0.3333333333333333,\"#9c179e\"],[0.4444444444444444,\"#bd3786\"],[0.5555555555555556,\"#d8576b\"],[0.6666666666666666,\"#ed7953\"],[0.7777777777777778,\"#fb9f3a\"],[0.8888888888888888,\"#fdca26\"],[1.0,\"#f0f921\"]],\"type\":\"histogram2dcontour\"}],\"mesh3d\":[{\"colorbar\":{\"outlinewidth\":0,\"ticks\":\"\"},\"type\":\"mesh3d\"}],\"parcoords\":[{\"line\":{\"colorbar\":{\"outlinewidth\":0,\"ticks\":\"\"}},\"type\":\"parcoords\"}],\"pie\":[{\"automargin\":true,\"type\":\"pie\"}],\"scatter\":[{\"marker\":{\"colorbar\":{\"outlinewidth\":0,\"ticks\":\"\"}},\"type\":\"scatter\"}],\"scatter3d\":[{\"line\":{\"colorbar\":{\"outlinewidth\":0,\"ticks\":\"\"}},\"marker\":{\"colorbar\":{\"outlinewidth\":0,\"ticks\":\"\"}},\"type\":\"scatter3d\"}],\"scattercarpet\":[{\"marker\":{\"colorbar\":{\"outlinewidth\":0,\"ticks\":\"\"}},\"type\":\"scattercarpet\"}],\"scattergeo\":[{\"marker\":{\"colorbar\":{\"outlinewidth\":0,\"ticks\":\"\"}},\"type\":\"scattergeo\"}],\"scattergl\":[{\"marker\":{\"colorbar\":{\"outlinewidth\":0,\"ticks\":\"\"}},\"type\":\"scattergl\"}],\"scattermapbox\":[{\"marker\":{\"colorbar\":{\"outlinewidth\":0,\"ticks\":\"\"}},\"type\":\"scattermapbox\"}],\"scatterpolar\":[{\"marker\":{\"colorbar\":{\"outlinewidth\":0,\"ticks\":\"\"}},\"type\":\"scatterpolar\"}],\"scatterpolargl\":[{\"marker\":{\"colorbar\":{\"outlinewidth\":0,\"ticks\":\"\"}},\"type\":\"scatterpolargl\"}],\"scatterternary\":[{\"marker\":{\"colorbar\":{\"outlinewidth\":0,\"ticks\":\"\"}},\"type\":\"scatterternary\"}],\"surface\":[{\"colorbar\":{\"outlinewidth\":0,\"ticks\":\"\"},\"colorscale\":[[0.0,\"#0d0887\"],[0.1111111111111111,\"#46039f\"],[0.2222222222222222,\"#7201a8\"],[0.3333333333333333,\"#9c179e\"],[0.4444444444444444,\"#bd3786\"],[0.5555555555555556,\"#d8576b\"],[0.6666666666666666,\"#ed7953\"],[0.7777777777777778,\"#fb9f3a\"],[0.8888888888888888,\"#fdca26\"],[1.0,\"#f0f921\"]],\"type\":\"surface\"}],\"table\":[{\"cells\":{\"fill\":{\"color\":\"#EBF0F8\"},\"line\":{\"color\":\"white\"}},\"header\":{\"fill\":{\"color\":\"#C8D4E3\"},\"line\":{\"color\":\"white\"}},\"type\":\"table\"}]},\"layout\":{\"annotationdefaults\":{\"arrowcolor\":\"#2a3f5f\",\"arrowhead\":0,\"arrowwidth\":1},\"autotypenumbers\":\"strict\",\"coloraxis\":{\"colorbar\":{\"outlinewidth\":0,\"ticks\":\"\"}},\"colorscale\":{\"diverging\":[[0,\"#8e0152\"],[0.1,\"#c51b7d\"],[0.2,\"#de77ae\"],[0.3,\"#f1b6da\"],[0.4,\"#fde0ef\"],[0.5,\"#f7f7f7\"],[0.6,\"#e6f5d0\"],[0.7,\"#b8e186\"],[0.8,\"#7fbc41\"],[0.9,\"#4d9221\"],[1,\"#276419\"]],\"sequential\":[[0.0,\"#0d0887\"],[0.1111111111111111,\"#46039f\"],[0.2222222222222222,\"#7201a8\"],[0.3333333333333333,\"#9c179e\"],[0.4444444444444444,\"#bd3786\"],[0.5555555555555556,\"#d8576b\"],[0.6666666666666666,\"#ed7953\"],[0.7777777777777778,\"#fb9f3a\"],[0.8888888888888888,\"#fdca26\"],[1.0,\"#f0f921\"]],\"sequentialminus\":[[0.0,\"#0d0887\"],[0.1111111111111111,\"#46039f\"],[0.2222222222222222,\"#7201a8\"],[0.3333333333333333,\"#9c179e\"],[0.4444444444444444,\"#bd3786\"],[0.5555555555555556,\"#d8576b\"],[0.6666666666666666,\"#ed7953\"],[0.7777777777777778,\"#fb9f3a\"],[0.8888888888888888,\"#fdca26\"],[1.0,\"#f0f921\"]]},\"colorway\":[\"#636efa\",\"#EF553B\",\"#00cc96\",\"#ab63fa\",\"#FFA15A\",\"#19d3f3\",\"#FF6692\",\"#B6E880\",\"#FF97FF\",\"#FECB52\"],\"font\":{\"color\":\"#2a3f5f\"},\"geo\":{\"bgcolor\":\"white\",\"lakecolor\":\"white\",\"landcolor\":\"#E5ECF6\",\"showlakes\":true,\"showland\":true,\"subunitcolor\":\"white\"},\"hoverlabel\":{\"align\":\"left\"},\"hovermode\":\"closest\",\"mapbox\":{\"style\":\"light\"},\"paper_bgcolor\":\"white\",\"plot_bgcolor\":\"#E5ECF6\",\"polar\":{\"angularaxis\":{\"gridcolor\":\"white\",\"linecolor\":\"white\",\"ticks\":\"\"},\"bgcolor\":\"#E5ECF6\",\"radialaxis\":{\"gridcolor\":\"white\",\"linecolor\":\"white\",\"ticks\":\"\"}},\"scene\":{\"xaxis\":{\"backgroundcolor\":\"#E5ECF6\",\"gridcolor\":\"white\",\"gridwidth\":2,\"linecolor\":\"white\",\"showbackground\":true,\"ticks\":\"\",\"zerolinecolor\":\"white\"},\"yaxis\":{\"backgroundcolor\":\"#E5ECF6\",\"gridcolor\":\"white\",\"gridwidth\":2,\"linecolor\":\"white\",\"showbackground\":true,\"ticks\":\"\",\"zerolinecolor\":\"white\"},\"zaxis\":{\"backgroundcolor\":\"#E5ECF6\",\"gridcolor\":\"white\",\"gridwidth\":2,\"linecolor\":\"white\",\"showbackground\":true,\"ticks\":\"\",\"zerolinecolor\":\"white\"}},\"shapedefaults\":{\"line\":{\"color\":\"#2a3f5f\"}},\"ternary\":{\"aaxis\":{\"gridcolor\":\"white\",\"linecolor\":\"white\",\"ticks\":\"\"},\"baxis\":{\"gridcolor\":\"white\",\"linecolor\":\"white\",\"ticks\":\"\"},\"bgcolor\":\"#E5ECF6\",\"caxis\":{\"gridcolor\":\"white\",\"linecolor\":\"white\",\"ticks\":\"\"}},\"title\":{\"x\":0.05},\"xaxis\":{\"automargin\":true,\"gridcolor\":\"white\",\"linecolor\":\"white\",\"ticks\":\"\",\"title\":{\"standoff\":15},\"zerolinecolor\":\"white\",\"zerolinewidth\":2},\"yaxis\":{\"automargin\":true,\"gridcolor\":\"white\",\"linecolor\":\"white\",\"ticks\":\"\",\"title\":{\"standoff\":15},\"zerolinecolor\":\"white\",\"zerolinewidth\":2}}},\"xaxis\":{\"anchor\":\"y\",\"domain\":[0.0,1.0],\"title\":{\"text\":\"Horsepower\"}},\"yaxis\":{\"anchor\":\"x\",\"domain\":[0.0,1.0],\"title\":{\"text\":\"Price_in_thousands\"}},\"legend\":{\"tracegroupgap\":0},\"title\":{\"text\":\"HorsePower vs. Price in Thousands\"}},                        {\"responsive\": true}                    ).then(function(){\n",
       "                            \n",
       "var gd = document.getElementById('04cca429-43ac-43e5-8b90-4f7e5a3f1d34');\n",
       "var x = new MutationObserver(function (mutations, observer) {{\n",
       "        var display = window.getComputedStyle(gd).display;\n",
       "        if (!display || display === 'none') {{\n",
       "            console.log([gd, 'removed!']);\n",
       "            Plotly.purge(gd);\n",
       "            observer.disconnect();\n",
       "        }}\n",
       "}});\n",
       "\n",
       "// Listen for the removal of the full notebook cells\n",
       "var notebookContainer = gd.closest('#notebook-container');\n",
       "if (notebookContainer) {{\n",
       "    x.observe(notebookContainer, {childList: true});\n",
       "}}\n",
       "\n",
       "// Listen for the clearing of the current output cell\n",
       "var outputEl = gd.closest('.output');\n",
       "if (outputEl) {{\n",
       "    x.observe(outputEl, {childList: true});\n",
       "}}\n",
       "\n",
       "                        })                };                });            </script>        </div>"
      ]
     },
     "metadata": {},
     "output_type": "display_data"
    }
   ],
   "source": [
    "fig = px.scatter(df,\n",
    "                 x='Horsepower',\n",
    "                 y='Price_in_thousands',\n",
    "                 title='HorsePower vs. Price in Thousands')\n",
    "fig.update_traces(marker_size=5)\n",
    "fig.show()  "
   ]
  },
  {
   "cell_type": "code",
   "execution_count": 84,
   "id": "844ace38",
   "metadata": {},
   "outputs": [
    {
     "data": {
      "text/plain": [
       "0    0.786930\n",
       "1    1.386761\n",
       "2         NaN\n",
       "3    0.204476\n",
       "4    0.850229\n",
       "Name: Revenue, dtype: float64"
      ]
     },
     "execution_count": 84,
     "metadata": {},
     "output_type": "execute_result"
    }
   ],
   "source": [
    "df['Revenue'] = df['Sales_in_thousands'] / df['Price_in_thousands']\n",
    "\n",
    "df['Revenue'].head()"
   ]
  },
  {
   "cell_type": "code",
   "execution_count": 86,
   "id": "9ba48a79",
   "metadata": {},
   "outputs": [
    {
     "data": {
      "text/plain": [
       "<AxesSubplot:ylabel='Density'>"
      ]
     },
     "execution_count": 86,
     "metadata": {},
     "output_type": "execute_result"
    },
    {
     "data": {
      "image/png": "[encoded data removed]",
      "text/plain": [
       "<Figure size 1008x432 with 1 Axes>"
      ]
     },
     "metadata": {
      "needs_background": "light"
     },
     "output_type": "display_data"
    }
   ],
   "source": [
    "df['Revenue'].plot(kind='density', figsize=(14,6))"
   ]
  },
  {
   "cell_type": "markdown",
   "id": "d2870663",
   "metadata": {},
   "source": [
    "ALL THE RECORDS AND SALES FOR FORD"
   ]
  },
  {
   "cell_type": "code",
   "execution_count": 88,
   "id": "c5a83fa6",
   "metadata": {},
   "outputs": [
    {
     "data": {
      "text/html": [
       "<div>\n",
       "<style scoped>\n",
       "    .dataframe tbody tr th:only-of-type {\n",
       "        vertical-align: middle;\n",
       "    }\n",
       "\n",
       "    .dataframe tbody tr th {\n",
       "        vertical-align: top;\n",
       "    }\n",
       "\n",
       "    .dataframe thead th {\n",
       "        text-align: right;\n",
       "    }\n",
       "</style>\n",
       "<table border=\"1\" class=\"dataframe\">\n",
       "  <thead>\n",
       "    <tr style=\"text-align: right;\">\n",
       "      <th></th>\n",
       "      <th>Manufacturer</th>\n",
       "      <th>Model</th>\n",
       "      <th>Sales_in_thousands</th>\n",
       "      <th>__year_resale_value</th>\n",
       "      <th>Vehicle_type</th>\n",
       "      <th>Price_in_thousands</th>\n",
       "      <th>Engine_size</th>\n",
       "      <th>Horsepower</th>\n",
       "      <th>Wheelbase</th>\n",
       "      <th>Width</th>\n",
       "      <th>Length</th>\n",
       "      <th>Curb_weight</th>\n",
       "      <th>Fuel_capacity</th>\n",
       "      <th>Fuel_efficiency</th>\n",
       "      <th>Latest_Launch</th>\n",
       "      <th>Power_perf_factor</th>\n",
       "      <th>year</th>\n",
       "      <th>month</th>\n",
       "      <th>day</th>\n",
       "      <th>Revenue</th>\n",
       "    </tr>\n",
       "  </thead>\n",
       "  <tbody>\n",
       "    <tr>\n",
       "      <th>46</th>\n",
       "      <td>Ford</td>\n",
       "      <td>Escort</td>\n",
       "      <td>70.227</td>\n",
       "      <td>7.425</td>\n",
       "      <td>Passenger</td>\n",
       "      <td>12.070</td>\n",
       "      <td>2.0</td>\n",
       "      <td>110.0</td>\n",
       "      <td>98.4</td>\n",
       "      <td>67.0</td>\n",
       "      <td>174.7</td>\n",
       "      <td>2.468</td>\n",
       "      <td>12.7</td>\n",
       "      <td>30.0</td>\n",
       "      <td>2012-03-31</td>\n",
       "      <td>44.083709</td>\n",
       "      <td>2012</td>\n",
       "      <td>March</td>\n",
       "      <td>31</td>\n",
       "      <td>5.818310</td>\n",
       "    </tr>\n",
       "    <tr>\n",
       "      <th>47</th>\n",
       "      <td>Ford</td>\n",
       "      <td>Mustang</td>\n",
       "      <td>113.369</td>\n",
       "      <td>12.760</td>\n",
       "      <td>Passenger</td>\n",
       "      <td>21.560</td>\n",
       "      <td>3.8</td>\n",
       "      <td>190.0</td>\n",
       "      <td>101.3</td>\n",
       "      <td>73.1</td>\n",
       "      <td>183.2</td>\n",
       "      <td>3.203</td>\n",
       "      <td>15.7</td>\n",
       "      <td>24.0</td>\n",
       "      <td>2012-01-31</td>\n",
       "      <td>76.509185</td>\n",
       "      <td>2012</td>\n",
       "      <td>January</td>\n",
       "      <td>31</td>\n",
       "      <td>5.258302</td>\n",
       "    </tr>\n",
       "    <tr>\n",
       "      <th>48</th>\n",
       "      <td>Ford</td>\n",
       "      <td>Contour</td>\n",
       "      <td>35.068</td>\n",
       "      <td>8.835</td>\n",
       "      <td>Passenger</td>\n",
       "      <td>17.035</td>\n",
       "      <td>2.5</td>\n",
       "      <td>170.0</td>\n",
       "      <td>106.5</td>\n",
       "      <td>69.1</td>\n",
       "      <td>184.6</td>\n",
       "      <td>2.769</td>\n",
       "      <td>15.0</td>\n",
       "      <td>25.0</td>\n",
       "      <td>2012-08-20</td>\n",
       "      <td>67.351011</td>\n",
       "      <td>2012</td>\n",
       "      <td>August</td>\n",
       "      <td>20</td>\n",
       "      <td>2.058585</td>\n",
       "    </tr>\n",
       "    <tr>\n",
       "      <th>49</th>\n",
       "      <td>Ford</td>\n",
       "      <td>Taurus</td>\n",
       "      <td>245.815</td>\n",
       "      <td>10.055</td>\n",
       "      <td>Passenger</td>\n",
       "      <td>17.885</td>\n",
       "      <td>3.0</td>\n",
       "      <td>155.0</td>\n",
       "      <td>108.5</td>\n",
       "      <td>73.0</td>\n",
       "      <td>197.6</td>\n",
       "      <td>3.368</td>\n",
       "      <td>16.0</td>\n",
       "      <td>24.0</td>\n",
       "      <td>2011-12-20</td>\n",
       "      <td>62.503740</td>\n",
       "      <td>2011</td>\n",
       "      <td>December</td>\n",
       "      <td>20</td>\n",
       "      <td>13.744199</td>\n",
       "    </tr>\n",
       "    <tr>\n",
       "      <th>50</th>\n",
       "      <td>Ford</td>\n",
       "      <td>Focus</td>\n",
       "      <td>175.670</td>\n",
       "      <td>NaN</td>\n",
       "      <td>Passenger</td>\n",
       "      <td>12.315</td>\n",
       "      <td>2.0</td>\n",
       "      <td>107.0</td>\n",
       "      <td>103.0</td>\n",
       "      <td>66.9</td>\n",
       "      <td>174.8</td>\n",
       "      <td>2.564</td>\n",
       "      <td>13.2</td>\n",
       "      <td>30.0</td>\n",
       "      <td>2012-07-22</td>\n",
       "      <td>43.117132</td>\n",
       "      <td>2012</td>\n",
       "      <td>July</td>\n",
       "      <td>22</td>\n",
       "      <td>14.264718</td>\n",
       "    </tr>\n",
       "    <tr>\n",
       "      <th>51</th>\n",
       "      <td>Ford</td>\n",
       "      <td>Crown Victoria</td>\n",
       "      <td>63.403</td>\n",
       "      <td>14.210</td>\n",
       "      <td>Passenger</td>\n",
       "      <td>22.195</td>\n",
       "      <td>4.6</td>\n",
       "      <td>200.0</td>\n",
       "      <td>114.7</td>\n",
       "      <td>78.2</td>\n",
       "      <td>212.0</td>\n",
       "      <td>3.908</td>\n",
       "      <td>19.0</td>\n",
       "      <td>21.0</td>\n",
       "      <td>2011-09-26</td>\n",
       "      <td>80.499537</td>\n",
       "      <td>2011</td>\n",
       "      <td>September</td>\n",
       "      <td>26</td>\n",
       "      <td>2.856634</td>\n",
       "    </tr>\n",
       "    <tr>\n",
       "      <th>52</th>\n",
       "      <td>Ford</td>\n",
       "      <td>Explorer</td>\n",
       "      <td>276.747</td>\n",
       "      <td>16.640</td>\n",
       "      <td>Car</td>\n",
       "      <td>31.930</td>\n",
       "      <td>4.0</td>\n",
       "      <td>210.0</td>\n",
       "      <td>111.6</td>\n",
       "      <td>70.2</td>\n",
       "      <td>190.7</td>\n",
       "      <td>3.876</td>\n",
       "      <td>21.0</td>\n",
       "      <td>19.0</td>\n",
       "      <td>2012-04-25</td>\n",
       "      <td>87.635496</td>\n",
       "      <td>2012</td>\n",
       "      <td>April</td>\n",
       "      <td>25</td>\n",
       "      <td>8.667303</td>\n",
       "    </tr>\n",
       "    <tr>\n",
       "      <th>53</th>\n",
       "      <td>Ford</td>\n",
       "      <td>Windstar</td>\n",
       "      <td>155.787</td>\n",
       "      <td>13.175</td>\n",
       "      <td>Car</td>\n",
       "      <td>21.410</td>\n",
       "      <td>3.0</td>\n",
       "      <td>150.0</td>\n",
       "      <td>120.7</td>\n",
       "      <td>76.6</td>\n",
       "      <td>200.9</td>\n",
       "      <td>3.761</td>\n",
       "      <td>26.0</td>\n",
       "      <td>21.0</td>\n",
       "      <td>2012-02-25</td>\n",
       "      <td>62.095048</td>\n",
       "      <td>2012</td>\n",
       "      <td>February</td>\n",
       "      <td>25</td>\n",
       "      <td>7.276366</td>\n",
       "    </tr>\n",
       "    <tr>\n",
       "      <th>54</th>\n",
       "      <td>Ford</td>\n",
       "      <td>Expedition</td>\n",
       "      <td>125.338</td>\n",
       "      <td>23.575</td>\n",
       "      <td>Car</td>\n",
       "      <td>36.135</td>\n",
       "      <td>4.6</td>\n",
       "      <td>240.0</td>\n",
       "      <td>119.0</td>\n",
       "      <td>78.7</td>\n",
       "      <td>204.6</td>\n",
       "      <td>4.808</td>\n",
       "      <td>26.0</td>\n",
       "      <td>16.0</td>\n",
       "      <td>2012-09-14</td>\n",
       "      <td>100.024802</td>\n",
       "      <td>2012</td>\n",
       "      <td>September</td>\n",
       "      <td>14</td>\n",
       "      <td>3.468604</td>\n",
       "    </tr>\n",
       "    <tr>\n",
       "      <th>55</th>\n",
       "      <td>Ford</td>\n",
       "      <td>Ranger</td>\n",
       "      <td>220.650</td>\n",
       "      <td>7.850</td>\n",
       "      <td>Car</td>\n",
       "      <td>12.050</td>\n",
       "      <td>2.5</td>\n",
       "      <td>119.0</td>\n",
       "      <td>117.5</td>\n",
       "      <td>69.4</td>\n",
       "      <td>200.7</td>\n",
       "      <td>3.086</td>\n",
       "      <td>20.0</td>\n",
       "      <td>23.0</td>\n",
       "      <td>2012-01-14</td>\n",
       "      <td>47.389531</td>\n",
       "      <td>2012</td>\n",
       "      <td>January</td>\n",
       "      <td>14</td>\n",
       "      <td>18.311203</td>\n",
       "    </tr>\n",
       "    <tr>\n",
       "      <th>56</th>\n",
       "      <td>Ford</td>\n",
       "      <td>F-Series</td>\n",
       "      <td>540.561</td>\n",
       "      <td>15.075</td>\n",
       "      <td>Car</td>\n",
       "      <td>26.935</td>\n",
       "      <td>4.6</td>\n",
       "      <td>220.0</td>\n",
       "      <td>138.5</td>\n",
       "      <td>79.1</td>\n",
       "      <td>224.5</td>\n",
       "      <td>4.241</td>\n",
       "      <td>25.1</td>\n",
       "      <td>18.0</td>\n",
       "      <td>2012-08-16</td>\n",
       "      <td>89.401935</td>\n",
       "      <td>2012</td>\n",
       "      <td>August</td>\n",
       "      <td>16</td>\n",
       "      <td>20.069092</td>\n",
       "    </tr>\n",
       "  </tbody>\n",
       "</table>\n",
       "</div>"
      ],
      "text/plain": [
       "   Manufacturer           Model  Sales_in_thousands  __year_resale_value  \\\n",
       "46         Ford          Escort              70.227                7.425   \n",
       "47         Ford         Mustang             113.369               12.760   \n",
       "48         Ford         Contour              35.068                8.835   \n",
       "49         Ford          Taurus             245.815               10.055   \n",
       "50         Ford           Focus             175.670                  NaN   \n",
       "51         Ford  Crown Victoria              63.403               14.210   \n",
       "52         Ford        Explorer             276.747               16.640   \n",
       "53         Ford        Windstar             155.787               13.175   \n",
       "54         Ford      Expedition             125.338               23.575   \n",
       "55         Ford          Ranger             220.650                7.850   \n",
       "56         Ford        F-Series             540.561               15.075   \n",
       "\n",
       "   Vehicle_type  Price_in_thousands  Engine_size  Horsepower  Wheelbase  \\\n",
       "46    Passenger              12.070          2.0       110.0       98.4   \n",
       "47    Passenger              21.560          3.8       190.0      101.3   \n",
       "48    Passenger              17.035          2.5       170.0      106.5   \n",
       "49    Passenger              17.885          3.0       155.0      108.5   \n",
       "50    Passenger              12.315          2.0       107.0      103.0   \n",
       "51    Passenger              22.195          4.6       200.0      114.7   \n",
       "52          Car              31.930          4.0       210.0      111.6   \n",
       "53          Car              21.410          3.0       150.0      120.7   \n",
       "54          Car              36.135          4.6       240.0      119.0   \n",
       "55          Car              12.050          2.5       119.0      117.5   \n",
       "56          Car              26.935          4.6       220.0      138.5   \n",
       "\n",
       "    Width  Length  Curb_weight  Fuel_capacity  Fuel_efficiency Latest_Launch  \\\n",
       "46   67.0   174.7        2.468           12.7             30.0    2012-03-31   \n",
       "47   73.1   183.2        3.203           15.7             24.0    2012-01-31   \n",
       "48   69.1   184.6        2.769           15.0             25.0    2012-08-20   \n",
       "49   73.0   197.6        3.368           16.0             24.0    2011-12-20   \n",
       "50   66.9   174.8        2.564           13.2             30.0    2012-07-22   \n",
       "51   78.2   212.0        3.908           19.0             21.0    2011-09-26   \n",
       "52   70.2   190.7        3.876           21.0             19.0    2012-04-25   \n",
       "53   76.6   200.9        3.761           26.0             21.0    2012-02-25   \n",
       "54   78.7   204.6        4.808           26.0             16.0    2012-09-14   \n",
       "55   69.4   200.7        3.086           20.0             23.0    2012-01-14   \n",
       "56   79.1   224.5        4.241           25.1             18.0    2012-08-16   \n",
       "\n",
       "    Power_perf_factor  year      month  day    Revenue  \n",
       "46          44.083709  2012      March   31   5.818310  \n",
       "47          76.509185  2012    January   31   5.258302  \n",
       "48          67.351011  2012     August   20   2.058585  \n",
       "49          62.503740  2011   December   20  13.744199  \n",
       "50          43.117132  2012       July   22  14.264718  \n",
       "51          80.499537  2011  September   26   2.856634  \n",
       "52          87.635496  2012      April   25   8.667303  \n",
       "53          62.095048  2012   February   25   7.276366  \n",
       "54         100.024802  2012  September   14   3.468604  \n",
       "55          47.389531  2012    January   14  18.311203  \n",
       "56          89.401935  2012     August   16  20.069092  "
      ]
     },
     "execution_count": 88,
     "metadata": {},
     "output_type": "execute_result"
    }
   ],
   "source": [
    "df.loc[df['Manufacturer'] == 'Ford']"
   ]
  },
  {
   "cell_type": "code",
   "execution_count": 87,
   "id": "95fcb143",
   "metadata": {},
   "outputs": [
    {
     "data": {
      "text/plain": [
       "<AxesSubplot:ylabel='Frequency'>"
      ]
     },
     "execution_count": 87,
     "metadata": {},
     "output_type": "execute_result"
    },
    {
     "data": {
      "image/png": "[encoded data removed]",
      "text/plain": [
       "<Figure size 1008x432 with 1 Axes>"
      ]
     },
     "metadata": {
      "needs_background": "light"
     },
     "output_type": "display_data"
    }
   ],
   "source": [
    "df['Revenue'].plot(kind='hist', figsize=(14,6))"
   ]
  },
  {
   "cell_type": "code",
   "execution_count": 89,
   "id": "ca7ac91c",
   "metadata": {},
   "outputs": [
    {
     "data": {
      "text/plain": [
       "9.253937988432401"
      ]
     },
     "execution_count": 89,
     "metadata": {},
     "output_type": "execute_result"
    }
   ],
   "source": [
    "df.loc[df['Manufacturer'] == 'Ford', 'Revenue'].mean()"
   ]
  },
  {
   "cell_type": "code",
   "execution_count": 93,
   "id": "d369c631",
   "metadata": {},
   "outputs": [
    {
     "data": {
      "text/plain": [
       "190.37966666666665"
      ]
     },
     "execution_count": 93,
     "metadata": {},
     "output_type": "execute_result"
    }
   ],
   "source": [
    "df.loc[(df['Manufacturer'] == 'Ford') & (df['year'] == 2012), 'Sales_in_thousands'].mean()"
   ]
  },
  {
   "cell_type": "code",
   "execution_count": 94,
   "id": "b4d53468",
   "metadata": {},
   "outputs": [
    {
     "data": {
      "text/plain": [
       "1    1.386761\n",
       "3    0.204476\n",
       "4    0.850229\n",
       "5    0.553166\n",
       "7    0.731641\n",
       "Name: Revenue, dtype: float64"
      ]
     },
     "execution_count": 94,
     "metadata": {},
     "output_type": "execute_result"
    }
   ],
   "source": [
    "df.loc[df['year'] == 2011, 'Revenue'].head()"
   ]
  },
  {
   "cell_type": "code",
   "execution_count": 95,
   "id": "eb3147d3",
   "metadata": {},
   "outputs": [
    {
     "data": {
      "text/plain": [
       "1    39.384\n",
       "3     8.588\n",
       "4    20.397\n",
       "5    18.780\n",
       "7    19.747\n",
       "Name: Sales_in_thousands, dtype: float64"
      ]
     },
     "execution_count": 95,
     "metadata": {},
     "output_type": "execute_result"
    }
   ],
   "source": [
    "df.loc[df['year'] == 2011, 'Sales_in_thousands'].head()"
   ]
  },
  {
   "cell_type": "code",
   "execution_count": 97,
   "id": "d779fe6b",
   "metadata": {},
   "outputs": [],
   "source": [
    "df.loc[df['year'] == 2012, 'Revenue'] *= 1.1"
   ]
  },
  {
   "cell_type": "code",
   "execution_count": 100,
   "id": "041d0802",
   "metadata": {},
   "outputs": [
    {
     "data": {
      "text/plain": [
       "7    0.731641\n",
       "8    0.304015\n",
       "9    0.450566\n",
       "Name: Revenue, dtype: float64"
      ]
     },
     "execution_count": 100,
     "metadata": {},
     "output_type": "execute_result"
    }
   ],
   "source": [
    "df.loc[df['Manufacturer'] == 'BMW', 'Revenue'].head()"
   ]
  },
  {
   "cell_type": "code",
   "execution_count": null,
   "id": "6c95a5d1",
   "metadata": {},
   "outputs": [],
   "source": []
  }
 ],
 "metadata": {
  "kernelspec": {
   "display_name": "Python 3 (ipykernel)",
   "language": "python",
   "name": "python3"
  },
  "language_info": {
   "codemirror_mode": {
    "name": "ipython",
    "version": 3
   },
   "file_extension": ".py",
   "mimetype": "text/x-python",
   "name": "python",
   "nbconvert_exporter": "python",
   "pygments_lexer": "ipython3",
   "version": "3.9.7"
  }
 },
 "nbformat": 4,
 "nbformat_minor": 5
}
